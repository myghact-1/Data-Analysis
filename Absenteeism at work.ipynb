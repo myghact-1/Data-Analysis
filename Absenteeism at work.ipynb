{
 "cells": [
  {
   "cell_type": "code",
   "execution_count": 1,
   "id": "a1857edf",
   "metadata": {
    "ExecuteTime": {
     "end_time": "2021-09-03T00:44:03.946388Z",
     "start_time": "2021-09-03T00:43:57.709338Z"
    }
   },
   "outputs": [],
   "source": [
    "import numpy as np\n",
    "import pandas as pd\n",
    "import matplotlib.pyplot as plt\n",
    "import seaborn as sns\n",
    "\n",
    "from scipy import stats\n",
    "from calendar import month_name, day_name\n",
    "\n",
    "import warnings\n",
    "warnings.filterwarnings('ignore')"
   ]
  },
  {
   "cell_type": "code",
   "execution_count": 2,
   "id": "5e204948",
   "metadata": {
    "ExecuteTime": {
     "end_time": "2021-09-03T00:44:47.913367Z",
     "start_time": "2021-09-03T00:44:03.953102Z"
    }
   },
   "outputs": [
    {
     "data": {
      "text/html": [
       "<div>\n",
       "<style scoped>\n",
       "    .dataframe tbody tr th:only-of-type {\n",
       "        vertical-align: middle;\n",
       "    }\n",
       "\n",
       "    .dataframe tbody tr th {\n",
       "        vertical-align: top;\n",
       "    }\n",
       "\n",
       "    .dataframe thead th {\n",
       "        text-align: right;\n",
       "    }\n",
       "</style>\n",
       "<table border=\"1\" class=\"dataframe\">\n",
       "  <thead>\n",
       "    <tr style=\"text-align: right;\">\n",
       "      <th></th>\n",
       "      <th>ID</th>\n",
       "      <th>Reason for absence</th>\n",
       "      <th>Month of absence</th>\n",
       "      <th>Day of the week</th>\n",
       "      <th>Seasons</th>\n",
       "      <th>Transportation expense</th>\n",
       "      <th>Distance from Residence to Work</th>\n",
       "      <th>Service time</th>\n",
       "      <th>Age</th>\n",
       "      <th>Work load Average/day</th>\n",
       "      <th>...</th>\n",
       "      <th>Disciplinary failure</th>\n",
       "      <th>Education</th>\n",
       "      <th>Son</th>\n",
       "      <th>Social drinker</th>\n",
       "      <th>Social smoker</th>\n",
       "      <th>Pet</th>\n",
       "      <th>Weight</th>\n",
       "      <th>Height</th>\n",
       "      <th>Body mass index</th>\n",
       "      <th>Absenteeism time in hours</th>\n",
       "    </tr>\n",
       "  </thead>\n",
       "  <tbody>\n",
       "    <tr>\n",
       "      <th>0</th>\n",
       "      <td>11</td>\n",
       "      <td>26</td>\n",
       "      <td>7</td>\n",
       "      <td>3</td>\n",
       "      <td>1</td>\n",
       "      <td>289</td>\n",
       "      <td>36</td>\n",
       "      <td>13</td>\n",
       "      <td>33</td>\n",
       "      <td>239.554</td>\n",
       "      <td>...</td>\n",
       "      <td>0</td>\n",
       "      <td>1</td>\n",
       "      <td>2</td>\n",
       "      <td>1</td>\n",
       "      <td>0</td>\n",
       "      <td>1</td>\n",
       "      <td>90</td>\n",
       "      <td>172</td>\n",
       "      <td>30</td>\n",
       "      <td>4</td>\n",
       "    </tr>\n",
       "    <tr>\n",
       "      <th>1</th>\n",
       "      <td>36</td>\n",
       "      <td>0</td>\n",
       "      <td>7</td>\n",
       "      <td>3</td>\n",
       "      <td>1</td>\n",
       "      <td>118</td>\n",
       "      <td>13</td>\n",
       "      <td>18</td>\n",
       "      <td>50</td>\n",
       "      <td>239.554</td>\n",
       "      <td>...</td>\n",
       "      <td>1</td>\n",
       "      <td>1</td>\n",
       "      <td>1</td>\n",
       "      <td>1</td>\n",
       "      <td>0</td>\n",
       "      <td>0</td>\n",
       "      <td>98</td>\n",
       "      <td>178</td>\n",
       "      <td>31</td>\n",
       "      <td>0</td>\n",
       "    </tr>\n",
       "    <tr>\n",
       "      <th>2</th>\n",
       "      <td>3</td>\n",
       "      <td>23</td>\n",
       "      <td>7</td>\n",
       "      <td>4</td>\n",
       "      <td>1</td>\n",
       "      <td>179</td>\n",
       "      <td>51</td>\n",
       "      <td>18</td>\n",
       "      <td>38</td>\n",
       "      <td>239.554</td>\n",
       "      <td>...</td>\n",
       "      <td>0</td>\n",
       "      <td>1</td>\n",
       "      <td>0</td>\n",
       "      <td>1</td>\n",
       "      <td>0</td>\n",
       "      <td>0</td>\n",
       "      <td>89</td>\n",
       "      <td>170</td>\n",
       "      <td>31</td>\n",
       "      <td>2</td>\n",
       "    </tr>\n",
       "    <tr>\n",
       "      <th>3</th>\n",
       "      <td>7</td>\n",
       "      <td>7</td>\n",
       "      <td>7</td>\n",
       "      <td>5</td>\n",
       "      <td>1</td>\n",
       "      <td>279</td>\n",
       "      <td>5</td>\n",
       "      <td>14</td>\n",
       "      <td>39</td>\n",
       "      <td>239.554</td>\n",
       "      <td>...</td>\n",
       "      <td>0</td>\n",
       "      <td>1</td>\n",
       "      <td>2</td>\n",
       "      <td>1</td>\n",
       "      <td>1</td>\n",
       "      <td>0</td>\n",
       "      <td>68</td>\n",
       "      <td>168</td>\n",
       "      <td>24</td>\n",
       "      <td>4</td>\n",
       "    </tr>\n",
       "    <tr>\n",
       "      <th>4</th>\n",
       "      <td>11</td>\n",
       "      <td>23</td>\n",
       "      <td>7</td>\n",
       "      <td>5</td>\n",
       "      <td>1</td>\n",
       "      <td>289</td>\n",
       "      <td>36</td>\n",
       "      <td>13</td>\n",
       "      <td>33</td>\n",
       "      <td>239.554</td>\n",
       "      <td>...</td>\n",
       "      <td>0</td>\n",
       "      <td>1</td>\n",
       "      <td>2</td>\n",
       "      <td>1</td>\n",
       "      <td>0</td>\n",
       "      <td>1</td>\n",
       "      <td>90</td>\n",
       "      <td>172</td>\n",
       "      <td>30</td>\n",
       "      <td>2</td>\n",
       "    </tr>\n",
       "  </tbody>\n",
       "</table>\n",
       "<p>5 rows × 21 columns</p>\n",
       "</div>"
      ],
      "text/plain": [
       "   ID  Reason for absence  Month of absence  Day of the week  Seasons  \\\n",
       "0  11                  26                 7                3        1   \n",
       "1  36                   0                 7                3        1   \n",
       "2   3                  23                 7                4        1   \n",
       "3   7                   7                 7                5        1   \n",
       "4  11                  23                 7                5        1   \n",
       "\n",
       "   Transportation expense  Distance from Residence to Work  Service time  Age  \\\n",
       "0                     289                               36            13   33   \n",
       "1                     118                               13            18   50   \n",
       "2                     179                               51            18   38   \n",
       "3                     279                                5            14   39   \n",
       "4                     289                               36            13   33   \n",
       "\n",
       "   Work load Average/day   ...  Disciplinary failure  Education  Son  \\\n",
       "0                 239.554  ...                     0          1    2   \n",
       "1                 239.554  ...                     1          1    1   \n",
       "2                 239.554  ...                     0          1    0   \n",
       "3                 239.554  ...                     0          1    2   \n",
       "4                 239.554  ...                     0          1    2   \n",
       "\n",
       "   Social drinker  Social smoker  Pet  Weight  Height  Body mass index  \\\n",
       "0               1              0    1      90     172               30   \n",
       "1               1              0    0      98     178               31   \n",
       "2               1              0    0      89     170               31   \n",
       "3               1              1    0      68     168               24   \n",
       "4               1              0    1      90     172               30   \n",
       "\n",
       "   Absenteeism time in hours  \n",
       "0                          4  \n",
       "1                          0  \n",
       "2                          2  \n",
       "3                          4  \n",
       "4                          2  \n",
       "\n",
       "[5 rows x 21 columns]"
      ]
     },
     "execution_count": 2,
     "metadata": {},
     "output_type": "execute_result"
    }
   ],
   "source": [
    "df = pd.read_csv('https://raw.githubusercontent.com/PacktWorkshops/The-Data-Analysis-Workshop/master/Chapter02/data/Absenteeism_at_work.csv',\n",
    "                sep=';')\n",
    "df.head()"
   ]
  },
  {
   "cell_type": "code",
   "execution_count": 3,
   "id": "16163aab",
   "metadata": {
    "ExecuteTime": {
     "end_time": "2021-09-03T00:44:47.948590Z",
     "start_time": "2021-09-03T00:44:47.925579Z"
    }
   },
   "outputs": [
    {
     "data": {
      "text/plain": [
       "(740, 21)"
      ]
     },
     "execution_count": 3,
     "metadata": {},
     "output_type": "execute_result"
    }
   ],
   "source": [
    "df.shape"
   ]
  },
  {
   "cell_type": "code",
   "execution_count": 4,
   "id": "07c65d3d",
   "metadata": {
    "ExecuteTime": {
     "end_time": "2021-09-03T00:44:48.003644Z",
     "start_time": "2021-09-03T00:44:47.963063Z"
    }
   },
   "outputs": [
    {
     "data": {
      "text/plain": [
       "0"
      ]
     },
     "execution_count": 4,
     "metadata": {},
     "output_type": "execute_result"
    }
   ],
   "source": [
    "df.isna().sum().sum()"
   ]
  },
  {
   "cell_type": "code",
   "execution_count": 5,
   "id": "fb855ad6",
   "metadata": {
    "ExecuteTime": {
     "end_time": "2021-09-03T00:44:48.044355Z",
     "start_time": "2021-09-03T00:44:48.014397Z"
    }
   },
   "outputs": [],
   "source": [
    "df.columns = df.columns.str.strip().str.replace(' ', '_').str.lower()"
   ]
  },
  {
   "cell_type": "code",
   "execution_count": 6,
   "id": "0ce4f839",
   "metadata": {
    "ExecuteTime": {
     "end_time": "2021-09-03T00:44:48.125141Z",
     "start_time": "2021-09-03T00:44:48.057968Z"
    }
   },
   "outputs": [
    {
     "data": {
      "text/html": [
       "<div>\n",
       "<style scoped>\n",
       "    .dataframe tbody tr th:only-of-type {\n",
       "        vertical-align: middle;\n",
       "    }\n",
       "\n",
       "    .dataframe tbody tr th {\n",
       "        vertical-align: top;\n",
       "    }\n",
       "\n",
       "    .dataframe thead th {\n",
       "        text-align: right;\n",
       "    }\n",
       "</style>\n",
       "<table border=\"1\" class=\"dataframe\">\n",
       "  <thead>\n",
       "    <tr style=\"text-align: right;\">\n",
       "      <th></th>\n",
       "      <th>id</th>\n",
       "      <th>reason_for_absence</th>\n",
       "      <th>month_of_absence</th>\n",
       "      <th>day_of_the_week</th>\n",
       "      <th>seasons</th>\n",
       "      <th>transportation_expense</th>\n",
       "      <th>distance_from_residence_to_work</th>\n",
       "      <th>service_time</th>\n",
       "      <th>age</th>\n",
       "      <th>work_load_average/day</th>\n",
       "      <th>...</th>\n",
       "      <th>disciplinary_failure</th>\n",
       "      <th>education</th>\n",
       "      <th>son</th>\n",
       "      <th>social_drinker</th>\n",
       "      <th>social_smoker</th>\n",
       "      <th>pet</th>\n",
       "      <th>weight</th>\n",
       "      <th>height</th>\n",
       "      <th>body_mass_index</th>\n",
       "      <th>absenteeism_time_in_hours</th>\n",
       "    </tr>\n",
       "  </thead>\n",
       "  <tbody>\n",
       "    <tr>\n",
       "      <th>0</th>\n",
       "      <td>11</td>\n",
       "      <td>26</td>\n",
       "      <td>7</td>\n",
       "      <td>3</td>\n",
       "      <td>1</td>\n",
       "      <td>289</td>\n",
       "      <td>36</td>\n",
       "      <td>13</td>\n",
       "      <td>33</td>\n",
       "      <td>239.554</td>\n",
       "      <td>...</td>\n",
       "      <td>0</td>\n",
       "      <td>1</td>\n",
       "      <td>2</td>\n",
       "      <td>1</td>\n",
       "      <td>0</td>\n",
       "      <td>1</td>\n",
       "      <td>90</td>\n",
       "      <td>172</td>\n",
       "      <td>30</td>\n",
       "      <td>4</td>\n",
       "    </tr>\n",
       "    <tr>\n",
       "      <th>1</th>\n",
       "      <td>36</td>\n",
       "      <td>0</td>\n",
       "      <td>7</td>\n",
       "      <td>3</td>\n",
       "      <td>1</td>\n",
       "      <td>118</td>\n",
       "      <td>13</td>\n",
       "      <td>18</td>\n",
       "      <td>50</td>\n",
       "      <td>239.554</td>\n",
       "      <td>...</td>\n",
       "      <td>1</td>\n",
       "      <td>1</td>\n",
       "      <td>1</td>\n",
       "      <td>1</td>\n",
       "      <td>0</td>\n",
       "      <td>0</td>\n",
       "      <td>98</td>\n",
       "      <td>178</td>\n",
       "      <td>31</td>\n",
       "      <td>0</td>\n",
       "    </tr>\n",
       "    <tr>\n",
       "      <th>2</th>\n",
       "      <td>3</td>\n",
       "      <td>23</td>\n",
       "      <td>7</td>\n",
       "      <td>4</td>\n",
       "      <td>1</td>\n",
       "      <td>179</td>\n",
       "      <td>51</td>\n",
       "      <td>18</td>\n",
       "      <td>38</td>\n",
       "      <td>239.554</td>\n",
       "      <td>...</td>\n",
       "      <td>0</td>\n",
       "      <td>1</td>\n",
       "      <td>0</td>\n",
       "      <td>1</td>\n",
       "      <td>0</td>\n",
       "      <td>0</td>\n",
       "      <td>89</td>\n",
       "      <td>170</td>\n",
       "      <td>31</td>\n",
       "      <td>2</td>\n",
       "    </tr>\n",
       "    <tr>\n",
       "      <th>3</th>\n",
       "      <td>7</td>\n",
       "      <td>7</td>\n",
       "      <td>7</td>\n",
       "      <td>5</td>\n",
       "      <td>1</td>\n",
       "      <td>279</td>\n",
       "      <td>5</td>\n",
       "      <td>14</td>\n",
       "      <td>39</td>\n",
       "      <td>239.554</td>\n",
       "      <td>...</td>\n",
       "      <td>0</td>\n",
       "      <td>1</td>\n",
       "      <td>2</td>\n",
       "      <td>1</td>\n",
       "      <td>1</td>\n",
       "      <td>0</td>\n",
       "      <td>68</td>\n",
       "      <td>168</td>\n",
       "      <td>24</td>\n",
       "      <td>4</td>\n",
       "    </tr>\n",
       "    <tr>\n",
       "      <th>4</th>\n",
       "      <td>11</td>\n",
       "      <td>23</td>\n",
       "      <td>7</td>\n",
       "      <td>5</td>\n",
       "      <td>1</td>\n",
       "      <td>289</td>\n",
       "      <td>36</td>\n",
       "      <td>13</td>\n",
       "      <td>33</td>\n",
       "      <td>239.554</td>\n",
       "      <td>...</td>\n",
       "      <td>0</td>\n",
       "      <td>1</td>\n",
       "      <td>2</td>\n",
       "      <td>1</td>\n",
       "      <td>0</td>\n",
       "      <td>1</td>\n",
       "      <td>90</td>\n",
       "      <td>172</td>\n",
       "      <td>30</td>\n",
       "      <td>2</td>\n",
       "    </tr>\n",
       "  </tbody>\n",
       "</table>\n",
       "<p>5 rows × 21 columns</p>\n",
       "</div>"
      ],
      "text/plain": [
       "   id  reason_for_absence  month_of_absence  day_of_the_week  seasons  \\\n",
       "0  11                  26                 7                3        1   \n",
       "1  36                   0                 7                3        1   \n",
       "2   3                  23                 7                4        1   \n",
       "3   7                   7                 7                5        1   \n",
       "4  11                  23                 7                5        1   \n",
       "\n",
       "   transportation_expense  distance_from_residence_to_work  service_time  age  \\\n",
       "0                     289                               36            13   33   \n",
       "1                     118                               13            18   50   \n",
       "2                     179                               51            18   38   \n",
       "3                     279                                5            14   39   \n",
       "4                     289                               36            13   33   \n",
       "\n",
       "   work_load_average/day  ...  disciplinary_failure  education  son  \\\n",
       "0                239.554  ...                     0          1    2   \n",
       "1                239.554  ...                     1          1    1   \n",
       "2                239.554  ...                     0          1    0   \n",
       "3                239.554  ...                     0          1    2   \n",
       "4                239.554  ...                     0          1    2   \n",
       "\n",
       "   social_drinker  social_smoker  pet  weight  height  body_mass_index  \\\n",
       "0               1              0    1      90     172               30   \n",
       "1               1              0    0      98     178               31   \n",
       "2               1              0    0      89     170               31   \n",
       "3               1              1    0      68     168               24   \n",
       "4               1              0    1      90     172               30   \n",
       "\n",
       "   absenteeism_time_in_hours  \n",
       "0                          4  \n",
       "1                          0  \n",
       "2                          2  \n",
       "3                          4  \n",
       "4                          2  \n",
       "\n",
       "[5 rows x 21 columns]"
      ]
     },
     "execution_count": 6,
     "metadata": {},
     "output_type": "execute_result"
    }
   ],
   "source": [
    "df.head()"
   ]
  },
  {
   "cell_type": "code",
   "execution_count": 7,
   "id": "2f10fe15",
   "metadata": {
    "ExecuteTime": {
     "end_time": "2021-09-03T00:44:48.161340Z",
     "start_time": "2021-09-03T00:44:48.128801Z"
    }
   },
   "outputs": [
    {
     "name": "stdout",
     "output_type": "stream",
     "text": [
      "<class 'pandas.core.frame.DataFrame'>\n",
      "RangeIndex: 740 entries, 0 to 739\n",
      "Data columns (total 21 columns):\n",
      " #   Column                           Non-Null Count  Dtype  \n",
      "---  ------                           --------------  -----  \n",
      " 0   id                               740 non-null    int64  \n",
      " 1   reason_for_absence               740 non-null    int64  \n",
      " 2   month_of_absence                 740 non-null    int64  \n",
      " 3   day_of_the_week                  740 non-null    int64  \n",
      " 4   seasons                          740 non-null    int64  \n",
      " 5   transportation_expense           740 non-null    int64  \n",
      " 6   distance_from_residence_to_work  740 non-null    int64  \n",
      " 7   service_time                     740 non-null    int64  \n",
      " 8   age                              740 non-null    int64  \n",
      " 9   work_load_average/day            740 non-null    float64\n",
      " 10  hit_target                       740 non-null    int64  \n",
      " 11  disciplinary_failure             740 non-null    int64  \n",
      " 12  education                        740 non-null    int64  \n",
      " 13  son                              740 non-null    int64  \n",
      " 14  social_drinker                   740 non-null    int64  \n",
      " 15  social_smoker                    740 non-null    int64  \n",
      " 16  pet                              740 non-null    int64  \n",
      " 17  weight                           740 non-null    int64  \n",
      " 18  height                           740 non-null    int64  \n",
      " 19  body_mass_index                  740 non-null    int64  \n",
      " 20  absenteeism_time_in_hours        740 non-null    int64  \n",
      "dtypes: float64(1), int64(20)\n",
      "memory usage: 121.5 KB\n"
     ]
    }
   ],
   "source": [
    "df.info()"
   ]
  },
  {
   "cell_type": "code",
   "execution_count": 8,
   "id": "0df09177",
   "metadata": {
    "ExecuteTime": {
     "end_time": "2021-09-03T00:44:48.307069Z",
     "start_time": "2021-09-03T00:44:48.167796Z"
    }
   },
   "outputs": [
    {
     "data": {
      "text/html": [
       "<div>\n",
       "<style scoped>\n",
       "    .dataframe tbody tr th:only-of-type {\n",
       "        vertical-align: middle;\n",
       "    }\n",
       "\n",
       "    .dataframe tbody tr th {\n",
       "        vertical-align: top;\n",
       "    }\n",
       "\n",
       "    .dataframe thead th {\n",
       "        text-align: right;\n",
       "    }\n",
       "</style>\n",
       "<table border=\"1\" class=\"dataframe\">\n",
       "  <thead>\n",
       "    <tr style=\"text-align: right;\">\n",
       "      <th></th>\n",
       "      <th>count</th>\n",
       "      <th>mean</th>\n",
       "      <th>std</th>\n",
       "      <th>min</th>\n",
       "      <th>25%</th>\n",
       "      <th>50%</th>\n",
       "      <th>75%</th>\n",
       "      <th>max</th>\n",
       "    </tr>\n",
       "  </thead>\n",
       "  <tbody>\n",
       "    <tr>\n",
       "      <th>id</th>\n",
       "      <td>740.0</td>\n",
       "      <td>18.017568</td>\n",
       "      <td>11.021247</td>\n",
       "      <td>1.000</td>\n",
       "      <td>9.000</td>\n",
       "      <td>18.000</td>\n",
       "      <td>28.000</td>\n",
       "      <td>36.000</td>\n",
       "    </tr>\n",
       "    <tr>\n",
       "      <th>reason_for_absence</th>\n",
       "      <td>740.0</td>\n",
       "      <td>19.216216</td>\n",
       "      <td>8.433406</td>\n",
       "      <td>0.000</td>\n",
       "      <td>13.000</td>\n",
       "      <td>23.000</td>\n",
       "      <td>26.000</td>\n",
       "      <td>28.000</td>\n",
       "    </tr>\n",
       "    <tr>\n",
       "      <th>month_of_absence</th>\n",
       "      <td>740.0</td>\n",
       "      <td>6.324324</td>\n",
       "      <td>3.436287</td>\n",
       "      <td>0.000</td>\n",
       "      <td>3.000</td>\n",
       "      <td>6.000</td>\n",
       "      <td>9.000</td>\n",
       "      <td>12.000</td>\n",
       "    </tr>\n",
       "    <tr>\n",
       "      <th>day_of_the_week</th>\n",
       "      <td>740.0</td>\n",
       "      <td>3.914865</td>\n",
       "      <td>1.421675</td>\n",
       "      <td>2.000</td>\n",
       "      <td>3.000</td>\n",
       "      <td>4.000</td>\n",
       "      <td>5.000</td>\n",
       "      <td>6.000</td>\n",
       "    </tr>\n",
       "    <tr>\n",
       "      <th>seasons</th>\n",
       "      <td>740.0</td>\n",
       "      <td>2.544595</td>\n",
       "      <td>1.111831</td>\n",
       "      <td>1.000</td>\n",
       "      <td>2.000</td>\n",
       "      <td>3.000</td>\n",
       "      <td>4.000</td>\n",
       "      <td>4.000</td>\n",
       "    </tr>\n",
       "    <tr>\n",
       "      <th>transportation_expense</th>\n",
       "      <td>740.0</td>\n",
       "      <td>221.329730</td>\n",
       "      <td>66.952223</td>\n",
       "      <td>118.000</td>\n",
       "      <td>179.000</td>\n",
       "      <td>225.000</td>\n",
       "      <td>260.000</td>\n",
       "      <td>388.000</td>\n",
       "    </tr>\n",
       "    <tr>\n",
       "      <th>distance_from_residence_to_work</th>\n",
       "      <td>740.0</td>\n",
       "      <td>29.631081</td>\n",
       "      <td>14.836788</td>\n",
       "      <td>5.000</td>\n",
       "      <td>16.000</td>\n",
       "      <td>26.000</td>\n",
       "      <td>50.000</td>\n",
       "      <td>52.000</td>\n",
       "    </tr>\n",
       "    <tr>\n",
       "      <th>service_time</th>\n",
       "      <td>740.0</td>\n",
       "      <td>12.554054</td>\n",
       "      <td>4.384873</td>\n",
       "      <td>1.000</td>\n",
       "      <td>9.000</td>\n",
       "      <td>13.000</td>\n",
       "      <td>16.000</td>\n",
       "      <td>29.000</td>\n",
       "    </tr>\n",
       "    <tr>\n",
       "      <th>age</th>\n",
       "      <td>740.0</td>\n",
       "      <td>36.450000</td>\n",
       "      <td>6.478772</td>\n",
       "      <td>27.000</td>\n",
       "      <td>31.000</td>\n",
       "      <td>37.000</td>\n",
       "      <td>40.000</td>\n",
       "      <td>58.000</td>\n",
       "    </tr>\n",
       "    <tr>\n",
       "      <th>work_load_average/day</th>\n",
       "      <td>740.0</td>\n",
       "      <td>271.490235</td>\n",
       "      <td>39.058116</td>\n",
       "      <td>205.917</td>\n",
       "      <td>244.387</td>\n",
       "      <td>264.249</td>\n",
       "      <td>294.217</td>\n",
       "      <td>378.884</td>\n",
       "    </tr>\n",
       "    <tr>\n",
       "      <th>hit_target</th>\n",
       "      <td>740.0</td>\n",
       "      <td>94.587838</td>\n",
       "      <td>3.779313</td>\n",
       "      <td>81.000</td>\n",
       "      <td>93.000</td>\n",
       "      <td>95.000</td>\n",
       "      <td>97.000</td>\n",
       "      <td>100.000</td>\n",
       "    </tr>\n",
       "    <tr>\n",
       "      <th>disciplinary_failure</th>\n",
       "      <td>740.0</td>\n",
       "      <td>0.054054</td>\n",
       "      <td>0.226277</td>\n",
       "      <td>0.000</td>\n",
       "      <td>0.000</td>\n",
       "      <td>0.000</td>\n",
       "      <td>0.000</td>\n",
       "      <td>1.000</td>\n",
       "    </tr>\n",
       "    <tr>\n",
       "      <th>education</th>\n",
       "      <td>740.0</td>\n",
       "      <td>1.291892</td>\n",
       "      <td>0.673238</td>\n",
       "      <td>1.000</td>\n",
       "      <td>1.000</td>\n",
       "      <td>1.000</td>\n",
       "      <td>1.000</td>\n",
       "      <td>4.000</td>\n",
       "    </tr>\n",
       "    <tr>\n",
       "      <th>son</th>\n",
       "      <td>740.0</td>\n",
       "      <td>1.018919</td>\n",
       "      <td>1.098489</td>\n",
       "      <td>0.000</td>\n",
       "      <td>0.000</td>\n",
       "      <td>1.000</td>\n",
       "      <td>2.000</td>\n",
       "      <td>4.000</td>\n",
       "    </tr>\n",
       "    <tr>\n",
       "      <th>social_drinker</th>\n",
       "      <td>740.0</td>\n",
       "      <td>0.567568</td>\n",
       "      <td>0.495749</td>\n",
       "      <td>0.000</td>\n",
       "      <td>0.000</td>\n",
       "      <td>1.000</td>\n",
       "      <td>1.000</td>\n",
       "      <td>1.000</td>\n",
       "    </tr>\n",
       "    <tr>\n",
       "      <th>social_smoker</th>\n",
       "      <td>740.0</td>\n",
       "      <td>0.072973</td>\n",
       "      <td>0.260268</td>\n",
       "      <td>0.000</td>\n",
       "      <td>0.000</td>\n",
       "      <td>0.000</td>\n",
       "      <td>0.000</td>\n",
       "      <td>1.000</td>\n",
       "    </tr>\n",
       "    <tr>\n",
       "      <th>pet</th>\n",
       "      <td>740.0</td>\n",
       "      <td>0.745946</td>\n",
       "      <td>1.318258</td>\n",
       "      <td>0.000</td>\n",
       "      <td>0.000</td>\n",
       "      <td>0.000</td>\n",
       "      <td>1.000</td>\n",
       "      <td>8.000</td>\n",
       "    </tr>\n",
       "    <tr>\n",
       "      <th>weight</th>\n",
       "      <td>740.0</td>\n",
       "      <td>79.035135</td>\n",
       "      <td>12.883211</td>\n",
       "      <td>56.000</td>\n",
       "      <td>69.000</td>\n",
       "      <td>83.000</td>\n",
       "      <td>89.000</td>\n",
       "      <td>108.000</td>\n",
       "    </tr>\n",
       "    <tr>\n",
       "      <th>height</th>\n",
       "      <td>740.0</td>\n",
       "      <td>172.114865</td>\n",
       "      <td>6.034995</td>\n",
       "      <td>163.000</td>\n",
       "      <td>169.000</td>\n",
       "      <td>170.000</td>\n",
       "      <td>172.000</td>\n",
       "      <td>196.000</td>\n",
       "    </tr>\n",
       "    <tr>\n",
       "      <th>body_mass_index</th>\n",
       "      <td>740.0</td>\n",
       "      <td>26.677027</td>\n",
       "      <td>4.285452</td>\n",
       "      <td>19.000</td>\n",
       "      <td>24.000</td>\n",
       "      <td>25.000</td>\n",
       "      <td>31.000</td>\n",
       "      <td>38.000</td>\n",
       "    </tr>\n",
       "    <tr>\n",
       "      <th>absenteeism_time_in_hours</th>\n",
       "      <td>740.0</td>\n",
       "      <td>6.924324</td>\n",
       "      <td>13.330998</td>\n",
       "      <td>0.000</td>\n",
       "      <td>2.000</td>\n",
       "      <td>3.000</td>\n",
       "      <td>8.000</td>\n",
       "      <td>120.000</td>\n",
       "    </tr>\n",
       "  </tbody>\n",
       "</table>\n",
       "</div>"
      ],
      "text/plain": [
       "                                 count        mean        std      min  \\\n",
       "id                               740.0   18.017568  11.021247    1.000   \n",
       "reason_for_absence               740.0   19.216216   8.433406    0.000   \n",
       "month_of_absence                 740.0    6.324324   3.436287    0.000   \n",
       "day_of_the_week                  740.0    3.914865   1.421675    2.000   \n",
       "seasons                          740.0    2.544595   1.111831    1.000   \n",
       "transportation_expense           740.0  221.329730  66.952223  118.000   \n",
       "distance_from_residence_to_work  740.0   29.631081  14.836788    5.000   \n",
       "service_time                     740.0   12.554054   4.384873    1.000   \n",
       "age                              740.0   36.450000   6.478772   27.000   \n",
       "work_load_average/day            740.0  271.490235  39.058116  205.917   \n",
       "hit_target                       740.0   94.587838   3.779313   81.000   \n",
       "disciplinary_failure             740.0    0.054054   0.226277    0.000   \n",
       "education                        740.0    1.291892   0.673238    1.000   \n",
       "son                              740.0    1.018919   1.098489    0.000   \n",
       "social_drinker                   740.0    0.567568   0.495749    0.000   \n",
       "social_smoker                    740.0    0.072973   0.260268    0.000   \n",
       "pet                              740.0    0.745946   1.318258    0.000   \n",
       "weight                           740.0   79.035135  12.883211   56.000   \n",
       "height                           740.0  172.114865   6.034995  163.000   \n",
       "body_mass_index                  740.0   26.677027   4.285452   19.000   \n",
       "absenteeism_time_in_hours        740.0    6.924324  13.330998    0.000   \n",
       "\n",
       "                                     25%      50%      75%      max  \n",
       "id                                 9.000   18.000   28.000   36.000  \n",
       "reason_for_absence                13.000   23.000   26.000   28.000  \n",
       "month_of_absence                   3.000    6.000    9.000   12.000  \n",
       "day_of_the_week                    3.000    4.000    5.000    6.000  \n",
       "seasons                            2.000    3.000    4.000    4.000  \n",
       "transportation_expense           179.000  225.000  260.000  388.000  \n",
       "distance_from_residence_to_work   16.000   26.000   50.000   52.000  \n",
       "service_time                       9.000   13.000   16.000   29.000  \n",
       "age                               31.000   37.000   40.000   58.000  \n",
       "work_load_average/day            244.387  264.249  294.217  378.884  \n",
       "hit_target                        93.000   95.000   97.000  100.000  \n",
       "disciplinary_failure               0.000    0.000    0.000    1.000  \n",
       "education                          1.000    1.000    1.000    4.000  \n",
       "son                                0.000    1.000    2.000    4.000  \n",
       "social_drinker                     0.000    1.000    1.000    1.000  \n",
       "social_smoker                      0.000    0.000    0.000    1.000  \n",
       "pet                                0.000    0.000    1.000    8.000  \n",
       "weight                            69.000   83.000   89.000  108.000  \n",
       "height                           169.000  170.000  172.000  196.000  \n",
       "body_mass_index                   24.000   25.000   31.000   38.000  \n",
       "absenteeism_time_in_hours          2.000    3.000    8.000  120.000  "
      ]
     },
     "execution_count": 8,
     "metadata": {},
     "output_type": "execute_result"
    }
   ],
   "source": [
    "df.describe().T"
   ]
  },
  {
   "cell_type": "code",
   "execution_count": 9,
   "id": "59dbd49b",
   "metadata": {
    "ExecuteTime": {
     "end_time": "2021-09-03T00:44:48.333183Z",
     "start_time": "2021-09-03T00:44:48.310791Z"
    }
   },
   "outputs": [],
   "source": [
    "month_map = dict(zip(range(1,13), month_name[1:13]))\n",
    "day_map = dict(zip(range(2,7), day_name[:5]))\n",
    "season_map = dict(zip([1,2,3,4], ['Spring', 'Summer', 'Fall', 'Winter']))\n",
    "education_map = dict(zip([1,2,3,4], ['High_School', 'Graduate', 'Postgraduate', 'Master_Phd']))\n",
    "yes_no_map = {0:'No', 1:'Yes'}"
   ]
  },
  {
   "cell_type": "code",
   "execution_count": 10,
   "id": "89edcedd",
   "metadata": {
    "ExecuteTime": {
     "end_time": "2021-09-03T00:44:48.350928Z",
     "start_time": "2021-09-03T00:44:48.334180Z"
    }
   },
   "outputs": [],
   "source": [
    "preprocessed_df = df.copy()"
   ]
  },
  {
   "cell_type": "code",
   "execution_count": 11,
   "id": "089e8787",
   "metadata": {
    "ExecuteTime": {
     "end_time": "2021-09-03T00:44:48.409851Z",
     "start_time": "2021-09-03T00:44:48.356830Z"
    }
   },
   "outputs": [],
   "source": [
    "preprocessed_df.month_of_absence = preprocessed_df.month_of_absence.map(month_map)\n",
    "preprocessed_df.day_of_the_week = preprocessed_df.day_of_the_week.map(day_map)\n",
    "preprocessed_df.seasons = preprocessed_df.seasons.map(season_map)\n",
    "preprocessed_df.education = preprocessed_df.education.map(education_map)\n",
    "preprocessed_df.disciplinary_failure = preprocessed_df.disciplinary_failure.map(yes_no_map)\n",
    "preprocessed_df.social_drinker = preprocessed_df.social_drinker.map(yes_no_map)\n",
    "preprocessed_df.social_smoker = preprocessed_df.social_smoker.map(yes_no_map)"
   ]
  },
  {
   "cell_type": "code",
   "execution_count": 12,
   "id": "af4d303f",
   "metadata": {
    "ExecuteTime": {
     "end_time": "2021-09-03T00:44:48.495402Z",
     "start_time": "2021-09-03T00:44:48.411850Z"
    }
   },
   "outputs": [
    {
     "data": {
      "text/html": [
       "<div>\n",
       "<style scoped>\n",
       "    .dataframe tbody tr th:only-of-type {\n",
       "        vertical-align: middle;\n",
       "    }\n",
       "\n",
       "    .dataframe tbody tr th {\n",
       "        vertical-align: top;\n",
       "    }\n",
       "\n",
       "    .dataframe thead th {\n",
       "        text-align: right;\n",
       "    }\n",
       "</style>\n",
       "<table border=\"1\" class=\"dataframe\">\n",
       "  <thead>\n",
       "    <tr style=\"text-align: right;\">\n",
       "      <th></th>\n",
       "      <th>id</th>\n",
       "      <th>reason_for_absence</th>\n",
       "      <th>month_of_absence</th>\n",
       "      <th>day_of_the_week</th>\n",
       "      <th>seasons</th>\n",
       "      <th>transportation_expense</th>\n",
       "      <th>distance_from_residence_to_work</th>\n",
       "      <th>service_time</th>\n",
       "      <th>age</th>\n",
       "      <th>work_load_average/day</th>\n",
       "      <th>...</th>\n",
       "      <th>disciplinary_failure</th>\n",
       "      <th>education</th>\n",
       "      <th>son</th>\n",
       "      <th>social_drinker</th>\n",
       "      <th>social_smoker</th>\n",
       "      <th>pet</th>\n",
       "      <th>weight</th>\n",
       "      <th>height</th>\n",
       "      <th>body_mass_index</th>\n",
       "      <th>absenteeism_time_in_hours</th>\n",
       "    </tr>\n",
       "  </thead>\n",
       "  <tbody>\n",
       "    <tr>\n",
       "      <th>0</th>\n",
       "      <td>11</td>\n",
       "      <td>26</td>\n",
       "      <td>July</td>\n",
       "      <td>Tuesday</td>\n",
       "      <td>Spring</td>\n",
       "      <td>289</td>\n",
       "      <td>36</td>\n",
       "      <td>13</td>\n",
       "      <td>33</td>\n",
       "      <td>239.554</td>\n",
       "      <td>...</td>\n",
       "      <td>No</td>\n",
       "      <td>High_School</td>\n",
       "      <td>2</td>\n",
       "      <td>Yes</td>\n",
       "      <td>No</td>\n",
       "      <td>1</td>\n",
       "      <td>90</td>\n",
       "      <td>172</td>\n",
       "      <td>30</td>\n",
       "      <td>4</td>\n",
       "    </tr>\n",
       "    <tr>\n",
       "      <th>1</th>\n",
       "      <td>36</td>\n",
       "      <td>0</td>\n",
       "      <td>July</td>\n",
       "      <td>Tuesday</td>\n",
       "      <td>Spring</td>\n",
       "      <td>118</td>\n",
       "      <td>13</td>\n",
       "      <td>18</td>\n",
       "      <td>50</td>\n",
       "      <td>239.554</td>\n",
       "      <td>...</td>\n",
       "      <td>Yes</td>\n",
       "      <td>High_School</td>\n",
       "      <td>1</td>\n",
       "      <td>Yes</td>\n",
       "      <td>No</td>\n",
       "      <td>0</td>\n",
       "      <td>98</td>\n",
       "      <td>178</td>\n",
       "      <td>31</td>\n",
       "      <td>0</td>\n",
       "    </tr>\n",
       "    <tr>\n",
       "      <th>2</th>\n",
       "      <td>3</td>\n",
       "      <td>23</td>\n",
       "      <td>July</td>\n",
       "      <td>Wednesday</td>\n",
       "      <td>Spring</td>\n",
       "      <td>179</td>\n",
       "      <td>51</td>\n",
       "      <td>18</td>\n",
       "      <td>38</td>\n",
       "      <td>239.554</td>\n",
       "      <td>...</td>\n",
       "      <td>No</td>\n",
       "      <td>High_School</td>\n",
       "      <td>0</td>\n",
       "      <td>Yes</td>\n",
       "      <td>No</td>\n",
       "      <td>0</td>\n",
       "      <td>89</td>\n",
       "      <td>170</td>\n",
       "      <td>31</td>\n",
       "      <td>2</td>\n",
       "    </tr>\n",
       "    <tr>\n",
       "      <th>3</th>\n",
       "      <td>7</td>\n",
       "      <td>7</td>\n",
       "      <td>July</td>\n",
       "      <td>Thursday</td>\n",
       "      <td>Spring</td>\n",
       "      <td>279</td>\n",
       "      <td>5</td>\n",
       "      <td>14</td>\n",
       "      <td>39</td>\n",
       "      <td>239.554</td>\n",
       "      <td>...</td>\n",
       "      <td>No</td>\n",
       "      <td>High_School</td>\n",
       "      <td>2</td>\n",
       "      <td>Yes</td>\n",
       "      <td>Yes</td>\n",
       "      <td>0</td>\n",
       "      <td>68</td>\n",
       "      <td>168</td>\n",
       "      <td>24</td>\n",
       "      <td>4</td>\n",
       "    </tr>\n",
       "    <tr>\n",
       "      <th>4</th>\n",
       "      <td>11</td>\n",
       "      <td>23</td>\n",
       "      <td>July</td>\n",
       "      <td>Thursday</td>\n",
       "      <td>Spring</td>\n",
       "      <td>289</td>\n",
       "      <td>36</td>\n",
       "      <td>13</td>\n",
       "      <td>33</td>\n",
       "      <td>239.554</td>\n",
       "      <td>...</td>\n",
       "      <td>No</td>\n",
       "      <td>High_School</td>\n",
       "      <td>2</td>\n",
       "      <td>Yes</td>\n",
       "      <td>No</td>\n",
       "      <td>1</td>\n",
       "      <td>90</td>\n",
       "      <td>172</td>\n",
       "      <td>30</td>\n",
       "      <td>2</td>\n",
       "    </tr>\n",
       "  </tbody>\n",
       "</table>\n",
       "<p>5 rows × 21 columns</p>\n",
       "</div>"
      ],
      "text/plain": [
       "   id  reason_for_absence month_of_absence day_of_the_week seasons  \\\n",
       "0  11                  26             July         Tuesday  Spring   \n",
       "1  36                   0             July         Tuesday  Spring   \n",
       "2   3                  23             July       Wednesday  Spring   \n",
       "3   7                   7             July        Thursday  Spring   \n",
       "4  11                  23             July        Thursday  Spring   \n",
       "\n",
       "   transportation_expense  distance_from_residence_to_work  service_time  age  \\\n",
       "0                     289                               36            13   33   \n",
       "1                     118                               13            18   50   \n",
       "2                     179                               51            18   38   \n",
       "3                     279                                5            14   39   \n",
       "4                     289                               36            13   33   \n",
       "\n",
       "   work_load_average/day  ...  disciplinary_failure    education son  \\\n",
       "0                239.554  ...                    No  High_School   2   \n",
       "1                239.554  ...                   Yes  High_School   1   \n",
       "2                239.554  ...                    No  High_School   0   \n",
       "3                239.554  ...                    No  High_School   2   \n",
       "4                239.554  ...                    No  High_School   2   \n",
       "\n",
       "   social_drinker social_smoker pet  weight  height  body_mass_index  \\\n",
       "0             Yes            No   1      90     172               30   \n",
       "1             Yes            No   0      98     178               31   \n",
       "2             Yes            No   0      89     170               31   \n",
       "3             Yes           Yes   0      68     168               24   \n",
       "4             Yes            No   1      90     172               30   \n",
       "\n",
       "   absenteeism_time_in_hours  \n",
       "0                          4  \n",
       "1                          0  \n",
       "2                          2  \n",
       "3                          4  \n",
       "4                          2  \n",
       "\n",
       "[5 rows x 21 columns]"
      ]
     },
     "execution_count": 12,
     "metadata": {},
     "output_type": "execute_result"
    }
   ],
   "source": [
    "preprocessed_df.head()"
   ]
  },
  {
   "cell_type": "markdown",
   "id": "521967e5",
   "metadata": {
    "heading_collapsed": true
   },
   "source": [
    "### Identifying Reasons for Absence"
   ]
  },
  {
   "cell_type": "code",
   "execution_count": 13,
   "id": "fca40f07",
   "metadata": {
    "ExecuteTime": {
     "end_time": "2021-09-03T00:44:48.521949Z",
     "start_time": "2021-09-03T00:44:48.499058Z"
    },
    "hidden": true
   },
   "outputs": [],
   "source": [
    "preprocessed_df['disease'] = preprocessed_df.reason_for_absence.apply(lambda x: 'Yes' if x>=1 and x<=21 else 'No')"
   ]
  },
  {
   "cell_type": "code",
   "execution_count": 14,
   "id": "046a0110",
   "metadata": {
    "ExecuteTime": {
     "end_time": "2021-09-03T00:44:48.640316Z",
     "start_time": "2021-09-03T00:44:48.530927Z"
    },
    "hidden": true
   },
   "outputs": [
    {
     "data": {
      "text/html": [
       "<div>\n",
       "<style scoped>\n",
       "    .dataframe tbody tr th:only-of-type {\n",
       "        vertical-align: middle;\n",
       "    }\n",
       "\n",
       "    .dataframe tbody tr th {\n",
       "        vertical-align: top;\n",
       "    }\n",
       "\n",
       "    .dataframe thead th {\n",
       "        text-align: right;\n",
       "    }\n",
       "</style>\n",
       "<table border=\"1\" class=\"dataframe\">\n",
       "  <thead>\n",
       "    <tr style=\"text-align: right;\">\n",
       "      <th></th>\n",
       "      <th>id</th>\n",
       "      <th>reason_for_absence</th>\n",
       "      <th>month_of_absence</th>\n",
       "      <th>day_of_the_week</th>\n",
       "      <th>seasons</th>\n",
       "      <th>transportation_expense</th>\n",
       "      <th>distance_from_residence_to_work</th>\n",
       "      <th>service_time</th>\n",
       "      <th>age</th>\n",
       "      <th>work_load_average/day</th>\n",
       "      <th>...</th>\n",
       "      <th>education</th>\n",
       "      <th>son</th>\n",
       "      <th>social_drinker</th>\n",
       "      <th>social_smoker</th>\n",
       "      <th>pet</th>\n",
       "      <th>weight</th>\n",
       "      <th>height</th>\n",
       "      <th>body_mass_index</th>\n",
       "      <th>absenteeism_time_in_hours</th>\n",
       "      <th>disease</th>\n",
       "    </tr>\n",
       "  </thead>\n",
       "  <tbody>\n",
       "    <tr>\n",
       "      <th>0</th>\n",
       "      <td>11</td>\n",
       "      <td>26</td>\n",
       "      <td>July</td>\n",
       "      <td>Tuesday</td>\n",
       "      <td>Spring</td>\n",
       "      <td>289</td>\n",
       "      <td>36</td>\n",
       "      <td>13</td>\n",
       "      <td>33</td>\n",
       "      <td>239.554</td>\n",
       "      <td>...</td>\n",
       "      <td>High_School</td>\n",
       "      <td>2</td>\n",
       "      <td>Yes</td>\n",
       "      <td>No</td>\n",
       "      <td>1</td>\n",
       "      <td>90</td>\n",
       "      <td>172</td>\n",
       "      <td>30</td>\n",
       "      <td>4</td>\n",
       "      <td>No</td>\n",
       "    </tr>\n",
       "    <tr>\n",
       "      <th>1</th>\n",
       "      <td>36</td>\n",
       "      <td>0</td>\n",
       "      <td>July</td>\n",
       "      <td>Tuesday</td>\n",
       "      <td>Spring</td>\n",
       "      <td>118</td>\n",
       "      <td>13</td>\n",
       "      <td>18</td>\n",
       "      <td>50</td>\n",
       "      <td>239.554</td>\n",
       "      <td>...</td>\n",
       "      <td>High_School</td>\n",
       "      <td>1</td>\n",
       "      <td>Yes</td>\n",
       "      <td>No</td>\n",
       "      <td>0</td>\n",
       "      <td>98</td>\n",
       "      <td>178</td>\n",
       "      <td>31</td>\n",
       "      <td>0</td>\n",
       "      <td>No</td>\n",
       "    </tr>\n",
       "    <tr>\n",
       "      <th>2</th>\n",
       "      <td>3</td>\n",
       "      <td>23</td>\n",
       "      <td>July</td>\n",
       "      <td>Wednesday</td>\n",
       "      <td>Spring</td>\n",
       "      <td>179</td>\n",
       "      <td>51</td>\n",
       "      <td>18</td>\n",
       "      <td>38</td>\n",
       "      <td>239.554</td>\n",
       "      <td>...</td>\n",
       "      <td>High_School</td>\n",
       "      <td>0</td>\n",
       "      <td>Yes</td>\n",
       "      <td>No</td>\n",
       "      <td>0</td>\n",
       "      <td>89</td>\n",
       "      <td>170</td>\n",
       "      <td>31</td>\n",
       "      <td>2</td>\n",
       "      <td>No</td>\n",
       "    </tr>\n",
       "    <tr>\n",
       "      <th>3</th>\n",
       "      <td>7</td>\n",
       "      <td>7</td>\n",
       "      <td>July</td>\n",
       "      <td>Thursday</td>\n",
       "      <td>Spring</td>\n",
       "      <td>279</td>\n",
       "      <td>5</td>\n",
       "      <td>14</td>\n",
       "      <td>39</td>\n",
       "      <td>239.554</td>\n",
       "      <td>...</td>\n",
       "      <td>High_School</td>\n",
       "      <td>2</td>\n",
       "      <td>Yes</td>\n",
       "      <td>Yes</td>\n",
       "      <td>0</td>\n",
       "      <td>68</td>\n",
       "      <td>168</td>\n",
       "      <td>24</td>\n",
       "      <td>4</td>\n",
       "      <td>Yes</td>\n",
       "    </tr>\n",
       "    <tr>\n",
       "      <th>4</th>\n",
       "      <td>11</td>\n",
       "      <td>23</td>\n",
       "      <td>July</td>\n",
       "      <td>Thursday</td>\n",
       "      <td>Spring</td>\n",
       "      <td>289</td>\n",
       "      <td>36</td>\n",
       "      <td>13</td>\n",
       "      <td>33</td>\n",
       "      <td>239.554</td>\n",
       "      <td>...</td>\n",
       "      <td>High_School</td>\n",
       "      <td>2</td>\n",
       "      <td>Yes</td>\n",
       "      <td>No</td>\n",
       "      <td>1</td>\n",
       "      <td>90</td>\n",
       "      <td>172</td>\n",
       "      <td>30</td>\n",
       "      <td>2</td>\n",
       "      <td>No</td>\n",
       "    </tr>\n",
       "  </tbody>\n",
       "</table>\n",
       "<p>5 rows × 22 columns</p>\n",
       "</div>"
      ],
      "text/plain": [
       "   id  reason_for_absence month_of_absence day_of_the_week seasons  \\\n",
       "0  11                  26             July         Tuesday  Spring   \n",
       "1  36                   0             July         Tuesday  Spring   \n",
       "2   3                  23             July       Wednesday  Spring   \n",
       "3   7                   7             July        Thursday  Spring   \n",
       "4  11                  23             July        Thursday  Spring   \n",
       "\n",
       "   transportation_expense  distance_from_residence_to_work  service_time  age  \\\n",
       "0                     289                               36            13   33   \n",
       "1                     118                               13            18   50   \n",
       "2                     179                               51            18   38   \n",
       "3                     279                                5            14   39   \n",
       "4                     289                               36            13   33   \n",
       "\n",
       "   work_load_average/day  ...    education son social_drinker  social_smoker  \\\n",
       "0                239.554  ...  High_School   2            Yes             No   \n",
       "1                239.554  ...  High_School   1            Yes             No   \n",
       "2                239.554  ...  High_School   0            Yes             No   \n",
       "3                239.554  ...  High_School   2            Yes            Yes   \n",
       "4                239.554  ...  High_School   2            Yes             No   \n",
       "\n",
       "  pet weight  height  body_mass_index  absenteeism_time_in_hours  disease  \n",
       "0   1     90     172               30                          4       No  \n",
       "1   0     98     178               31                          0       No  \n",
       "2   0     89     170               31                          2       No  \n",
       "3   0     68     168               24                          4      Yes  \n",
       "4   1     90     172               30                          2       No  \n",
       "\n",
       "[5 rows x 22 columns]"
      ]
     },
     "execution_count": 14,
     "metadata": {},
     "output_type": "execute_result"
    }
   ],
   "source": [
    "preprocessed_df.head()"
   ]
  },
  {
   "cell_type": "code",
   "execution_count": 15,
   "id": "00558d0f",
   "metadata": {
    "ExecuteTime": {
     "end_time": "2021-09-03T00:44:49.157875Z",
     "start_time": "2021-09-03T00:44:48.645182Z"
    },
    "hidden": true
   },
   "outputs": [
    {
     "data": {
      "image/png": "[encoded data removed]",
      "text/plain": [
       "<Figure size 432x288 with 1 Axes>"
      ]
     },
     "metadata": {
      "needs_background": "light"
     },
     "output_type": "display_data"
    }
   ],
   "source": [
    "sns.countplot(x='disease', data=preprocessed_df, )\n",
    "plt.show()"
   ]
  },
  {
   "cell_type": "code",
   "execution_count": 16,
   "id": "bd10b147",
   "metadata": {
    "ExecuteTime": {
     "end_time": "2021-09-03T00:44:49.181750Z",
     "start_time": "2021-09-03T00:44:49.163791Z"
    },
    "hidden": true
   },
   "outputs": [
    {
     "data": {
      "text/plain": [
       "No     0.645946\n",
       "Yes    0.354054\n",
       "Name: disease, dtype: float64"
      ]
     },
     "execution_count": 16,
     "metadata": {},
     "output_type": "execute_result"
    }
   ],
   "source": [
    "preprocessed_df.disease.value_counts(normalize=True)"
   ]
  },
  {
   "cell_type": "markdown",
   "id": "55aa71ac",
   "metadata": {
    "hidden": true
   },
   "source": [
    "- The number of reasons for absence that are not listed in the ICD table is almost twice the number of listed ones."
   ]
  },
  {
   "cell_type": "markdown",
   "id": "447bff82",
   "metadata": {
    "hidden": true
   },
   "source": [
    "1. What is the most common reason for absence?\n",
    "2. Does being a drinker or smoker have some effect on the causes?\n",
    "3. Does the distance to work have some effect on the reasons?"
   ]
  },
  {
   "cell_type": "code",
   "execution_count": 17,
   "id": "dc862c6b",
   "metadata": {
    "ExecuteTime": {
     "end_time": "2021-09-03T00:44:50.809514Z",
     "start_time": "2021-09-03T00:44:49.186737Z"
    },
    "hidden": true
   },
   "outputs": [
    {
     "data": {
      "image/png": "[encoded data removed]",
      "text/plain": [
       "<Figure size 864x432 with 1 Axes>"
      ]
     },
     "metadata": {
      "needs_background": "light"
     },
     "output_type": "display_data"
    }
   ],
   "source": [
    "plt.figure(figsize=(12,6))\n",
    "\n",
    "sns.countplot(x='reason_for_absence', data=preprocessed_df)\n",
    "\n",
    "plt.show()"
   ]
  },
  {
   "cell_type": "markdown",
   "id": "c0b57221",
   "metadata": {
    "hidden": true
   },
   "source": [
    "> we can assert that the most frequent reasons for absence are related to medical consultations (23), dental consultations (28), and physiotherapy (27). On the other hand, the most frequent reasons for absence encoded in the ICD encoding are related to diseases of the musculoskeletal system and connective tissue (13) and injury, poisoning, and certain other consequences of external causes (19)."
   ]
  },
  {
   "cell_type": "code",
   "execution_count": 18,
   "id": "a737fe2e",
   "metadata": {
    "ExecuteTime": {
     "end_time": "2021-09-03T00:44:50.873519Z",
     "start_time": "2021-09-03T00:44:50.812378Z"
    },
    "hidden": true,
    "scrolled": true,
    "solution2": "shown",
    "solution2_first": true
   },
   "outputs": [
    {
     "data": {
      "text/html": [
       "<div>\n",
       "<style scoped>\n",
       "    .dataframe tbody tr th:only-of-type {\n",
       "        vertical-align: middle;\n",
       "    }\n",
       "\n",
       "    .dataframe tbody tr th {\n",
       "        vertical-align: top;\n",
       "    }\n",
       "\n",
       "    .dataframe thead th {\n",
       "        text-align: right;\n",
       "    }\n",
       "</style>\n",
       "<table border=\"1\" class=\"dataframe\">\n",
       "  <thead>\n",
       "    <tr style=\"text-align: right;\">\n",
       "      <th></th>\n",
       "      <th>id</th>\n",
       "      <th>reason_for_absence</th>\n",
       "      <th>month_of_absence</th>\n",
       "      <th>day_of_the_week</th>\n",
       "      <th>seasons</th>\n",
       "      <th>transportation_expense</th>\n",
       "      <th>distance_from_residence_to_work</th>\n",
       "      <th>service_time</th>\n",
       "      <th>age</th>\n",
       "      <th>work_load_average/day</th>\n",
       "      <th>...</th>\n",
       "      <th>education</th>\n",
       "      <th>son</th>\n",
       "      <th>social_drinker</th>\n",
       "      <th>social_smoker</th>\n",
       "      <th>pet</th>\n",
       "      <th>weight</th>\n",
       "      <th>height</th>\n",
       "      <th>body_mass_index</th>\n",
       "      <th>absenteeism_time_in_hours</th>\n",
       "      <th>disease</th>\n",
       "    </tr>\n",
       "  </thead>\n",
       "  <tbody>\n",
       "    <tr>\n",
       "      <th>0</th>\n",
       "      <td>11</td>\n",
       "      <td>26</td>\n",
       "      <td>July</td>\n",
       "      <td>Tuesday</td>\n",
       "      <td>Spring</td>\n",
       "      <td>289</td>\n",
       "      <td>36</td>\n",
       "      <td>13</td>\n",
       "      <td>33</td>\n",
       "      <td>239.554</td>\n",
       "      <td>...</td>\n",
       "      <td>High_School</td>\n",
       "      <td>2</td>\n",
       "      <td>Yes</td>\n",
       "      <td>No</td>\n",
       "      <td>1</td>\n",
       "      <td>90</td>\n",
       "      <td>172</td>\n",
       "      <td>30</td>\n",
       "      <td>4</td>\n",
       "      <td>No</td>\n",
       "    </tr>\n",
       "    <tr>\n",
       "      <th>1</th>\n",
       "      <td>36</td>\n",
       "      <td>0</td>\n",
       "      <td>July</td>\n",
       "      <td>Tuesday</td>\n",
       "      <td>Spring</td>\n",
       "      <td>118</td>\n",
       "      <td>13</td>\n",
       "      <td>18</td>\n",
       "      <td>50</td>\n",
       "      <td>239.554</td>\n",
       "      <td>...</td>\n",
       "      <td>High_School</td>\n",
       "      <td>1</td>\n",
       "      <td>Yes</td>\n",
       "      <td>No</td>\n",
       "      <td>0</td>\n",
       "      <td>98</td>\n",
       "      <td>178</td>\n",
       "      <td>31</td>\n",
       "      <td>0</td>\n",
       "      <td>No</td>\n",
       "    </tr>\n",
       "    <tr>\n",
       "      <th>2</th>\n",
       "      <td>3</td>\n",
       "      <td>23</td>\n",
       "      <td>July</td>\n",
       "      <td>Wednesday</td>\n",
       "      <td>Spring</td>\n",
       "      <td>179</td>\n",
       "      <td>51</td>\n",
       "      <td>18</td>\n",
       "      <td>38</td>\n",
       "      <td>239.554</td>\n",
       "      <td>...</td>\n",
       "      <td>High_School</td>\n",
       "      <td>0</td>\n",
       "      <td>Yes</td>\n",
       "      <td>No</td>\n",
       "      <td>0</td>\n",
       "      <td>89</td>\n",
       "      <td>170</td>\n",
       "      <td>31</td>\n",
       "      <td>2</td>\n",
       "      <td>No</td>\n",
       "    </tr>\n",
       "    <tr>\n",
       "      <th>3</th>\n",
       "      <td>7</td>\n",
       "      <td>7</td>\n",
       "      <td>July</td>\n",
       "      <td>Thursday</td>\n",
       "      <td>Spring</td>\n",
       "      <td>279</td>\n",
       "      <td>5</td>\n",
       "      <td>14</td>\n",
       "      <td>39</td>\n",
       "      <td>239.554</td>\n",
       "      <td>...</td>\n",
       "      <td>High_School</td>\n",
       "      <td>2</td>\n",
       "      <td>Yes</td>\n",
       "      <td>Yes</td>\n",
       "      <td>0</td>\n",
       "      <td>68</td>\n",
       "      <td>168</td>\n",
       "      <td>24</td>\n",
       "      <td>4</td>\n",
       "      <td>Yes</td>\n",
       "    </tr>\n",
       "    <tr>\n",
       "      <th>4</th>\n",
       "      <td>11</td>\n",
       "      <td>23</td>\n",
       "      <td>July</td>\n",
       "      <td>Thursday</td>\n",
       "      <td>Spring</td>\n",
       "      <td>289</td>\n",
       "      <td>36</td>\n",
       "      <td>13</td>\n",
       "      <td>33</td>\n",
       "      <td>239.554</td>\n",
       "      <td>...</td>\n",
       "      <td>High_School</td>\n",
       "      <td>2</td>\n",
       "      <td>Yes</td>\n",
       "      <td>No</td>\n",
       "      <td>1</td>\n",
       "      <td>90</td>\n",
       "      <td>172</td>\n",
       "      <td>30</td>\n",
       "      <td>2</td>\n",
       "      <td>No</td>\n",
       "    </tr>\n",
       "  </tbody>\n",
       "</table>\n",
       "<p>5 rows × 22 columns</p>\n",
       "</div>"
      ],
      "text/plain": [
       "   id  reason_for_absence month_of_absence day_of_the_week seasons  \\\n",
       "0  11                  26             July         Tuesday  Spring   \n",
       "1  36                   0             July         Tuesday  Spring   \n",
       "2   3                  23             July       Wednesday  Spring   \n",
       "3   7                   7             July        Thursday  Spring   \n",
       "4  11                  23             July        Thursday  Spring   \n",
       "\n",
       "   transportation_expense  distance_from_residence_to_work  service_time  age  \\\n",
       "0                     289                               36            13   33   \n",
       "1                     118                               13            18   50   \n",
       "2                     179                               51            18   38   \n",
       "3                     279                                5            14   39   \n",
       "4                     289                               36            13   33   \n",
       "\n",
       "   work_load_average/day  ...    education son social_drinker  social_smoker  \\\n",
       "0                239.554  ...  High_School   2            Yes             No   \n",
       "1                239.554  ...  High_School   1            Yes             No   \n",
       "2                239.554  ...  High_School   0            Yes             No   \n",
       "3                239.554  ...  High_School   2            Yes            Yes   \n",
       "4                239.554  ...  High_School   2            Yes             No   \n",
       "\n",
       "  pet weight  height  body_mass_index  absenteeism_time_in_hours  disease  \n",
       "0   1     90     172               30                          4       No  \n",
       "1   0     98     178               31                          0       No  \n",
       "2   0     89     170               31                          2       No  \n",
       "3   0     68     168               24                          4      Yes  \n",
       "4   1     90     172               30                          2       No  \n",
       "\n",
       "[5 rows x 22 columns]"
      ]
     },
     "execution_count": 18,
     "metadata": {},
     "output_type": "execute_result"
    }
   ],
   "source": [
    "preprocessed_df.head()"
   ]
  },
  {
   "cell_type": "code",
   "execution_count": 19,
   "id": "510f2048",
   "metadata": {
    "ExecuteTime": {
     "end_time": "2021-09-03T00:44:51.921006Z",
     "start_time": "2021-09-03T00:44:50.877141Z"
    },
    "hidden": true,
    "scrolled": false
   },
   "outputs": [
    {
     "data": {
      "image/png": "[encoded data removed]",
      "text/plain": [
       "<Figure size 1080x576 with 1 Axes>"
      ]
     },
     "metadata": {
      "needs_background": "light"
     },
     "output_type": "display_data"
    }
   ],
   "source": [
    "plt.figure(figsize=(15,8))\n",
    "\n",
    "sns.countplot(x='reason_for_absence', data=preprocessed_df, hue='social_drinker')\n",
    "\n",
    "plt.show()"
   ]
  },
  {
   "cell_type": "code",
   "execution_count": 20,
   "id": "773aa717",
   "metadata": {
    "ExecuteTime": {
     "end_time": "2021-09-03T00:44:53.368785Z",
     "start_time": "2021-09-03T00:44:51.925884Z"
    },
    "hidden": true
   },
   "outputs": [
    {
     "data": {
      "image/png": "[encoded data removed]",
      "text/plain": [
       "<Figure size 1080x576 with 1 Axes>"
      ]
     },
     "metadata": {
      "needs_background": "light"
     },
     "output_type": "display_data"
    }
   ],
   "source": [
    "plt.figure(figsize=(15,8))\n",
    "\n",
    "sns.countplot(x='reason_for_absence', data=preprocessed_df, hue='social_smoker', hue_order=['Yes', 'No'])\n",
    "\n",
    "plt.show()"
   ]
  },
  {
   "cell_type": "code",
   "execution_count": 21,
   "id": "641ef78a",
   "metadata": {
    "ExecuteTime": {
     "end_time": "2021-09-03T00:44:53.399975Z",
     "start_time": "2021-09-03T00:44:53.373516Z"
    },
    "hidden": true
   },
   "outputs": [
    {
     "data": {
      "text/plain": [
       "Yes    0.567568\n",
       "No     0.432432\n",
       "Name: social_drinker, dtype: float64"
      ]
     },
     "execution_count": 21,
     "metadata": {},
     "output_type": "execute_result"
    }
   ],
   "source": [
    "preprocessed_df.social_drinker.value_counts(normalize=True)"
   ]
  },
  {
   "cell_type": "code",
   "execution_count": 22,
   "id": "ea77154b",
   "metadata": {
    "ExecuteTime": {
     "end_time": "2021-09-03T00:44:53.423853Z",
     "start_time": "2021-09-03T00:44:53.405591Z"
    },
    "hidden": true
   },
   "outputs": [
    {
     "data": {
      "text/plain": [
       "No     0.927027\n",
       "Yes    0.072973\n",
       "Name: social_smoker, dtype: float64"
      ]
     },
     "execution_count": 22,
     "metadata": {},
     "output_type": "execute_result"
    }
   ],
   "source": [
    "preprocessed_df.social_smoker.value_counts(normalize=True)"
   ]
  },
  {
   "cell_type": "markdown",
   "id": "d33aaaf0",
   "metadata": {
    "hidden": true
   },
   "source": [
    "- 56% employees are social drinkers and only 7% are social smoker\n",
    "> Furthermore, as the number of social smokers is quite small (only 7% of the entries), it is very hard to say whether there is actually a relationship between the absence reasons and smoking. A more rigorous approach in this direction would be to analyze the conditional probabilities of the different absence reasons, which are based on being a social drinker or smoker."
   ]
  },
  {
   "cell_type": "markdown",
   "id": "eaa1e89f",
   "metadata": {
    "heading_collapsed": true
   },
   "source": [
    "### Conditional Probability"
   ]
  },
  {
   "cell_type": "code",
   "execution_count": 23,
   "id": "eb06a9a7",
   "metadata": {
    "ExecuteTime": {
     "end_time": "2021-09-03T00:44:53.463873Z",
     "start_time": "2021-09-03T00:44:53.439737Z"
    },
    "hidden": true
   },
   "outputs": [
    {
     "data": {
      "text/plain": [
       "social_drinker    0.567568\n",
       "social_smoker     0.072973\n",
       "dtype: float64"
      ]
     },
     "execution_count": 23,
     "metadata": {},
     "output_type": "execute_result"
    }
   ],
   "source": [
    "probability = df[['social_drinker', 'social_smoker']].mean()\n",
    "probability"
   ]
  },
  {
   "cell_type": "code",
   "execution_count": 24,
   "id": "9997c50a",
   "metadata": {
    "ExecuteTime": {
     "end_time": "2021-09-03T00:44:53.490113Z",
     "start_time": "2021-09-03T00:44:53.473064Z"
    },
    "hidden": true
   },
   "outputs": [
    {
     "name": "stdout",
     "output_type": "stream",
     "text": [
      "0.5675675675675675 0.07297297297297298\n"
     ]
    }
   ],
   "source": [
    "probability_of_social_drinker = probability[0]\n",
    "probability_of_social_smoker = probability[1]\n",
    "\n",
    "print(probability_of_social_drinker, probability_of_social_smoker)"
   ]
  },
  {
   "cell_type": "code",
   "execution_count": 25,
   "id": "664c94bb",
   "metadata": {
    "ExecuteTime": {
     "end_time": "2021-09-03T00:44:57.166873Z",
     "start_time": "2021-09-03T00:44:53.495157Z"
    },
    "hidden": true
   },
   "outputs": [
    {
     "data": {
      "image/png": "[encoded data removed]",
      "text/plain": [
       "<Figure size 1080x576 with 1 Axes>"
      ]
     },
     "metadata": {
      "needs_background": "light"
     },
     "output_type": "display_data"
    }
   ],
   "source": [
    "## probability--> P(Social Drinker | Absense for reason)\n",
    "\n",
    "df1 = df.groupby('reason_for_absence')[['social_drinker', 'social_smoker']].agg('mean')\n",
    "\n",
    "df1.plot.bar(figsize=(15, 8), rot=0)\n",
    "plt.ylabel('Probability')\n",
    "plt.xlabel(\"Reason for Absense\")\n",
    "plt.title('P(social drinker or social smoker | Reason for absense)')\n",
    "\n",
    "plt.legend(labels=['P(social_drinker | Reason for absense)', 'P(social_smoker | Reason for absense)'])\n",
    "plt.show()"
   ]
  },
  {
   "cell_type": "code",
   "execution_count": 26,
   "id": "5a7dabf3",
   "metadata": {
    "ExecuteTime": {
     "end_time": "2021-09-03T00:44:57.198368Z",
     "start_time": "2021-09-03T00:44:57.169046Z"
    },
    "hidden": true,
    "scrolled": false
   },
   "outputs": [
    {
     "data": {
      "text/plain": [
       "reason_for_absence\n",
       "0     0.058108\n",
       "1     0.021622\n",
       "2     0.001351\n",
       "3     0.001351\n",
       "4     0.002703\n",
       "5     0.004054\n",
       "6     0.010811\n",
       "7     0.020270\n",
       "8     0.008108\n",
       "9     0.005405\n",
       "10    0.033784\n",
       "11    0.035135\n",
       "12    0.010811\n",
       "13    0.074324\n",
       "14    0.025676\n",
       "15    0.002703\n",
       "16    0.004054\n",
       "17    0.001351\n",
       "18    0.028378\n",
       "19    0.054054\n",
       "21    0.008108\n",
       "22    0.051351\n",
       "23    0.201351\n",
       "24    0.004054\n",
       "25    0.041892\n",
       "26    0.044595\n",
       "27    0.093243\n",
       "28    0.151351\n",
       "Name: reason_for_absence, dtype: float64"
      ]
     },
     "execution_count": 26,
     "metadata": {},
     "output_type": "execute_result"
    }
   ],
   "source": [
    "reason_probability = df.groupby('reason_for_absence')['reason_for_absence'].count() / len(df)\n",
    "reason_probability"
   ]
  },
  {
   "cell_type": "code",
   "execution_count": 27,
   "id": "ca6927c4",
   "metadata": {
    "ExecuteTime": {
     "end_time": "2021-09-03T00:44:58.824647Z",
     "start_time": "2021-09-03T00:44:57.204390Z"
    },
    "hidden": true,
    "scrolled": false
   },
   "outputs": [
    {
     "data": {
      "image/png": "[encoded data removed]",
      "text/plain": [
       "<Figure size 1080x576 with 1 Axes>"
      ]
     },
     "metadata": {
      "needs_background": "light"
     },
     "output_type": "display_data"
    }
   ],
   "source": [
    "dataframe1 = df1.social_drinker * reason_probability / probability_of_social_drinker\n",
    "dataframe2 = df1.social_smoker * reason_probability / probability_of_social_smoker\n",
    "\n",
    "\n",
    "pd.DataFrame({'P(Reason | Social Drinker)':dataframe1.tolist(),\n",
    "             'P(Reason | Social Smoker)':dataframe2.tolist()}).plot.bar(figsize=(15, 8), rot=0)\n",
    "\n",
    "plt.show()"
   ]
  },
  {
   "cell_type": "markdown",
   "id": "597edf8f",
   "metadata": {
    "heading_collapsed": true
   },
   "source": [
    "### Analyzing distribution of hours"
   ]
  },
  {
   "cell_type": "code",
   "execution_count": 28,
   "id": "16573a4c",
   "metadata": {
    "ExecuteTime": {
     "end_time": "2021-09-03T00:44:59.540555Z",
     "start_time": "2021-09-03T00:44:58.831515Z"
    },
    "hidden": true
   },
   "outputs": [
    {
     "data": {
      "image/png": "[encoded data removed]",
      "text/plain": [
       "<Figure size 720x432 with 1 Axes>"
      ]
     },
     "metadata": {
      "needs_background": "light"
     },
     "output_type": "display_data"
    }
   ],
   "source": [
    "plt.figure(figsize=(10,6))\n",
    "sns.violinplot(x='social_drinker', y='absenteeism_time_in_hours', data=preprocessed_df)\n",
    "plt.show()"
   ]
  },
  {
   "cell_type": "code",
   "execution_count": 29,
   "id": "394c6702",
   "metadata": {
    "ExecuteTime": {
     "end_time": "2021-09-03T00:45:00.100447Z",
     "start_time": "2021-09-03T00:44:59.545914Z"
    },
    "hidden": true
   },
   "outputs": [
    {
     "data": {
      "image/png": "[encoded data removed]",
      "text/plain": [
       "<Figure size 720x432 with 1 Axes>"
      ]
     },
     "metadata": {
      "needs_background": "light"
     },
     "output_type": "display_data"
    }
   ],
   "source": [
    "plt.figure(figsize=(10,6))\n",
    "sns.violinplot(x='social_smoker', y='absenteeism_time_in_hours', data=preprocessed_df)\n",
    "plt.show()"
   ]
  },
  {
   "cell_type": "markdown",
   "id": "1c7b8813",
   "metadata": {
    "hidden": true
   },
   "source": [
    "- Despite some differences in the outliers between smokers and non-smokers, there is no substantial difference in the distribution of absenteeism hours in drinkers and smokers.\n",
    "- To assess this statement in a rigorous statistical way, perform hypothesis testing on the absenteeism hours (with a null hypothesis stating that the average absenteeism time in hours is the same for drinkers and non-drinkers)"
   ]
  },
  {
   "cell_type": "code",
   "execution_count": 30,
   "id": "6372d731",
   "metadata": {
    "ExecuteTime": {
     "end_time": "2021-09-03T00:45:00.117012Z",
     "start_time": "2021-09-03T00:45:00.106478Z"
    },
    "hidden": true
   },
   "outputs": [],
   "source": [
    "hours_drinkers = preprocessed_df.absenteeism_time_in_hours[preprocessed_df.social_drinker=='Yes']\n",
    "hours_non_drinkers = preprocessed_df.absenteeism_time_in_hours[preprocessed_df.social_drinker=='No']"
   ]
  },
  {
   "cell_type": "code",
   "execution_count": 31,
   "id": "2cd041b6",
   "metadata": {
    "ExecuteTime": {
     "end_time": "2021-09-03T00:45:00.150526Z",
     "start_time": "2021-09-03T00:45:00.123368Z"
    },
    "hidden": true
   },
   "outputs": [
    {
     "name": "stdout",
     "output_type": "stream",
     "text": [
      "Test Statistic: 1.7713833295243993\n",
      "p-value: 0.07690961828294651\n"
     ]
    }
   ],
   "source": [
    "result = stats.ttest_ind(hours_drinkers, hours_non_drinkers)\n",
    "\n",
    "print(\"Test Statistic:\", result[0])\n",
    "print(\"p-value:\", result[1])"
   ]
  },
  {
   "cell_type": "code",
   "execution_count": 32,
   "id": "b5c4a9e1",
   "metadata": {
    "ExecuteTime": {
     "end_time": "2021-09-03T00:45:00.174726Z",
     "start_time": "2021-09-03T00:45:00.157260Z"
    },
    "hidden": true
   },
   "outputs": [],
   "source": [
    "hours_smokers = preprocessed_df.absenteeism_time_in_hours[preprocessed_df.social_smoker=='Yes']\n",
    "hours_non_smokers = preprocessed_df.absenteeism_time_in_hours[preprocessed_df.social_smoker=='No']"
   ]
  },
  {
   "cell_type": "code",
   "execution_count": 33,
   "id": "23590db5",
   "metadata": {
    "ExecuteTime": {
     "end_time": "2021-09-03T00:45:00.198117Z",
     "start_time": "2021-09-03T00:45:00.178244Z"
    },
    "hidden": true
   },
   "outputs": [
    {
     "name": "stdout",
     "output_type": "stream",
     "text": [
      "Test Statistic: -0.24277795417700243\n",
      "p-value: 0.8082448720154971\n"
     ]
    }
   ],
   "source": [
    "result = stats.ttest_ind(hours_smokers, hours_non_smokers)\n",
    "\n",
    "print(\"Test Statistic:\", result[0])\n",
    "print(\"p-value:\", result[1])"
   ]
  },
  {
   "cell_type": "markdown",
   "id": "fef8fe3f",
   "metadata": {
    "hidden": true
   },
   "source": [
    "- As we can see, the p-value of both tests is above the critical value of 0.05, which means that we cannot reject the null hypothesis. In other words, we cannot say that there is a statistically significant difference in the absenteeism hours between drinkers (and smokers) and non-drinkers (and non-smokers).\n",
    "\n",
    ">  **Nevertheless, the average hours may still be equal, but their distributions may be different.**"
   ]
  },
  {
   "cell_type": "markdown",
   "id": "4e8340c5",
   "metadata": {
    "heading_collapsed": true
   },
   "source": [
    "### Kolmogorov-Smirnov test"
   ]
  },
  {
   "cell_type": "markdown",
   "id": "3be86480",
   "metadata": {
    "hidden": true
   },
   "source": [
    "- **To assess the difference in the distributions of two samples**"
   ]
  },
  {
   "cell_type": "code",
   "execution_count": 34,
   "id": "757bb086",
   "metadata": {
    "ExecuteTime": {
     "end_time": "2021-09-03T00:45:00.207653Z",
     "start_time": "2021-09-03T00:45:00.203107Z"
    },
    "hidden": true
   },
   "outputs": [],
   "source": [
    "from scipy.stats import ks_2samp"
   ]
  },
  {
   "cell_type": "code",
   "execution_count": 35,
   "id": "8f188e5b",
   "metadata": {
    "ExecuteTime": {
     "end_time": "2021-09-03T00:45:00.275705Z",
     "start_time": "2021-09-03T00:45:00.212638Z"
    },
    "hidden": true
   },
   "outputs": [
    {
     "name": "stdout",
     "output_type": "stream",
     "text": [
      "Dinkers' statistic is 0.13541666666666666 and p-value 0.0022652445666854204\n",
      "Smokers' statistic is 0.10436237987258395 and p-value 0.6069676330358527\n"
     ]
    }
   ],
   "source": [
    "drinkers_result = ks_2samp(hours_drinkers, hours_non_drinkers)\n",
    "smokers_result = ks_2samp(hours_smokers, hours_non_smokers)\n",
    "\n",
    "print(f\"Dinkers' statistic is {drinkers_result[0]} and p-value {drinkers_result[1]}\")\n",
    "print(f\"Smokers' statistic is {smokers_result[0]} and p-value {smokers_result[1]}\")"
   ]
  },
  {
   "cell_type": "markdown",
   "id": "6d7a821f",
   "metadata": {
    "hidden": true
   },
   "source": [
    "- The p-value for the drinkers dataset is lower than the critical 0.05, which is strong evidence against the null hypothesis of the two distributions being equal. On the other hand, as the p-value for the smokers dataset is higher than 0.05, you cannot reject the null hypothesis."
   ]
  },
  {
   "cell_type": "markdown",
   "id": "87b6fb37",
   "metadata": {
    "heading_collapsed": true
   },
   "source": [
    "### BMI"
   ]
  },
  {
   "cell_type": "code",
   "execution_count": 36,
   "id": "f466e680",
   "metadata": {
    "ExecuteTime": {
     "end_time": "2021-09-03T00:45:00.293704Z",
     "start_time": "2021-09-03T00:45:00.277700Z"
    },
    "code_folding": [],
    "hidden": true
   },
   "outputs": [],
   "source": [
    "def get_bmi_category(bmi):\n",
    "    if bmi < 18.5:\n",
    "        category = \"underweight\"\n",
    "    elif bmi >= 18.5 and bmi < 25:\n",
    "        category = \"healthy weight\"\n",
    "    elif bmi >= 25 and bmi < 30:\n",
    "        category = \"overweight\"\n",
    "    else:\n",
    "        category = \"obese\"\n",
    "    return category\n",
    "\n",
    "\n",
    "preprocessed_df['bmi_category'] = preprocessed_df.body_mass_index.apply(get_bmi_category)"
   ]
  },
  {
   "cell_type": "code",
   "execution_count": 37,
   "id": "f02a51d5",
   "metadata": {
    "ExecuteTime": {
     "end_time": "2021-09-03T00:45:00.368268Z",
     "start_time": "2021-09-03T00:45:00.297763Z"
    },
    "hidden": true
   },
   "outputs": [
    {
     "data": {
      "text/html": [
       "<div>\n",
       "<style scoped>\n",
       "    .dataframe tbody tr th:only-of-type {\n",
       "        vertical-align: middle;\n",
       "    }\n",
       "\n",
       "    .dataframe tbody tr th {\n",
       "        vertical-align: top;\n",
       "    }\n",
       "\n",
       "    .dataframe thead th {\n",
       "        text-align: right;\n",
       "    }\n",
       "</style>\n",
       "<table border=\"1\" class=\"dataframe\">\n",
       "  <thead>\n",
       "    <tr style=\"text-align: right;\">\n",
       "      <th></th>\n",
       "      <th>id</th>\n",
       "      <th>reason_for_absence</th>\n",
       "      <th>month_of_absence</th>\n",
       "      <th>day_of_the_week</th>\n",
       "      <th>seasons</th>\n",
       "      <th>transportation_expense</th>\n",
       "      <th>distance_from_residence_to_work</th>\n",
       "      <th>service_time</th>\n",
       "      <th>age</th>\n",
       "      <th>work_load_average/day</th>\n",
       "      <th>...</th>\n",
       "      <th>son</th>\n",
       "      <th>social_drinker</th>\n",
       "      <th>social_smoker</th>\n",
       "      <th>pet</th>\n",
       "      <th>weight</th>\n",
       "      <th>height</th>\n",
       "      <th>body_mass_index</th>\n",
       "      <th>absenteeism_time_in_hours</th>\n",
       "      <th>disease</th>\n",
       "      <th>bmi_category</th>\n",
       "    </tr>\n",
       "  </thead>\n",
       "  <tbody>\n",
       "    <tr>\n",
       "      <th>0</th>\n",
       "      <td>11</td>\n",
       "      <td>26</td>\n",
       "      <td>July</td>\n",
       "      <td>Tuesday</td>\n",
       "      <td>Spring</td>\n",
       "      <td>289</td>\n",
       "      <td>36</td>\n",
       "      <td>13</td>\n",
       "      <td>33</td>\n",
       "      <td>239.554</td>\n",
       "      <td>...</td>\n",
       "      <td>2</td>\n",
       "      <td>Yes</td>\n",
       "      <td>No</td>\n",
       "      <td>1</td>\n",
       "      <td>90</td>\n",
       "      <td>172</td>\n",
       "      <td>30</td>\n",
       "      <td>4</td>\n",
       "      <td>No</td>\n",
       "      <td>obese</td>\n",
       "    </tr>\n",
       "    <tr>\n",
       "      <th>1</th>\n",
       "      <td>36</td>\n",
       "      <td>0</td>\n",
       "      <td>July</td>\n",
       "      <td>Tuesday</td>\n",
       "      <td>Spring</td>\n",
       "      <td>118</td>\n",
       "      <td>13</td>\n",
       "      <td>18</td>\n",
       "      <td>50</td>\n",
       "      <td>239.554</td>\n",
       "      <td>...</td>\n",
       "      <td>1</td>\n",
       "      <td>Yes</td>\n",
       "      <td>No</td>\n",
       "      <td>0</td>\n",
       "      <td>98</td>\n",
       "      <td>178</td>\n",
       "      <td>31</td>\n",
       "      <td>0</td>\n",
       "      <td>No</td>\n",
       "      <td>obese</td>\n",
       "    </tr>\n",
       "    <tr>\n",
       "      <th>2</th>\n",
       "      <td>3</td>\n",
       "      <td>23</td>\n",
       "      <td>July</td>\n",
       "      <td>Wednesday</td>\n",
       "      <td>Spring</td>\n",
       "      <td>179</td>\n",
       "      <td>51</td>\n",
       "      <td>18</td>\n",
       "      <td>38</td>\n",
       "      <td>239.554</td>\n",
       "      <td>...</td>\n",
       "      <td>0</td>\n",
       "      <td>Yes</td>\n",
       "      <td>No</td>\n",
       "      <td>0</td>\n",
       "      <td>89</td>\n",
       "      <td>170</td>\n",
       "      <td>31</td>\n",
       "      <td>2</td>\n",
       "      <td>No</td>\n",
       "      <td>obese</td>\n",
       "    </tr>\n",
       "    <tr>\n",
       "      <th>3</th>\n",
       "      <td>7</td>\n",
       "      <td>7</td>\n",
       "      <td>July</td>\n",
       "      <td>Thursday</td>\n",
       "      <td>Spring</td>\n",
       "      <td>279</td>\n",
       "      <td>5</td>\n",
       "      <td>14</td>\n",
       "      <td>39</td>\n",
       "      <td>239.554</td>\n",
       "      <td>...</td>\n",
       "      <td>2</td>\n",
       "      <td>Yes</td>\n",
       "      <td>Yes</td>\n",
       "      <td>0</td>\n",
       "      <td>68</td>\n",
       "      <td>168</td>\n",
       "      <td>24</td>\n",
       "      <td>4</td>\n",
       "      <td>Yes</td>\n",
       "      <td>healthy weight</td>\n",
       "    </tr>\n",
       "    <tr>\n",
       "      <th>4</th>\n",
       "      <td>11</td>\n",
       "      <td>23</td>\n",
       "      <td>July</td>\n",
       "      <td>Thursday</td>\n",
       "      <td>Spring</td>\n",
       "      <td>289</td>\n",
       "      <td>36</td>\n",
       "      <td>13</td>\n",
       "      <td>33</td>\n",
       "      <td>239.554</td>\n",
       "      <td>...</td>\n",
       "      <td>2</td>\n",
       "      <td>Yes</td>\n",
       "      <td>No</td>\n",
       "      <td>1</td>\n",
       "      <td>90</td>\n",
       "      <td>172</td>\n",
       "      <td>30</td>\n",
       "      <td>2</td>\n",
       "      <td>No</td>\n",
       "      <td>obese</td>\n",
       "    </tr>\n",
       "  </tbody>\n",
       "</table>\n",
       "<p>5 rows × 23 columns</p>\n",
       "</div>"
      ],
      "text/plain": [
       "   id  reason_for_absence month_of_absence day_of_the_week seasons  \\\n",
       "0  11                  26             July         Tuesday  Spring   \n",
       "1  36                   0             July         Tuesday  Spring   \n",
       "2   3                  23             July       Wednesday  Spring   \n",
       "3   7                   7             July        Thursday  Spring   \n",
       "4  11                  23             July        Thursday  Spring   \n",
       "\n",
       "   transportation_expense  distance_from_residence_to_work  service_time  age  \\\n",
       "0                     289                               36            13   33   \n",
       "1                     118                               13            18   50   \n",
       "2                     179                               51            18   38   \n",
       "3                     279                                5            14   39   \n",
       "4                     289                               36            13   33   \n",
       "\n",
       "   work_load_average/day  ...  son social_drinker social_smoker  pet weight  \\\n",
       "0                239.554  ...    2            Yes            No    1     90   \n",
       "1                239.554  ...    1            Yes            No    0     98   \n",
       "2                239.554  ...    0            Yes            No    0     89   \n",
       "3                239.554  ...    2            Yes           Yes    0     68   \n",
       "4                239.554  ...    2            Yes            No    1     90   \n",
       "\n",
       "  height  body_mass_index  absenteeism_time_in_hours  disease    bmi_category  \n",
       "0    172               30                          4       No           obese  \n",
       "1    178               31                          0       No           obese  \n",
       "2    170               31                          2       No           obese  \n",
       "3    168               24                          4      Yes  healthy weight  \n",
       "4    172               30                          2       No           obese  \n",
       "\n",
       "[5 rows x 23 columns]"
      ]
     },
     "execution_count": 37,
     "metadata": {},
     "output_type": "execute_result"
    }
   ],
   "source": [
    "preprocessed_df.head()"
   ]
  },
  {
   "cell_type": "code",
   "execution_count": 38,
   "id": "046fb75a",
   "metadata": {
    "ExecuteTime": {
     "end_time": "2021-09-03T00:45:00.824912Z",
     "start_time": "2021-09-03T00:45:00.370943Z"
    },
    "hidden": true
   },
   "outputs": [
    {
     "data": {
      "image/png": "[encoded data removed]",
      "text/plain": [
       "<Figure size 432x288 with 1 Axes>"
      ]
     },
     "metadata": {
      "needs_background": "light"
     },
     "output_type": "display_data"
    }
   ],
   "source": [
    "sns.countplot(x='bmi_category', data=preprocessed_df, \n",
    "              order=['underweight', 'healthy weight', 'overweight', 'obese'])\n",
    "plt.show()"
   ]
  },
  {
   "cell_type": "code",
   "execution_count": 39,
   "id": "f155562d",
   "metadata": {
    "ExecuteTime": {
     "end_time": "2021-09-03T00:45:03.067228Z",
     "start_time": "2021-09-03T00:45:00.826944Z"
    },
    "hidden": true
   },
   "outputs": [
    {
     "data": {
      "image/png": "[encoded data removed]",
      "text/plain": [
       "<Figure size 1080x576 with 1 Axes>"
      ]
     },
     "metadata": {
      "needs_background": "light"
     },
     "output_type": "display_data"
    }
   ],
   "source": [
    "plt.figure(figsize=(15, 8))\n",
    "sns.countplot(x='reason_for_absence', data=preprocessed_df, hue='bmi_category',\n",
    "             hue_order=['underweight', 'healthy weight', 'overweight', 'obese'],\n",
    "             palette='Set2')\n",
    "\n",
    "plt.show()"
   ]
  },
  {
   "cell_type": "code",
   "execution_count": 40,
   "id": "0c581e52",
   "metadata": {
    "ExecuteTime": {
     "end_time": "2021-09-03T00:45:03.683536Z",
     "start_time": "2021-09-03T00:45:03.072401Z"
    },
    "hidden": true
   },
   "outputs": [
    {
     "data": {
      "image/png": "[encoded data removed]",
      "text/plain": [
       "<Figure size 720x432 with 1 Axes>"
      ]
     },
     "metadata": {
      "needs_background": "light"
     },
     "output_type": "display_data"
    }
   ],
   "source": [
    "plt.figure(figsize=(10,6))\n",
    "sns.violinplot(data=preprocessed_df, x='bmi_category', y='absenteeism_time_in_hours')\n",
    "plt.show()"
   ]
  },
  {
   "cell_type": "markdown",
   "id": "14ace281",
   "metadata": {
    "heading_collapsed": true
   },
   "source": [
    "### Age and Education Factors"
   ]
  },
  {
   "cell_type": "code",
   "execution_count": 41,
   "id": "11d88c09",
   "metadata": {
    "ExecuteTime": {
     "end_time": "2021-09-03T00:45:05.900661Z",
     "start_time": "2021-09-03T00:45:03.685800Z"
    },
    "hidden": true
   },
   "outputs": [
    {
     "data": {
      "image/png": "[encoded data removed]",
      "text/plain": [
       "<Figure size 432x432 with 3 Axes>"
      ]
     },
     "metadata": {
      "needs_background": "light"
     },
     "output_type": "display_data"
    }
   ],
   "source": [
    "sns.jointplot(data=preprocessed_df, x='age', y='absenteeism_time_in_hours',\n",
    "             kind='reg')\n",
    "plt.show()"
   ]
  },
  {
   "cell_type": "code",
   "execution_count": 42,
   "id": "3332d058",
   "metadata": {
    "ExecuteTime": {
     "end_time": "2021-09-03T00:45:05.923634Z",
     "start_time": "2021-09-03T00:45:05.904849Z"
    },
    "hidden": true
   },
   "outputs": [
    {
     "name": "stdout",
     "output_type": "stream",
     "text": [
      "Correlation Age and Absent Hours 0.06575970132037087\n"
     ]
    }
   ],
   "source": [
    "print(\"Correlation Age and Absent Hours\", preprocessed_df.age.corr(preprocessed_df.absenteeism_time_in_hours))"
   ]
  },
  {
   "cell_type": "code",
   "execution_count": 43,
   "id": "b60604e9",
   "metadata": {
    "ExecuteTime": {
     "end_time": "2021-09-03T00:45:05.957740Z",
     "start_time": "2021-09-03T00:45:05.928323Z"
    },
    "hidden": true
   },
   "outputs": [
    {
     "data": {
      "text/plain": [
       "(0.06575970132037089, 0.07381334916609684)"
      ]
     },
     "execution_count": 43,
     "metadata": {},
     "output_type": "execute_result"
    }
   ],
   "source": [
    "stats.pearsonr(preprocessed_df.absenteeism_time_in_hours, preprocessed_df.age)"
   ]
  },
  {
   "cell_type": "code",
   "execution_count": 44,
   "id": "84badb15",
   "metadata": {
    "ExecuteTime": {
     "end_time": "2021-09-03T00:45:06.472924Z",
     "start_time": "2021-09-03T00:45:05.961213Z"
    },
    "hidden": true
   },
   "outputs": [
    {
     "data": {
      "image/png": "[encoded data removed]",
      "text/plain": [
       "<Figure size 432x288 with 1 Axes>"
      ]
     },
     "metadata": {
      "needs_background": "light"
     },
     "output_type": "display_data"
    }
   ],
   "source": [
    "sns.violinplot(data=preprocessed_df, x='disease', y='age')\n",
    "plt.show()"
   ]
  },
  {
   "cell_type": "code",
   "execution_count": 45,
   "id": "ec39f837",
   "metadata": {
    "ExecuteTime": {
     "end_time": "2021-09-03T00:45:06.521224Z",
     "start_time": "2021-09-03T00:45:06.477908Z"
    },
    "hidden": true
   },
   "outputs": [
    {
     "name": "stdout",
     "output_type": "stream",
     "text": [
      "Test statistic 0.6297608872846625\n",
      "p-value 0.5290459551429652\n",
      "KS - Test statistic 0.056820722475965375\n",
      "KS - p-value 0.6188353608928694\n"
     ]
    }
   ],
   "source": [
    "# hypothesis test for equality of means\n",
    "\n",
    "age_disease = preprocessed_df.age[preprocessed_df.disease=='Yes']\n",
    "age_no_disease = preprocessed_df.age[preprocessed_df.disease=='No']\n",
    "\n",
    "test_result = stats.ttest_ind(age_disease, age_no_disease)\n",
    "\n",
    "print('Test statistic', test_result[0])\n",
    "print(\"p-value\", test_result[1])\n",
    "\n",
    "# distribution test\n",
    "\n",
    "ks_result = ks_2samp(age_disease, age_no_disease)\n",
    "\n",
    "print('KS - Test statistic', ks_result[0])\n",
    "print(\"KS - p-value\", ks_result[1])"
   ]
  },
  {
   "cell_type": "code",
   "execution_count": 46,
   "id": "0b8d71c4",
   "metadata": {
    "ExecuteTime": {
     "end_time": "2021-09-03T00:45:06.929241Z",
     "start_time": "2021-09-03T00:45:06.525337Z"
    },
    "hidden": true
   },
   "outputs": [
    {
     "data": {
      "image/png": "[encoded data removed]",
      "text/plain": [
       "<Figure size 432x288 with 1 Axes>"
      ]
     },
     "metadata": {
      "needs_background": "light"
     },
     "output_type": "display_data"
    }
   ],
   "source": [
    "sns.countplot(data=preprocessed_df, x='education')\n",
    "plt.show()"
   ]
  },
  {
   "cell_type": "code",
   "execution_count": 47,
   "id": "5bc37348",
   "metadata": {
    "ExecuteTime": {
     "end_time": "2021-09-03T00:45:06.953421Z",
     "start_time": "2021-09-03T00:45:06.933056Z"
    },
    "hidden": true
   },
   "outputs": [
    {
     "data": {
      "text/plain": [
       "High_School     0.825676\n",
       "Postgraduate    0.106757\n",
       "Graduate        0.062162\n",
       "Master_Phd      0.005405\n",
       "Name: education, dtype: float64"
      ]
     },
     "execution_count": 47,
     "metadata": {},
     "output_type": "execute_result"
    }
   ],
   "source": [
    "preprocessed_df.education.value_counts(normalize=True)"
   ]
  },
  {
   "cell_type": "markdown",
   "id": "384866e1",
   "metadata": {
    "hidden": true
   },
   "source": [
    "- most of the employees in the data have a high school degree (82.6%), which means that the data is highly biased toward these employees."
   ]
  },
  {
   "cell_type": "code",
   "execution_count": 48,
   "id": "5c5c4849",
   "metadata": {
    "ExecuteTime": {
     "end_time": "2021-09-03T00:45:07.602855Z",
     "start_time": "2021-09-03T00:45:06.957214Z"
    },
    "hidden": true
   },
   "outputs": [
    {
     "data": {
      "image/png": "[encoded data removed]",
      "text/plain": [
       "<Figure size 720x432 with 1 Axes>"
      ]
     },
     "metadata": {
      "needs_background": "light"
     },
     "output_type": "display_data"
    }
   ],
   "source": [
    "plt.figure(figsize=(10,6))\n",
    "sns.violinplot(data=preprocessed_df, x='education', y='absenteeism_time_in_hours')\n",
    "plt.show()"
   ]
  },
  {
   "cell_type": "code",
   "execution_count": 49,
   "id": "f19234b5",
   "metadata": {
    "ExecuteTime": {
     "end_time": "2021-09-03T00:45:07.646532Z",
     "start_time": "2021-09-03T00:45:07.609119Z"
    },
    "hidden": true
   },
   "outputs": [
    {
     "data": {
      "text/html": [
       "<div>\n",
       "<style scoped>\n",
       "    .dataframe tbody tr th:only-of-type {\n",
       "        vertical-align: middle;\n",
       "    }\n",
       "\n",
       "    .dataframe tbody tr th {\n",
       "        vertical-align: top;\n",
       "    }\n",
       "\n",
       "    .dataframe thead th {\n",
       "        text-align: right;\n",
       "    }\n",
       "</style>\n",
       "<table border=\"1\" class=\"dataframe\">\n",
       "  <thead>\n",
       "    <tr style=\"text-align: right;\">\n",
       "      <th></th>\n",
       "      <th>mean</th>\n",
       "      <th>std</th>\n",
       "    </tr>\n",
       "    <tr>\n",
       "      <th>education</th>\n",
       "      <th></th>\n",
       "      <th></th>\n",
       "    </tr>\n",
       "  </thead>\n",
       "  <tbody>\n",
       "    <tr>\n",
       "      <th>Graduate</th>\n",
       "      <td>6.391304</td>\n",
       "      <td>6.754351</td>\n",
       "    </tr>\n",
       "    <tr>\n",
       "      <th>High_School</th>\n",
       "      <td>7.189853</td>\n",
       "      <td>14.258617</td>\n",
       "    </tr>\n",
       "    <tr>\n",
       "      <th>Master_Phd</th>\n",
       "      <td>5.250000</td>\n",
       "      <td>3.201562</td>\n",
       "    </tr>\n",
       "    <tr>\n",
       "      <th>Postgraduate</th>\n",
       "      <td>5.265823</td>\n",
       "      <td>7.962587</td>\n",
       "    </tr>\n",
       "  </tbody>\n",
       "</table>\n",
       "</div>"
      ],
      "text/plain": [
       "                  mean        std\n",
       "education                        \n",
       "Graduate      6.391304   6.754351\n",
       "High_School   7.189853  14.258617\n",
       "Master_Phd    5.250000   3.201562\n",
       "Postgraduate  5.265823   7.962587"
      ]
     },
     "execution_count": 49,
     "metadata": {},
     "output_type": "execute_result"
    }
   ],
   "source": [
    "preprocessed_df.groupby('education')['absenteeism_time_in_hours'].agg(['mean', 'std'])"
   ]
  },
  {
   "cell_type": "markdown",
   "id": "65dfc406",
   "metadata": {
    "hidden": true
   },
   "source": [
    "- You can see that both the mean and standard deviation of the hours of absence are decreasing, meaning that highly educated employees tend to have shorter absences. Of course, a higher degree of education is not a cause for such a phenomenon and is more of an indication of it."
   ]
  },
  {
   "cell_type": "markdown",
   "id": "0a3cd855",
   "metadata": {
    "heading_collapsed": true
   },
   "source": [
    "### Transportation Costs and Distance to Work Factors"
   ]
  },
  {
   "cell_type": "code",
   "execution_count": 51,
   "id": "af1257c1",
   "metadata": {
    "ExecuteTime": {
     "end_time": "2021-09-03T00:51:31.941885Z",
     "start_time": "2021-09-03T00:51:30.370614Z"
    },
    "hidden": true
   },
   "outputs": [
    {
     "data": {
      "image/png": "[encoded data removed]",
      "text/plain": [
       "<Figure size 432x432 with 3 Axes>"
      ]
     },
     "metadata": {
      "needs_background": "light"
     },
     "output_type": "display_data"
    }
   ],
   "source": [
    "sns.jointplot(data=preprocessed_df, x='distance_from_residence_to_work', y='absenteeism_time_in_hours',\n",
    "             kind='reg')\n",
    "plt.show()"
   ]
  },
  {
   "cell_type": "code",
   "execution_count": 52,
   "id": "14fd1fe8",
   "metadata": {
    "ExecuteTime": {
     "end_time": "2021-09-03T00:52:09.036078Z",
     "start_time": "2021-09-03T00:52:09.012691Z"
    },
    "hidden": true
   },
   "outputs": [
    {
     "data": {
      "text/plain": [
       "-0.08836282189613705"
      ]
     },
     "execution_count": 52,
     "metadata": {},
     "output_type": "execute_result"
    }
   ],
   "source": [
    "preprocessed_df.distance_from_residence_to_work.corr(preprocessed_df.absenteeism_time_in_hours)"
   ]
  },
  {
   "cell_type": "code",
   "execution_count": 53,
   "id": "4285cc07",
   "metadata": {
    "ExecuteTime": {
     "end_time": "2021-09-03T00:52:51.557533Z",
     "start_time": "2021-09-03T00:52:49.788041Z"
    },
    "hidden": true
   },
   "outputs": [
    {
     "data": {
      "image/png": "[encoded data removed]",
      "text/plain": [
       "<Figure size 432x432 with 3 Axes>"
      ]
     },
     "metadata": {
      "needs_background": "light"
     },
     "output_type": "display_data"
    }
   ],
   "source": [
    "sns.jointplot(data=preprocessed_df, x='transportation_expense', y='absenteeism_time_in_hours',\n",
    "             kind='reg')\n",
    "plt.show()"
   ]
  },
  {
   "cell_type": "code",
   "execution_count": 54,
   "id": "e6c1933e",
   "metadata": {
    "ExecuteTime": {
     "end_time": "2021-09-03T00:53:11.894578Z",
     "start_time": "2021-09-03T00:53:11.874437Z"
    },
    "hidden": true
   },
   "outputs": [
    {
     "data": {
      "text/plain": [
       "0.262183110631908"
      ]
     },
     "execution_count": 54,
     "metadata": {},
     "output_type": "execute_result"
    }
   ],
   "source": [
    "preprocessed_df.distance_from_residence_to_work.corr(preprocessed_df.transportation_expense)"
   ]
  },
  {
   "cell_type": "markdown",
   "id": "ea0e50da",
   "metadata": {
    "hidden": true
   },
   "source": [
    "- The distributions of Distance from Residence to Work and Transportation expense look close to normal distributions, while the absenteeism time in hours is heavily right-skewed. This makes the comparison between the variables difficult to interpret. One solution to this problem is to transform the data into something close to a normal distribution."
   ]
  },
  {
   "cell_type": "markdown",
   "id": "3cb82d2d",
   "metadata": {
    "heading_collapsed": true
   },
   "source": [
    "### Box-Cox or Yeo-Johnson transformations"
   ]
  },
  {
   "cell_type": "code",
   "execution_count": 60,
   "id": "7c574a76",
   "metadata": {
    "ExecuteTime": {
     "end_time": "2021-09-03T01:05:28.380431Z",
     "start_time": "2021-09-03T01:05:28.353534Z"
    },
    "hidden": true
   },
   "outputs": [],
   "source": [
    "hours = stats.yeojohnson(preprocessed_df.absenteeism_time_in_hours)[0]"
   ]
  },
  {
   "cell_type": "code",
   "execution_count": 61,
   "id": "dbef5df9",
   "metadata": {
    "ExecuteTime": {
     "end_time": "2021-09-03T01:05:34.312196Z",
     "start_time": "2021-09-03T01:05:33.034748Z"
    },
    "hidden": true
   },
   "outputs": [
    {
     "data": {
      "image/png": "[encoded data removed]",
      "text/plain": [
       "<Figure size 432x432 with 3 Axes>"
      ]
     },
     "metadata": {
      "needs_background": "light"
     },
     "output_type": "display_data"
    }
   ],
   "source": [
    "sns.jointplot(x=preprocessed_df.distance_from_residence_to_work, y=hours, kind='reg')\n",
    "plt.show()"
   ]
  },
  {
   "cell_type": "code",
   "execution_count": 62,
   "id": "934784bd",
   "metadata": {
    "ExecuteTime": {
     "end_time": "2021-09-03T01:05:58.442502Z",
     "start_time": "2021-09-03T01:05:57.050194Z"
    },
    "hidden": true
   },
   "outputs": [
    {
     "data": {
      "image/png": "[encoded data removed]",
      "text/plain": [
       "<Figure size 432x432 with 3 Axes>"
      ]
     },
     "metadata": {
      "needs_background": "light"
     },
     "output_type": "display_data"
    }
   ],
   "source": [
    "sns.jointplot(x=preprocessed_df.transportation_expense, y=hours, kind='reg')\n",
    "plt.show()"
   ]
  },
  {
   "cell_type": "code",
   "execution_count": 65,
   "id": "6262b17e",
   "metadata": {
    "ExecuteTime": {
     "end_time": "2021-09-03T01:09:04.744572Z",
     "start_time": "2021-09-03T01:09:00.561860Z"
    },
    "hidden": true
   },
   "outputs": [
    {
     "data": {
      "image/png": "[encoded data removed]",
      "text/plain": [
       "<Figure size 432x432 with 3 Axes>"
      ]
     },
     "metadata": {
      "needs_background": "light"
     },
     "output_type": "display_data"
    },
    {
     "data": {
      "image/png": "[encoded data removed]",
      "text/plain": [
       "<Figure size 432x432 with 3 Axes>"
      ]
     },
     "metadata": {
      "needs_background": "light"
     },
     "output_type": "display_data"
    }
   ],
   "source": [
    "sns.jointplot(x=preprocessed_df.distance_from_residence_to_work, y=hours, kind='kde', fill=True)\n",
    "plt.show()\n",
    "\n",
    "sns.jointplot(x=preprocessed_df.transportation_expense, y=hours, kind='kde', fill=True)\n",
    "plt.show()"
   ]
  },
  {
   "cell_type": "code",
   "execution_count": 67,
   "id": "1877ea30",
   "metadata": {
    "ExecuteTime": {
     "end_time": "2021-09-03T01:15:21.703480Z",
     "start_time": "2021-09-03T01:15:21.690854Z"
    },
    "hidden": true
   },
   "outputs": [
    {
     "name": "stdout",
     "output_type": "stream",
     "text": [
      "Distance correlation -0.000 and p-value: 0.999\n",
      "Transportation correlation 0.113 and p-value: 0.002\n"
     ]
    }
   ],
   "source": [
    "distance_corr = stats.pearsonr(hours, preprocessed_df.distance_from_residence_to_work)\n",
    "transportation_corr = stats.pearsonr(hours, preprocessed_df.transportation_expense)\n",
    "\n",
    "print(f\"Distance correlation {distance_corr[0]:.3f} and p-value: {distance_corr[1]:.3f}\")\n",
    "print(f\"Transportation correlation {transportation_corr[0]:.3f} and p-value: {transportation_corr[1]:.3f}\")"
   ]
  },
  {
   "cell_type": "markdown",
   "id": "d7f44612",
   "metadata": {
    "hidden": true
   },
   "source": [
    "- These results confirm our observation, stating that there is a slight positive correlation between Transportation expense and Absenteeism time in hours."
   ]
  },
  {
   "cell_type": "markdown",
   "id": "df28d751",
   "metadata": {},
   "source": [
    "### Temporal Factors"
   ]
  },
  {
   "cell_type": "code",
   "execution_count": 74,
   "id": "f417ce92",
   "metadata": {
    "ExecuteTime": {
     "end_time": "2021-09-03T01:20:01.304837Z",
     "start_time": "2021-09-03T01:20:00.858226Z"
    }
   },
   "outputs": [
    {
     "data": {
      "image/png": "[encoded data removed]",
      "text/plain": [
       "<Figure size 864x432 with 1 Axes>"
      ]
     },
     "metadata": {
      "needs_background": "light"
     },
     "output_type": "display_data"
    }
   ],
   "source": [
    "plt.figure(figsize=(12,6))\n",
    "sns.countplot(data=preprocessed_df, x='month_of_absence', order=month_name[1:13])\n",
    "plt.show()"
   ]
  },
  {
   "cell_type": "code",
   "execution_count": 72,
   "id": "39cad809",
   "metadata": {
    "ExecuteTime": {
     "end_time": "2021-09-03T01:18:59.498016Z",
     "start_time": "2021-09-03T01:18:59.105855Z"
    }
   },
   "outputs": [
    {
     "data": {
      "image/png": "[encoded data removed]",
      "text/plain": [
       "<Figure size 864x432 with 1 Axes>"
      ]
     },
     "metadata": {
      "needs_background": "light"
     },
     "output_type": "display_data"
    }
   ],
   "source": [
    "plt.figure(figsize=(12,6))\n",
    "sns.countplot(data=preprocessed_df, x='day_of_the_week', order=day_name[:5])\n",
    "plt.show()"
   ]
  },
  {
   "cell_type": "code",
   "execution_count": 68,
   "id": "c67379b8",
   "metadata": {
    "ExecuteTime": {
     "end_time": "2021-09-03T01:16:49.037310Z",
     "start_time": "2021-09-03T01:16:48.984751Z"
    }
   },
   "outputs": [
    {
     "data": {
      "text/html": [
       "<div>\n",
       "<style scoped>\n",
       "    .dataframe tbody tr th:only-of-type {\n",
       "        vertical-align: middle;\n",
       "    }\n",
       "\n",
       "    .dataframe tbody tr th {\n",
       "        vertical-align: top;\n",
       "    }\n",
       "\n",
       "    .dataframe thead th {\n",
       "        text-align: right;\n",
       "    }\n",
       "</style>\n",
       "<table border=\"1\" class=\"dataframe\">\n",
       "  <thead>\n",
       "    <tr style=\"text-align: right;\">\n",
       "      <th></th>\n",
       "      <th>id</th>\n",
       "      <th>reason_for_absence</th>\n",
       "      <th>month_of_absence</th>\n",
       "      <th>day_of_the_week</th>\n",
       "      <th>seasons</th>\n",
       "      <th>transportation_expense</th>\n",
       "      <th>distance_from_residence_to_work</th>\n",
       "      <th>service_time</th>\n",
       "      <th>age</th>\n",
       "      <th>work_load_average/day</th>\n",
       "      <th>...</th>\n",
       "      <th>son</th>\n",
       "      <th>social_drinker</th>\n",
       "      <th>social_smoker</th>\n",
       "      <th>pet</th>\n",
       "      <th>weight</th>\n",
       "      <th>height</th>\n",
       "      <th>body_mass_index</th>\n",
       "      <th>absenteeism_time_in_hours</th>\n",
       "      <th>disease</th>\n",
       "      <th>bmi_category</th>\n",
       "    </tr>\n",
       "  </thead>\n",
       "  <tbody>\n",
       "    <tr>\n",
       "      <th>0</th>\n",
       "      <td>11</td>\n",
       "      <td>26</td>\n",
       "      <td>July</td>\n",
       "      <td>Tuesday</td>\n",
       "      <td>Spring</td>\n",
       "      <td>289</td>\n",
       "      <td>36</td>\n",
       "      <td>13</td>\n",
       "      <td>33</td>\n",
       "      <td>239.554</td>\n",
       "      <td>...</td>\n",
       "      <td>2</td>\n",
       "      <td>Yes</td>\n",
       "      <td>No</td>\n",
       "      <td>1</td>\n",
       "      <td>90</td>\n",
       "      <td>172</td>\n",
       "      <td>30</td>\n",
       "      <td>4</td>\n",
       "      <td>No</td>\n",
       "      <td>obese</td>\n",
       "    </tr>\n",
       "    <tr>\n",
       "      <th>1</th>\n",
       "      <td>36</td>\n",
       "      <td>0</td>\n",
       "      <td>July</td>\n",
       "      <td>Tuesday</td>\n",
       "      <td>Spring</td>\n",
       "      <td>118</td>\n",
       "      <td>13</td>\n",
       "      <td>18</td>\n",
       "      <td>50</td>\n",
       "      <td>239.554</td>\n",
       "      <td>...</td>\n",
       "      <td>1</td>\n",
       "      <td>Yes</td>\n",
       "      <td>No</td>\n",
       "      <td>0</td>\n",
       "      <td>98</td>\n",
       "      <td>178</td>\n",
       "      <td>31</td>\n",
       "      <td>0</td>\n",
       "      <td>No</td>\n",
       "      <td>obese</td>\n",
       "    </tr>\n",
       "    <tr>\n",
       "      <th>2</th>\n",
       "      <td>3</td>\n",
       "      <td>23</td>\n",
       "      <td>July</td>\n",
       "      <td>Wednesday</td>\n",
       "      <td>Spring</td>\n",
       "      <td>179</td>\n",
       "      <td>51</td>\n",
       "      <td>18</td>\n",
       "      <td>38</td>\n",
       "      <td>239.554</td>\n",
       "      <td>...</td>\n",
       "      <td>0</td>\n",
       "      <td>Yes</td>\n",
       "      <td>No</td>\n",
       "      <td>0</td>\n",
       "      <td>89</td>\n",
       "      <td>170</td>\n",
       "      <td>31</td>\n",
       "      <td>2</td>\n",
       "      <td>No</td>\n",
       "      <td>obese</td>\n",
       "    </tr>\n",
       "    <tr>\n",
       "      <th>3</th>\n",
       "      <td>7</td>\n",
       "      <td>7</td>\n",
       "      <td>July</td>\n",
       "      <td>Thursday</td>\n",
       "      <td>Spring</td>\n",
       "      <td>279</td>\n",
       "      <td>5</td>\n",
       "      <td>14</td>\n",
       "      <td>39</td>\n",
       "      <td>239.554</td>\n",
       "      <td>...</td>\n",
       "      <td>2</td>\n",
       "      <td>Yes</td>\n",
       "      <td>Yes</td>\n",
       "      <td>0</td>\n",
       "      <td>68</td>\n",
       "      <td>168</td>\n",
       "      <td>24</td>\n",
       "      <td>4</td>\n",
       "      <td>Yes</td>\n",
       "      <td>healthy weight</td>\n",
       "    </tr>\n",
       "    <tr>\n",
       "      <th>4</th>\n",
       "      <td>11</td>\n",
       "      <td>23</td>\n",
       "      <td>July</td>\n",
       "      <td>Thursday</td>\n",
       "      <td>Spring</td>\n",
       "      <td>289</td>\n",
       "      <td>36</td>\n",
       "      <td>13</td>\n",
       "      <td>33</td>\n",
       "      <td>239.554</td>\n",
       "      <td>...</td>\n",
       "      <td>2</td>\n",
       "      <td>Yes</td>\n",
       "      <td>No</td>\n",
       "      <td>1</td>\n",
       "      <td>90</td>\n",
       "      <td>172</td>\n",
       "      <td>30</td>\n",
       "      <td>2</td>\n",
       "      <td>No</td>\n",
       "      <td>obese</td>\n",
       "    </tr>\n",
       "  </tbody>\n",
       "</table>\n",
       "<p>5 rows × 23 columns</p>\n",
       "</div>"
      ],
      "text/plain": [
       "   id  reason_for_absence month_of_absence day_of_the_week seasons  \\\n",
       "0  11                  26             July         Tuesday  Spring   \n",
       "1  36                   0             July         Tuesday  Spring   \n",
       "2   3                  23             July       Wednesday  Spring   \n",
       "3   7                   7             July        Thursday  Spring   \n",
       "4  11                  23             July        Thursday  Spring   \n",
       "\n",
       "   transportation_expense  distance_from_residence_to_work  service_time  age  \\\n",
       "0                     289                               36            13   33   \n",
       "1                     118                               13            18   50   \n",
       "2                     179                               51            18   38   \n",
       "3                     279                                5            14   39   \n",
       "4                     289                               36            13   33   \n",
       "\n",
       "   work_load_average/day  ...  son social_drinker social_smoker  pet weight  \\\n",
       "0                239.554  ...    2            Yes            No    1     90   \n",
       "1                239.554  ...    1            Yes            No    0     98   \n",
       "2                239.554  ...    0            Yes            No    0     89   \n",
       "3                239.554  ...    2            Yes           Yes    0     68   \n",
       "4                239.554  ...    2            Yes            No    1     90   \n",
       "\n",
       "  height  body_mass_index  absenteeism_time_in_hours  disease    bmi_category  \n",
       "0    172               30                          4       No           obese  \n",
       "1    178               31                          0       No           obese  \n",
       "2    170               31                          2       No           obese  \n",
       "3    168               24                          4      Yes  healthy weight  \n",
       "4    172               30                          2       No           obese  \n",
       "\n",
       "[5 rows x 23 columns]"
      ]
     },
     "execution_count": 68,
     "metadata": {},
     "output_type": "execute_result"
    }
   ],
   "source": [
    "preprocessed_df.head()"
   ]
  },
  {
   "cell_type": "code",
   "execution_count": 78,
   "id": "554a03fc",
   "metadata": {
    "ExecuteTime": {
     "end_time": "2021-09-03T01:24:22.320103Z",
     "start_time": "2021-09-03T01:24:20.113839Z"
    }
   },
   "outputs": [
    {
     "data": {
      "image/png": "[encoded data removed]",
      "text/plain": [
       "<Figure size 1080x432 with 1 Axes>"
      ]
     },
     "metadata": {
      "needs_background": "light"
     },
     "output_type": "display_data"
    },
    {
     "data": {
      "image/png": "[encoded data removed]",
      "text/plain": [
       "<Figure size 1080x432 with 1 Axes>"
      ]
     },
     "metadata": {
      "needs_background": "light"
     },
     "output_type": "display_data"
    }
   ],
   "source": [
    "plt.figure(figsize=(15, 6))\n",
    "\n",
    "sns.violinplot(data=preprocessed_df, x='month_of_absence', y='absenteeism_time_in_hours', order=month_name[1:13])\n",
    "plt.show()\n",
    "\n",
    "plt.figure(figsize=(15, 6))\n",
    "sns.violinplot(data=preprocessed_df, x='day_of_the_week', y='absenteeism_time_in_hours', order=day_name[:5])\n",
    "plt.show()"
   ]
  },
  {
   "cell_type": "code",
   "execution_count": 82,
   "id": "a4f128d3",
   "metadata": {
    "ExecuteTime": {
     "end_time": "2021-09-03T01:30:51.088370Z",
     "start_time": "2021-09-03T01:30:51.064724Z"
    }
   },
   "outputs": [
    {
     "data": {
      "text/html": [
       "<div>\n",
       "<style scoped>\n",
       "    .dataframe tbody tr th:only-of-type {\n",
       "        vertical-align: middle;\n",
       "    }\n",
       "\n",
       "    .dataframe tbody tr th {\n",
       "        vertical-align: top;\n",
       "    }\n",
       "\n",
       "    .dataframe thead th {\n",
       "        text-align: right;\n",
       "    }\n",
       "</style>\n",
       "<table border=\"1\" class=\"dataframe\">\n",
       "  <thead>\n",
       "    <tr style=\"text-align: right;\">\n",
       "      <th></th>\n",
       "      <th>mean</th>\n",
       "      <th>std</th>\n",
       "    </tr>\n",
       "    <tr>\n",
       "      <th>month_of_absence</th>\n",
       "      <th></th>\n",
       "      <th></th>\n",
       "    </tr>\n",
       "  </thead>\n",
       "  <tbody>\n",
       "    <tr>\n",
       "      <th>April</th>\n",
       "      <td>9.094340</td>\n",
       "      <td>18.023771</td>\n",
       "    </tr>\n",
       "    <tr>\n",
       "      <th>August</th>\n",
       "      <td>5.333333</td>\n",
       "      <td>5.749487</td>\n",
       "    </tr>\n",
       "    <tr>\n",
       "      <th>December</th>\n",
       "      <td>8.448980</td>\n",
       "      <td>16.049482</td>\n",
       "    </tr>\n",
       "    <tr>\n",
       "      <th>February</th>\n",
       "      <td>4.083333</td>\n",
       "      <td>3.710472</td>\n",
       "    </tr>\n",
       "    <tr>\n",
       "      <th>January</th>\n",
       "      <td>4.440000</td>\n",
       "      <td>5.785838</td>\n",
       "    </tr>\n",
       "    <tr>\n",
       "      <th>July</th>\n",
       "      <td>10.955224</td>\n",
       "      <td>21.546590</td>\n",
       "    </tr>\n",
       "    <tr>\n",
       "      <th>June</th>\n",
       "      <td>7.611111</td>\n",
       "      <td>12.358507</td>\n",
       "    </tr>\n",
       "    <tr>\n",
       "      <th>March</th>\n",
       "      <td>8.793103</td>\n",
       "      <td>16.893055</td>\n",
       "    </tr>\n",
       "    <tr>\n",
       "      <th>May</th>\n",
       "      <td>6.250000</td>\n",
       "      <td>10.314114</td>\n",
       "    </tr>\n",
       "    <tr>\n",
       "      <th>November</th>\n",
       "      <td>7.507937</td>\n",
       "      <td>16.121387</td>\n",
       "    </tr>\n",
       "    <tr>\n",
       "      <th>October</th>\n",
       "      <td>4.915493</td>\n",
       "      <td>8.054717</td>\n",
       "    </tr>\n",
       "    <tr>\n",
       "      <th>September</th>\n",
       "      <td>5.509434</td>\n",
       "      <td>8.407009</td>\n",
       "    </tr>\n",
       "  </tbody>\n",
       "</table>\n",
       "</div>"
      ],
      "text/plain": [
       "                       mean        std\n",
       "month_of_absence                      \n",
       "April              9.094340  18.023771\n",
       "August             5.333333   5.749487\n",
       "December           8.448980  16.049482\n",
       "February           4.083333   3.710472\n",
       "January            4.440000   5.785838\n",
       "July              10.955224  21.546590\n",
       "June               7.611111  12.358507\n",
       "March              8.793103  16.893055\n",
       "May                6.250000  10.314114\n",
       "November           7.507937  16.121387\n",
       "October            4.915493   8.054717\n",
       "September          5.509434   8.407009"
      ]
     },
     "execution_count": 82,
     "metadata": {},
     "output_type": "execute_result"
    }
   ],
   "source": [
    "preprocessed_df.groupby('month_of_absence')['absenteeism_time_in_hours'].agg(['mean', 'std'])"
   ]
  },
  {
   "cell_type": "code",
   "execution_count": 86,
   "id": "36e7f2ea",
   "metadata": {
    "ExecuteTime": {
     "end_time": "2021-09-03T01:36:22.065758Z",
     "start_time": "2021-09-03T01:36:22.049214Z"
    }
   },
   "outputs": [
    {
     "name": "stdout",
     "output_type": "stream",
     "text": [
      "Test statistic: 2.605\n",
      "p-value: 0.009\n"
     ]
    }
   ],
   "source": [
    "# maximum average hours in july and minimum hours in february\n",
    "# Hypothesis test\n",
    "\n",
    "july_data = preprocessed_df.absenteeism_time_in_hours[preprocessed_df.month_of_absence=='July']\n",
    "\n",
    "no_july_data = preprocessed_df.absenteeism_time_in_hours[~(preprocessed_df.month_of_absence=='July')]\n",
    "\n",
    "res = stats.ttest_ind(july_data, no_july_data)\n",
    "\n",
    "print(f\"Test statistic: {res[0]:.3f}\\np-value: {res[1]:.3f}\")"
   ]
  },
  {
   "cell_type": "code",
   "execution_count": 80,
   "id": "ccb85c42",
   "metadata": {
    "ExecuteTime": {
     "end_time": "2021-09-03T01:28:05.957896Z",
     "start_time": "2021-09-03T01:28:05.930732Z"
    }
   },
   "outputs": [
    {
     "data": {
      "text/html": [
       "<div>\n",
       "<style scoped>\n",
       "    .dataframe tbody tr th:only-of-type {\n",
       "        vertical-align: middle;\n",
       "    }\n",
       "\n",
       "    .dataframe tbody tr th {\n",
       "        vertical-align: top;\n",
       "    }\n",
       "\n",
       "    .dataframe thead th {\n",
       "        text-align: right;\n",
       "    }\n",
       "</style>\n",
       "<table border=\"1\" class=\"dataframe\">\n",
       "  <thead>\n",
       "    <tr style=\"text-align: right;\">\n",
       "      <th></th>\n",
       "      <th>mean</th>\n",
       "      <th>std</th>\n",
       "    </tr>\n",
       "    <tr>\n",
       "      <th>day_of_the_week</th>\n",
       "      <th></th>\n",
       "      <th></th>\n",
       "    </tr>\n",
       "  </thead>\n",
       "  <tbody>\n",
       "    <tr>\n",
       "      <th>Friday</th>\n",
       "      <td>5.125000</td>\n",
       "      <td>7.911110</td>\n",
       "    </tr>\n",
       "    <tr>\n",
       "      <th>Monday</th>\n",
       "      <td>9.248447</td>\n",
       "      <td>15.972645</td>\n",
       "    </tr>\n",
       "    <tr>\n",
       "      <th>Thursday</th>\n",
       "      <td>4.424000</td>\n",
       "      <td>4.265889</td>\n",
       "    </tr>\n",
       "    <tr>\n",
       "      <th>Tuesday</th>\n",
       "      <td>7.980519</td>\n",
       "      <td>18.027383</td>\n",
       "    </tr>\n",
       "    <tr>\n",
       "      <th>Wednesday</th>\n",
       "      <td>7.147436</td>\n",
       "      <td>13.267863</td>\n",
       "    </tr>\n",
       "  </tbody>\n",
       "</table>\n",
       "</div>"
      ],
      "text/plain": [
       "                     mean        std\n",
       "day_of_the_week                     \n",
       "Friday           5.125000   7.911110\n",
       "Monday           9.248447  15.972645\n",
       "Thursday         4.424000   4.265889\n",
       "Tuesday          7.980519  18.027383\n",
       "Wednesday        7.147436  13.267863"
      ]
     },
     "execution_count": 80,
     "metadata": {},
     "output_type": "execute_result"
    }
   ],
   "source": [
    "preprocessed_df.groupby('day_of_the_week')['absenteeism_time_in_hours'].agg(['mean', 'std'])"
   ]
  },
  {
   "cell_type": "code",
   "execution_count": 87,
   "id": "56810eeb",
   "metadata": {
    "ExecuteTime": {
     "end_time": "2021-09-03T01:38:32.406815Z",
     "start_time": "2021-09-03T01:38:32.382837Z"
    }
   },
   "outputs": [
    {
     "name": "stdout",
     "output_type": "stream",
     "text": [
      "Test statistic: -2.307\n",
      "p-value: 0.021\n"
     ]
    }
   ],
   "source": [
    "# maximum average hours on monday and minimum hours on thursday\n",
    "# Hypothesis test\n",
    "\n",
    "thursday_data = preprocessed_df.absenteeism_time_in_hours[preprocessed_df.day_of_the_week=='Thursday']\n",
    "\n",
    "no_thursday_data = preprocessed_df.absenteeism_time_in_hours[~(preprocessed_df.day_of_the_week=='Thursday')]\n",
    "\n",
    "res1 = stats.ttest_ind(thursday_data, no_thursday_data)\n",
    "\n",
    "print(f\"Test statistic: {res1[0]:.3f}\\np-value: {res1[1]:.3f}\")"
   ]
  },
  {
   "cell_type": "code",
   "execution_count": null,
   "id": "55b78d19",
   "metadata": {},
   "outputs": [],
   "source": []
  },
  {
   "cell_type": "code",
   "execution_count": null,
   "id": "f61b2a03",
   "metadata": {},
   "outputs": [],
   "source": []
  },
  {
   "cell_type": "code",
   "execution_count": null,
   "id": "0e4fd533",
   "metadata": {},
   "outputs": [],
   "source": []
  }
 ],
 "metadata": {
  "kernelspec": {
   "display_name": "Python 3",
   "language": "python",
   "name": "python3"
  },
  "language_info": {
   "codemirror_mode": {
    "name": "ipython",
    "version": 3
   },
   "file_extension": ".py",
   "mimetype": "text/x-python",
   "name": "python",
   "nbconvert_exporter": "python",
   "pygments_lexer": "ipython3",
   "version": "3.8.8"
  },
  "toc": {
   "base_numbering": 1,
   "nav_menu": {},
   "number_sections": true,
   "sideBar": true,
   "skip_h1_title": false,
   "title_cell": "Table of Contents",
   "title_sidebar": "Contents",
   "toc_cell": false,
   "toc_position": {},
   "toc_section_display": true,
   "toc_window_display": false
  },
  "varInspector": {
   "cols": {
    "lenName": 16,
    "lenType": 16,
    "lenVar": 40
   },
   "kernels_config": {
    "python": {
     "delete_cmd_postfix": "",
     "delete_cmd_prefix": "del ",
     "library": "var_list.py",
     "varRefreshCmd": "print(var_dic_list())"
    },
    "r": {
     "delete_cmd_postfix": ") ",
     "delete_cmd_prefix": "rm(",
     "library": "var_list.r",
     "varRefreshCmd": "cat(var_dic_list()) "
    }
   },
   "types_to_exclude": [
    "module",
    "function",
    "builtin_function_or_method",
    "instance",
    "_Feature"
   ],
   "window_display": false
  }
 },
 "nbformat": 4,
 "nbformat_minor": 5
}
