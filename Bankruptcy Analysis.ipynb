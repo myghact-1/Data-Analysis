{
 "cells": [
  {
   "cell_type": "code",
   "execution_count": 1,
   "id": "f965f8de",
   "metadata": {
    "ExecuteTime": {
     "end_time": "2021-09-03T04:47:18.201226Z",
     "start_time": "2021-09-03T04:47:06.104279Z"
    }
   },
   "outputs": [],
   "source": [
    "import numpy as np\n",
    "import pandas as pd\n",
    "import matplotlib.pyplot as plt\n",
    "import seaborn as sns\n",
    "\n",
    "from scipy import stats\n",
    "from scipy.io import arff\n",
    "\n",
    "from pandas_profiling import profile_report, ProfileReport\n",
    "\n",
    "import warnings\n",
    "warnings.filterwarnings('ignore')"
   ]
  },
  {
   "cell_type": "code",
   "execution_count": 2,
   "id": "4fd77738",
   "metadata": {
    "ExecuteTime": {
     "end_time": "2021-09-03T04:47:31.747456Z",
     "start_time": "2021-09-03T04:47:28.871035Z"
    },
    "scrolled": true
   },
   "outputs": [],
   "source": [
    "dataframes = []\n",
    "\n",
    "for i in range(1,6):\n",
    "    data = arff.loadarff(f\"data/{i}year.arff\")\n",
    "    \n",
    "    dataframes.append(pd.DataFrame(data[0]))"
   ]
  },
  {
   "cell_type": "code",
   "execution_count": 3,
   "id": "4bc870f1",
   "metadata": {
    "ExecuteTime": {
     "end_time": "2021-09-03T04:47:32.848769Z",
     "start_time": "2021-09-03T04:47:32.830252Z"
    }
   },
   "outputs": [
    {
     "data": {
      "text/plain": [
       "5"
      ]
     },
     "execution_count": 3,
     "metadata": {},
     "output_type": "execute_result"
    }
   ],
   "source": [
    "len(dataframes)"
   ]
  },
  {
   "cell_type": "code",
   "execution_count": 4,
   "id": "6122e485",
   "metadata": {
    "ExecuteTime": {
     "end_time": "2021-09-03T04:47:34.523854Z",
     "start_time": "2021-09-03T04:47:34.487419Z"
    }
   },
   "outputs": [
    {
     "name": "stdout",
     "output_type": "stream",
     "text": [
      "Dataframe 1 shape = (7027, 65)\n",
      "Total Null values = 5835\n",
      "\n",
      "Dataframe 2 shape = (10173, 65)\n",
      "Total Null values = 12157\n",
      "\n",
      "Dataframe 3 shape = (10503, 65)\n",
      "Total Null values = 9888\n",
      "\n",
      "Dataframe 4 shape = (9792, 65)\n",
      "Total Null values = 8776\n",
      "\n",
      "Dataframe 5 shape = (5910, 65)\n",
      "Total Null values = 4666\n",
      "\n"
     ]
    }
   ],
   "source": [
    "for i in range(len(dataframes)):\n",
    "    \n",
    "    print(f\"Dataframe {i+1} shape = {dataframes[i].shape}\")\n",
    "    print(\"Total Null values =\", dataframes[i].isna().sum().sum())\n",
    "    print()"
   ]
  },
  {
   "cell_type": "markdown",
   "id": "eae4c54d",
   "metadata": {},
   "source": [
    "## First Dataframe"
   ]
  },
  {
   "cell_type": "code",
   "execution_count": 5,
   "id": "fec825e7",
   "metadata": {
    "ExecuteTime": {
     "end_time": "2021-09-03T04:47:39.450326Z",
     "start_time": "2021-09-03T04:47:39.391651Z"
    },
    "scrolled": true
   },
   "outputs": [
    {
     "name": "stdout",
     "output_type": "stream",
     "text": [
      "<class 'pandas.core.frame.DataFrame'>\n",
      "RangeIndex: 7027 entries, 0 to 7026\n",
      "Data columns (total 65 columns):\n",
      " #   Column  Non-Null Count  Dtype  \n",
      "---  ------  --------------  -----  \n",
      " 0   Attr1   7024 non-null   float64\n",
      " 1   Attr2   7024 non-null   float64\n",
      " 2   Attr3   7024 non-null   float64\n",
      " 3   Attr4   6997 non-null   float64\n",
      " 4   Attr5   7019 non-null   float64\n",
      " 5   Attr6   7024 non-null   float64\n",
      " 6   Attr7   7024 non-null   float64\n",
      " 7   Attr8   7002 non-null   float64\n",
      " 8   Attr9   7026 non-null   float64\n",
      " 9   Attr10  7024 non-null   float64\n",
      " 10  Attr11  6988 non-null   float64\n",
      " 11  Attr12  6997 non-null   float64\n",
      " 12  Attr13  7027 non-null   float64\n",
      " 13  Attr14  7024 non-null   float64\n",
      " 14  Attr15  7025 non-null   float64\n",
      " 15  Attr16  7002 non-null   float64\n",
      " 16  Attr17  7002 non-null   float64\n",
      " 17  Attr18  7024 non-null   float64\n",
      " 18  Attr19  7027 non-null   float64\n",
      " 19  Attr20  7027 non-null   float64\n",
      " 20  Attr21  5405 non-null   float64\n",
      " 21  Attr22  7024 non-null   float64\n",
      " 22  Attr23  7027 non-null   float64\n",
      " 23  Attr24  6903 non-null   float64\n",
      " 24  Attr25  7024 non-null   float64\n",
      " 25  Attr26  7002 non-null   float64\n",
      " 26  Attr27  6716 non-null   float64\n",
      " 27  Attr28  6993 non-null   float64\n",
      " 28  Attr29  7024 non-null   float64\n",
      " 29  Attr30  7027 non-null   float64\n",
      " 30  Attr31  7027 non-null   float64\n",
      " 31  Attr32  6989 non-null   float64\n",
      " 32  Attr33  6997 non-null   float64\n",
      " 33  Attr34  7002 non-null   float64\n",
      " 34  Attr35  7024 non-null   float64\n",
      " 35  Attr36  7024 non-null   float64\n",
      " 36  Attr37  4287 non-null   float64\n",
      " 37  Attr38  7024 non-null   float64\n",
      " 38  Attr39  7027 non-null   float64\n",
      " 39  Attr40  6997 non-null   float64\n",
      " 40  Attr41  6943 non-null   float64\n",
      " 41  Attr42  7027 non-null   float64\n",
      " 42  Attr43  7027 non-null   float64\n",
      " 43  Attr44  7027 non-null   float64\n",
      " 44  Attr45  6893 non-null   float64\n",
      " 45  Attr46  6996 non-null   float64\n",
      " 46  Attr47  6998 non-null   float64\n",
      " 47  Attr48  7024 non-null   float64\n",
      " 48  Attr49  7027 non-null   float64\n",
      " 49  Attr50  7002 non-null   float64\n",
      " 50  Attr51  7024 non-null   float64\n",
      " 51  Attr52  6998 non-null   float64\n",
      " 52  Attr53  6993 non-null   float64\n",
      " 53  Attr54  6993 non-null   float64\n",
      " 54  Attr55  7027 non-null   float64\n",
      " 55  Attr56  7027 non-null   float64\n",
      " 56  Attr57  7026 non-null   float64\n",
      " 57  Attr58  7027 non-null   float64\n",
      " 58  Attr59  7026 non-null   float64\n",
      " 59  Attr60  6892 non-null   float64\n",
      " 60  Attr61  7005 non-null   float64\n",
      " 61  Attr62  7027 non-null   float64\n",
      " 62  Attr63  6997 non-null   float64\n",
      " 63  Attr64  6993 non-null   float64\n",
      " 64  class   7027 non-null   object \n",
      "dtypes: float64(64), object(1)\n",
      "memory usage: 3.5+ MB\n"
     ]
    }
   ],
   "source": [
    "dataframes[0].info()"
   ]
  },
  {
   "cell_type": "code",
   "execution_count": 6,
   "id": "0d5ee61d",
   "metadata": {
    "ExecuteTime": {
     "end_time": "2021-09-03T04:47:46.789151Z",
     "start_time": "2021-09-03T04:47:46.759506Z"
    }
   },
   "outputs": [],
   "source": [
    "profile_one = ProfileReport(df=dataframes[0], explorative=True, title='Report of first year')"
   ]
  },
  {
   "cell_type": "code",
   "execution_count": 8,
   "id": "23be03fd",
   "metadata": {
    "ExecuteTime": {
     "end_time": "2021-09-03T05:09:41.688813Z",
     "start_time": "2021-09-03T04:50:24.489475Z"
    }
   },
   "outputs": [
    {
     "data": {
      "application/vnd.jupyter.widget-view+json": {
       "model_id": "f4ebd1a8ccfb4727abdb81645dc82c88",
       "version_major": 2,
       "version_minor": 0
      },
      "text/plain": [
       "Summarize dataset:   0%|          | 0/78 [00:00<?, ?it/s]"
      ]
     },
     "metadata": {},
     "output_type": "display_data"
    },
    {
     "data": {
      "application/vnd.jupyter.widget-view+json": {
       "model_id": "8d1bdec2e65d41049fa2234708e73ecc",
       "version_major": 2,
       "version_minor": 0
      },
      "text/plain": [
       "Generate report structure:   0%|          | 0/1 [00:00<?, ?it/s]"
      ]
     },
     "metadata": {},
     "output_type": "display_data"
    },
    {
     "data": {
      "application/vnd.jupyter.widget-view+json": {
       "model_id": "c8d2d95393374e588f76af51869bdc79",
       "version_major": 2,
       "version_minor": 0
      },
      "text/plain": [
       "Render HTML:   0%|          | 0/1 [00:00<?, ?it/s]"
      ]
     },
     "metadata": {},
     "output_type": "display_data"
    },
    {
     "data": {
      "application/vnd.jupyter.widget-view+json": {
       "model_id": "0ec7bd3d7ed146da85c3015889ac93e2",
       "version_major": 2,
       "version_minor": 0
      },
      "text/plain": [
       "Export report to file:   0%|          | 0/1 [00:00<?, ?it/s]"
      ]
     },
     "metadata": {},
     "output_type": "display_data"
    },
    {
     "data": {
      "image/png": "[encoded data removed]",
      "text/plain": [
       "<Figure size 720x360 with 3 Axes>"
      ]
     },
     "metadata": {},
     "output_type": "display_data"
    }
   ],
   "source": [
    "profile_one.to_file(\"1year_report.html\")"
   ]
  },
  {
   "cell_type": "code",
   "execution_count": null,
   "id": "99a510c9",
   "metadata": {},
   "outputs": [],
   "source": []
  },
  {
   "cell_type": "code",
   "execution_count": null,
   "id": "3ae46083",
   "metadata": {},
   "outputs": [],
   "source": []
  },
  {
   "cell_type": "markdown",
   "id": "f8fe0f7a",
   "metadata": {},
   "source": [
    "## Second Dataframe"
   ]
  },
  {
   "cell_type": "code",
   "execution_count": null,
   "id": "b85d1ad8",
   "metadata": {
    "ExecuteTime": {
     "start_time": "2021-09-03T05:11:35.286Z"
    }
   },
   "outputs": [
    {
     "data": {
      "application/vnd.jupyter.widget-view+json": {
       "model_id": "5b623b59b09046f78e690c58fa88e27d",
       "version_major": 2,
       "version_minor": 0
      },
      "text/plain": [
       "Summarize dataset:   0%|          | 0/78 [00:00<?, ?it/s]"
      ]
     },
     "metadata": {},
     "output_type": "display_data"
    },
    {
     "data": {
      "application/vnd.jupyter.widget-view+json": {
       "model_id": "f432c2b213144679b86d4ad43f0a71aa",
       "version_major": 2,
       "version_minor": 0
      },
      "text/plain": [
       "Generate report structure:   0%|          | 0/1 [00:00<?, ?it/s]"
      ]
     },
     "metadata": {},
     "output_type": "display_data"
    },
    {
     "data": {
      "application/vnd.jupyter.widget-view+json": {
       "model_id": "0f37852639584ba1ab01eb3923f8f4f4",
       "version_major": 2,
       "version_minor": 0
      },
      "text/plain": [
       "Render HTML:   0%|          | 0/1 [00:00<?, ?it/s]"
      ]
     },
     "metadata": {},
     "output_type": "display_data"
    },
    {
     "data": {
      "application/vnd.jupyter.widget-view+json": {
       "model_id": "6c7bfebb06b541b9b8b2575c665f2491",
       "version_major": 2,
       "version_minor": 0
      },
      "text/plain": [
       "Export report to file:   0%|          | 0/1 [00:00<?, ?it/s]"
      ]
     },
     "metadata": {},
     "output_type": "display_data"
    },
    {
     "data": {
      "application/vnd.jupyter.widget-view+json": {
       "model_id": "4c49a56287d14cc897c47cf8e5e8cf5d",
       "version_major": 2,
       "version_minor": 0
      },
      "text/plain": [
       "Summarize dataset:   0%|          | 0/78 [00:00<?, ?it/s]"
      ]
     },
     "metadata": {},
     "output_type": "display_data"
    }
   ],
   "source": [
    "profile_two = ProfileReport(df=dataframes[1],  title='Report of Second year')\n",
    "profile_three = ProfileReport(df=dataframes[2],  title='Report of third year')\n",
    "profile_four = ProfileReport(df=dataframes[3],  title='Report of forth year')\n",
    "profile_five = ProfileReport(df=dataframes[4], title='Report of fifth year')\n",
    "\n",
    "\n",
    "profile_two.to_file(\"2year_report.html\")\n",
    "profile_three.to_file(\"3year_report.html\")\n",
    "profile_four.to_file(\"4year_report.html\")\n",
    "profile_five.to_file(\"5year_report.html\")"
   ]
  },
  {
   "cell_type": "code",
   "execution_count": null,
   "id": "e4470314",
   "metadata": {},
   "outputs": [],
   "source": []
  },
  {
   "cell_type": "markdown",
   "id": "eeb8e55e",
   "metadata": {},
   "source": [
    "## Missing Value Analysis"
   ]
  },
  {
   "cell_type": "code",
   "execution_count": null,
   "id": "ce93d1a6",
   "metadata": {},
   "outputs": [],
   "source": []
  },
  {
   "cell_type": "code",
   "execution_count": null,
   "id": "035c9d71",
   "metadata": {},
   "outputs": [],
   "source": []
  },
  {
   "cell_type": "code",
   "execution_count": null,
   "id": "368afeae",
   "metadata": {},
   "outputs": [],
   "source": []
  },
  {
   "cell_type": "code",
   "execution_count": null,
   "id": "3709018a",
   "metadata": {},
   "outputs": [],
   "source": []
  },
  {
   "cell_type": "code",
   "execution_count": null,
   "id": "c312cc29",
   "metadata": {},
   "outputs": [],
   "source": []
  },
  {
   "cell_type": "code",
   "execution_count": null,
   "id": "42c9b1b5",
   "metadata": {},
   "outputs": [],
   "source": []
  },
  {
   "cell_type": "code",
   "execution_count": null,
   "id": "af96eca4",
   "metadata": {},
   "outputs": [],
   "source": []
  },
  {
   "cell_type": "code",
   "execution_count": null,
   "id": "01d772aa",
   "metadata": {},
   "outputs": [],
   "source": []
  },
  {
   "cell_type": "code",
   "execution_count": null,
   "id": "7380c531",
   "metadata": {},
   "outputs": [],
   "source": []
  },
  {
   "cell_type": "code",
   "execution_count": null,
   "id": "c39c5fad",
   "metadata": {},
   "outputs": [],
   "source": []
  },
  {
   "cell_type": "code",
   "execution_count": null,
   "id": "32e73a67",
   "metadata": {},
   "outputs": [],
   "source": []
  }
 ],
 "metadata": {
  "kernelspec": {
   "display_name": "Python 3",
   "language": "python",
   "name": "python3"
  },
  "language_info": {
   "codemirror_mode": {
    "name": "ipython",
    "version": 3
   },
   "file_extension": ".py",
   "mimetype": "text/x-python",
   "name": "python",
   "nbconvert_exporter": "python",
   "pygments_lexer": "ipython3",
   "version": "3.8.8"
  },
  "toc": {
   "base_numbering": 1,
   "nav_menu": {},
   "number_sections": true,
   "sideBar": true,
   "skip_h1_title": false,
   "title_cell": "Table of Contents",
   "title_sidebar": "Contents",
   "toc_cell": false,
   "toc_position": {},
   "toc_section_display": true,
   "toc_window_display": false
  },
  "varInspector": {
   "cols": {
    "lenName": 16,
    "lenType": 16,
    "lenVar": 40
   },
   "kernels_config": {
    "python": {
     "delete_cmd_postfix": "",
     "delete_cmd_prefix": "del ",
     "library": "var_list.py",
     "varRefreshCmd": "print(var_dic_list())"
    },
    "r": {
     "delete_cmd_postfix": ") ",
     "delete_cmd_prefix": "rm(",
     "library": "var_list.r",
     "varRefreshCmd": "cat(var_dic_list()) "
    }
   },
   "types_to_exclude": [
    "module",
    "function",
    "builtin_function_or_method",
    "instance",
    "_Feature"
   ],
   "window_display": false
  }
 },
 "nbformat": 4,
 "nbformat_minor": 5
}
