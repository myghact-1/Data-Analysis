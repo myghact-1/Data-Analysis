{
 "cells": [
  {
   "cell_type": "markdown",
   "id": "21284c0c",
   "metadata": {
    "toc": true
   },
   "source": [
    "<h1>Table of Contents<span class=\"tocSkip\"></span></h1>\n",
    "<div class=\"toc\"><ul class=\"toc-item\"><li><span><a href=\"#Data-Loading-and-Preprocesssing\" data-toc-modified-id=\"Data-Loading-and-Preprocesssing-1\"><span class=\"toc-item-num\">1&nbsp;&nbsp;</span>Data Loading and Preprocesssing</a></span></li><li><span><a href=\"#EDA\" data-toc-modified-id=\"EDA-2\"><span class=\"toc-item-num\">2&nbsp;&nbsp;</span>EDA</a></span><ul class=\"toc-item\"><li><span><a href=\"#Univariate-Analysis\" data-toc-modified-id=\"Univariate-Analysis-2.1\"><span class=\"toc-item-num\">2.1&nbsp;&nbsp;</span>Univariate Analysis</a></span></li><li><span><a href=\"#Bivariate-Analysis\" data-toc-modified-id=\"Bivariate-Analysis-2.2\"><span class=\"toc-item-num\">2.2&nbsp;&nbsp;</span>Bivariate Analysis</a></span></li><li><span><a href=\"#Correlation\" data-toc-modified-id=\"Correlation-2.3\"><span class=\"toc-item-num\">2.3&nbsp;&nbsp;</span>Correlation</a></span></li><li><span><a href=\"#Building-a-Profile-of-a-High-Risk-Customer\" data-toc-modified-id=\"Building-a-Profile-of-a-High-Risk-Customer-2.4\"><span class=\"toc-item-num\">2.4&nbsp;&nbsp;</span>Building a Profile of a High-Risk Customer</a></span></li><li><span><a href=\"#Sources\" data-toc-modified-id=\"Sources-2.5\"><span class=\"toc-item-num\">2.5&nbsp;&nbsp;</span>Sources</a></span></li></ul></li></ul></div>"
   ]
  },
  {
   "cell_type": "code",
   "execution_count": 76,
   "id": "2e74e421",
   "metadata": {
    "ExecuteTime": {
     "end_time": "2021-10-20T03:19:30.247797Z",
     "start_time": "2021-10-20T03:19:30.235639Z"
    }
   },
   "outputs": [],
   "source": [
    "import numpy as np\n",
    "import pandas as pd\n",
    "import matplotlib.pyplot as plt\n",
    "import seaborn as sns\n",
    "\n",
    "plt.rcParams['figure.figsize'] = [15, 8]\n",
    "\n",
    "from scipy import stats\n",
    "\n",
    "import warnings\n",
    "warnings.filterwarnings('ignore')"
   ]
  },
  {
   "cell_type": "markdown",
   "id": "cf69f48b",
   "metadata": {
    "heading_collapsed": true
   },
   "source": [
    "# Data Loading and Preprocesssing"
   ]
  },
  {
   "cell_type": "code",
   "execution_count": 2,
   "id": "c53de24e",
   "metadata": {
    "ExecuteTime": {
     "end_time": "2021-10-20T01:54:10.528387Z",
     "start_time": "2021-10-20T01:54:05.622060Z"
    },
    "hidden": true
   },
   "outputs": [
    {
     "data": {
      "text/html": [
       "<div>\n",
       "<style scoped>\n",
       "    .dataframe tbody tr th:only-of-type {\n",
       "        vertical-align: middle;\n",
       "    }\n",
       "\n",
       "    .dataframe tbody tr th {\n",
       "        vertical-align: top;\n",
       "    }\n",
       "\n",
       "    .dataframe thead th {\n",
       "        text-align: right;\n",
       "    }\n",
       "</style>\n",
       "<table border=\"1\" class=\"dataframe\">\n",
       "  <thead>\n",
       "    <tr style=\"text-align: right;\">\n",
       "      <th></th>\n",
       "      <th>ID</th>\n",
       "      <th>LIMIT_BAL</th>\n",
       "      <th>SEX</th>\n",
       "      <th>EDUCATION</th>\n",
       "      <th>MARRIAGE</th>\n",
       "      <th>AGE</th>\n",
       "      <th>PAY_0</th>\n",
       "      <th>PAY_2</th>\n",
       "      <th>PAY_3</th>\n",
       "      <th>PAY_4</th>\n",
       "      <th>...</th>\n",
       "      <th>BILL_AMT4</th>\n",
       "      <th>BILL_AMT5</th>\n",
       "      <th>BILL_AMT6</th>\n",
       "      <th>PAY_AMT1</th>\n",
       "      <th>PAY_AMT2</th>\n",
       "      <th>PAY_AMT3</th>\n",
       "      <th>PAY_AMT4</th>\n",
       "      <th>PAY_AMT5</th>\n",
       "      <th>PAY_AMT6</th>\n",
       "      <th>default payment next month</th>\n",
       "    </tr>\n",
       "  </thead>\n",
       "  <tbody>\n",
       "    <tr>\n",
       "      <th>0</th>\n",
       "      <td>1</td>\n",
       "      <td>20000</td>\n",
       "      <td>2</td>\n",
       "      <td>2</td>\n",
       "      <td>1</td>\n",
       "      <td>24</td>\n",
       "      <td>2</td>\n",
       "      <td>2</td>\n",
       "      <td>-1</td>\n",
       "      <td>-1</td>\n",
       "      <td>...</td>\n",
       "      <td>0</td>\n",
       "      <td>0</td>\n",
       "      <td>0</td>\n",
       "      <td>0</td>\n",
       "      <td>689</td>\n",
       "      <td>0</td>\n",
       "      <td>0</td>\n",
       "      <td>0</td>\n",
       "      <td>0</td>\n",
       "      <td>1</td>\n",
       "    </tr>\n",
       "    <tr>\n",
       "      <th>1</th>\n",
       "      <td>2</td>\n",
       "      <td>120000</td>\n",
       "      <td>2</td>\n",
       "      <td>2</td>\n",
       "      <td>2</td>\n",
       "      <td>26</td>\n",
       "      <td>-1</td>\n",
       "      <td>2</td>\n",
       "      <td>0</td>\n",
       "      <td>0</td>\n",
       "      <td>...</td>\n",
       "      <td>3272</td>\n",
       "      <td>3455</td>\n",
       "      <td>3261</td>\n",
       "      <td>0</td>\n",
       "      <td>1000</td>\n",
       "      <td>1000</td>\n",
       "      <td>1000</td>\n",
       "      <td>0</td>\n",
       "      <td>2000</td>\n",
       "      <td>1</td>\n",
       "    </tr>\n",
       "    <tr>\n",
       "      <th>2</th>\n",
       "      <td>3</td>\n",
       "      <td>90000</td>\n",
       "      <td>2</td>\n",
       "      <td>2</td>\n",
       "      <td>2</td>\n",
       "      <td>34</td>\n",
       "      <td>0</td>\n",
       "      <td>0</td>\n",
       "      <td>0</td>\n",
       "      <td>0</td>\n",
       "      <td>...</td>\n",
       "      <td>14331</td>\n",
       "      <td>14948</td>\n",
       "      <td>15549</td>\n",
       "      <td>1518</td>\n",
       "      <td>1500</td>\n",
       "      <td>1000</td>\n",
       "      <td>1000</td>\n",
       "      <td>1000</td>\n",
       "      <td>5000</td>\n",
       "      <td>0</td>\n",
       "    </tr>\n",
       "    <tr>\n",
       "      <th>3</th>\n",
       "      <td>4</td>\n",
       "      <td>50000</td>\n",
       "      <td>2</td>\n",
       "      <td>2</td>\n",
       "      <td>1</td>\n",
       "      <td>37</td>\n",
       "      <td>0</td>\n",
       "      <td>0</td>\n",
       "      <td>0</td>\n",
       "      <td>0</td>\n",
       "      <td>...</td>\n",
       "      <td>28314</td>\n",
       "      <td>28959</td>\n",
       "      <td>29547</td>\n",
       "      <td>2000</td>\n",
       "      <td>2019</td>\n",
       "      <td>1200</td>\n",
       "      <td>1100</td>\n",
       "      <td>1069</td>\n",
       "      <td>1000</td>\n",
       "      <td>0</td>\n",
       "    </tr>\n",
       "    <tr>\n",
       "      <th>4</th>\n",
       "      <td>5</td>\n",
       "      <td>50000</td>\n",
       "      <td>1</td>\n",
       "      <td>2</td>\n",
       "      <td>1</td>\n",
       "      <td>57</td>\n",
       "      <td>-1</td>\n",
       "      <td>0</td>\n",
       "      <td>-1</td>\n",
       "      <td>0</td>\n",
       "      <td>...</td>\n",
       "      <td>20940</td>\n",
       "      <td>19146</td>\n",
       "      <td>19131</td>\n",
       "      <td>2000</td>\n",
       "      <td>36681</td>\n",
       "      <td>10000</td>\n",
       "      <td>9000</td>\n",
       "      <td>689</td>\n",
       "      <td>679</td>\n",
       "      <td>0</td>\n",
       "    </tr>\n",
       "  </tbody>\n",
       "</table>\n",
       "<p>5 rows × 25 columns</p>\n",
       "</div>"
      ],
      "text/plain": [
       "   ID  LIMIT_BAL  SEX  EDUCATION  MARRIAGE  AGE  PAY_0  PAY_2  PAY_3  PAY_4  \\\n",
       "0   1      20000    2          2         1   24      2      2     -1     -1   \n",
       "1   2     120000    2          2         2   26     -1      2      0      0   \n",
       "2   3      90000    2          2         2   34      0      0      0      0   \n",
       "3   4      50000    2          2         1   37      0      0      0      0   \n",
       "4   5      50000    1          2         1   57     -1      0     -1      0   \n",
       "\n",
       "   ...  BILL_AMT4  BILL_AMT5  BILL_AMT6  PAY_AMT1  PAY_AMT2  PAY_AMT3  \\\n",
       "0  ...          0          0          0         0       689         0   \n",
       "1  ...       3272       3455       3261         0      1000      1000   \n",
       "2  ...      14331      14948      15549      1518      1500      1000   \n",
       "3  ...      28314      28959      29547      2000      2019      1200   \n",
       "4  ...      20940      19146      19131      2000     36681     10000   \n",
       "\n",
       "   PAY_AMT4  PAY_AMT5  PAY_AMT6  default payment next month  \n",
       "0         0         0         0                           1  \n",
       "1      1000         0      2000                           1  \n",
       "2      1000      1000      5000                           0  \n",
       "3      1100      1069      1000                           0  \n",
       "4      9000       689       679                           0  \n",
       "\n",
       "[5 rows x 25 columns]"
      ]
     },
     "execution_count": 2,
     "metadata": {},
     "output_type": "execute_result"
    }
   ],
   "source": [
    "df = pd.read_excel(\"default_credit.xls\")\n",
    "df.head()"
   ]
  },
  {
   "cell_type": "code",
   "execution_count": 3,
   "id": "ccb4bc61",
   "metadata": {
    "ExecuteTime": {
     "end_time": "2021-10-20T01:54:11.295796Z",
     "start_time": "2021-10-20T01:54:11.281935Z"
    },
    "hidden": true
   },
   "outputs": [
    {
     "data": {
      "text/plain": [
       "(30000, 25)"
      ]
     },
     "execution_count": 3,
     "metadata": {},
     "output_type": "execute_result"
    }
   ],
   "source": [
    "df.shape"
   ]
  },
  {
   "cell_type": "code",
   "execution_count": 4,
   "id": "dbc3ce5f",
   "metadata": {
    "ExecuteTime": {
     "end_time": "2021-10-20T01:54:12.110897Z",
     "start_time": "2021-10-20T01:54:12.082077Z"
    },
    "hidden": true
   },
   "outputs": [
    {
     "name": "stdout",
     "output_type": "stream",
     "text": [
      "<class 'pandas.core.frame.DataFrame'>\n",
      "RangeIndex: 30000 entries, 0 to 29999\n",
      "Data columns (total 25 columns):\n",
      " #   Column                      Non-Null Count  Dtype\n",
      "---  ------                      --------------  -----\n",
      " 0   ID                          30000 non-null  int64\n",
      " 1   LIMIT_BAL                   30000 non-null  int64\n",
      " 2   SEX                         30000 non-null  int64\n",
      " 3   EDUCATION                   30000 non-null  int64\n",
      " 4   MARRIAGE                    30000 non-null  int64\n",
      " 5   AGE                         30000 non-null  int64\n",
      " 6   PAY_0                       30000 non-null  int64\n",
      " 7   PAY_2                       30000 non-null  int64\n",
      " 8   PAY_3                       30000 non-null  int64\n",
      " 9   PAY_4                       30000 non-null  int64\n",
      " 10  PAY_5                       30000 non-null  int64\n",
      " 11  PAY_6                       30000 non-null  int64\n",
      " 12  BILL_AMT1                   30000 non-null  int64\n",
      " 13  BILL_AMT2                   30000 non-null  int64\n",
      " 14  BILL_AMT3                   30000 non-null  int64\n",
      " 15  BILL_AMT4                   30000 non-null  int64\n",
      " 16  BILL_AMT5                   30000 non-null  int64\n",
      " 17  BILL_AMT6                   30000 non-null  int64\n",
      " 18  PAY_AMT1                    30000 non-null  int64\n",
      " 19  PAY_AMT2                    30000 non-null  int64\n",
      " 20  PAY_AMT3                    30000 non-null  int64\n",
      " 21  PAY_AMT4                    30000 non-null  int64\n",
      " 22  PAY_AMT5                    30000 non-null  int64\n",
      " 23  PAY_AMT6                    30000 non-null  int64\n",
      " 24  default payment next month  30000 non-null  int64\n",
      "dtypes: int64(25)\n",
      "memory usage: 5.7 MB\n"
     ]
    }
   ],
   "source": [
    "df.info()"
   ]
  },
  {
   "cell_type": "code",
   "execution_count": 5,
   "id": "c5272ab2",
   "metadata": {
    "ExecuteTime": {
     "end_time": "2021-10-20T01:54:22.936876Z",
     "start_time": "2021-10-20T01:54:22.753127Z"
    },
    "hidden": true
   },
   "outputs": [
    {
     "data": {
      "text/html": [
       "<div>\n",
       "<style scoped>\n",
       "    .dataframe tbody tr th:only-of-type {\n",
       "        vertical-align: middle;\n",
       "    }\n",
       "\n",
       "    .dataframe tbody tr th {\n",
       "        vertical-align: top;\n",
       "    }\n",
       "\n",
       "    .dataframe thead th {\n",
       "        text-align: right;\n",
       "    }\n",
       "</style>\n",
       "<table border=\"1\" class=\"dataframe\">\n",
       "  <thead>\n",
       "    <tr style=\"text-align: right;\">\n",
       "      <th></th>\n",
       "      <th>count</th>\n",
       "      <th>mean</th>\n",
       "      <th>std</th>\n",
       "      <th>min</th>\n",
       "      <th>25%</th>\n",
       "      <th>50%</th>\n",
       "      <th>75%</th>\n",
       "      <th>max</th>\n",
       "    </tr>\n",
       "  </thead>\n",
       "  <tbody>\n",
       "    <tr>\n",
       "      <th>ID</th>\n",
       "      <td>30000.0</td>\n",
       "      <td>15000.500000</td>\n",
       "      <td>8660.398374</td>\n",
       "      <td>1.0</td>\n",
       "      <td>7500.75</td>\n",
       "      <td>15000.5</td>\n",
       "      <td>22500.25</td>\n",
       "      <td>30000.0</td>\n",
       "    </tr>\n",
       "    <tr>\n",
       "      <th>LIMIT_BAL</th>\n",
       "      <td>30000.0</td>\n",
       "      <td>167484.322667</td>\n",
       "      <td>129747.661567</td>\n",
       "      <td>10000.0</td>\n",
       "      <td>50000.00</td>\n",
       "      <td>140000.0</td>\n",
       "      <td>240000.00</td>\n",
       "      <td>1000000.0</td>\n",
       "    </tr>\n",
       "    <tr>\n",
       "      <th>SEX</th>\n",
       "      <td>30000.0</td>\n",
       "      <td>1.603733</td>\n",
       "      <td>0.489129</td>\n",
       "      <td>1.0</td>\n",
       "      <td>1.00</td>\n",
       "      <td>2.0</td>\n",
       "      <td>2.00</td>\n",
       "      <td>2.0</td>\n",
       "    </tr>\n",
       "    <tr>\n",
       "      <th>EDUCATION</th>\n",
       "      <td>30000.0</td>\n",
       "      <td>1.853133</td>\n",
       "      <td>0.790349</td>\n",
       "      <td>0.0</td>\n",
       "      <td>1.00</td>\n",
       "      <td>2.0</td>\n",
       "      <td>2.00</td>\n",
       "      <td>6.0</td>\n",
       "    </tr>\n",
       "    <tr>\n",
       "      <th>MARRIAGE</th>\n",
       "      <td>30000.0</td>\n",
       "      <td>1.551867</td>\n",
       "      <td>0.521970</td>\n",
       "      <td>0.0</td>\n",
       "      <td>1.00</td>\n",
       "      <td>2.0</td>\n",
       "      <td>2.00</td>\n",
       "      <td>3.0</td>\n",
       "    </tr>\n",
       "    <tr>\n",
       "      <th>AGE</th>\n",
       "      <td>30000.0</td>\n",
       "      <td>35.485500</td>\n",
       "      <td>9.217904</td>\n",
       "      <td>21.0</td>\n",
       "      <td>28.00</td>\n",
       "      <td>34.0</td>\n",
       "      <td>41.00</td>\n",
       "      <td>79.0</td>\n",
       "    </tr>\n",
       "    <tr>\n",
       "      <th>PAY_0</th>\n",
       "      <td>30000.0</td>\n",
       "      <td>-0.016700</td>\n",
       "      <td>1.123802</td>\n",
       "      <td>-2.0</td>\n",
       "      <td>-1.00</td>\n",
       "      <td>0.0</td>\n",
       "      <td>0.00</td>\n",
       "      <td>8.0</td>\n",
       "    </tr>\n",
       "    <tr>\n",
       "      <th>PAY_2</th>\n",
       "      <td>30000.0</td>\n",
       "      <td>-0.133767</td>\n",
       "      <td>1.197186</td>\n",
       "      <td>-2.0</td>\n",
       "      <td>-1.00</td>\n",
       "      <td>0.0</td>\n",
       "      <td>0.00</td>\n",
       "      <td>8.0</td>\n",
       "    </tr>\n",
       "    <tr>\n",
       "      <th>PAY_3</th>\n",
       "      <td>30000.0</td>\n",
       "      <td>-0.166200</td>\n",
       "      <td>1.196868</td>\n",
       "      <td>-2.0</td>\n",
       "      <td>-1.00</td>\n",
       "      <td>0.0</td>\n",
       "      <td>0.00</td>\n",
       "      <td>8.0</td>\n",
       "    </tr>\n",
       "    <tr>\n",
       "      <th>PAY_4</th>\n",
       "      <td>30000.0</td>\n",
       "      <td>-0.220667</td>\n",
       "      <td>1.169139</td>\n",
       "      <td>-2.0</td>\n",
       "      <td>-1.00</td>\n",
       "      <td>0.0</td>\n",
       "      <td>0.00</td>\n",
       "      <td>8.0</td>\n",
       "    </tr>\n",
       "    <tr>\n",
       "      <th>PAY_5</th>\n",
       "      <td>30000.0</td>\n",
       "      <td>-0.266200</td>\n",
       "      <td>1.133187</td>\n",
       "      <td>-2.0</td>\n",
       "      <td>-1.00</td>\n",
       "      <td>0.0</td>\n",
       "      <td>0.00</td>\n",
       "      <td>8.0</td>\n",
       "    </tr>\n",
       "    <tr>\n",
       "      <th>PAY_6</th>\n",
       "      <td>30000.0</td>\n",
       "      <td>-0.291100</td>\n",
       "      <td>1.149988</td>\n",
       "      <td>-2.0</td>\n",
       "      <td>-1.00</td>\n",
       "      <td>0.0</td>\n",
       "      <td>0.00</td>\n",
       "      <td>8.0</td>\n",
       "    </tr>\n",
       "    <tr>\n",
       "      <th>BILL_AMT1</th>\n",
       "      <td>30000.0</td>\n",
       "      <td>51223.330900</td>\n",
       "      <td>73635.860576</td>\n",
       "      <td>-165580.0</td>\n",
       "      <td>3558.75</td>\n",
       "      <td>22381.5</td>\n",
       "      <td>67091.00</td>\n",
       "      <td>964511.0</td>\n",
       "    </tr>\n",
       "    <tr>\n",
       "      <th>BILL_AMT2</th>\n",
       "      <td>30000.0</td>\n",
       "      <td>49179.075167</td>\n",
       "      <td>71173.768783</td>\n",
       "      <td>-69777.0</td>\n",
       "      <td>2984.75</td>\n",
       "      <td>21200.0</td>\n",
       "      <td>64006.25</td>\n",
       "      <td>983931.0</td>\n",
       "    </tr>\n",
       "    <tr>\n",
       "      <th>BILL_AMT3</th>\n",
       "      <td>30000.0</td>\n",
       "      <td>47013.154800</td>\n",
       "      <td>69349.387427</td>\n",
       "      <td>-157264.0</td>\n",
       "      <td>2666.25</td>\n",
       "      <td>20088.5</td>\n",
       "      <td>60164.75</td>\n",
       "      <td>1664089.0</td>\n",
       "    </tr>\n",
       "    <tr>\n",
       "      <th>BILL_AMT4</th>\n",
       "      <td>30000.0</td>\n",
       "      <td>43262.948967</td>\n",
       "      <td>64332.856134</td>\n",
       "      <td>-170000.0</td>\n",
       "      <td>2326.75</td>\n",
       "      <td>19052.0</td>\n",
       "      <td>54506.00</td>\n",
       "      <td>891586.0</td>\n",
       "    </tr>\n",
       "    <tr>\n",
       "      <th>BILL_AMT5</th>\n",
       "      <td>30000.0</td>\n",
       "      <td>40311.400967</td>\n",
       "      <td>60797.155770</td>\n",
       "      <td>-81334.0</td>\n",
       "      <td>1763.00</td>\n",
       "      <td>18104.5</td>\n",
       "      <td>50190.50</td>\n",
       "      <td>927171.0</td>\n",
       "    </tr>\n",
       "    <tr>\n",
       "      <th>BILL_AMT6</th>\n",
       "      <td>30000.0</td>\n",
       "      <td>38871.760400</td>\n",
       "      <td>59554.107537</td>\n",
       "      <td>-339603.0</td>\n",
       "      <td>1256.00</td>\n",
       "      <td>17071.0</td>\n",
       "      <td>49198.25</td>\n",
       "      <td>961664.0</td>\n",
       "    </tr>\n",
       "    <tr>\n",
       "      <th>PAY_AMT1</th>\n",
       "      <td>30000.0</td>\n",
       "      <td>5663.580500</td>\n",
       "      <td>16563.280354</td>\n",
       "      <td>0.0</td>\n",
       "      <td>1000.00</td>\n",
       "      <td>2100.0</td>\n",
       "      <td>5006.00</td>\n",
       "      <td>873552.0</td>\n",
       "    </tr>\n",
       "    <tr>\n",
       "      <th>PAY_AMT2</th>\n",
       "      <td>30000.0</td>\n",
       "      <td>5921.163500</td>\n",
       "      <td>23040.870402</td>\n",
       "      <td>0.0</td>\n",
       "      <td>833.00</td>\n",
       "      <td>2009.0</td>\n",
       "      <td>5000.00</td>\n",
       "      <td>1684259.0</td>\n",
       "    </tr>\n",
       "    <tr>\n",
       "      <th>PAY_AMT3</th>\n",
       "      <td>30000.0</td>\n",
       "      <td>5225.681500</td>\n",
       "      <td>17606.961470</td>\n",
       "      <td>0.0</td>\n",
       "      <td>390.00</td>\n",
       "      <td>1800.0</td>\n",
       "      <td>4505.00</td>\n",
       "      <td>896040.0</td>\n",
       "    </tr>\n",
       "    <tr>\n",
       "      <th>PAY_AMT4</th>\n",
       "      <td>30000.0</td>\n",
       "      <td>4826.076867</td>\n",
       "      <td>15666.159744</td>\n",
       "      <td>0.0</td>\n",
       "      <td>296.00</td>\n",
       "      <td>1500.0</td>\n",
       "      <td>4013.25</td>\n",
       "      <td>621000.0</td>\n",
       "    </tr>\n",
       "    <tr>\n",
       "      <th>PAY_AMT5</th>\n",
       "      <td>30000.0</td>\n",
       "      <td>4799.387633</td>\n",
       "      <td>15278.305679</td>\n",
       "      <td>0.0</td>\n",
       "      <td>252.50</td>\n",
       "      <td>1500.0</td>\n",
       "      <td>4031.50</td>\n",
       "      <td>426529.0</td>\n",
       "    </tr>\n",
       "    <tr>\n",
       "      <th>PAY_AMT6</th>\n",
       "      <td>30000.0</td>\n",
       "      <td>5215.502567</td>\n",
       "      <td>17777.465775</td>\n",
       "      <td>0.0</td>\n",
       "      <td>117.75</td>\n",
       "      <td>1500.0</td>\n",
       "      <td>4000.00</td>\n",
       "      <td>528666.0</td>\n",
       "    </tr>\n",
       "    <tr>\n",
       "      <th>default payment next month</th>\n",
       "      <td>30000.0</td>\n",
       "      <td>0.221200</td>\n",
       "      <td>0.415062</td>\n",
       "      <td>0.0</td>\n",
       "      <td>0.00</td>\n",
       "      <td>0.0</td>\n",
       "      <td>0.00</td>\n",
       "      <td>1.0</td>\n",
       "    </tr>\n",
       "  </tbody>\n",
       "</table>\n",
       "</div>"
      ],
      "text/plain": [
       "                              count           mean            std       min  \\\n",
       "ID                          30000.0   15000.500000    8660.398374       1.0   \n",
       "LIMIT_BAL                   30000.0  167484.322667  129747.661567   10000.0   \n",
       "SEX                         30000.0       1.603733       0.489129       1.0   \n",
       "EDUCATION                   30000.0       1.853133       0.790349       0.0   \n",
       "MARRIAGE                    30000.0       1.551867       0.521970       0.0   \n",
       "AGE                         30000.0      35.485500       9.217904      21.0   \n",
       "PAY_0                       30000.0      -0.016700       1.123802      -2.0   \n",
       "PAY_2                       30000.0      -0.133767       1.197186      -2.0   \n",
       "PAY_3                       30000.0      -0.166200       1.196868      -2.0   \n",
       "PAY_4                       30000.0      -0.220667       1.169139      -2.0   \n",
       "PAY_5                       30000.0      -0.266200       1.133187      -2.0   \n",
       "PAY_6                       30000.0      -0.291100       1.149988      -2.0   \n",
       "BILL_AMT1                   30000.0   51223.330900   73635.860576 -165580.0   \n",
       "BILL_AMT2                   30000.0   49179.075167   71173.768783  -69777.0   \n",
       "BILL_AMT3                   30000.0   47013.154800   69349.387427 -157264.0   \n",
       "BILL_AMT4                   30000.0   43262.948967   64332.856134 -170000.0   \n",
       "BILL_AMT5                   30000.0   40311.400967   60797.155770  -81334.0   \n",
       "BILL_AMT6                   30000.0   38871.760400   59554.107537 -339603.0   \n",
       "PAY_AMT1                    30000.0    5663.580500   16563.280354       0.0   \n",
       "PAY_AMT2                    30000.0    5921.163500   23040.870402       0.0   \n",
       "PAY_AMT3                    30000.0    5225.681500   17606.961470       0.0   \n",
       "PAY_AMT4                    30000.0    4826.076867   15666.159744       0.0   \n",
       "PAY_AMT5                    30000.0    4799.387633   15278.305679       0.0   \n",
       "PAY_AMT6                    30000.0    5215.502567   17777.465775       0.0   \n",
       "default payment next month  30000.0       0.221200       0.415062       0.0   \n",
       "\n",
       "                                 25%       50%        75%        max  \n",
       "ID                           7500.75   15000.5   22500.25    30000.0  \n",
       "LIMIT_BAL                   50000.00  140000.0  240000.00  1000000.0  \n",
       "SEX                             1.00       2.0       2.00        2.0  \n",
       "EDUCATION                       1.00       2.0       2.00        6.0  \n",
       "MARRIAGE                        1.00       2.0       2.00        3.0  \n",
       "AGE                            28.00      34.0      41.00       79.0  \n",
       "PAY_0                          -1.00       0.0       0.00        8.0  \n",
       "PAY_2                          -1.00       0.0       0.00        8.0  \n",
       "PAY_3                          -1.00       0.0       0.00        8.0  \n",
       "PAY_4                          -1.00       0.0       0.00        8.0  \n",
       "PAY_5                          -1.00       0.0       0.00        8.0  \n",
       "PAY_6                          -1.00       0.0       0.00        8.0  \n",
       "BILL_AMT1                    3558.75   22381.5   67091.00   964511.0  \n",
       "BILL_AMT2                    2984.75   21200.0   64006.25   983931.0  \n",
       "BILL_AMT3                    2666.25   20088.5   60164.75  1664089.0  \n",
       "BILL_AMT4                    2326.75   19052.0   54506.00   891586.0  \n",
       "BILL_AMT5                    1763.00   18104.5   50190.50   927171.0  \n",
       "BILL_AMT6                    1256.00   17071.0   49198.25   961664.0  \n",
       "PAY_AMT1                     1000.00    2100.0    5006.00   873552.0  \n",
       "PAY_AMT2                      833.00    2009.0    5000.00  1684259.0  \n",
       "PAY_AMT3                      390.00    1800.0    4505.00   896040.0  \n",
       "PAY_AMT4                      296.00    1500.0    4013.25   621000.0  \n",
       "PAY_AMT5                      252.50    1500.0    4031.50   426529.0  \n",
       "PAY_AMT6                      117.75    1500.0    4000.00   528666.0  \n",
       "default payment next month      0.00       0.0       0.00        1.0  "
      ]
     },
     "execution_count": 5,
     "metadata": {},
     "output_type": "execute_result"
    }
   ],
   "source": [
    "df.describe().T"
   ]
  },
  {
   "cell_type": "code",
   "execution_count": 6,
   "id": "952df43c",
   "metadata": {
    "ExecuteTime": {
     "end_time": "2021-10-20T01:55:13.002152Z",
     "start_time": "2021-10-20T01:55:12.981713Z"
    },
    "hidden": true
   },
   "outputs": [
    {
     "data": {
      "text/plain": [
       "0"
      ]
     },
     "execution_count": 6,
     "metadata": {},
     "output_type": "execute_result"
    }
   ],
   "source": [
    "df.isna().sum().sum()"
   ]
  },
  {
   "cell_type": "code",
   "execution_count": 7,
   "id": "e217e640",
   "metadata": {
    "ExecuteTime": {
     "end_time": "2021-10-20T01:55:13.927814Z",
     "start_time": "2021-10-20T01:55:13.919594Z"
    },
    "hidden": true
   },
   "outputs": [],
   "source": [
    "df.rename(columns={\"default payment next month\":\"default\"}, inplace=True)\n",
    "\n",
    "df.columns = df.columns.str.strip().str.replace(' ', '_').str.lower()"
   ]
  },
  {
   "cell_type": "code",
   "execution_count": 8,
   "id": "c49e981a",
   "metadata": {
    "ExecuteTime": {
     "end_time": "2021-10-20T01:55:14.713782Z",
     "start_time": "2021-10-20T01:55:14.688961Z"
    },
    "hidden": true
   },
   "outputs": [],
   "source": [
    "preprocessed_df = df.copy()"
   ]
  },
  {
   "cell_type": "code",
   "execution_count": 9,
   "id": "e7b50da3",
   "metadata": {
    "ExecuteTime": {
     "end_time": "2021-10-20T01:55:16.099531Z",
     "start_time": "2021-10-20T01:55:16.082861Z"
    },
    "hidden": true
   },
   "outputs": [
    {
     "name": "stdout",
     "output_type": "stream",
     "text": [
      "Sex [2 1]\n",
      "Education [2 1 3 5 4 6 0]\n",
      "Pay_0 [ 2 -1  0 -2  1  3  4  8  7  5  6]\n",
      "Marriage [1 2 3 0]\n",
      "Default [1 0]\n"
     ]
    }
   ],
   "source": [
    "## Unique values in each categorical columns\n",
    "\n",
    "print(\"Sex\", preprocessed_df.sex.unique())\n",
    "print('Education', preprocessed_df.education.unique())\n",
    "print('Pay_0', preprocessed_df.pay_0.unique())\n",
    "print('Marriage', preprocessed_df.marriage.unique())\n",
    "print('Default', preprocessed_df.default.unique())"
   ]
  },
  {
   "cell_type": "markdown",
   "id": "cc1c4cd9",
   "metadata": {
    "hidden": true
   },
   "source": [
    "- The EDUCATION column has 7 unique values, but as per our data description, we have only 4 unique values, so we are going to club categories 0, 5, and 6 with category 4"
   ]
  },
  {
   "cell_type": "code",
   "execution_count": 10,
   "id": "9982b038",
   "metadata": {
    "ExecuteTime": {
     "end_time": "2021-10-20T02:05:18.162853Z",
     "start_time": "2021-10-20T02:05:18.146920Z"
    },
    "hidden": true
   },
   "outputs": [],
   "source": [
    "fill = (df.education == 0) | (df.education == 5) | (df.education == 6)\n",
    "preprocessed_df.loc[fill, 'education'] = 4\n",
    "df.loc[fill, 'education'] = 4"
   ]
  },
  {
   "cell_type": "code",
   "execution_count": 11,
   "id": "661c859d",
   "metadata": {
    "ExecuteTime": {
     "end_time": "2021-10-20T02:06:38.791822Z",
     "start_time": "2021-10-20T02:06:38.777305Z"
    },
    "hidden": true
   },
   "outputs": [],
   "source": [
    "## marriage column also has 4 unique values but according to our data we only have three categories\n",
    "\n",
    "fill = (df.marriage == 0)\n",
    "preprocessed_df.loc[fill, 'marriage'] = 2\n",
    "df.loc[fill, 'marriage'] = 2"
   ]
  },
  {
   "cell_type": "code",
   "execution_count": 12,
   "id": "2fb06e6c",
   "metadata": {
    "ExecuteTime": {
     "end_time": "2021-10-20T02:06:57.756115Z",
     "start_time": "2021-10-20T02:06:57.672498Z"
    },
    "hidden": true
   },
   "outputs": [
    {
     "data": {
      "text/html": [
       "<div>\n",
       "<style scoped>\n",
       "    .dataframe tbody tr th:only-of-type {\n",
       "        vertical-align: middle;\n",
       "    }\n",
       "\n",
       "    .dataframe tbody tr th {\n",
       "        vertical-align: top;\n",
       "    }\n",
       "\n",
       "    .dataframe thead th {\n",
       "        text-align: right;\n",
       "    }\n",
       "</style>\n",
       "<table border=\"1\" class=\"dataframe\">\n",
       "  <thead>\n",
       "    <tr style=\"text-align: right;\">\n",
       "      <th></th>\n",
       "      <th>id</th>\n",
       "      <th>limit_bal</th>\n",
       "      <th>sex</th>\n",
       "      <th>education</th>\n",
       "      <th>marriage</th>\n",
       "      <th>age</th>\n",
       "      <th>pay_1</th>\n",
       "      <th>pay_2</th>\n",
       "      <th>pay_3</th>\n",
       "      <th>pay_4</th>\n",
       "      <th>...</th>\n",
       "      <th>bill_amt4</th>\n",
       "      <th>bill_amt5</th>\n",
       "      <th>bill_amt6</th>\n",
       "      <th>pay_amt1</th>\n",
       "      <th>pay_amt2</th>\n",
       "      <th>pay_amt3</th>\n",
       "      <th>pay_amt4</th>\n",
       "      <th>pay_amt5</th>\n",
       "      <th>pay_amt6</th>\n",
       "      <th>default</th>\n",
       "    </tr>\n",
       "  </thead>\n",
       "  <tbody>\n",
       "    <tr>\n",
       "      <th>0</th>\n",
       "      <td>1</td>\n",
       "      <td>20000</td>\n",
       "      <td>2</td>\n",
       "      <td>2</td>\n",
       "      <td>1</td>\n",
       "      <td>24</td>\n",
       "      <td>2</td>\n",
       "      <td>2</td>\n",
       "      <td>-1</td>\n",
       "      <td>-1</td>\n",
       "      <td>...</td>\n",
       "      <td>0</td>\n",
       "      <td>0</td>\n",
       "      <td>0</td>\n",
       "      <td>0</td>\n",
       "      <td>689</td>\n",
       "      <td>0</td>\n",
       "      <td>0</td>\n",
       "      <td>0</td>\n",
       "      <td>0</td>\n",
       "      <td>1</td>\n",
       "    </tr>\n",
       "    <tr>\n",
       "      <th>1</th>\n",
       "      <td>2</td>\n",
       "      <td>120000</td>\n",
       "      <td>2</td>\n",
       "      <td>2</td>\n",
       "      <td>2</td>\n",
       "      <td>26</td>\n",
       "      <td>-1</td>\n",
       "      <td>2</td>\n",
       "      <td>0</td>\n",
       "      <td>0</td>\n",
       "      <td>...</td>\n",
       "      <td>3272</td>\n",
       "      <td>3455</td>\n",
       "      <td>3261</td>\n",
       "      <td>0</td>\n",
       "      <td>1000</td>\n",
       "      <td>1000</td>\n",
       "      <td>1000</td>\n",
       "      <td>0</td>\n",
       "      <td>2000</td>\n",
       "      <td>1</td>\n",
       "    </tr>\n",
       "    <tr>\n",
       "      <th>2</th>\n",
       "      <td>3</td>\n",
       "      <td>90000</td>\n",
       "      <td>2</td>\n",
       "      <td>2</td>\n",
       "      <td>2</td>\n",
       "      <td>34</td>\n",
       "      <td>0</td>\n",
       "      <td>0</td>\n",
       "      <td>0</td>\n",
       "      <td>0</td>\n",
       "      <td>...</td>\n",
       "      <td>14331</td>\n",
       "      <td>14948</td>\n",
       "      <td>15549</td>\n",
       "      <td>1518</td>\n",
       "      <td>1500</td>\n",
       "      <td>1000</td>\n",
       "      <td>1000</td>\n",
       "      <td>1000</td>\n",
       "      <td>5000</td>\n",
       "      <td>0</td>\n",
       "    </tr>\n",
       "    <tr>\n",
       "      <th>3</th>\n",
       "      <td>4</td>\n",
       "      <td>50000</td>\n",
       "      <td>2</td>\n",
       "      <td>2</td>\n",
       "      <td>1</td>\n",
       "      <td>37</td>\n",
       "      <td>0</td>\n",
       "      <td>0</td>\n",
       "      <td>0</td>\n",
       "      <td>0</td>\n",
       "      <td>...</td>\n",
       "      <td>28314</td>\n",
       "      <td>28959</td>\n",
       "      <td>29547</td>\n",
       "      <td>2000</td>\n",
       "      <td>2019</td>\n",
       "      <td>1200</td>\n",
       "      <td>1100</td>\n",
       "      <td>1069</td>\n",
       "      <td>1000</td>\n",
       "      <td>0</td>\n",
       "    </tr>\n",
       "    <tr>\n",
       "      <th>4</th>\n",
       "      <td>5</td>\n",
       "      <td>50000</td>\n",
       "      <td>1</td>\n",
       "      <td>2</td>\n",
       "      <td>1</td>\n",
       "      <td>57</td>\n",
       "      <td>-1</td>\n",
       "      <td>0</td>\n",
       "      <td>-1</td>\n",
       "      <td>0</td>\n",
       "      <td>...</td>\n",
       "      <td>20940</td>\n",
       "      <td>19146</td>\n",
       "      <td>19131</td>\n",
       "      <td>2000</td>\n",
       "      <td>36681</td>\n",
       "      <td>10000</td>\n",
       "      <td>9000</td>\n",
       "      <td>689</td>\n",
       "      <td>679</td>\n",
       "      <td>0</td>\n",
       "    </tr>\n",
       "  </tbody>\n",
       "</table>\n",
       "<p>5 rows × 25 columns</p>\n",
       "</div>"
      ],
      "text/plain": [
       "   id  limit_bal  sex  education  marriage  age  pay_1  pay_2  pay_3  pay_4  \\\n",
       "0   1      20000    2          2         1   24      2      2     -1     -1   \n",
       "1   2     120000    2          2         2   26     -1      2      0      0   \n",
       "2   3      90000    2          2         2   34      0      0      0      0   \n",
       "3   4      50000    2          2         1   37      0      0      0      0   \n",
       "4   5      50000    1          2         1   57     -1      0     -1      0   \n",
       "\n",
       "   ...  bill_amt4  bill_amt5  bill_amt6  pay_amt1  pay_amt2  pay_amt3  \\\n",
       "0  ...          0          0          0         0       689         0   \n",
       "1  ...       3272       3455       3261         0      1000      1000   \n",
       "2  ...      14331      14948      15549      1518      1500      1000   \n",
       "3  ...      28314      28959      29547      2000      2019      1200   \n",
       "4  ...      20940      19146      19131      2000     36681     10000   \n",
       "\n",
       "   pay_amt4  pay_amt5  pay_amt6  default  \n",
       "0         0         0         0        1  \n",
       "1      1000         0      2000        1  \n",
       "2      1000      1000      5000        0  \n",
       "3      1100      1069      1000        0  \n",
       "4      9000       689       679        0  \n",
       "\n",
       "[5 rows x 25 columns]"
      ]
     },
     "execution_count": 12,
     "metadata": {},
     "output_type": "execute_result"
    }
   ],
   "source": [
    "preprocessed_df = preprocessed_df.rename(columns={'pay_0': 'pay_1'})\n",
    "preprocessed_df.head()"
   ]
  },
  {
   "cell_type": "markdown",
   "id": "d5808bf0",
   "metadata": {},
   "source": [
    "# EDA"
   ]
  },
  {
   "cell_type": "markdown",
   "id": "38541bbb",
   "metadata": {
    "heading_collapsed": true
   },
   "source": [
    "## Univariate Analysis"
   ]
  },
  {
   "cell_type": "code",
   "execution_count": 13,
   "id": "688070bd",
   "metadata": {
    "ExecuteTime": {
     "end_time": "2021-10-20T02:07:50.423632Z",
     "start_time": "2021-10-20T02:07:50.354391Z"
    },
    "hidden": true
   },
   "outputs": [],
   "source": [
    "## Map categorical data\n",
    "\n",
    "preprocessed_df.sex = preprocessed_df.sex.map({1:'Male', 2:'Female'})\n",
    "preprocessed_df.default = preprocessed_df.default.map({0:'No', 1:'Yes'})\n",
    "\n",
    "preprocessed_df.education = preprocessed_df.education.map({1:'Graduate School',\n",
    "                                                          2:'University',\n",
    "                                                          3:'High School',\n",
    "                                                          4:'Others'})\n",
    "\n",
    "preprocessed_df.marriage = preprocessed_df.marriage.map({1:'Married',\n",
    "                                                        2:'Single',\n",
    "                                                        3:'Divorced'})"
   ]
  },
  {
   "cell_type": "code",
   "execution_count": 22,
   "id": "87e5cd21",
   "metadata": {
    "ExecuteTime": {
     "end_time": "2021-10-20T02:15:55.935161Z",
     "start_time": "2021-10-20T02:15:55.921850Z"
    },
    "hidden": true
   },
   "outputs": [],
   "source": [
    "def plot_categorical_count(df, col, hue=None, hue_order=None, is_pct=True, figsize=(12,6)):\n",
    "    \n",
    "    plt.figure(figsize=figsize)\n",
    "    g = sns.countplot(data=df, x=col, hue=hue, hue_order=None)\n",
    "    for rect in g.patches:\n",
    "        h = rect.get_height()\n",
    "        w = rect.get_width()\n",
    "        x = rect.get_x()\n",
    "        y = rect.get_y()\n",
    "        g.annotate(f\"{h}\", (x+w/2, h), va='bottom', ha='center', size=14)\n",
    "        \n",
    "    g.spines['top'].set_visible(False)\n",
    "    g.spines['left'].set_visible(False)\n",
    "    g.spines['right'].set_visible(False)\n",
    "    \n",
    "    plt.show()\n",
    "    \n",
    "    if is_pct:\n",
    "        print()\n",
    "        print(\"Percentage share of each category:\")\n",
    "        print(df[col].value_counts(normalize=True)*100)"
   ]
  },
  {
   "cell_type": "code",
   "execution_count": 17,
   "id": "95a4413d",
   "metadata": {
    "ExecuteTime": {
     "end_time": "2021-10-20T02:12:36.707477Z",
     "start_time": "2021-10-20T02:12:36.450521Z"
    },
    "hidden": true
   },
   "outputs": [
    {
     "data": {
      "image/png": "[encoded data removed]",
      "text/plain": [
       "<Figure size 864x432 with 1 Axes>"
      ]
     },
     "metadata": {
      "needs_background": "light"
     },
     "output_type": "display_data"
    },
    {
     "name": "stdout",
     "output_type": "stream",
     "text": [
      "\n",
      "Percentage share of each category:\n",
      "No     77.88\n",
      "Yes    22.12\n",
      "Name: default, dtype: float64\n"
     ]
    }
   ],
   "source": [
    "plot_categorical_count(preprocessed_df, 'default')"
   ]
  },
  {
   "cell_type": "code",
   "execution_count": 18,
   "id": "29c3634a",
   "metadata": {
    "ExecuteTime": {
     "end_time": "2021-10-20T02:12:56.879749Z",
     "start_time": "2021-10-20T02:12:56.646746Z"
    },
    "hidden": true
   },
   "outputs": [
    {
     "data": {
      "image/png": "[encoded data removed]",
      "text/plain": [
       "<Figure size 864x432 with 1 Axes>"
      ]
     },
     "metadata": {
      "needs_background": "light"
     },
     "output_type": "display_data"
    },
    {
     "name": "stdout",
     "output_type": "stream",
     "text": [
      "\n",
      "Percentage share of each category:\n",
      "Female    60.373333\n",
      "Male      39.626667\n",
      "Name: sex, dtype: float64\n"
     ]
    }
   ],
   "source": [
    "plot_categorical_count(preprocessed_df, 'sex')"
   ]
  },
  {
   "cell_type": "code",
   "execution_count": 19,
   "id": "9f8ed35b",
   "metadata": {
    "ExecuteTime": {
     "end_time": "2021-10-20T02:13:11.472148Z",
     "start_time": "2021-10-20T02:13:11.118101Z"
    },
    "hidden": true
   },
   "outputs": [
    {
     "data": {
      "image/png": "[encoded data removed]",
      "text/plain": [
       "<Figure size 864x432 with 1 Axes>"
      ]
     },
     "metadata": {
      "needs_background": "light"
     },
     "output_type": "display_data"
    },
    {
     "name": "stdout",
     "output_type": "stream",
     "text": [
      "\n",
      "Percentage share of each category:\n",
      "University         46.766667\n",
      "Graduate School    35.283333\n",
      "High School        16.390000\n",
      "Others              1.560000\n",
      "Name: education, dtype: float64\n"
     ]
    }
   ],
   "source": [
    "plot_categorical_count(preprocessed_df, 'education')"
   ]
  },
  {
   "cell_type": "code",
   "execution_count": 20,
   "id": "4437be20",
   "metadata": {
    "ExecuteTime": {
     "end_time": "2021-10-20T02:14:02.098027Z",
     "start_time": "2021-10-20T02:14:01.816329Z"
    },
    "hidden": true
   },
   "outputs": [
    {
     "data": {
      "image/png": "[encoded data removed]",
      "text/plain": [
       "<Figure size 864x432 with 1 Axes>"
      ]
     },
     "metadata": {
      "needs_background": "light"
     },
     "output_type": "display_data"
    },
    {
     "name": "stdout",
     "output_type": "stream",
     "text": [
      "\n",
      "Percentage share of each category:\n",
      "Single      53.393333\n",
      "Married     45.530000\n",
      "Divorced     1.076667\n",
      "Name: marriage, dtype: float64\n"
     ]
    }
   ],
   "source": [
    "plot_categorical_count(preprocessed_df, 'marriage')"
   ]
  },
  {
   "cell_type": "markdown",
   "id": "c8527be1",
   "metadata": {
    "heading_collapsed": true
   },
   "source": [
    "## Bivariate Analysis"
   ]
  },
  {
   "cell_type": "code",
   "execution_count": 44,
   "id": "64c270cd",
   "metadata": {
    "ExecuteTime": {
     "end_time": "2021-10-20T02:41:49.373258Z",
     "start_time": "2021-10-20T02:41:49.360151Z"
    },
    "hidden": true
   },
   "outputs": [],
   "source": [
    "def default_df(df, col):\n",
    "    df1 = pd.crosstab(index=df[col], columns=df.default, margins=True)\n",
    "    df1.rename(columns={'No':'total_no_default', 'Yes':'total_yes_default', 'All':'total_default'}, inplace=True)\n",
    "    \n",
    "    df2 = pd.crosstab(index=df[col], columns=df.default, normalize='index', margins=True)\n",
    "    df2.rename(columns={'No':'pct_no_default', 'Yes':'pct_yes_default'}, inplace=True)\n",
    "    \n",
    "    final_df = pd.concat([df1, df2], axis=1)\n",
    "    \n",
    "    return final_df"
   ]
  },
  {
   "cell_type": "code",
   "execution_count": 23,
   "id": "55f4d351",
   "metadata": {
    "ExecuteTime": {
     "end_time": "2021-10-20T02:17:54.209239Z",
     "start_time": "2021-10-20T02:17:53.754157Z"
    },
    "hidden": true
   },
   "outputs": [
    {
     "data": {
      "image/png": "[encoded data removed]",
      "text/plain": [
       "<Figure size 864x432 with 1 Axes>"
      ]
     },
     "metadata": {
      "needs_background": "light"
     },
     "output_type": "display_data"
    }
   ],
   "source": [
    "plot_categorical_count(preprocessed_df, col='sex', hue='default', is_pct=False)"
   ]
  },
  {
   "cell_type": "code",
   "execution_count": 50,
   "id": "f4df8501",
   "metadata": {
    "ExecuteTime": {
     "end_time": "2021-10-20T02:44:17.695380Z",
     "start_time": "2021-10-20T02:44:17.458294Z"
    },
    "hidden": true
   },
   "outputs": [
    {
     "data": {
      "text/html": [
       "<div>\n",
       "<style scoped>\n",
       "    .dataframe tbody tr th:only-of-type {\n",
       "        vertical-align: middle;\n",
       "    }\n",
       "\n",
       "    .dataframe tbody tr th {\n",
       "        vertical-align: top;\n",
       "    }\n",
       "\n",
       "    .dataframe thead th {\n",
       "        text-align: right;\n",
       "    }\n",
       "</style>\n",
       "<table border=\"1\" class=\"dataframe\">\n",
       "  <thead>\n",
       "    <tr style=\"text-align: right;\">\n",
       "      <th>default</th>\n",
       "      <th>total_no_default</th>\n",
       "      <th>total_yes_default</th>\n",
       "      <th>total_default</th>\n",
       "      <th>pct_no_default</th>\n",
       "      <th>pct_yes_default</th>\n",
       "    </tr>\n",
       "    <tr>\n",
       "      <th>sex</th>\n",
       "      <th></th>\n",
       "      <th></th>\n",
       "      <th></th>\n",
       "      <th></th>\n",
       "      <th></th>\n",
       "    </tr>\n",
       "  </thead>\n",
       "  <tbody>\n",
       "    <tr>\n",
       "      <th>Female</th>\n",
       "      <td>14349</td>\n",
       "      <td>3763</td>\n",
       "      <td>18112</td>\n",
       "      <td>0.792237</td>\n",
       "      <td>0.207763</td>\n",
       "    </tr>\n",
       "    <tr>\n",
       "      <th>Male</th>\n",
       "      <td>9015</td>\n",
       "      <td>2873</td>\n",
       "      <td>11888</td>\n",
       "      <td>0.758328</td>\n",
       "      <td>0.241672</td>\n",
       "    </tr>\n",
       "    <tr>\n",
       "      <th>All</th>\n",
       "      <td>23364</td>\n",
       "      <td>6636</td>\n",
       "      <td>30000</td>\n",
       "      <td>0.778800</td>\n",
       "      <td>0.221200</td>\n",
       "    </tr>\n",
       "  </tbody>\n",
       "</table>\n",
       "</div>"
      ],
      "text/plain": [
       "default  total_no_default  total_yes_default  total_default  pct_no_default  \\\n",
       "sex                                                                           \n",
       "Female              14349               3763          18112        0.792237   \n",
       "Male                 9015               2873          11888        0.758328   \n",
       "All                 23364               6636          30000        0.778800   \n",
       "\n",
       "default  pct_yes_default  \n",
       "sex                       \n",
       "Female          0.207763  \n",
       "Male            0.241672  \n",
       "All             0.221200  "
      ]
     },
     "execution_count": 50,
     "metadata": {},
     "output_type": "execute_result"
    }
   ],
   "source": [
    "default_df(preprocessed_df, 'sex')"
   ]
  },
  {
   "cell_type": "markdown",
   "id": "94dfd6c8",
   "metadata": {
    "ExecuteTime": {
     "end_time": "2021-09-03T15:20:18.360479Z",
     "start_time": "2021-09-03T15:20:18.334566Z"
    },
    "hidden": true
   },
   "source": [
    "- around 24% of male customers have defaulted and around 20% of female customers have defaulted."
   ]
  },
  {
   "cell_type": "code",
   "execution_count": 53,
   "id": "72492213",
   "metadata": {
    "ExecuteTime": {
     "end_time": "2021-10-20T02:48:08.830274Z",
     "start_time": "2021-10-20T02:48:08.272220Z"
    },
    "hidden": true
   },
   "outputs": [
    {
     "data": {
      "image/png": "[encoded data removed]",
      "text/plain": [
       "<Figure size 864x432 with 1 Axes>"
      ]
     },
     "metadata": {
      "needs_background": "light"
     },
     "output_type": "display_data"
    },
    {
     "data": {
      "text/html": [
       "<div>\n",
       "<style scoped>\n",
       "    .dataframe tbody tr th:only-of-type {\n",
       "        vertical-align: middle;\n",
       "    }\n",
       "\n",
       "    .dataframe tbody tr th {\n",
       "        vertical-align: top;\n",
       "    }\n",
       "\n",
       "    .dataframe thead th {\n",
       "        text-align: right;\n",
       "    }\n",
       "</style>\n",
       "<table border=\"1\" class=\"dataframe\">\n",
       "  <thead>\n",
       "    <tr style=\"text-align: right;\">\n",
       "      <th>default</th>\n",
       "      <th>total_no_default</th>\n",
       "      <th>total_yes_default</th>\n",
       "      <th>total_default</th>\n",
       "      <th>pct_no_default</th>\n",
       "      <th>pct_yes_default</th>\n",
       "    </tr>\n",
       "    <tr>\n",
       "      <th>education</th>\n",
       "      <th></th>\n",
       "      <th></th>\n",
       "      <th></th>\n",
       "      <th></th>\n",
       "      <th></th>\n",
       "    </tr>\n",
       "  </thead>\n",
       "  <tbody>\n",
       "    <tr>\n",
       "      <th>Graduate School</th>\n",
       "      <td>8549</td>\n",
       "      <td>2036</td>\n",
       "      <td>10585</td>\n",
       "      <td>0.807652</td>\n",
       "      <td>0.192348</td>\n",
       "    </tr>\n",
       "    <tr>\n",
       "      <th>High School</th>\n",
       "      <td>3680</td>\n",
       "      <td>1237</td>\n",
       "      <td>4917</td>\n",
       "      <td>0.748424</td>\n",
       "      <td>0.251576</td>\n",
       "    </tr>\n",
       "    <tr>\n",
       "      <th>Others</th>\n",
       "      <td>435</td>\n",
       "      <td>33</td>\n",
       "      <td>468</td>\n",
       "      <td>0.929487</td>\n",
       "      <td>0.070513</td>\n",
       "    </tr>\n",
       "    <tr>\n",
       "      <th>University</th>\n",
       "      <td>10700</td>\n",
       "      <td>3330</td>\n",
       "      <td>14030</td>\n",
       "      <td>0.762651</td>\n",
       "      <td>0.237349</td>\n",
       "    </tr>\n",
       "    <tr>\n",
       "      <th>All</th>\n",
       "      <td>23364</td>\n",
       "      <td>6636</td>\n",
       "      <td>30000</td>\n",
       "      <td>0.778800</td>\n",
       "      <td>0.221200</td>\n",
       "    </tr>\n",
       "  </tbody>\n",
       "</table>\n",
       "</div>"
      ],
      "text/plain": [
       "default          total_no_default  total_yes_default  total_default  \\\n",
       "education                                                             \n",
       "Graduate School              8549               2036          10585   \n",
       "High School                  3680               1237           4917   \n",
       "Others                        435                 33            468   \n",
       "University                  10700               3330          14030   \n",
       "All                         23364               6636          30000   \n",
       "\n",
       "default          pct_no_default  pct_yes_default  \n",
       "education                                         \n",
       "Graduate School        0.807652         0.192348  \n",
       "High School            0.748424         0.251576  \n",
       "Others                 0.929487         0.070513  \n",
       "University             0.762651         0.237349  \n",
       "All                    0.778800         0.221200  "
      ]
     },
     "execution_count": 53,
     "metadata": {},
     "output_type": "execute_result"
    }
   ],
   "source": [
    "plot_categorical_count(preprocessed_df, col='education', hue='default', is_pct=False)\n",
    "\n",
    "default_df(preprocessed_df, 'education')"
   ]
  },
  {
   "cell_type": "code",
   "execution_count": 54,
   "id": "e32dcf08",
   "metadata": {
    "ExecuteTime": {
     "end_time": "2021-10-20T02:48:54.258851Z",
     "start_time": "2021-10-20T02:48:53.860037Z"
    },
    "hidden": true
   },
   "outputs": [
    {
     "data": {
      "image/png": "[encoded data removed]",
      "text/plain": [
       "<Figure size 864x432 with 1 Axes>"
      ]
     },
     "metadata": {
      "needs_background": "light"
     },
     "output_type": "display_data"
    },
    {
     "data": {
      "text/html": [
       "<div>\n",
       "<style scoped>\n",
       "    .dataframe tbody tr th:only-of-type {\n",
       "        vertical-align: middle;\n",
       "    }\n",
       "\n",
       "    .dataframe tbody tr th {\n",
       "        vertical-align: top;\n",
       "    }\n",
       "\n",
       "    .dataframe thead th {\n",
       "        text-align: right;\n",
       "    }\n",
       "</style>\n",
       "<table border=\"1\" class=\"dataframe\">\n",
       "  <thead>\n",
       "    <tr style=\"text-align: right;\">\n",
       "      <th>default</th>\n",
       "      <th>total_no_default</th>\n",
       "      <th>total_yes_default</th>\n",
       "      <th>total_default</th>\n",
       "      <th>pct_no_default</th>\n",
       "      <th>pct_yes_default</th>\n",
       "    </tr>\n",
       "    <tr>\n",
       "      <th>marriage</th>\n",
       "      <th></th>\n",
       "      <th></th>\n",
       "      <th></th>\n",
       "      <th></th>\n",
       "      <th></th>\n",
       "    </tr>\n",
       "  </thead>\n",
       "  <tbody>\n",
       "    <tr>\n",
       "      <th>Divorced</th>\n",
       "      <td>239</td>\n",
       "      <td>84</td>\n",
       "      <td>323</td>\n",
       "      <td>0.739938</td>\n",
       "      <td>0.260062</td>\n",
       "    </tr>\n",
       "    <tr>\n",
       "      <th>Married</th>\n",
       "      <td>10453</td>\n",
       "      <td>3206</td>\n",
       "      <td>13659</td>\n",
       "      <td>0.765283</td>\n",
       "      <td>0.234717</td>\n",
       "    </tr>\n",
       "    <tr>\n",
       "      <th>Single</th>\n",
       "      <td>12672</td>\n",
       "      <td>3346</td>\n",
       "      <td>16018</td>\n",
       "      <td>0.791110</td>\n",
       "      <td>0.208890</td>\n",
       "    </tr>\n",
       "    <tr>\n",
       "      <th>All</th>\n",
       "      <td>23364</td>\n",
       "      <td>6636</td>\n",
       "      <td>30000</td>\n",
       "      <td>0.778800</td>\n",
       "      <td>0.221200</td>\n",
       "    </tr>\n",
       "  </tbody>\n",
       "</table>\n",
       "</div>"
      ],
      "text/plain": [
       "default   total_no_default  total_yes_default  total_default  pct_no_default  \\\n",
       "marriage                                                                       \n",
       "Divorced               239                 84            323        0.739938   \n",
       "Married              10453               3206          13659        0.765283   \n",
       "Single               12672               3346          16018        0.791110   \n",
       "All                  23364               6636          30000        0.778800   \n",
       "\n",
       "default   pct_yes_default  \n",
       "marriage                   \n",
       "Divorced         0.260062  \n",
       "Married          0.234717  \n",
       "Single           0.208890  \n",
       "All              0.221200  "
      ]
     },
     "execution_count": 54,
     "metadata": {},
     "output_type": "execute_result"
    }
   ],
   "source": [
    "plot_categorical_count(preprocessed_df, col='marriage', hue='default', is_pct=False)\n",
    "\n",
    "default_df(preprocessed_df, 'marriage')"
   ]
  },
  {
   "cell_type": "code",
   "execution_count": 56,
   "id": "6ef2a6b3",
   "metadata": {
    "ExecuteTime": {
     "end_time": "2021-10-20T02:51:15.844500Z",
     "start_time": "2021-10-20T02:51:15.714376Z"
    },
    "hidden": true
   },
   "outputs": [
    {
     "data": {
      "text/html": [
       "<div>\n",
       "<style scoped>\n",
       "    .dataframe tbody tr th:only-of-type {\n",
       "        vertical-align: middle;\n",
       "    }\n",
       "\n",
       "    .dataframe tbody tr th {\n",
       "        vertical-align: top;\n",
       "    }\n",
       "\n",
       "    .dataframe thead th {\n",
       "        text-align: right;\n",
       "    }\n",
       "</style>\n",
       "<table border=\"1\" class=\"dataframe\">\n",
       "  <thead>\n",
       "    <tr style=\"text-align: right;\">\n",
       "      <th>default</th>\n",
       "      <th>No</th>\n",
       "      <th>Yes</th>\n",
       "      <th>All</th>\n",
       "    </tr>\n",
       "    <tr>\n",
       "      <th>pay_1</th>\n",
       "      <th></th>\n",
       "      <th></th>\n",
       "      <th></th>\n",
       "    </tr>\n",
       "  </thead>\n",
       "  <tbody>\n",
       "    <tr>\n",
       "      <th>-2</th>\n",
       "      <td>2394</td>\n",
       "      <td>365</td>\n",
       "      <td>2759</td>\n",
       "    </tr>\n",
       "    <tr>\n",
       "      <th>-1</th>\n",
       "      <td>4732</td>\n",
       "      <td>954</td>\n",
       "      <td>5686</td>\n",
       "    </tr>\n",
       "    <tr>\n",
       "      <th>0</th>\n",
       "      <td>12849</td>\n",
       "      <td>1888</td>\n",
       "      <td>14737</td>\n",
       "    </tr>\n",
       "    <tr>\n",
       "      <th>1</th>\n",
       "      <td>2436</td>\n",
       "      <td>1252</td>\n",
       "      <td>3688</td>\n",
       "    </tr>\n",
       "    <tr>\n",
       "      <th>2</th>\n",
       "      <td>823</td>\n",
       "      <td>1844</td>\n",
       "      <td>2667</td>\n",
       "    </tr>\n",
       "    <tr>\n",
       "      <th>3</th>\n",
       "      <td>78</td>\n",
       "      <td>244</td>\n",
       "      <td>322</td>\n",
       "    </tr>\n",
       "    <tr>\n",
       "      <th>4</th>\n",
       "      <td>24</td>\n",
       "      <td>52</td>\n",
       "      <td>76</td>\n",
       "    </tr>\n",
       "    <tr>\n",
       "      <th>5</th>\n",
       "      <td>13</td>\n",
       "      <td>13</td>\n",
       "      <td>26</td>\n",
       "    </tr>\n",
       "    <tr>\n",
       "      <th>6</th>\n",
       "      <td>5</td>\n",
       "      <td>6</td>\n",
       "      <td>11</td>\n",
       "    </tr>\n",
       "    <tr>\n",
       "      <th>7</th>\n",
       "      <td>2</td>\n",
       "      <td>7</td>\n",
       "      <td>9</td>\n",
       "    </tr>\n",
       "    <tr>\n",
       "      <th>8</th>\n",
       "      <td>8</td>\n",
       "      <td>11</td>\n",
       "      <td>19</td>\n",
       "    </tr>\n",
       "    <tr>\n",
       "      <th>All</th>\n",
       "      <td>23364</td>\n",
       "      <td>6636</td>\n",
       "      <td>30000</td>\n",
       "    </tr>\n",
       "  </tbody>\n",
       "</table>\n",
       "</div>"
      ],
      "text/plain": [
       "default     No   Yes    All\n",
       "pay_1                      \n",
       "-2        2394   365   2759\n",
       "-1        4732   954   5686\n",
       "0        12849  1888  14737\n",
       "1         2436  1252   3688\n",
       "2          823  1844   2667\n",
       "3           78   244    322\n",
       "4           24    52     76\n",
       "5           13    13     26\n",
       "6            5     6     11\n",
       "7            2     7      9\n",
       "8            8    11     19\n",
       "All      23364  6636  30000"
      ]
     },
     "execution_count": 56,
     "metadata": {},
     "output_type": "execute_result"
    }
   ],
   "source": [
    "pd.crosstab(preprocessed_df.pay_1, preprocessed_df.default, margins=True)"
   ]
  },
  {
   "cell_type": "markdown",
   "id": "4b83e9e1",
   "metadata": {
    "hidden": true
   },
   "source": [
    "- we can see that the maximum count of defaults falls under subcategory 2—that is, a payment delay for the last 2 months. This implies that a customer who has missed payments for 2 continuous months has a high probability of default."
   ]
  },
  {
   "cell_type": "code",
   "execution_count": 77,
   "id": "e661ebaf",
   "metadata": {
    "ExecuteTime": {
     "end_time": "2021-10-20T03:19:40.938997Z",
     "start_time": "2021-10-20T03:19:40.042838Z"
    },
    "hidden": true
   },
   "outputs": [
    {
     "data": {
      "image/png": "[encoded data removed]",
      "text/plain": [
       "<Figure size 1080x576 with 1 Axes>"
      ]
     },
     "metadata": {
      "needs_background": "light"
     },
     "output_type": "display_data"
    }
   ],
   "source": [
    "## Balance Limit\n",
    "\n",
    "sns.histplot(data=preprocessed_df, x='limit_bal', hue='default', \n",
    "             kde=True, line_kws={'ls':'--', 'lw':2})\n",
    "plt.show()"
   ]
  },
  {
   "cell_type": "code",
   "execution_count": 78,
   "id": "cbe159c5",
   "metadata": {
    "ExecuteTime": {
     "end_time": "2021-10-20T03:19:45.612731Z",
     "start_time": "2021-10-20T03:19:45.315161Z"
    },
    "hidden": true
   },
   "outputs": [
    {
     "data": {
      "image/png": "[encoded data removed]",
      "text/plain": [
       "<Figure size 1080x576 with 1 Axes>"
      ]
     },
     "metadata": {
      "needs_background": "light"
     },
     "output_type": "display_data"
    }
   ],
   "source": [
    "sns.boxplot(data=preprocessed_df, x='default', y='limit_bal')\n",
    "plt.show()"
   ]
  },
  {
   "cell_type": "code",
   "execution_count": 79,
   "id": "ae2c0685",
   "metadata": {
    "ExecuteTime": {
     "end_time": "2021-10-20T03:19:52.428419Z",
     "start_time": "2021-10-20T03:19:52.403724Z"
    },
    "hidden": true
   },
   "outputs": [
    {
     "data": {
      "text/html": [
       "<div>\n",
       "<style scoped>\n",
       "    .dataframe tbody tr th:only-of-type {\n",
       "        vertical-align: middle;\n",
       "    }\n",
       "\n",
       "    .dataframe tbody tr th {\n",
       "        vertical-align: top;\n",
       "    }\n",
       "\n",
       "    .dataframe thead th {\n",
       "        text-align: right;\n",
       "    }\n",
       "</style>\n",
       "<table border=\"1\" class=\"dataframe\">\n",
       "  <thead>\n",
       "    <tr style=\"text-align: right;\">\n",
       "      <th></th>\n",
       "      <th>mean</th>\n",
       "      <th>median</th>\n",
       "      <th>std</th>\n",
       "    </tr>\n",
       "    <tr>\n",
       "      <th>default</th>\n",
       "      <th></th>\n",
       "      <th></th>\n",
       "      <th></th>\n",
       "    </tr>\n",
       "  </thead>\n",
       "  <tbody>\n",
       "    <tr>\n",
       "      <th>0</th>\n",
       "      <td>178099.726074</td>\n",
       "      <td>150000.0</td>\n",
       "      <td>131628.359660</td>\n",
       "    </tr>\n",
       "    <tr>\n",
       "      <th>1</th>\n",
       "      <td>130109.656420</td>\n",
       "      <td>90000.0</td>\n",
       "      <td>115378.540571</td>\n",
       "    </tr>\n",
       "  </tbody>\n",
       "</table>\n",
       "</div>"
      ],
      "text/plain": [
       "                  mean    median            std\n",
       "default                                        \n",
       "0        178099.726074  150000.0  131628.359660\n",
       "1        130109.656420   90000.0  115378.540571"
      ]
     },
     "execution_count": 79,
     "metadata": {},
     "output_type": "execute_result"
    }
   ],
   "source": [
    "df.groupby('default')['limit_bal'].agg(['mean', 'median', 'std'])"
   ]
  },
  {
   "cell_type": "code",
   "execution_count": 80,
   "id": "5accf6b9",
   "metadata": {
    "ExecuteTime": {
     "end_time": "2021-10-20T03:19:56.595604Z",
     "start_time": "2021-10-20T03:19:56.571330Z"
    },
    "hidden": true
   },
   "outputs": [
    {
     "name": "stdout",
     "output_type": "stream",
     "text": [
      "P-Value: 0.000\n"
     ]
    }
   ],
   "source": [
    "## hypothesis test to check whether average balance for dafaulters and non-defaulters are same\n",
    "\n",
    "res = stats.ttest_ind(preprocessed_df.limit_bal.loc[preprocessed_df.default=='Yes'], \n",
    "                preprocessed_df.limit_bal.loc[preprocessed_df.default=='No'])\n",
    "\n",
    "print(f\"P-Value: {res[1]:.3f}\")"
   ]
  },
  {
   "cell_type": "markdown",
   "id": "c9055816",
   "metadata": {
    "hidden": true
   },
   "source": [
    "- we can infer that customers with higher balances have a lower likelihood of default than customers with lower balance amounts."
   ]
  },
  {
   "cell_type": "code",
   "execution_count": 81,
   "id": "2edffcde",
   "metadata": {
    "ExecuteTime": {
     "end_time": "2021-10-20T03:20:18.336620Z",
     "start_time": "2021-10-20T03:20:17.596887Z"
    },
    "hidden": true
   },
   "outputs": [
    {
     "data": {
      "image/png": "[encoded data removed]",
      "text/plain": [
       "<Figure size 1080x576 with 1 Axes>"
      ]
     },
     "metadata": {
      "needs_background": "light"
     },
     "output_type": "display_data"
    }
   ],
   "source": [
    "## Age \n",
    "\n",
    "sns.histplot(data=preprocessed_df, x='age', hue='default', \n",
    "            kde=True, line_kws={'ls':'--', 'lw':2})\n",
    "plt.show()"
   ]
  },
  {
   "cell_type": "code",
   "execution_count": 82,
   "id": "30e8714b",
   "metadata": {
    "ExecuteTime": {
     "end_time": "2021-10-20T03:20:56.418130Z",
     "start_time": "2021-10-20T03:20:56.147617Z"
    },
    "hidden": true
   },
   "outputs": [
    {
     "data": {
      "image/png": "[encoded data removed]",
      "text/plain": [
       "<Figure size 1080x576 with 1 Axes>"
      ]
     },
     "metadata": {
      "needs_background": "light"
     },
     "output_type": "display_data"
    }
   ],
   "source": [
    "sns.boxplot(data=preprocessed_df, x='default', y='age')\n",
    "plt.show()"
   ]
  },
  {
   "cell_type": "code",
   "execution_count": 83,
   "id": "5bbafd47",
   "metadata": {
    "ExecuteTime": {
     "end_time": "2021-10-20T03:21:30.749150Z",
     "start_time": "2021-10-20T03:21:30.723954Z"
    },
    "hidden": true
   },
   "outputs": [
    {
     "name": "stdout",
     "output_type": "stream",
     "text": [
      "P-Value: 0.016\n"
     ]
    }
   ],
   "source": [
    "## hypothesis test to check whether average age for dafaulters and non-defaulters are same\n",
    "\n",
    "res = stats.ttest_ind(preprocessed_df.age.loc[preprocessed_df.default=='Yes'], \n",
    "                preprocessed_df.age.loc[preprocessed_df.default=='No'])\n",
    "\n",
    "print(f\"P-Value: {res[1]:.3f}\")"
   ]
  },
  {
   "cell_type": "code",
   "execution_count": 93,
   "id": "63e9a562",
   "metadata": {
    "ExecuteTime": {
     "end_time": "2021-10-20T03:43:57.544688Z",
     "start_time": "2021-10-20T03:43:55.726165Z"
    },
    "hidden": true,
    "scrolled": false
   },
   "outputs": [
    {
     "data": {
      "image/png": "[encoded data removed]",
      "text/plain": [
       "<Figure size 1080x576 with 1 Axes>"
      ]
     },
     "metadata": {
      "needs_background": "light"
     },
     "output_type": "display_data"
    }
   ],
   "source": [
    "age_df = pd.crosstab(preprocessed_df.age, preprocessed_df.default, normalize='index')\n",
    "\n",
    "plt.bar(x=age_df.index, height=age_df.No, label='Non-Defaulter')\n",
    "plt.bar(x=age_df.index, height=age_df.Yes, bottom=age_df.No, label='Defaulter')\n",
    "\n",
    "plt.xticks(ticks=range(20,81))\n",
    "plt.xlabel(\"Age\")\n",
    "plt.ylabel(\"Percentage\")\n",
    "plt.title(\"Percentage of Defaulters and Non-Defaulters\")\n",
    "\n",
    "plt.legend()\n",
    "plt.show()"
   ]
  },
  {
   "cell_type": "code",
   "execution_count": 111,
   "id": "f1874b3f",
   "metadata": {
    "ExecuteTime": {
     "end_time": "2021-10-20T03:55:48.137608Z",
     "start_time": "2021-10-20T03:55:48.116825Z"
    },
    "hidden": true
   },
   "outputs": [],
   "source": [
    "## Pay delays\n",
    "\n",
    "def display_pay_delays(df, col):\n",
    "    x = pd.crosstab(index=df[col], columns=df.default, normalize='index')\n",
    "    x = x.style.highlight_max(color='orange', axis=1)\n",
    "    return x"
   ]
  },
  {
   "cell_type": "code",
   "execution_count": 114,
   "id": "84f564d4",
   "metadata": {
    "ExecuteTime": {
     "end_time": "2021-10-20T03:58:33.162615Z",
     "start_time": "2021-10-20T03:58:33.110685Z"
    },
    "hidden": true
   },
   "outputs": [
    {
     "data": {
      "text/html": [
       "<style type=\"text/css\">\n",
       "#T_6bf02_row0_col0, #T_6bf02_row1_col0, #T_6bf02_row2_col0, #T_6bf02_row3_col0, #T_6bf02_row4_col1, #T_6bf02_row5_col1, #T_6bf02_row6_col1, #T_6bf02_row7_col0, #T_6bf02_row7_col1, #T_6bf02_row8_col1, #T_6bf02_row9_col1, #T_6bf02_row10_col1 {\n",
       "  background-color: orange;\n",
       "}\n",
       "</style>\n",
       "<table id=\"T_6bf02_\">\n",
       "  <thead>\n",
       "    <tr>\n",
       "      <th class=\"index_name level0\" >default</th>\n",
       "      <th class=\"col_heading level0 col0\" >No</th>\n",
       "      <th class=\"col_heading level0 col1\" >Yes</th>\n",
       "    </tr>\n",
       "    <tr>\n",
       "      <th class=\"index_name level0\" >pay_1</th>\n",
       "      <th class=\"blank col0\" >&nbsp;</th>\n",
       "      <th class=\"blank col1\" >&nbsp;</th>\n",
       "    </tr>\n",
       "  </thead>\n",
       "  <tbody>\n",
       "    <tr>\n",
       "      <th id=\"T_6bf02_level0_row0\" class=\"row_heading level0 row0\" >-2</th>\n",
       "      <td id=\"T_6bf02_row0_col0\" class=\"data row0 col0\" >0.867706</td>\n",
       "      <td id=\"T_6bf02_row0_col1\" class=\"data row0 col1\" >0.132294</td>\n",
       "    </tr>\n",
       "    <tr>\n",
       "      <th id=\"T_6bf02_level0_row1\" class=\"row_heading level0 row1\" >-1</th>\n",
       "      <td id=\"T_6bf02_row1_col0\" class=\"data row1 col0\" >0.832219</td>\n",
       "      <td id=\"T_6bf02_row1_col1\" class=\"data row1 col1\" >0.167781</td>\n",
       "    </tr>\n",
       "    <tr>\n",
       "      <th id=\"T_6bf02_level0_row2\" class=\"row_heading level0 row2\" >0</th>\n",
       "      <td id=\"T_6bf02_row2_col0\" class=\"data row2 col0\" >0.871887</td>\n",
       "      <td id=\"T_6bf02_row2_col1\" class=\"data row2 col1\" >0.128113</td>\n",
       "    </tr>\n",
       "    <tr>\n",
       "      <th id=\"T_6bf02_level0_row3\" class=\"row_heading level0 row3\" >1</th>\n",
       "      <td id=\"T_6bf02_row3_col0\" class=\"data row3 col0\" >0.660521</td>\n",
       "      <td id=\"T_6bf02_row3_col1\" class=\"data row3 col1\" >0.339479</td>\n",
       "    </tr>\n",
       "    <tr>\n",
       "      <th id=\"T_6bf02_level0_row4\" class=\"row_heading level0 row4\" >2</th>\n",
       "      <td id=\"T_6bf02_row4_col0\" class=\"data row4 col0\" >0.308586</td>\n",
       "      <td id=\"T_6bf02_row4_col1\" class=\"data row4 col1\" >0.691414</td>\n",
       "    </tr>\n",
       "    <tr>\n",
       "      <th id=\"T_6bf02_level0_row5\" class=\"row_heading level0 row5\" >3</th>\n",
       "      <td id=\"T_6bf02_row5_col0\" class=\"data row5 col0\" >0.242236</td>\n",
       "      <td id=\"T_6bf02_row5_col1\" class=\"data row5 col1\" >0.757764</td>\n",
       "    </tr>\n",
       "    <tr>\n",
       "      <th id=\"T_6bf02_level0_row6\" class=\"row_heading level0 row6\" >4</th>\n",
       "      <td id=\"T_6bf02_row6_col0\" class=\"data row6 col0\" >0.315789</td>\n",
       "      <td id=\"T_6bf02_row6_col1\" class=\"data row6 col1\" >0.684211</td>\n",
       "    </tr>\n",
       "    <tr>\n",
       "      <th id=\"T_6bf02_level0_row7\" class=\"row_heading level0 row7\" >5</th>\n",
       "      <td id=\"T_6bf02_row7_col0\" class=\"data row7 col0\" >0.500000</td>\n",
       "      <td id=\"T_6bf02_row7_col1\" class=\"data row7 col1\" >0.500000</td>\n",
       "    </tr>\n",
       "    <tr>\n",
       "      <th id=\"T_6bf02_level0_row8\" class=\"row_heading level0 row8\" >6</th>\n",
       "      <td id=\"T_6bf02_row8_col0\" class=\"data row8 col0\" >0.454545</td>\n",
       "      <td id=\"T_6bf02_row8_col1\" class=\"data row8 col1\" >0.545455</td>\n",
       "    </tr>\n",
       "    <tr>\n",
       "      <th id=\"T_6bf02_level0_row9\" class=\"row_heading level0 row9\" >7</th>\n",
       "      <td id=\"T_6bf02_row9_col0\" class=\"data row9 col0\" >0.222222</td>\n",
       "      <td id=\"T_6bf02_row9_col1\" class=\"data row9 col1\" >0.777778</td>\n",
       "    </tr>\n",
       "    <tr>\n",
       "      <th id=\"T_6bf02_level0_row10\" class=\"row_heading level0 row10\" >8</th>\n",
       "      <td id=\"T_6bf02_row10_col0\" class=\"data row10 col0\" >0.421053</td>\n",
       "      <td id=\"T_6bf02_row10_col1\" class=\"data row10 col1\" >0.578947</td>\n",
       "    </tr>\n",
       "  </tbody>\n",
       "</table>\n"
      ],
      "text/plain": [
       "<pandas.io.formats.style.Styler at 0x1ebb9a65c70>"
      ]
     },
     "execution_count": 114,
     "metadata": {},
     "output_type": "execute_result"
    }
   ],
   "source": [
    "#  repayment status in September\n",
    "\n",
    "display_pay_delays(preprocessed_df, 'pay_1')"
   ]
  },
  {
   "cell_type": "code",
   "execution_count": 116,
   "id": "111a66a0",
   "metadata": {
    "ExecuteTime": {
     "end_time": "2021-10-20T03:59:18.206455Z",
     "start_time": "2021-10-20T03:59:18.159280Z"
    },
    "hidden": true
   },
   "outputs": [
    {
     "data": {
      "text/html": [
       "<style type=\"text/css\">\n",
       "#T_f798e_row0_col0, #T_f798e_row1_col0, #T_f798e_row2_col0, #T_f798e_row3_col0, #T_f798e_row4_col1, #T_f798e_row5_col1, #T_f798e_row6_col1, #T_f798e_row7_col1, #T_f798e_row8_col1, #T_f798e_row9_col1, #T_f798e_row10_col0 {\n",
       "  background-color: orange;\n",
       "}\n",
       "</style>\n",
       "<table id=\"T_f798e_\">\n",
       "  <thead>\n",
       "    <tr>\n",
       "      <th class=\"index_name level0\" >default</th>\n",
       "      <th class=\"col_heading level0 col0\" >No</th>\n",
       "      <th class=\"col_heading level0 col1\" >Yes</th>\n",
       "    </tr>\n",
       "    <tr>\n",
       "      <th class=\"index_name level0\" >pay_2</th>\n",
       "      <th class=\"blank col0\" >&nbsp;</th>\n",
       "      <th class=\"blank col1\" >&nbsp;</th>\n",
       "    </tr>\n",
       "  </thead>\n",
       "  <tbody>\n",
       "    <tr>\n",
       "      <th id=\"T_f798e_level0_row0\" class=\"row_heading level0 row0\" >-2</th>\n",
       "      <td id=\"T_f798e_row0_col0\" class=\"data row0 col0\" >0.817292</td>\n",
       "      <td id=\"T_f798e_row0_col1\" class=\"data row0 col1\" >0.182708</td>\n",
       "    </tr>\n",
       "    <tr>\n",
       "      <th id=\"T_f798e_level0_row1\" class=\"row_heading level0 row1\" >-1</th>\n",
       "      <td id=\"T_f798e_row1_col0\" class=\"data row1 col0\" >0.840331</td>\n",
       "      <td id=\"T_f798e_row1_col1\" class=\"data row1 col1\" >0.159669</td>\n",
       "    </tr>\n",
       "    <tr>\n",
       "      <th id=\"T_f798e_level0_row2\" class=\"row_heading level0 row2\" >0</th>\n",
       "      <td id=\"T_f798e_row2_col0\" class=\"data row2 col0\" >0.840877</td>\n",
       "      <td id=\"T_f798e_row2_col1\" class=\"data row2 col1\" >0.159123</td>\n",
       "    </tr>\n",
       "    <tr>\n",
       "      <th id=\"T_f798e_level0_row3\" class=\"row_heading level0 row3\" >1</th>\n",
       "      <td id=\"T_f798e_row3_col0\" class=\"data row3 col0\" >0.821429</td>\n",
       "      <td id=\"T_f798e_row3_col1\" class=\"data row3 col1\" >0.178571</td>\n",
       "    </tr>\n",
       "    <tr>\n",
       "      <th id=\"T_f798e_level0_row4\" class=\"row_heading level0 row4\" >2</th>\n",
       "      <td id=\"T_f798e_row4_col0\" class=\"data row4 col0\" >0.443850</td>\n",
       "      <td id=\"T_f798e_row4_col1\" class=\"data row4 col1\" >0.556150</td>\n",
       "    </tr>\n",
       "    <tr>\n",
       "      <th id=\"T_f798e_level0_row5\" class=\"row_heading level0 row5\" >3</th>\n",
       "      <td id=\"T_f798e_row5_col0\" class=\"data row5 col0\" >0.383436</td>\n",
       "      <td id=\"T_f798e_row5_col1\" class=\"data row5 col1\" >0.616564</td>\n",
       "    </tr>\n",
       "    <tr>\n",
       "      <th id=\"T_f798e_level0_row6\" class=\"row_heading level0 row6\" >4</th>\n",
       "      <td id=\"T_f798e_row6_col0\" class=\"data row6 col0\" >0.494949</td>\n",
       "      <td id=\"T_f798e_row6_col1\" class=\"data row6 col1\" >0.505051</td>\n",
       "    </tr>\n",
       "    <tr>\n",
       "      <th id=\"T_f798e_level0_row7\" class=\"row_heading level0 row7\" >5</th>\n",
       "      <td id=\"T_f798e_row7_col0\" class=\"data row7 col0\" >0.400000</td>\n",
       "      <td id=\"T_f798e_row7_col1\" class=\"data row7 col1\" >0.600000</td>\n",
       "    </tr>\n",
       "    <tr>\n",
       "      <th id=\"T_f798e_level0_row8\" class=\"row_heading level0 row8\" >6</th>\n",
       "      <td id=\"T_f798e_row8_col0\" class=\"data row8 col0\" >0.250000</td>\n",
       "      <td id=\"T_f798e_row8_col1\" class=\"data row8 col1\" >0.750000</td>\n",
       "    </tr>\n",
       "    <tr>\n",
       "      <th id=\"T_f798e_level0_row9\" class=\"row_heading level0 row9\" >7</th>\n",
       "      <td id=\"T_f798e_row9_col0\" class=\"data row9 col0\" >0.400000</td>\n",
       "      <td id=\"T_f798e_row9_col1\" class=\"data row9 col1\" >0.600000</td>\n",
       "    </tr>\n",
       "    <tr>\n",
       "      <th id=\"T_f798e_level0_row10\" class=\"row_heading level0 row10\" >8</th>\n",
       "      <td id=\"T_f798e_row10_col0\" class=\"data row10 col0\" >1.000000</td>\n",
       "      <td id=\"T_f798e_row10_col1\" class=\"data row10 col1\" >0.000000</td>\n",
       "    </tr>\n",
       "  </tbody>\n",
       "</table>\n"
      ],
      "text/plain": [
       "<pandas.io.formats.style.Styler at 0x1ebbb603d90>"
      ]
     },
     "execution_count": 116,
     "metadata": {},
     "output_type": "execute_result"
    }
   ],
   "source": [
    "#  repayment status in August\n",
    "\n",
    "display_pay_delays(preprocessed_df, 'pay_2')"
   ]
  },
  {
   "cell_type": "code",
   "execution_count": 117,
   "id": "047b0207",
   "metadata": {
    "ExecuteTime": {
     "end_time": "2021-10-20T04:00:06.836105Z",
     "start_time": "2021-10-20T04:00:06.790612Z"
    },
    "hidden": true
   },
   "outputs": [
    {
     "data": {
      "text/html": [
       "<style type=\"text/css\">\n",
       "#T_15c1d_row0_col0, #T_15c1d_row1_col0, #T_15c1d_row2_col0, #T_15c1d_row3_col0, #T_15c1d_row4_col1, #T_15c1d_row5_col1, #T_15c1d_row6_col1, #T_15c1d_row7_col1, #T_15c1d_row8_col1, #T_15c1d_row9_col1, #T_15c1d_row10_col1 {\n",
       "  background-color: orange;\n",
       "}\n",
       "</style>\n",
       "<table id=\"T_15c1d_\">\n",
       "  <thead>\n",
       "    <tr>\n",
       "      <th class=\"index_name level0\" >default</th>\n",
       "      <th class=\"col_heading level0 col0\" >No</th>\n",
       "      <th class=\"col_heading level0 col1\" >Yes</th>\n",
       "    </tr>\n",
       "    <tr>\n",
       "      <th class=\"index_name level0\" >pay_3</th>\n",
       "      <th class=\"blank col0\" >&nbsp;</th>\n",
       "      <th class=\"blank col1\" >&nbsp;</th>\n",
       "    </tr>\n",
       "  </thead>\n",
       "  <tbody>\n",
       "    <tr>\n",
       "      <th id=\"T_15c1d_level0_row0\" class=\"row_heading level0 row0\" >-2</th>\n",
       "      <td id=\"T_15c1d_row0_col0\" class=\"data row0 col0\" >0.814688</td>\n",
       "      <td id=\"T_15c1d_row0_col1\" class=\"data row0 col1\" >0.185312</td>\n",
       "    </tr>\n",
       "    <tr>\n",
       "      <th id=\"T_15c1d_level0_row1\" class=\"row_heading level0 row1\" >-1</th>\n",
       "      <td id=\"T_15c1d_row1_col0\" class=\"data row1 col0\" >0.844055</td>\n",
       "      <td id=\"T_15c1d_row1_col1\" class=\"data row1 col1\" >0.155945</td>\n",
       "    </tr>\n",
       "    <tr>\n",
       "      <th id=\"T_15c1d_level0_row2\" class=\"row_heading level0 row2\" >0</th>\n",
       "      <td id=\"T_15c1d_row2_col0\" class=\"data row2 col0\" >0.825488</td>\n",
       "      <td id=\"T_15c1d_row2_col1\" class=\"data row2 col1\" >0.174512</td>\n",
       "    </tr>\n",
       "    <tr>\n",
       "      <th id=\"T_15c1d_level0_row3\" class=\"row_heading level0 row3\" >1</th>\n",
       "      <td id=\"T_15c1d_row3_col0\" class=\"data row3 col0\" >0.750000</td>\n",
       "      <td id=\"T_15c1d_row3_col1\" class=\"data row3 col1\" >0.250000</td>\n",
       "    </tr>\n",
       "    <tr>\n",
       "      <th id=\"T_15c1d_level0_row4\" class=\"row_heading level0 row4\" >2</th>\n",
       "      <td id=\"T_15c1d_row4_col0\" class=\"data row4 col0\" >0.484420</td>\n",
       "      <td id=\"T_15c1d_row4_col1\" class=\"data row4 col1\" >0.515580</td>\n",
       "    </tr>\n",
       "    <tr>\n",
       "      <th id=\"T_15c1d_level0_row5\" class=\"row_heading level0 row5\" >3</th>\n",
       "      <td id=\"T_15c1d_row5_col0\" class=\"data row5 col0\" >0.425000</td>\n",
       "      <td id=\"T_15c1d_row5_col1\" class=\"data row5 col1\" >0.575000</td>\n",
       "    </tr>\n",
       "    <tr>\n",
       "      <th id=\"T_15c1d_level0_row6\" class=\"row_heading level0 row6\" >4</th>\n",
       "      <td id=\"T_15c1d_row6_col0\" class=\"data row6 col0\" >0.421053</td>\n",
       "      <td id=\"T_15c1d_row6_col1\" class=\"data row6 col1\" >0.578947</td>\n",
       "    </tr>\n",
       "    <tr>\n",
       "      <th id=\"T_15c1d_level0_row7\" class=\"row_heading level0 row7\" >5</th>\n",
       "      <td id=\"T_15c1d_row7_col0\" class=\"data row7 col0\" >0.428571</td>\n",
       "      <td id=\"T_15c1d_row7_col1\" class=\"data row7 col1\" >0.571429</td>\n",
       "    </tr>\n",
       "    <tr>\n",
       "      <th id=\"T_15c1d_level0_row8\" class=\"row_heading level0 row8\" >6</th>\n",
       "      <td id=\"T_15c1d_row8_col0\" class=\"data row8 col0\" >0.391304</td>\n",
       "      <td id=\"T_15c1d_row8_col1\" class=\"data row8 col1\" >0.608696</td>\n",
       "    </tr>\n",
       "    <tr>\n",
       "      <th id=\"T_15c1d_level0_row9\" class=\"row_heading level0 row9\" >7</th>\n",
       "      <td id=\"T_15c1d_row9_col0\" class=\"data row9 col0\" >0.185185</td>\n",
       "      <td id=\"T_15c1d_row9_col1\" class=\"data row9 col1\" >0.814815</td>\n",
       "    </tr>\n",
       "    <tr>\n",
       "      <th id=\"T_15c1d_level0_row10\" class=\"row_heading level0 row10\" >8</th>\n",
       "      <td id=\"T_15c1d_row10_col0\" class=\"data row10 col0\" >0.333333</td>\n",
       "      <td id=\"T_15c1d_row10_col1\" class=\"data row10 col1\" >0.666667</td>\n",
       "    </tr>\n",
       "  </tbody>\n",
       "</table>\n"
      ],
      "text/plain": [
       "<pandas.io.formats.style.Styler at 0x1ebb9085760>"
      ]
     },
     "execution_count": 117,
     "metadata": {},
     "output_type": "execute_result"
    }
   ],
   "source": [
    "#  repayment status in July\n",
    "\n",
    "display_pay_delays(preprocessed_df, 'pay_3')"
   ]
  },
  {
   "cell_type": "code",
   "execution_count": 121,
   "id": "834e1982",
   "metadata": {
    "ExecuteTime": {
     "end_time": "2021-10-20T04:04:22.897307Z",
     "start_time": "2021-10-20T04:04:22.855371Z"
    },
    "hidden": true
   },
   "outputs": [
    {
     "data": {
      "text/html": [
       "<div>\n",
       "<style scoped>\n",
       "    .dataframe tbody tr th:only-of-type {\n",
       "        vertical-align: middle;\n",
       "    }\n",
       "\n",
       "    .dataframe tbody tr th {\n",
       "        vertical-align: top;\n",
       "    }\n",
       "\n",
       "    .dataframe thead th {\n",
       "        text-align: right;\n",
       "    }\n",
       "</style>\n",
       "<table border=\"1\" class=\"dataframe\">\n",
       "  <thead>\n",
       "    <tr style=\"text-align: right;\">\n",
       "      <th>default</th>\n",
       "      <th>No</th>\n",
       "      <th>Yes</th>\n",
       "    </tr>\n",
       "  </thead>\n",
       "  <tbody>\n",
       "    <tr>\n",
       "      <th>min</th>\n",
       "      <td>0.000000</td>\n",
       "      <td>0.000000</td>\n",
       "    </tr>\n",
       "    <tr>\n",
       "      <th>max</th>\n",
       "      <td>873552.000000</td>\n",
       "      <td>300000.000000</td>\n",
       "    </tr>\n",
       "    <tr>\n",
       "      <th>mean</th>\n",
       "      <td>6307.337357</td>\n",
       "      <td>3397.044153</td>\n",
       "    </tr>\n",
       "    <tr>\n",
       "      <th>median</th>\n",
       "      <td>2459.500000</td>\n",
       "      <td>1636.000000</td>\n",
       "    </tr>\n",
       "    <tr>\n",
       "      <th>std</th>\n",
       "      <td>18014.508990</td>\n",
       "      <td>9544.252427</td>\n",
       "    </tr>\n",
       "  </tbody>\n",
       "</table>\n",
       "</div>"
      ],
      "text/plain": [
       "default             No            Yes\n",
       "min           0.000000       0.000000\n",
       "max      873552.000000  300000.000000\n",
       "mean       6307.337357    3397.044153\n",
       "median     2459.500000    1636.000000\n",
       "std       18014.508990    9544.252427"
      ]
     },
     "execution_count": 121,
     "metadata": {},
     "output_type": "execute_result"
    }
   ],
   "source": [
    "## pay amount in September\n",
    "\n",
    "preprocessed_df.groupby('default')['pay_amt1'].agg(['min', 'max', 'mean', 'median', 'std']).T"
   ]
  },
  {
   "cell_type": "markdown",
   "id": "164344d3",
   "metadata": {
    "hidden": true
   },
   "source": [
    "- People with high pay amount in month September are less likely to default than people with less pay amount."
   ]
  },
  {
   "cell_type": "markdown",
   "id": "dfae286c",
   "metadata": {},
   "source": [
    "## Correlation"
   ]
  },
  {
   "cell_type": "code",
   "execution_count": 137,
   "id": "8508ce5b",
   "metadata": {
    "ExecuteTime": {
     "end_time": "2021-10-20T04:21:53.220782Z",
     "start_time": "2021-10-20T04:21:49.408739Z"
    }
   },
   "outputs": [
    {
     "data": {
      "image/png": "[encoded data removed]",
      "text/plain": [
       "<Figure size 1440x1080 with 2 Axes>"
      ]
     },
     "metadata": {
      "needs_background": "light"
     },
     "output_type": "display_data"
    }
   ],
   "source": [
    "corr_matrix = df.corr(method='spearman')\n",
    "\n",
    "\n",
    "plt.figure(figsize=(20,15))\n",
    "sns.heatmap(corr_matrix, cmap='Pastel1', annot=True, fmt='.2g', mask=np.triu(corr_matrix))\n",
    "plt.show()"
   ]
  },
  {
   "cell_type": "code",
   "execution_count": 138,
   "id": "4f9d25c3",
   "metadata": {
    "ExecuteTime": {
     "end_time": "2021-10-20T04:21:53.925734Z",
     "start_time": "2021-10-20T04:21:53.446161Z"
    }
   },
   "outputs": [
    {
     "data": {
      "image/png": "[encoded data removed]",
      "text/plain": [
       "<Figure size 1080x576 with 1 Axes>"
      ]
     },
     "metadata": {
      "needs_background": "light"
     },
     "output_type": "display_data"
    }
   ],
   "source": [
    "corr_matrix.iloc[:-1, -1].plot.bar(color='orange')\n",
    "plt.xlabel(\"Features\")\n",
    "plt.ylabel(\"Correlation\")\n",
    "plt.title(\"Correlation of default feature with all other features\", fontdict={'size':16})\n",
    "plt.show()"
   ]
  },
  {
   "cell_type": "markdown",
   "id": "beeeb520",
   "metadata": {},
   "source": [
    "## Building a Profile of a High-Risk Customer\n",
    "\n",
    "- A male customer is more likely to default than a female customer.\n",
    "- People with a relationship status of other are more likely to default than married or single people.\n",
    "- A customer whose highest educational qualification is a high-school diploma is more likely to default than a customer who has gone to graduate school or university.\n",
    "- A customer who has delayed payment for 2 consecutive months has a higher probability of default.\n",
    "- A customer who is 22 years of age has a higher probability of defaulting on payments than any other age group."
   ]
  },
  {
   "cell_type": "markdown",
   "id": "85fd097b",
   "metadata": {},
   "source": [
    "## Sources"
   ]
  },
  {
   "cell_type": "markdown",
   "id": "68fe8260",
   "metadata": {},
   "source": [
    "- Dua, D. and Graff, C. (2019). [UCI Machine Learning Repository](http://archive.ics.uci.edu/ml). Irvine, CA: University of California, School of Information and Computer Science.\n",
    "- Yeh, I. C., & Lien, C. H. (2009). The comparisons of data mining techniques for the predictive accuracy of probability of default of credit card clients. Expert Systems with Applications, 36(2), 2473-2480.\n",
    "- [Dataset](https://archive.ics.uci.edu/ml/datasets/default+of+credit+card+clients)"
   ]
  }
 ],
 "metadata": {
  "interpreter": {
   "hash": "cf70f3b35e9ffc43db0aa9f385440d8b9f8330cca28098e696ad434588132241"
  },
  "kernelspec": {
   "display_name": "Python 3.8.8 64-bit ('base': conda)",
   "name": "python3"
  },
  "language_info": {
   "codemirror_mode": {
    "name": "ipython",
    "version": 3
   },
   "file_extension": ".py",
   "mimetype": "text/x-python",
   "name": "python",
   "nbconvert_exporter": "python",
   "pygments_lexer": "ipython3",
   "version": "3.8.8"
  },
  "toc": {
   "base_numbering": 1,
   "nav_menu": {},
   "number_sections": true,
   "sideBar": true,
   "skip_h1_title": false,
   "title_cell": "Table of Contents",
   "title_sidebar": "Contents",
   "toc_cell": true,
   "toc_position": {},
   "toc_section_display": true,
   "toc_window_display": false
  },
  "varInspector": {
   "cols": {
    "lenName": 16,
    "lenType": 16,
    "lenVar": 40
   },
   "kernels_config": {
    "python": {
     "delete_cmd_postfix": "",
     "delete_cmd_prefix": "del ",
     "library": "var_list.py",
     "varRefreshCmd": "print(var_dic_list())"
    },
    "r": {
     "delete_cmd_postfix": ") ",
     "delete_cmd_prefix": "rm(",
     "library": "var_list.r",
     "varRefreshCmd": "cat(var_dic_list()) "
    }
   },
   "types_to_exclude": [
    "module",
    "function",
    "builtin_function_or_method",
    "instance",
    "_Feature"
   ],
   "window_display": false
  }
 },
 "nbformat": 4,
 "nbformat_minor": 5
}
