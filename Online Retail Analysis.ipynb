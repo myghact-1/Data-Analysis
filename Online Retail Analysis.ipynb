{
 "cells": [
  {
   "cell_type": "code",
   "execution_count": 1,
   "id": "1ca0f3b9",
   "metadata": {
    "ExecuteTime": {
     "end_time": "2021-09-04T02:04:57.128773Z",
     "start_time": "2021-09-04T02:04:56.080027Z"
    }
   },
   "outputs": [],
   "source": [
    "import numpy as np\n",
    "import pandas as pd\n",
    "import matplotlib.pyplot as plt\n",
    "import seaborn as sns\n",
    "\n",
    "from scipy import stats\n",
    "\n",
    "import warnings\n",
    "warnings.filterwarnings('ignore')"
   ]
  },
  {
   "cell_type": "markdown",
   "id": "5582b1be",
   "metadata": {
    "heading_collapsed": true
   },
   "source": [
    "## Loading and Cleaning Data"
   ]
  },
  {
   "cell_type": "code",
   "execution_count": 6,
   "id": "9941b4ac",
   "metadata": {
    "ExecuteTime": {
     "end_time": "2021-09-04T02:07:55.538352Z",
     "start_time": "2021-09-04T02:07:54.933649Z"
    },
    "hidden": true
   },
   "outputs": [
    {
     "data": {
      "text/html": [
       "<div>\n",
       "<style scoped>\n",
       "    .dataframe tbody tr th:only-of-type {\n",
       "        vertical-align: middle;\n",
       "    }\n",
       "\n",
       "    .dataframe tbody tr th {\n",
       "        vertical-align: top;\n",
       "    }\n",
       "\n",
       "    .dataframe thead th {\n",
       "        text-align: right;\n",
       "    }\n",
       "</style>\n",
       "<table border=\"1\" class=\"dataframe\">\n",
       "  <thead>\n",
       "    <tr style=\"text-align: right;\">\n",
       "      <th></th>\n",
       "      <th>Invoice</th>\n",
       "      <th>StockCode</th>\n",
       "      <th>Description</th>\n",
       "      <th>Quantity</th>\n",
       "      <th>InvoiceDate</th>\n",
       "      <th>Price</th>\n",
       "      <th>Customer ID</th>\n",
       "      <th>Country</th>\n",
       "    </tr>\n",
       "  </thead>\n",
       "  <tbody>\n",
       "    <tr>\n",
       "      <th>0</th>\n",
       "      <td>489434</td>\n",
       "      <td>85048</td>\n",
       "      <td>15CM CHRISTMAS GLASS BALL 20 LIGHTS</td>\n",
       "      <td>12</td>\n",
       "      <td>01/12/2009 07:45</td>\n",
       "      <td>6.95</td>\n",
       "      <td>13085.0</td>\n",
       "      <td>United Kingdom</td>\n",
       "    </tr>\n",
       "    <tr>\n",
       "      <th>1</th>\n",
       "      <td>489434</td>\n",
       "      <td>79323P</td>\n",
       "      <td>PINK CHERRY LIGHTS</td>\n",
       "      <td>12</td>\n",
       "      <td>01/12/2009 07:45</td>\n",
       "      <td>6.75</td>\n",
       "      <td>13085.0</td>\n",
       "      <td>United Kingdom</td>\n",
       "    </tr>\n",
       "    <tr>\n",
       "      <th>2</th>\n",
       "      <td>489434</td>\n",
       "      <td>79323W</td>\n",
       "      <td>WHITE CHERRY LIGHTS</td>\n",
       "      <td>12</td>\n",
       "      <td>01/12/2009 07:45</td>\n",
       "      <td>6.75</td>\n",
       "      <td>13085.0</td>\n",
       "      <td>United Kingdom</td>\n",
       "    </tr>\n",
       "    <tr>\n",
       "      <th>3</th>\n",
       "      <td>489434</td>\n",
       "      <td>22041</td>\n",
       "      <td>RECORD FRAME 7\" SINGLE SIZE</td>\n",
       "      <td>48</td>\n",
       "      <td>01/12/2009 07:45</td>\n",
       "      <td>2.10</td>\n",
       "      <td>13085.0</td>\n",
       "      <td>United Kingdom</td>\n",
       "    </tr>\n",
       "    <tr>\n",
       "      <th>4</th>\n",
       "      <td>489434</td>\n",
       "      <td>21232</td>\n",
       "      <td>STRAWBERRY CERAMIC TRINKET BOX</td>\n",
       "      <td>24</td>\n",
       "      <td>01/12/2009 07:45</td>\n",
       "      <td>1.25</td>\n",
       "      <td>13085.0</td>\n",
       "      <td>United Kingdom</td>\n",
       "    </tr>\n",
       "  </tbody>\n",
       "</table>\n",
       "</div>"
      ],
      "text/plain": [
       "  Invoice StockCode                          Description  Quantity  \\\n",
       "0  489434     85048  15CM CHRISTMAS GLASS BALL 20 LIGHTS        12   \n",
       "1  489434    79323P                   PINK CHERRY LIGHTS        12   \n",
       "2  489434    79323W                  WHITE CHERRY LIGHTS        12   \n",
       "3  489434     22041         RECORD FRAME 7\" SINGLE SIZE         48   \n",
       "4  489434     21232       STRAWBERRY CERAMIC TRINKET BOX        24   \n",
       "\n",
       "        InvoiceDate  Price  Customer ID         Country  \n",
       "0  01/12/2009 07:45   6.95      13085.0  United Kingdom  \n",
       "1  01/12/2009 07:45   6.75      13085.0  United Kingdom  \n",
       "2  01/12/2009 07:45   6.75      13085.0  United Kingdom  \n",
       "3  01/12/2009 07:45   2.10      13085.0  United Kingdom  \n",
       "4  01/12/2009 07:45   1.25      13085.0  United Kingdom  "
      ]
     },
     "execution_count": 6,
     "metadata": {},
     "output_type": "execute_result"
    }
   ],
   "source": [
    "retail_df = pd.read_csv('retail_dataset_II.csv', index_col=0)\n",
    "retail_df.head()"
   ]
  },
  {
   "cell_type": "code",
   "execution_count": 7,
   "id": "08e55fbe",
   "metadata": {
    "ExecuteTime": {
     "end_time": "2021-09-04T02:07:57.426055Z",
     "start_time": "2021-09-04T02:07:57.418075Z"
    },
    "hidden": true
   },
   "outputs": [
    {
     "data": {
      "text/plain": [
       "(525461, 8)"
      ]
     },
     "execution_count": 7,
     "metadata": {},
     "output_type": "execute_result"
    }
   ],
   "source": [
    "retail_df.shape"
   ]
  },
  {
   "cell_type": "code",
   "execution_count": 9,
   "id": "0cade4d5",
   "metadata": {
    "ExecuteTime": {
     "end_time": "2021-09-04T02:10:08.715427Z",
     "start_time": "2021-09-04T02:10:08.697476Z"
    },
    "hidden": true
   },
   "outputs": [],
   "source": [
    "retail_df.columns = retail_df.columns.str.lower().str.replace(' ', '_')"
   ]
  },
  {
   "cell_type": "code",
   "execution_count": 11,
   "id": "3cae8a1f",
   "metadata": {
    "ExecuteTime": {
     "end_time": "2021-09-04T02:10:45.447097Z",
     "start_time": "2021-09-04T02:10:45.430194Z"
    },
    "hidden": true
   },
   "outputs": [],
   "source": [
    "retail_df.rename(columns={'price':'unit_price'}, inplace=True)"
   ]
  },
  {
   "cell_type": "code",
   "execution_count": 12,
   "id": "ec562b03",
   "metadata": {
    "ExecuteTime": {
     "end_time": "2021-09-04T02:11:30.292743Z",
     "start_time": "2021-09-04T02:11:30.172802Z"
    },
    "hidden": true
   },
   "outputs": [
    {
     "data": {
      "text/plain": [
       "invoice             0\n",
       "stockcode           0\n",
       "description      2928\n",
       "quantity            0\n",
       "invoicedate         0\n",
       "unit_price          0\n",
       "customer_id    107927\n",
       "country             0\n",
       "dtype: int64"
      ]
     },
     "execution_count": 12,
     "metadata": {},
     "output_type": "execute_result"
    }
   ],
   "source": [
    "retail_df.isna().sum()"
   ]
  },
  {
   "cell_type": "code",
   "execution_count": 13,
   "id": "97a7ffc1",
   "metadata": {
    "ExecuteTime": {
     "end_time": "2021-09-04T02:11:43.339899Z",
     "start_time": "2021-09-04T02:11:43.221278Z"
    },
    "hidden": true
   },
   "outputs": [
    {
     "name": "stdout",
     "output_type": "stream",
     "text": [
      "<class 'pandas.core.frame.DataFrame'>\n",
      "Int64Index: 525461 entries, 0 to 525460\n",
      "Data columns (total 8 columns):\n",
      " #   Column       Non-Null Count   Dtype  \n",
      "---  ------       --------------   -----  \n",
      " 0   invoice      525461 non-null  object \n",
      " 1   stockcode    525461 non-null  object \n",
      " 2   description  522533 non-null  object \n",
      " 3   quantity     525461 non-null  int64  \n",
      " 4   invoicedate  525461 non-null  object \n",
      " 5   unit_price   525461 non-null  float64\n",
      " 6   customer_id  417534 non-null  float64\n",
      " 7   country      525461 non-null  object \n",
      "dtypes: float64(2), int64(1), object(5)\n",
      "memory usage: 36.1+ MB\n"
     ]
    }
   ],
   "source": [
    "retail_df.info()"
   ]
  },
  {
   "cell_type": "code",
   "execution_count": 14,
   "id": "341ec1f2",
   "metadata": {
    "ExecuteTime": {
     "end_time": "2021-09-04T02:13:06.119801Z",
     "start_time": "2021-09-04T02:13:06.044009Z"
    },
    "hidden": true
   },
   "outputs": [
    {
     "data": {
      "text/html": [
       "<div>\n",
       "<style scoped>\n",
       "    .dataframe tbody tr th:only-of-type {\n",
       "        vertical-align: middle;\n",
       "    }\n",
       "\n",
       "    .dataframe tbody tr th {\n",
       "        vertical-align: top;\n",
       "    }\n",
       "\n",
       "    .dataframe thead th {\n",
       "        text-align: right;\n",
       "    }\n",
       "</style>\n",
       "<table border=\"1\" class=\"dataframe\">\n",
       "  <thead>\n",
       "    <tr style=\"text-align: right;\">\n",
       "      <th></th>\n",
       "      <th>quantity</th>\n",
       "      <th>unit_price</th>\n",
       "      <th>customer_id</th>\n",
       "    </tr>\n",
       "  </thead>\n",
       "  <tbody>\n",
       "    <tr>\n",
       "      <th>count</th>\n",
       "      <td>525461.000000</td>\n",
       "      <td>525461.000000</td>\n",
       "      <td>417534.000000</td>\n",
       "    </tr>\n",
       "    <tr>\n",
       "      <th>mean</th>\n",
       "      <td>10.337667</td>\n",
       "      <td>4.688834</td>\n",
       "      <td>15360.645478</td>\n",
       "    </tr>\n",
       "    <tr>\n",
       "      <th>std</th>\n",
       "      <td>107.424110</td>\n",
       "      <td>146.126914</td>\n",
       "      <td>1680.811316</td>\n",
       "    </tr>\n",
       "    <tr>\n",
       "      <th>min</th>\n",
       "      <td>-9600.000000</td>\n",
       "      <td>-53594.360000</td>\n",
       "      <td>12346.000000</td>\n",
       "    </tr>\n",
       "    <tr>\n",
       "      <th>25%</th>\n",
       "      <td>1.000000</td>\n",
       "      <td>1.250000</td>\n",
       "      <td>13983.000000</td>\n",
       "    </tr>\n",
       "    <tr>\n",
       "      <th>50%</th>\n",
       "      <td>3.000000</td>\n",
       "      <td>2.100000</td>\n",
       "      <td>15311.000000</td>\n",
       "    </tr>\n",
       "    <tr>\n",
       "      <th>75%</th>\n",
       "      <td>10.000000</td>\n",
       "      <td>4.210000</td>\n",
       "      <td>16799.000000</td>\n",
       "    </tr>\n",
       "    <tr>\n",
       "      <th>max</th>\n",
       "      <td>19152.000000</td>\n",
       "      <td>25111.090000</td>\n",
       "      <td>18287.000000</td>\n",
       "    </tr>\n",
       "  </tbody>\n",
       "</table>\n",
       "</div>"
      ],
      "text/plain": [
       "            quantity     unit_price    customer_id\n",
       "count  525461.000000  525461.000000  417534.000000\n",
       "mean       10.337667       4.688834   15360.645478\n",
       "std       107.424110     146.126914    1680.811316\n",
       "min     -9600.000000  -53594.360000   12346.000000\n",
       "25%         1.000000       1.250000   13983.000000\n",
       "50%         3.000000       2.100000   15311.000000\n",
       "75%        10.000000       4.210000   16799.000000\n",
       "max     19152.000000   25111.090000   18287.000000"
      ]
     },
     "execution_count": 14,
     "metadata": {},
     "output_type": "execute_result"
    }
   ],
   "source": [
    "retail_df.describe()"
   ]
  },
  {
   "cell_type": "markdown",
   "id": "639b065d",
   "metadata": {
    "hidden": true
   },
   "source": [
    "- There are some odd values in data.\n",
    "- quantity and unit price columns have some negative values\n",
    "- max value of quantity is 19152 (seems impossible)\n",
    "- Additionally, the maximum value of unit price is 25111, which is plausible, but seems unlikely."
   ]
  },
  {
   "cell_type": "code",
   "execution_count": 20,
   "id": "8aebd298",
   "metadata": {
    "ExecuteTime": {
     "end_time": "2021-09-04T02:21:59.072132Z",
     "start_time": "2021-09-04T02:21:59.053171Z"
    },
    "hidden": true
   },
   "outputs": [
    {
     "data": {
      "text/html": [
       "<div>\n",
       "<style scoped>\n",
       "    .dataframe tbody tr th:only-of-type {\n",
       "        vertical-align: middle;\n",
       "    }\n",
       "\n",
       "    .dataframe tbody tr th {\n",
       "        vertical-align: top;\n",
       "    }\n",
       "\n",
       "    .dataframe thead th {\n",
       "        text-align: right;\n",
       "    }\n",
       "</style>\n",
       "<table border=\"1\" class=\"dataframe\">\n",
       "  <thead>\n",
       "    <tr style=\"text-align: right;\">\n",
       "      <th></th>\n",
       "      <th>invoice</th>\n",
       "      <th>stockcode</th>\n",
       "      <th>description</th>\n",
       "      <th>quantity</th>\n",
       "      <th>invoicedate</th>\n",
       "      <th>unit_price</th>\n",
       "      <th>customer_id</th>\n",
       "      <th>country</th>\n",
       "    </tr>\n",
       "  </thead>\n",
       "  <tbody>\n",
       "    <tr>\n",
       "      <th>241824</th>\n",
       "      <td>C512770</td>\n",
       "      <td>M</td>\n",
       "      <td>Manual</td>\n",
       "      <td>-1</td>\n",
       "      <td>17/06/2010 16:52</td>\n",
       "      <td>25111.09</td>\n",
       "      <td>17399.0</td>\n",
       "      <td>United Kingdom</td>\n",
       "    </tr>\n",
       "    <tr>\n",
       "      <th>241827</th>\n",
       "      <td>512771</td>\n",
       "      <td>M</td>\n",
       "      <td>Manual</td>\n",
       "      <td>1</td>\n",
       "      <td>17/06/2010 16:53</td>\n",
       "      <td>25111.09</td>\n",
       "      <td>NaN</td>\n",
       "      <td>United Kingdom</td>\n",
       "    </tr>\n",
       "  </tbody>\n",
       "</table>\n",
       "</div>"
      ],
      "text/plain": [
       "        invoice stockcode description  quantity       invoicedate  unit_price  \\\n",
       "241824  C512770         M      Manual        -1  17/06/2010 16:52    25111.09   \n",
       "241827   512771         M      Manual         1  17/06/2010 16:53    25111.09   \n",
       "\n",
       "        customer_id         country  \n",
       "241824      17399.0  United Kingdom  \n",
       "241827          NaN  United Kingdom  "
      ]
     },
     "execution_count": 20,
     "metadata": {},
     "output_type": "execute_result"
    }
   ],
   "source": [
    "retail_df.loc[retail_df.unit_price==25111.09]"
   ]
  },
  {
   "cell_type": "code",
   "execution_count": 21,
   "id": "e40babf4",
   "metadata": {
    "ExecuteTime": {
     "end_time": "2021-09-04T02:23:58.453286Z",
     "start_time": "2021-09-04T02:23:58.429320Z"
    },
    "hidden": true
   },
   "outputs": [
    {
     "data": {
      "text/html": [
       "<div>\n",
       "<style scoped>\n",
       "    .dataframe tbody tr th:only-of-type {\n",
       "        vertical-align: middle;\n",
       "    }\n",
       "\n",
       "    .dataframe tbody tr th {\n",
       "        vertical-align: top;\n",
       "    }\n",
       "\n",
       "    .dataframe thead th {\n",
       "        text-align: right;\n",
       "    }\n",
       "</style>\n",
       "<table border=\"1\" class=\"dataframe\">\n",
       "  <thead>\n",
       "    <tr style=\"text-align: right;\">\n",
       "      <th></th>\n",
       "      <th>invoice</th>\n",
       "      <th>stockcode</th>\n",
       "      <th>description</th>\n",
       "      <th>quantity</th>\n",
       "      <th>invoicedate</th>\n",
       "      <th>unit_price</th>\n",
       "      <th>customer_id</th>\n",
       "      <th>country</th>\n",
       "    </tr>\n",
       "  </thead>\n",
       "  <tbody>\n",
       "    <tr>\n",
       "      <th>179403</th>\n",
       "      <td>A506401</td>\n",
       "      <td>B</td>\n",
       "      <td>Adjust bad debt</td>\n",
       "      <td>1</td>\n",
       "      <td>29/04/2010 13:36</td>\n",
       "      <td>-53594.36</td>\n",
       "      <td>NaN</td>\n",
       "      <td>United Kingdom</td>\n",
       "    </tr>\n",
       "  </tbody>\n",
       "</table>\n",
       "</div>"
      ],
      "text/plain": [
       "        invoice stockcode      description  quantity       invoicedate  \\\n",
       "179403  A506401         B  Adjust bad debt         1  29/04/2010 13:36   \n",
       "\n",
       "        unit_price  customer_id         country  \n",
       "179403   -53594.36          NaN  United Kingdom  "
      ]
     },
     "execution_count": 21,
     "metadata": {},
     "output_type": "execute_result"
    }
   ],
   "source": [
    "retail_df.loc[retail_df['unit_price'] == -53594.360000]"
   ]
  },
  {
   "cell_type": "code",
   "execution_count": 22,
   "id": "84626016",
   "metadata": {
    "ExecuteTime": {
     "end_time": "2021-09-04T02:26:28.484477Z",
     "start_time": "2021-09-04T02:26:28.474505Z"
    },
    "hidden": true
   },
   "outputs": [
    {
     "data": {
      "text/plain": [
       "3690"
      ]
     },
     "execution_count": 22,
     "metadata": {},
     "output_type": "execute_result"
    }
   ],
   "source": [
    "(retail_df.unit_price <= 0).sum()"
   ]
  },
  {
   "cell_type": "code",
   "execution_count": 23,
   "id": "52238aef",
   "metadata": {
    "ExecuteTime": {
     "end_time": "2021-09-04T02:27:05.723677Z",
     "start_time": "2021-09-04T02:27:05.708059Z"
    },
    "hidden": true
   },
   "outputs": [
    {
     "data": {
      "text/plain": [
       "12326"
      ]
     },
     "execution_count": 23,
     "metadata": {},
     "output_type": "execute_result"
    }
   ],
   "source": [
    "(retail_df.quantity <= 0).sum()"
   ]
  },
  {
   "cell_type": "code",
   "execution_count": 24,
   "id": "0c1c3ad4",
   "metadata": {
    "ExecuteTime": {
     "end_time": "2021-09-04T02:29:47.058628Z",
     "start_time": "2021-09-04T02:29:47.041711Z"
    },
    "hidden": true
   },
   "outputs": [
    {
     "data": {
      "text/plain": [
       "2121"
      ]
     },
     "execution_count": 24,
     "metadata": {},
     "output_type": "execute_result"
    }
   ],
   "source": [
    "((retail_df.unit_price <=0) & (retail_df.quantity<=0) & (retail_df.customer_id.isna())).sum()"
   ]
  },
  {
   "cell_type": "code",
   "execution_count": 25,
   "id": "69c40af8",
   "metadata": {
    "ExecuteTime": {
     "end_time": "2021-09-04T02:34:38.562098Z",
     "start_time": "2021-09-04T02:34:38.454103Z"
    },
    "hidden": true
   },
   "outputs": [
    {
     "data": {
      "text/html": [
       "<div>\n",
       "<style scoped>\n",
       "    .dataframe tbody tr th:only-of-type {\n",
       "        vertical-align: middle;\n",
       "    }\n",
       "\n",
       "    .dataframe tbody tr th {\n",
       "        vertical-align: top;\n",
       "    }\n",
       "\n",
       "    .dataframe thead th {\n",
       "        text-align: right;\n",
       "    }\n",
       "</style>\n",
       "<table border=\"1\" class=\"dataframe\">\n",
       "  <thead>\n",
       "    <tr style=\"text-align: right;\">\n",
       "      <th></th>\n",
       "      <th>quantity</th>\n",
       "      <th>unit_price</th>\n",
       "      <th>customer_id</th>\n",
       "    </tr>\n",
       "  </thead>\n",
       "  <tbody>\n",
       "    <tr>\n",
       "      <th>count</th>\n",
       "      <td>523340.000000</td>\n",
       "      <td>523340.000000</td>\n",
       "      <td>417534.000000</td>\n",
       "    </tr>\n",
       "    <tr>\n",
       "      <th>mean</th>\n",
       "      <td>11.079163</td>\n",
       "      <td>4.707837</td>\n",
       "      <td>15360.645478</td>\n",
       "    </tr>\n",
       "    <tr>\n",
       "      <th>std</th>\n",
       "      <td>96.653187</td>\n",
       "      <td>146.422422</td>\n",
       "      <td>1680.811316</td>\n",
       "    </tr>\n",
       "    <tr>\n",
       "      <th>min</th>\n",
       "      <td>-9360.000000</td>\n",
       "      <td>-53594.360000</td>\n",
       "      <td>12346.000000</td>\n",
       "    </tr>\n",
       "    <tr>\n",
       "      <th>25%</th>\n",
       "      <td>1.000000</td>\n",
       "      <td>1.250000</td>\n",
       "      <td>13983.000000</td>\n",
       "    </tr>\n",
       "    <tr>\n",
       "      <th>50%</th>\n",
       "      <td>3.000000</td>\n",
       "      <td>2.100000</td>\n",
       "      <td>15311.000000</td>\n",
       "    </tr>\n",
       "    <tr>\n",
       "      <th>75%</th>\n",
       "      <td>10.000000</td>\n",
       "      <td>4.210000</td>\n",
       "      <td>16799.000000</td>\n",
       "    </tr>\n",
       "    <tr>\n",
       "      <th>max</th>\n",
       "      <td>19152.000000</td>\n",
       "      <td>25111.090000</td>\n",
       "      <td>18287.000000</td>\n",
       "    </tr>\n",
       "  </tbody>\n",
       "</table>\n",
       "</div>"
      ],
      "text/plain": [
       "            quantity     unit_price    customer_id\n",
       "count  523340.000000  523340.000000  417534.000000\n",
       "mean       11.079163       4.707837   15360.645478\n",
       "std        96.653187     146.422422    1680.811316\n",
       "min     -9360.000000  -53594.360000   12346.000000\n",
       "25%         1.000000       1.250000   13983.000000\n",
       "50%         3.000000       2.100000   15311.000000\n",
       "75%        10.000000       4.210000   16799.000000\n",
       "max     19152.000000   25111.090000   18287.000000"
      ]
     },
     "execution_count": 25,
     "metadata": {},
     "output_type": "execute_result"
    }
   ],
   "source": [
    "condition = (retail_df.unit_price <=0) & (retail_df.quantity<=0) & (retail_df.customer_id.isna())\n",
    "\n",
    "new_retail = retail_df.loc[~condition]\n",
    "new_retail.describe()"
   ]
  },
  {
   "cell_type": "code",
   "execution_count": 26,
   "id": "53f46960",
   "metadata": {
    "ExecuteTime": {
     "end_time": "2021-09-04T02:34:54.907548Z",
     "start_time": "2021-09-04T02:34:54.900576Z"
    },
    "hidden": true
   },
   "outputs": [
    {
     "data": {
      "text/plain": [
       "(523340, 8)"
      ]
     },
     "execution_count": 26,
     "metadata": {},
     "output_type": "execute_result"
    }
   ],
   "source": [
    "new_retail.shape"
   ]
  },
  {
   "cell_type": "code",
   "execution_count": 27,
   "id": "2a6a1039",
   "metadata": {
    "ExecuteTime": {
     "end_time": "2021-09-04T02:35:39.703084Z",
     "start_time": "2021-09-04T02:35:39.597898Z"
    },
    "hidden": true
   },
   "outputs": [
    {
     "data": {
      "text/plain": [
       "invoice             0\n",
       "stockcode           0\n",
       "description      1101\n",
       "quantity            0\n",
       "invoicedate         0\n",
       "unit_price          0\n",
       "customer_id    105806\n",
       "country             0\n",
       "dtype: int64"
      ]
     },
     "execution_count": 27,
     "metadata": {},
     "output_type": "execute_result"
    }
   ],
   "source": [
    "new_retail.isna().sum()"
   ]
  },
  {
   "cell_type": "code",
   "execution_count": 28,
   "id": "2264e450",
   "metadata": {
    "ExecuteTime": {
     "end_time": "2021-09-04T02:37:30.897725Z",
     "start_time": "2021-09-04T02:37:30.879774Z"
    },
    "hidden": true
   },
   "outputs": [
    {
     "data": {
      "text/plain": [
       "1538"
      ]
     },
     "execution_count": 28,
     "metadata": {},
     "output_type": "execute_result"
    }
   ],
   "source": [
    "((new_retail.customer_id.isna()) & (new_retail.unit_price<=0)).sum()"
   ]
  },
  {
   "cell_type": "code",
   "execution_count": 31,
   "id": "3923efeb",
   "metadata": {
    "ExecuteTime": {
     "end_time": "2021-09-04T02:41:03.466121Z",
     "start_time": "2021-09-04T02:41:03.318144Z"
    },
    "hidden": true
   },
   "outputs": [
    {
     "data": {
      "text/plain": [
       "invoice             0\n",
       "stockcode           0\n",
       "description         0\n",
       "quantity            0\n",
       "invoicedate         0\n",
       "unit_price          0\n",
       "customer_id    104268\n",
       "country             0\n",
       "dtype: int64"
      ]
     },
     "execution_count": 31,
     "metadata": {},
     "output_type": "execute_result"
    }
   ],
   "source": [
    "mask = (new_retail.customer_id.isna()) & (new_retail.unit_price<=0)\n",
    "\n",
    "new_retail = new_retail.loc[~mask]\n",
    "new_retail.isna().sum()"
   ]
  },
  {
   "cell_type": "code",
   "execution_count": 36,
   "id": "eda8a783",
   "metadata": {
    "ExecuteTime": {
     "end_time": "2021-09-04T02:44:52.501762Z",
     "start_time": "2021-09-04T02:44:52.455371Z"
    },
    "hidden": true
   },
   "outputs": [],
   "source": [
    "new_retail = new_retail.loc[~(new_retail.quantity<=0)]"
   ]
  },
  {
   "cell_type": "code",
   "execution_count": 38,
   "id": "769af0c6",
   "metadata": {
    "ExecuteTime": {
     "end_time": "2021-09-04T02:45:13.348736Z",
     "start_time": "2021-09-04T02:45:13.311826Z"
    },
    "hidden": true
   },
   "outputs": [],
   "source": [
    "new_retail = new_retail.loc[~(new_retail.unit_price<=0)]"
   ]
  },
  {
   "cell_type": "code",
   "execution_count": 40,
   "id": "2df409b2",
   "metadata": {
    "ExecuteTime": {
     "end_time": "2021-09-04T02:45:29.861752Z",
     "start_time": "2021-09-04T02:45:29.752126Z"
    },
    "hidden": true
   },
   "outputs": [
    {
     "data": {
      "text/plain": [
       "invoice             0\n",
       "stockcode           0\n",
       "description         0\n",
       "quantity            0\n",
       "invoicedate         0\n",
       "unit_price          0\n",
       "customer_id    103902\n",
       "country             0\n",
       "dtype: int64"
      ]
     },
     "execution_count": 40,
     "metadata": {},
     "output_type": "execute_result"
    }
   ],
   "source": [
    "new_retail.isna().sum()"
   ]
  },
  {
   "cell_type": "code",
   "execution_count": 41,
   "id": "fdb7045f",
   "metadata": {
    "ExecuteTime": {
     "end_time": "2021-09-04T02:47:32.556670Z",
     "start_time": "2021-09-04T02:47:32.549656Z"
    },
    "hidden": true
   },
   "outputs": [
    {
     "data": {
      "text/plain": [
       "(511566, 8)"
      ]
     },
     "execution_count": 41,
     "metadata": {},
     "output_type": "execute_result"
    }
   ],
   "source": [
    "new_retail.shape"
   ]
  },
  {
   "cell_type": "code",
   "execution_count": 43,
   "id": "7086cfd6",
   "metadata": {
    "ExecuteTime": {
     "end_time": "2021-09-04T02:50:13.594255Z",
     "start_time": "2021-09-04T02:50:13.430424Z"
    },
    "hidden": true
   },
   "outputs": [],
   "source": [
    "new_retail.dropna(inplace=True)"
   ]
  },
  {
   "cell_type": "code",
   "execution_count": 45,
   "id": "68022e4e",
   "metadata": {
    "ExecuteTime": {
     "end_time": "2021-09-04T02:51:39.265688Z",
     "start_time": "2021-09-04T02:51:39.106796Z"
    },
    "hidden": true
   },
   "outputs": [
    {
     "data": {
      "image/png": "[encoded data removed]",
      "text/plain": [
       "<Figure size 864x432 with 1 Axes>"
      ]
     },
     "metadata": {
      "needs_background": "light"
     },
     "output_type": "display_data"
    }
   ],
   "source": [
    "plt.rcParams['figure.figsize'] = [12, 6]\n",
    "\n",
    "sns.boxplot(data=new_retail, x='unit_price')\n",
    "plt.show()"
   ]
  },
  {
   "cell_type": "code",
   "execution_count": 50,
   "id": "6d4eecce",
   "metadata": {
    "ExecuteTime": {
     "end_time": "2021-09-04T02:54:25.649683Z",
     "start_time": "2021-09-04T02:54:25.607878Z"
    },
    "hidden": true
   },
   "outputs": [],
   "source": [
    "new_retail = new_retail.loc[new_retail.unit_price<100]"
   ]
  },
  {
   "cell_type": "code",
   "execution_count": 51,
   "id": "9117dd91",
   "metadata": {
    "ExecuteTime": {
     "end_time": "2021-09-04T02:54:26.826328Z",
     "start_time": "2021-09-04T02:54:26.670057Z"
    },
    "hidden": true
   },
   "outputs": [
    {
     "data": {
      "image/png": "[encoded data removed]",
      "text/plain": [
       "<Figure size 864x432 with 1 Axes>"
      ]
     },
     "metadata": {
      "needs_background": "light"
     },
     "output_type": "display_data"
    }
   ],
   "source": [
    "sns.boxplot(data=new_retail, x='unit_price')\n",
    "plt.show()"
   ]
  },
  {
   "cell_type": "code",
   "execution_count": 52,
   "id": "a81210d5",
   "metadata": {
    "ExecuteTime": {
     "end_time": "2021-09-04T02:54:50.736950Z",
     "start_time": "2021-09-04T02:54:50.495352Z"
    },
    "hidden": true
   },
   "outputs": [
    {
     "data": {
      "image/png": "[encoded data removed]",
      "text/plain": [
       "<Figure size 864x432 with 1 Axes>"
      ]
     },
     "metadata": {
      "needs_background": "light"
     },
     "output_type": "display_data"
    }
   ],
   "source": [
    "sns.boxplot(data=new_retail, x='quantity')\n",
    "plt.show()"
   ]
  },
  {
   "cell_type": "code",
   "execution_count": 53,
   "id": "3e39e07b",
   "metadata": {
    "ExecuteTime": {
     "end_time": "2021-09-04T02:55:48.710035Z",
     "start_time": "2021-09-04T02:55:48.675098Z"
    },
    "hidden": true
   },
   "outputs": [],
   "source": [
    "new_retail = new_retail.loc[new_retail.quantity<2500]"
   ]
  },
  {
   "cell_type": "code",
   "execution_count": 54,
   "id": "8ebfd20d",
   "metadata": {
    "ExecuteTime": {
     "end_time": "2021-09-04T02:56:10.594455Z",
     "start_time": "2021-09-04T02:56:10.446928Z"
    },
    "hidden": true
   },
   "outputs": [
    {
     "data": {
      "image/png": "[encoded data removed]",
      "text/plain": [
       "<Figure size 864x432 with 1 Axes>"
      ]
     },
     "metadata": {
      "needs_background": "light"
     },
     "output_type": "display_data"
    }
   ],
   "source": [
    "sns.boxplot(data=new_retail, x='quantity')\n",
    "plt.show()"
   ]
  },
  {
   "cell_type": "code",
   "execution_count": 55,
   "id": "89598ee0",
   "metadata": {
    "ExecuteTime": {
     "end_time": "2021-09-04T02:56:35.780254Z",
     "start_time": "2021-09-04T02:56:35.764633Z"
    },
    "hidden": true
   },
   "outputs": [
    {
     "data": {
      "text/plain": [
       "(407401, 8)"
      ]
     },
     "execution_count": 55,
     "metadata": {},
     "output_type": "execute_result"
    }
   ],
   "source": [
    "new_retail.shape"
   ]
  },
  {
   "cell_type": "markdown",
   "id": "305ff7b9",
   "metadata": {
    "heading_collapsed": true
   },
   "source": [
    "## Data Preprocessing"
   ]
  },
  {
   "cell_type": "code",
   "execution_count": 56,
   "id": "438b7e22",
   "metadata": {
    "ExecuteTime": {
     "end_time": "2021-09-04T02:57:36.174395Z",
     "start_time": "2021-09-04T02:57:36.154449Z"
    },
    "hidden": true
   },
   "outputs": [
    {
     "data": {
      "text/html": [
       "<div>\n",
       "<style scoped>\n",
       "    .dataframe tbody tr th:only-of-type {\n",
       "        vertical-align: middle;\n",
       "    }\n",
       "\n",
       "    .dataframe tbody tr th {\n",
       "        vertical-align: top;\n",
       "    }\n",
       "\n",
       "    .dataframe thead th {\n",
       "        text-align: right;\n",
       "    }\n",
       "</style>\n",
       "<table border=\"1\" class=\"dataframe\">\n",
       "  <thead>\n",
       "    <tr style=\"text-align: right;\">\n",
       "      <th></th>\n",
       "      <th>invoice</th>\n",
       "      <th>stockcode</th>\n",
       "      <th>description</th>\n",
       "      <th>quantity</th>\n",
       "      <th>invoicedate</th>\n",
       "      <th>unit_price</th>\n",
       "      <th>customer_id</th>\n",
       "      <th>country</th>\n",
       "    </tr>\n",
       "  </thead>\n",
       "  <tbody>\n",
       "    <tr>\n",
       "      <th>0</th>\n",
       "      <td>489434</td>\n",
       "      <td>85048</td>\n",
       "      <td>15CM CHRISTMAS GLASS BALL 20 LIGHTS</td>\n",
       "      <td>12</td>\n",
       "      <td>01/12/2009 07:45</td>\n",
       "      <td>6.95</td>\n",
       "      <td>13085.0</td>\n",
       "      <td>United Kingdom</td>\n",
       "    </tr>\n",
       "    <tr>\n",
       "      <th>1</th>\n",
       "      <td>489434</td>\n",
       "      <td>79323P</td>\n",
       "      <td>PINK CHERRY LIGHTS</td>\n",
       "      <td>12</td>\n",
       "      <td>01/12/2009 07:45</td>\n",
       "      <td>6.75</td>\n",
       "      <td>13085.0</td>\n",
       "      <td>United Kingdom</td>\n",
       "    </tr>\n",
       "    <tr>\n",
       "      <th>2</th>\n",
       "      <td>489434</td>\n",
       "      <td>79323W</td>\n",
       "      <td>WHITE CHERRY LIGHTS</td>\n",
       "      <td>12</td>\n",
       "      <td>01/12/2009 07:45</td>\n",
       "      <td>6.75</td>\n",
       "      <td>13085.0</td>\n",
       "      <td>United Kingdom</td>\n",
       "    </tr>\n",
       "    <tr>\n",
       "      <th>3</th>\n",
       "      <td>489434</td>\n",
       "      <td>22041</td>\n",
       "      <td>RECORD FRAME 7\" SINGLE SIZE</td>\n",
       "      <td>48</td>\n",
       "      <td>01/12/2009 07:45</td>\n",
       "      <td>2.10</td>\n",
       "      <td>13085.0</td>\n",
       "      <td>United Kingdom</td>\n",
       "    </tr>\n",
       "    <tr>\n",
       "      <th>4</th>\n",
       "      <td>489434</td>\n",
       "      <td>21232</td>\n",
       "      <td>STRAWBERRY CERAMIC TRINKET BOX</td>\n",
       "      <td>24</td>\n",
       "      <td>01/12/2009 07:45</td>\n",
       "      <td>1.25</td>\n",
       "      <td>13085.0</td>\n",
       "      <td>United Kingdom</td>\n",
       "    </tr>\n",
       "  </tbody>\n",
       "</table>\n",
       "</div>"
      ],
      "text/plain": [
       "  invoice stockcode                          description  quantity  \\\n",
       "0  489434     85048  15CM CHRISTMAS GLASS BALL 20 LIGHTS        12   \n",
       "1  489434    79323P                   PINK CHERRY LIGHTS        12   \n",
       "2  489434    79323W                  WHITE CHERRY LIGHTS        12   \n",
       "3  489434     22041         RECORD FRAME 7\" SINGLE SIZE         48   \n",
       "4  489434     21232       STRAWBERRY CERAMIC TRINKET BOX        24   \n",
       "\n",
       "        invoicedate  unit_price  customer_id         country  \n",
       "0  01/12/2009 07:45        6.95      13085.0  United Kingdom  \n",
       "1  01/12/2009 07:45        6.75      13085.0  United Kingdom  \n",
       "2  01/12/2009 07:45        6.75      13085.0  United Kingdom  \n",
       "3  01/12/2009 07:45        2.10      13085.0  United Kingdom  \n",
       "4  01/12/2009 07:45        1.25      13085.0  United Kingdom  "
      ]
     },
     "execution_count": 56,
     "metadata": {},
     "output_type": "execute_result"
    }
   ],
   "source": [
    "retail_df = new_retail\n",
    "retail_df.head()"
   ]
  },
  {
   "cell_type": "code",
   "execution_count": 57,
   "id": "64550580",
   "metadata": {
    "ExecuteTime": {
     "end_time": "2021-09-04T02:57:46.928827Z",
     "start_time": "2021-09-04T02:57:46.688980Z"
    },
    "hidden": true
   },
   "outputs": [
    {
     "data": {
      "text/html": [
       "<div>\n",
       "<style scoped>\n",
       "    .dataframe tbody tr th:only-of-type {\n",
       "        vertical-align: middle;\n",
       "    }\n",
       "\n",
       "    .dataframe tbody tr th {\n",
       "        vertical-align: top;\n",
       "    }\n",
       "\n",
       "    .dataframe thead th {\n",
       "        text-align: right;\n",
       "    }\n",
       "</style>\n",
       "<table border=\"1\" class=\"dataframe\">\n",
       "  <thead>\n",
       "    <tr style=\"text-align: right;\">\n",
       "      <th></th>\n",
       "      <th>count</th>\n",
       "      <th>unique</th>\n",
       "      <th>top</th>\n",
       "      <th>freq</th>\n",
       "    </tr>\n",
       "  </thead>\n",
       "  <tbody>\n",
       "    <tr>\n",
       "      <th>invoice</th>\n",
       "      <td>407401</td>\n",
       "      <td>19093</td>\n",
       "      <td>500356</td>\n",
       "      <td>270</td>\n",
       "    </tr>\n",
       "    <tr>\n",
       "      <th>stockcode</th>\n",
       "      <td>407401</td>\n",
       "      <td>4012</td>\n",
       "      <td>85123A</td>\n",
       "      <td>3153</td>\n",
       "    </tr>\n",
       "    <tr>\n",
       "      <th>description</th>\n",
       "      <td>407401</td>\n",
       "      <td>4438</td>\n",
       "      <td>WHITE HANGING HEART T-LIGHT HOLDER</td>\n",
       "      <td>3153</td>\n",
       "    </tr>\n",
       "    <tr>\n",
       "      <th>invoicedate</th>\n",
       "      <td>407401</td>\n",
       "      <td>17914</td>\n",
       "      <td>07/03/2010 15:34</td>\n",
       "      <td>270</td>\n",
       "    </tr>\n",
       "    <tr>\n",
       "      <th>country</th>\n",
       "      <td>407401</td>\n",
       "      <td>37</td>\n",
       "      <td>United Kingdom</td>\n",
       "      <td>370785</td>\n",
       "    </tr>\n",
       "  </tbody>\n",
       "</table>\n",
       "</div>"
      ],
      "text/plain": [
       "              count unique                                 top    freq\n",
       "invoice      407401  19093                              500356     270\n",
       "stockcode    407401   4012                              85123A    3153\n",
       "description  407401   4438  WHITE HANGING HEART T-LIGHT HOLDER    3153\n",
       "invoicedate  407401  17914                    07/03/2010 15:34     270\n",
       "country      407401     37                      United Kingdom  370785"
      ]
     },
     "execution_count": 57,
     "metadata": {},
     "output_type": "execute_result"
    }
   ],
   "source": [
    "retail_df.describe(include='O').T"
   ]
  },
  {
   "cell_type": "code",
   "execution_count": 59,
   "id": "f2d00574",
   "metadata": {
    "ExecuteTime": {
     "end_time": "2021-09-04T02:58:34.498010Z",
     "start_time": "2021-09-04T02:58:34.378847Z"
    },
    "hidden": true
   },
   "outputs": [],
   "source": [
    "retail_df.description = retail_df.description.str.lower()"
   ]
  },
  {
   "cell_type": "code",
   "execution_count": 61,
   "id": "f52018c0",
   "metadata": {
    "ExecuteTime": {
     "end_time": "2021-09-04T02:59:40.647157Z",
     "start_time": "2021-09-04T02:59:39.181663Z"
    },
    "hidden": true
   },
   "outputs": [],
   "source": [
    "retail_df.invoicedate = pd.to_datetime(retail_df.invoicedate)"
   ]
  },
  {
   "cell_type": "code",
   "execution_count": 65,
   "id": "26aa73ad",
   "metadata": {
    "ExecuteTime": {
     "end_time": "2021-09-04T03:00:47.827941Z",
     "start_time": "2021-09-04T03:00:47.806962Z"
    },
    "hidden": true
   },
   "outputs": [],
   "source": [
    "retail_df.customer_id = retail_df.customer_id.astype('int')"
   ]
  },
  {
   "cell_type": "code",
   "execution_count": 66,
   "id": "93ba7632",
   "metadata": {
    "ExecuteTime": {
     "end_time": "2021-09-04T03:01:22.332740Z",
     "start_time": "2021-09-04T03:01:22.318750Z"
    },
    "hidden": true
   },
   "outputs": [
    {
     "data": {
      "text/html": [
       "<div>\n",
       "<style scoped>\n",
       "    .dataframe tbody tr th:only-of-type {\n",
       "        vertical-align: middle;\n",
       "    }\n",
       "\n",
       "    .dataframe tbody tr th {\n",
       "        vertical-align: top;\n",
       "    }\n",
       "\n",
       "    .dataframe thead th {\n",
       "        text-align: right;\n",
       "    }\n",
       "</style>\n",
       "<table border=\"1\" class=\"dataframe\">\n",
       "  <thead>\n",
       "    <tr style=\"text-align: right;\">\n",
       "      <th></th>\n",
       "      <th>invoice</th>\n",
       "      <th>stockcode</th>\n",
       "      <th>description</th>\n",
       "      <th>quantity</th>\n",
       "      <th>invoicedate</th>\n",
       "      <th>unit_price</th>\n",
       "      <th>customer_id</th>\n",
       "      <th>country</th>\n",
       "    </tr>\n",
       "  </thead>\n",
       "  <tbody>\n",
       "    <tr>\n",
       "      <th>0</th>\n",
       "      <td>489434</td>\n",
       "      <td>85048</td>\n",
       "      <td>15cm christmas glass ball 20 lights</td>\n",
       "      <td>12</td>\n",
       "      <td>2009-01-12 07:45:00</td>\n",
       "      <td>6.95</td>\n",
       "      <td>13085</td>\n",
       "      <td>United Kingdom</td>\n",
       "    </tr>\n",
       "    <tr>\n",
       "      <th>1</th>\n",
       "      <td>489434</td>\n",
       "      <td>79323P</td>\n",
       "      <td>pink cherry lights</td>\n",
       "      <td>12</td>\n",
       "      <td>2009-01-12 07:45:00</td>\n",
       "      <td>6.75</td>\n",
       "      <td>13085</td>\n",
       "      <td>United Kingdom</td>\n",
       "    </tr>\n",
       "    <tr>\n",
       "      <th>2</th>\n",
       "      <td>489434</td>\n",
       "      <td>79323W</td>\n",
       "      <td>white cherry lights</td>\n",
       "      <td>12</td>\n",
       "      <td>2009-01-12 07:45:00</td>\n",
       "      <td>6.75</td>\n",
       "      <td>13085</td>\n",
       "      <td>United Kingdom</td>\n",
       "    </tr>\n",
       "    <tr>\n",
       "      <th>3</th>\n",
       "      <td>489434</td>\n",
       "      <td>22041</td>\n",
       "      <td>record frame 7\" single size</td>\n",
       "      <td>48</td>\n",
       "      <td>2009-01-12 07:45:00</td>\n",
       "      <td>2.10</td>\n",
       "      <td>13085</td>\n",
       "      <td>United Kingdom</td>\n",
       "    </tr>\n",
       "    <tr>\n",
       "      <th>4</th>\n",
       "      <td>489434</td>\n",
       "      <td>21232</td>\n",
       "      <td>strawberry ceramic trinket box</td>\n",
       "      <td>24</td>\n",
       "      <td>2009-01-12 07:45:00</td>\n",
       "      <td>1.25</td>\n",
       "      <td>13085</td>\n",
       "      <td>United Kingdom</td>\n",
       "    </tr>\n",
       "  </tbody>\n",
       "</table>\n",
       "</div>"
      ],
      "text/plain": [
       "  invoice stockcode                          description  quantity  \\\n",
       "0  489434     85048  15cm christmas glass ball 20 lights        12   \n",
       "1  489434    79323P                   pink cherry lights        12   \n",
       "2  489434    79323W                  white cherry lights        12   \n",
       "3  489434     22041         record frame 7\" single size         48   \n",
       "4  489434     21232       strawberry ceramic trinket box        24   \n",
       "\n",
       "          invoicedate  unit_price  customer_id         country  \n",
       "0 2009-01-12 07:45:00        6.95        13085  United Kingdom  \n",
       "1 2009-01-12 07:45:00        6.75        13085  United Kingdom  \n",
       "2 2009-01-12 07:45:00        6.75        13085  United Kingdom  \n",
       "3 2009-01-12 07:45:00        2.10        13085  United Kingdom  \n",
       "4 2009-01-12 07:45:00        1.25        13085  United Kingdom  "
      ]
     },
     "execution_count": 66,
     "metadata": {},
     "output_type": "execute_result"
    }
   ],
   "source": [
    "retail_df.head()"
   ]
  },
  {
   "cell_type": "code",
   "execution_count": 67,
   "id": "8cfa2f85",
   "metadata": {
    "ExecuteTime": {
     "end_time": "2021-09-04T03:01:35.215643Z",
     "start_time": "2021-09-04T03:01:35.126089Z"
    },
    "hidden": true
   },
   "outputs": [
    {
     "name": "stdout",
     "output_type": "stream",
     "text": [
      "<class 'pandas.core.frame.DataFrame'>\n",
      "Int64Index: 407401 entries, 0 to 525460\n",
      "Data columns (total 8 columns):\n",
      " #   Column       Non-Null Count   Dtype         \n",
      "---  ------       --------------   -----         \n",
      " 0   invoice      407401 non-null  object        \n",
      " 1   stockcode    407401 non-null  object        \n",
      " 2   description  407401 non-null  object        \n",
      " 3   quantity     407401 non-null  int64         \n",
      " 4   invoicedate  407401 non-null  datetime64[ns]\n",
      " 5   unit_price   407401 non-null  float64       \n",
      " 6   customer_id  407401 non-null  int32         \n",
      " 7   country      407401 non-null  object        \n",
      "dtypes: datetime64[ns](1), float64(1), int32(1), int64(1), object(4)\n",
      "memory usage: 26.4+ MB\n"
     ]
    }
   ],
   "source": [
    "retail_df.info()"
   ]
  },
  {
   "cell_type": "markdown",
   "id": "01206e01",
   "metadata": {
    "heading_collapsed": true,
    "hidden": true
   },
   "source": [
    "### Feature Ingineering"
   ]
  },
  {
   "cell_type": "code",
   "execution_count": 73,
   "id": "c74dac2d",
   "metadata": {
    "ExecuteTime": {
     "end_time": "2021-09-04T03:08:50.123950Z",
     "start_time": "2021-09-04T03:08:49.721225Z"
    },
    "hidden": true,
    "scrolled": true
   },
   "outputs": [],
   "source": [
    "retail_df['year'] = retail_df.invoicedate.dt.year\n",
    "\n",
    "retail_df['month'] = retail_df.invoicedate.dt.month\n",
    "\n",
    "retail_df['day'] = retail_df.invoicedate.dt.day\n",
    "\n",
    "retail_df['day_of_week'] = retail_df.invoicedate.dt.day_of_week + 1\n",
    "\n",
    "retail_df['hour'] = retail_df.invoicedate.dt.hour\n"
   ]
  },
  {
   "cell_type": "code",
   "execution_count": 74,
   "id": "b6fd0fc9",
   "metadata": {
    "ExecuteTime": {
     "end_time": "2021-09-04T03:08:56.534565Z",
     "start_time": "2021-09-04T03:08:56.502869Z"
    },
    "hidden": true
   },
   "outputs": [
    {
     "data": {
      "text/html": [
       "<div>\n",
       "<style scoped>\n",
       "    .dataframe tbody tr th:only-of-type {\n",
       "        vertical-align: middle;\n",
       "    }\n",
       "\n",
       "    .dataframe tbody tr th {\n",
       "        vertical-align: top;\n",
       "    }\n",
       "\n",
       "    .dataframe thead th {\n",
       "        text-align: right;\n",
       "    }\n",
       "</style>\n",
       "<table border=\"1\" class=\"dataframe\">\n",
       "  <thead>\n",
       "    <tr style=\"text-align: right;\">\n",
       "      <th></th>\n",
       "      <th>invoice</th>\n",
       "      <th>stockcode</th>\n",
       "      <th>description</th>\n",
       "      <th>quantity</th>\n",
       "      <th>invoicedate</th>\n",
       "      <th>unit_price</th>\n",
       "      <th>customer_id</th>\n",
       "      <th>country</th>\n",
       "      <th>year</th>\n",
       "      <th>month</th>\n",
       "      <th>day</th>\n",
       "      <th>day_of_week</th>\n",
       "      <th>hour</th>\n",
       "    </tr>\n",
       "  </thead>\n",
       "  <tbody>\n",
       "    <tr>\n",
       "      <th>0</th>\n",
       "      <td>489434</td>\n",
       "      <td>85048</td>\n",
       "      <td>15cm christmas glass ball 20 lights</td>\n",
       "      <td>12</td>\n",
       "      <td>2009-01-12 07:45:00</td>\n",
       "      <td>6.95</td>\n",
       "      <td>13085</td>\n",
       "      <td>United Kingdom</td>\n",
       "      <td>2009</td>\n",
       "      <td>1</td>\n",
       "      <td>12</td>\n",
       "      <td>1</td>\n",
       "      <td>7</td>\n",
       "    </tr>\n",
       "    <tr>\n",
       "      <th>1</th>\n",
       "      <td>489434</td>\n",
       "      <td>79323P</td>\n",
       "      <td>pink cherry lights</td>\n",
       "      <td>12</td>\n",
       "      <td>2009-01-12 07:45:00</td>\n",
       "      <td>6.75</td>\n",
       "      <td>13085</td>\n",
       "      <td>United Kingdom</td>\n",
       "      <td>2009</td>\n",
       "      <td>1</td>\n",
       "      <td>12</td>\n",
       "      <td>1</td>\n",
       "      <td>7</td>\n",
       "    </tr>\n",
       "    <tr>\n",
       "      <th>2</th>\n",
       "      <td>489434</td>\n",
       "      <td>79323W</td>\n",
       "      <td>white cherry lights</td>\n",
       "      <td>12</td>\n",
       "      <td>2009-01-12 07:45:00</td>\n",
       "      <td>6.75</td>\n",
       "      <td>13085</td>\n",
       "      <td>United Kingdom</td>\n",
       "      <td>2009</td>\n",
       "      <td>1</td>\n",
       "      <td>12</td>\n",
       "      <td>1</td>\n",
       "      <td>7</td>\n",
       "    </tr>\n",
       "    <tr>\n",
       "      <th>3</th>\n",
       "      <td>489434</td>\n",
       "      <td>22041</td>\n",
       "      <td>record frame 7\" single size</td>\n",
       "      <td>48</td>\n",
       "      <td>2009-01-12 07:45:00</td>\n",
       "      <td>2.10</td>\n",
       "      <td>13085</td>\n",
       "      <td>United Kingdom</td>\n",
       "      <td>2009</td>\n",
       "      <td>1</td>\n",
       "      <td>12</td>\n",
       "      <td>1</td>\n",
       "      <td>7</td>\n",
       "    </tr>\n",
       "    <tr>\n",
       "      <th>4</th>\n",
       "      <td>489434</td>\n",
       "      <td>21232</td>\n",
       "      <td>strawberry ceramic trinket box</td>\n",
       "      <td>24</td>\n",
       "      <td>2009-01-12 07:45:00</td>\n",
       "      <td>1.25</td>\n",
       "      <td>13085</td>\n",
       "      <td>United Kingdom</td>\n",
       "      <td>2009</td>\n",
       "      <td>1</td>\n",
       "      <td>12</td>\n",
       "      <td>1</td>\n",
       "      <td>7</td>\n",
       "    </tr>\n",
       "  </tbody>\n",
       "</table>\n",
       "</div>"
      ],
      "text/plain": [
       "  invoice stockcode                          description  quantity  \\\n",
       "0  489434     85048  15cm christmas glass ball 20 lights        12   \n",
       "1  489434    79323P                   pink cherry lights        12   \n",
       "2  489434    79323W                  white cherry lights        12   \n",
       "3  489434     22041         record frame 7\" single size         48   \n",
       "4  489434     21232       strawberry ceramic trinket box        24   \n",
       "\n",
       "          invoicedate  unit_price  customer_id         country  year  month  \\\n",
       "0 2009-01-12 07:45:00        6.95        13085  United Kingdom  2009      1   \n",
       "1 2009-01-12 07:45:00        6.75        13085  United Kingdom  2009      1   \n",
       "2 2009-01-12 07:45:00        6.75        13085  United Kingdom  2009      1   \n",
       "3 2009-01-12 07:45:00        2.10        13085  United Kingdom  2009      1   \n",
       "4 2009-01-12 07:45:00        1.25        13085  United Kingdom  2009      1   \n",
       "\n",
       "   day  day_of_week  hour  \n",
       "0   12            1     7  \n",
       "1   12            1     7  \n",
       "2   12            1     7  \n",
       "3   12            1     7  \n",
       "4   12            1     7  "
      ]
     },
     "execution_count": 74,
     "metadata": {},
     "output_type": "execute_result"
    }
   ],
   "source": [
    "retail_df.head()"
   ]
  },
  {
   "cell_type": "code",
   "execution_count": 75,
   "id": "441b3157",
   "metadata": {
    "ExecuteTime": {
     "end_time": "2021-09-04T03:09:29.930150Z",
     "start_time": "2021-09-04T03:09:29.903442Z"
    },
    "hidden": true
   },
   "outputs": [],
   "source": [
    "retail_df['spent'] = retail_df.quantity * retail_df.unit_price"
   ]
  },
  {
   "cell_type": "code",
   "execution_count": 76,
   "id": "9f0b4ae8",
   "metadata": {
    "ExecuteTime": {
     "end_time": "2021-09-04T03:09:43.972859Z",
     "start_time": "2021-09-04T03:09:43.933366Z"
    },
    "hidden": true
   },
   "outputs": [
    {
     "data": {
      "text/html": [
       "<div>\n",
       "<style scoped>\n",
       "    .dataframe tbody tr th:only-of-type {\n",
       "        vertical-align: middle;\n",
       "    }\n",
       "\n",
       "    .dataframe tbody tr th {\n",
       "        vertical-align: top;\n",
       "    }\n",
       "\n",
       "    .dataframe thead th {\n",
       "        text-align: right;\n",
       "    }\n",
       "</style>\n",
       "<table border=\"1\" class=\"dataframe\">\n",
       "  <thead>\n",
       "    <tr style=\"text-align: right;\">\n",
       "      <th></th>\n",
       "      <th>invoice</th>\n",
       "      <th>stockcode</th>\n",
       "      <th>description</th>\n",
       "      <th>quantity</th>\n",
       "      <th>invoicedate</th>\n",
       "      <th>unit_price</th>\n",
       "      <th>customer_id</th>\n",
       "      <th>country</th>\n",
       "      <th>year</th>\n",
       "      <th>month</th>\n",
       "      <th>day</th>\n",
       "      <th>day_of_week</th>\n",
       "      <th>hour</th>\n",
       "      <th>spent</th>\n",
       "    </tr>\n",
       "  </thead>\n",
       "  <tbody>\n",
       "    <tr>\n",
       "      <th>0</th>\n",
       "      <td>489434</td>\n",
       "      <td>85048</td>\n",
       "      <td>15cm christmas glass ball 20 lights</td>\n",
       "      <td>12</td>\n",
       "      <td>2009-01-12 07:45:00</td>\n",
       "      <td>6.95</td>\n",
       "      <td>13085</td>\n",
       "      <td>United Kingdom</td>\n",
       "      <td>2009</td>\n",
       "      <td>1</td>\n",
       "      <td>12</td>\n",
       "      <td>1</td>\n",
       "      <td>7</td>\n",
       "      <td>83.4</td>\n",
       "    </tr>\n",
       "    <tr>\n",
       "      <th>1</th>\n",
       "      <td>489434</td>\n",
       "      <td>79323P</td>\n",
       "      <td>pink cherry lights</td>\n",
       "      <td>12</td>\n",
       "      <td>2009-01-12 07:45:00</td>\n",
       "      <td>6.75</td>\n",
       "      <td>13085</td>\n",
       "      <td>United Kingdom</td>\n",
       "      <td>2009</td>\n",
       "      <td>1</td>\n",
       "      <td>12</td>\n",
       "      <td>1</td>\n",
       "      <td>7</td>\n",
       "      <td>81.0</td>\n",
       "    </tr>\n",
       "    <tr>\n",
       "      <th>2</th>\n",
       "      <td>489434</td>\n",
       "      <td>79323W</td>\n",
       "      <td>white cherry lights</td>\n",
       "      <td>12</td>\n",
       "      <td>2009-01-12 07:45:00</td>\n",
       "      <td>6.75</td>\n",
       "      <td>13085</td>\n",
       "      <td>United Kingdom</td>\n",
       "      <td>2009</td>\n",
       "      <td>1</td>\n",
       "      <td>12</td>\n",
       "      <td>1</td>\n",
       "      <td>7</td>\n",
       "      <td>81.0</td>\n",
       "    </tr>\n",
       "    <tr>\n",
       "      <th>3</th>\n",
       "      <td>489434</td>\n",
       "      <td>22041</td>\n",
       "      <td>record frame 7\" single size</td>\n",
       "      <td>48</td>\n",
       "      <td>2009-01-12 07:45:00</td>\n",
       "      <td>2.10</td>\n",
       "      <td>13085</td>\n",
       "      <td>United Kingdom</td>\n",
       "      <td>2009</td>\n",
       "      <td>1</td>\n",
       "      <td>12</td>\n",
       "      <td>1</td>\n",
       "      <td>7</td>\n",
       "      <td>100.8</td>\n",
       "    </tr>\n",
       "    <tr>\n",
       "      <th>4</th>\n",
       "      <td>489434</td>\n",
       "      <td>21232</td>\n",
       "      <td>strawberry ceramic trinket box</td>\n",
       "      <td>24</td>\n",
       "      <td>2009-01-12 07:45:00</td>\n",
       "      <td>1.25</td>\n",
       "      <td>13085</td>\n",
       "      <td>United Kingdom</td>\n",
       "      <td>2009</td>\n",
       "      <td>1</td>\n",
       "      <td>12</td>\n",
       "      <td>1</td>\n",
       "      <td>7</td>\n",
       "      <td>30.0</td>\n",
       "    </tr>\n",
       "  </tbody>\n",
       "</table>\n",
       "</div>"
      ],
      "text/plain": [
       "  invoice stockcode                          description  quantity  \\\n",
       "0  489434     85048  15cm christmas glass ball 20 lights        12   \n",
       "1  489434    79323P                   pink cherry lights        12   \n",
       "2  489434    79323W                  white cherry lights        12   \n",
       "3  489434     22041         record frame 7\" single size         48   \n",
       "4  489434     21232       strawberry ceramic trinket box        24   \n",
       "\n",
       "          invoicedate  unit_price  customer_id         country  year  month  \\\n",
       "0 2009-01-12 07:45:00        6.95        13085  United Kingdom  2009      1   \n",
       "1 2009-01-12 07:45:00        6.75        13085  United Kingdom  2009      1   \n",
       "2 2009-01-12 07:45:00        6.75        13085  United Kingdom  2009      1   \n",
       "3 2009-01-12 07:45:00        2.10        13085  United Kingdom  2009      1   \n",
       "4 2009-01-12 07:45:00        1.25        13085  United Kingdom  2009      1   \n",
       "\n",
       "   day  day_of_week  hour  spent  \n",
       "0   12            1     7   83.4  \n",
       "1   12            1     7   81.0  \n",
       "2   12            1     7   81.0  \n",
       "3   12            1     7  100.8  \n",
       "4   12            1     7   30.0  "
      ]
     },
     "execution_count": 76,
     "metadata": {},
     "output_type": "execute_result"
    }
   ],
   "source": [
    "retail_df.head()"
   ]
  },
  {
   "cell_type": "code",
   "execution_count": 77,
   "id": "6e95cfd2",
   "metadata": {
    "ExecuteTime": {
     "end_time": "2021-09-04T03:12:35.548693Z",
     "start_time": "2021-09-04T03:12:35.446747Z"
    },
    "hidden": true
   },
   "outputs": [],
   "source": [
    "## columns repositioning\n",
    "\n",
    "retail_df = retail_df[['invoice', 'country', 'customer_id', 'stockcode', \n",
    "                       'description','quantity', 'unit_price', 'invoicedate', 'spent', \n",
    "                    'year', 'month', 'day','day_of_week', 'hour']]"
   ]
  },
  {
   "cell_type": "markdown",
   "id": "a5a0cf44",
   "metadata": {},
   "source": [
    "## Data Analysis"
   ]
  },
  {
   "cell_type": "markdown",
   "id": "a78e55a2",
   "metadata": {},
   "source": [
    "1. Which customers placed the most and fewest orders?\n",
    "2. Which customers spent the most and least money?\n",
    "3. Which months were the most and least popular for this online retail store?\n",
    "4. Which dates of the month were the most and least popular for this online retail store?\n",
    "5. Which days were the most and least popular for this online retail store?\n",
    "6. Which hours of the day were most and least popular for this online retail store?\n",
    "7. Which items were ordered the most and least?\n",
    "8. Which countries placed the most and fewest orders?\n",
    "9. Which countries spent the most and least money?"
   ]
  },
  {
   "cell_type": "code",
   "execution_count": 79,
   "id": "e6f4f02b",
   "metadata": {
    "ExecuteTime": {
     "end_time": "2021-09-04T03:23:19.335640Z",
     "start_time": "2021-09-04T03:23:19.192120Z"
    }
   },
   "outputs": [
    {
     "data": {
      "text/html": [
       "<div>\n",
       "<style scoped>\n",
       "    .dataframe tbody tr th:only-of-type {\n",
       "        vertical-align: middle;\n",
       "    }\n",
       "\n",
       "    .dataframe tbody tr th {\n",
       "        vertical-align: top;\n",
       "    }\n",
       "\n",
       "    .dataframe thead th {\n",
       "        text-align: right;\n",
       "    }\n",
       "</style>\n",
       "<table border=\"1\" class=\"dataframe\">\n",
       "  <thead>\n",
       "    <tr style=\"text-align: right;\">\n",
       "      <th></th>\n",
       "      <th>customer_id</th>\n",
       "      <th>invoice</th>\n",
       "    </tr>\n",
       "  </thead>\n",
       "  <tbody>\n",
       "    <tr>\n",
       "      <th>0</th>\n",
       "      <td>12346</td>\n",
       "      <td>33</td>\n",
       "    </tr>\n",
       "    <tr>\n",
       "      <th>1</th>\n",
       "      <td>12347</td>\n",
       "      <td>71</td>\n",
       "    </tr>\n",
       "    <tr>\n",
       "      <th>2</th>\n",
       "      <td>12348</td>\n",
       "      <td>20</td>\n",
       "    </tr>\n",
       "    <tr>\n",
       "      <th>3</th>\n",
       "      <td>12349</td>\n",
       "      <td>100</td>\n",
       "    </tr>\n",
       "    <tr>\n",
       "      <th>4</th>\n",
       "      <td>12351</td>\n",
       "      <td>21</td>\n",
       "    </tr>\n",
       "  </tbody>\n",
       "</table>\n",
       "</div>"
      ],
      "text/plain": [
       "   customer_id  invoice\n",
       "0        12346       33\n",
       "1        12347       71\n",
       "2        12348       20\n",
       "3        12349      100\n",
       "4        12351       21"
      ]
     },
     "execution_count": 79,
     "metadata": {},
     "output_type": "execute_result"
    }
   ],
   "source": [
    "## Q.1\n",
    "\n",
    "customer_data = retail_df.groupby(['customer_id'], as_index=False)['invoice'].count()\n",
    "\n",
    "customer_data.head(5)"
   ]
  },
  {
   "cell_type": "code",
   "execution_count": 80,
   "id": "948bafa9",
   "metadata": {
    "ExecuteTime": {
     "end_time": "2021-09-04T03:23:47.338194Z",
     "start_time": "2021-09-04T03:23:47.319437Z"
    }
   },
   "outputs": [
    {
     "data": {
      "text/html": [
       "<div>\n",
       "<style scoped>\n",
       "    .dataframe tbody tr th:only-of-type {\n",
       "        vertical-align: middle;\n",
       "    }\n",
       "\n",
       "    .dataframe tbody tr th {\n",
       "        vertical-align: top;\n",
       "    }\n",
       "\n",
       "    .dataframe thead th {\n",
       "        text-align: right;\n",
       "    }\n",
       "</style>\n",
       "<table border=\"1\" class=\"dataframe\">\n",
       "  <thead>\n",
       "    <tr style=\"text-align: right;\">\n",
       "      <th></th>\n",
       "      <th>customer_id</th>\n",
       "      <th>invoice</th>\n",
       "    </tr>\n",
       "  </thead>\n",
       "  <tbody>\n",
       "    <tr>\n",
       "      <th>1827</th>\n",
       "      <td>14911</td>\n",
       "      <td>5554</td>\n",
       "    </tr>\n",
       "    <tr>\n",
       "      <th>3970</th>\n",
       "      <td>17841</td>\n",
       "      <td>5043</td>\n",
       "    </tr>\n",
       "    <tr>\n",
       "      <th>1595</th>\n",
       "      <td>14606</td>\n",
       "      <td>3866</td>\n",
       "    </tr>\n",
       "    <tr>\n",
       "      <th>1261</th>\n",
       "      <td>14156</td>\n",
       "      <td>2640</td>\n",
       "    </tr>\n",
       "    <tr>\n",
       "      <th>247</th>\n",
       "      <td>12748</td>\n",
       "      <td>2627</td>\n",
       "    </tr>\n",
       "    <tr>\n",
       "      <th>3977</th>\n",
       "      <td>17850</td>\n",
       "      <td>2499</td>\n",
       "    </tr>\n",
       "    <tr>\n",
       "      <th>3017</th>\n",
       "      <td>16549</td>\n",
       "      <td>2269</td>\n",
       "    </tr>\n",
       "    <tr>\n",
       "      <th>2119</th>\n",
       "      <td>15311</td>\n",
       "      <td>2055</td>\n",
       "    </tr>\n",
       "    <tr>\n",
       "      <th>1626</th>\n",
       "      <td>14646</td>\n",
       "      <td>1772</td>\n",
       "    </tr>\n",
       "    <tr>\n",
       "      <th>1534</th>\n",
       "      <td>14527</td>\n",
       "      <td>1729</td>\n",
       "    </tr>\n",
       "  </tbody>\n",
       "</table>\n",
       "</div>"
      ],
      "text/plain": [
       "      customer_id  invoice\n",
       "1827        14911     5554\n",
       "3970        17841     5043\n",
       "1595        14606     3866\n",
       "1261        14156     2640\n",
       "247         12748     2627\n",
       "3977        17850     2499\n",
       "3017        16549     2269\n",
       "2119        15311     2055\n",
       "1626        14646     1772\n",
       "1534        14527     1729"
      ]
     },
     "execution_count": 80,
     "metadata": {},
     "output_type": "execute_result"
    }
   ],
   "source": [
    "# Top 10 customers in terms of order placing\n",
    "customer_data.nlargest(n=10, columns=['invoice'])"
   ]
  },
  {
   "cell_type": "code",
   "execution_count": 81,
   "id": "5c1f35c5",
   "metadata": {
    "ExecuteTime": {
     "end_time": "2021-09-04T03:25:02.927356Z",
     "start_time": "2021-09-04T03:25:02.896841Z"
    }
   },
   "outputs": [
    {
     "data": {
      "text/html": [
       "<div>\n",
       "<style scoped>\n",
       "    .dataframe tbody tr th:only-of-type {\n",
       "        vertical-align: middle;\n",
       "    }\n",
       "\n",
       "    .dataframe tbody tr th {\n",
       "        vertical-align: top;\n",
       "    }\n",
       "\n",
       "    .dataframe thead th {\n",
       "        text-align: right;\n",
       "    }\n",
       "</style>\n",
       "<table border=\"1\" class=\"dataframe\">\n",
       "  <thead>\n",
       "    <tr style=\"text-align: right;\">\n",
       "      <th></th>\n",
       "      <th>customer_id</th>\n",
       "      <th>invoice</th>\n",
       "    </tr>\n",
       "  </thead>\n",
       "  <tbody>\n",
       "    <tr>\n",
       "      <th>40</th>\n",
       "      <td>12404</td>\n",
       "      <td>1</td>\n",
       "    </tr>\n",
       "    <tr>\n",
       "      <th>81</th>\n",
       "      <td>12466</td>\n",
       "      <td>1</td>\n",
       "    </tr>\n",
       "    <tr>\n",
       "      <th>108</th>\n",
       "      <td>12503</td>\n",
       "      <td>1</td>\n",
       "    </tr>\n",
       "    <tr>\n",
       "      <th>140</th>\n",
       "      <td>12570</td>\n",
       "      <td>1</td>\n",
       "    </tr>\n",
       "    <tr>\n",
       "      <th>161</th>\n",
       "      <td>12606</td>\n",
       "      <td>1</td>\n",
       "    </tr>\n",
       "    <tr>\n",
       "      <th>317</th>\n",
       "      <td>12846</td>\n",
       "      <td>1</td>\n",
       "    </tr>\n",
       "    <tr>\n",
       "      <th>507</th>\n",
       "      <td>13096</td>\n",
       "      <td>1</td>\n",
       "    </tr>\n",
       "    <tr>\n",
       "      <th>513</th>\n",
       "      <td>13105</td>\n",
       "      <td>1</td>\n",
       "    </tr>\n",
       "    <tr>\n",
       "      <th>531</th>\n",
       "      <td>13128</td>\n",
       "      <td>1</td>\n",
       "    </tr>\n",
       "    <tr>\n",
       "      <th>564</th>\n",
       "      <td>13172</td>\n",
       "      <td>1</td>\n",
       "    </tr>\n",
       "  </tbody>\n",
       "</table>\n",
       "</div>"
      ],
      "text/plain": [
       "     customer_id  invoice\n",
       "40         12404        1\n",
       "81         12466        1\n",
       "108        12503        1\n",
       "140        12570        1\n",
       "161        12606        1\n",
       "317        12846        1\n",
       "507        13096        1\n",
       "513        13105        1\n",
       "531        13128        1\n",
       "564        13172        1"
      ]
     },
     "execution_count": 81,
     "metadata": {},
     "output_type": "execute_result"
    }
   ],
   "source": [
    "# bottom 10 customers in terms of order placing\n",
    "customer_data.nsmallest(n=10, columns=['invoice'])"
   ]
  },
  {
   "cell_type": "code",
   "execution_count": 82,
   "id": "0a03441a",
   "metadata": {
    "ExecuteTime": {
     "end_time": "2021-09-04T03:26:20.569025Z",
     "start_time": "2021-09-04T03:26:20.536645Z"
    }
   },
   "outputs": [
    {
     "data": {
      "text/html": [
       "<div>\n",
       "<style scoped>\n",
       "    .dataframe tbody tr th:only-of-type {\n",
       "        vertical-align: middle;\n",
       "    }\n",
       "\n",
       "    .dataframe tbody tr th {\n",
       "        vertical-align: top;\n",
       "    }\n",
       "\n",
       "    .dataframe thead th {\n",
       "        text-align: right;\n",
       "    }\n",
       "</style>\n",
       "<table border=\"1\" class=\"dataframe\">\n",
       "  <thead>\n",
       "    <tr style=\"text-align: right;\">\n",
       "      <th></th>\n",
       "      <th>customer_id</th>\n",
       "      <th>invoice</th>\n",
       "    </tr>\n",
       "  </thead>\n",
       "  <tbody>\n",
       "    <tr>\n",
       "      <th>count</th>\n",
       "      <td>4292.000000</td>\n",
       "      <td>4292.000000</td>\n",
       "    </tr>\n",
       "    <tr>\n",
       "      <th>mean</th>\n",
       "      <td>15352.568034</td>\n",
       "      <td>94.921016</td>\n",
       "    </tr>\n",
       "    <tr>\n",
       "      <th>std</th>\n",
       "      <td>1700.615697</td>\n",
       "      <td>202.267299</td>\n",
       "    </tr>\n",
       "    <tr>\n",
       "      <th>min</th>\n",
       "      <td>12346.000000</td>\n",
       "      <td>1.000000</td>\n",
       "    </tr>\n",
       "    <tr>\n",
       "      <th>25%</th>\n",
       "      <td>13887.000000</td>\n",
       "      <td>18.000000</td>\n",
       "    </tr>\n",
       "    <tr>\n",
       "      <th>50%</th>\n",
       "      <td>15355.000000</td>\n",
       "      <td>44.000000</td>\n",
       "    </tr>\n",
       "    <tr>\n",
       "      <th>75%</th>\n",
       "      <td>16836.500000</td>\n",
       "      <td>103.000000</td>\n",
       "    </tr>\n",
       "    <tr>\n",
       "      <th>max</th>\n",
       "      <td>18287.000000</td>\n",
       "      <td>5554.000000</td>\n",
       "    </tr>\n",
       "  </tbody>\n",
       "</table>\n",
       "</div>"
      ],
      "text/plain": [
       "        customer_id      invoice\n",
       "count   4292.000000  4292.000000\n",
       "mean   15352.568034    94.921016\n",
       "std     1700.615697   202.267299\n",
       "min    12346.000000     1.000000\n",
       "25%    13887.000000    18.000000\n",
       "50%    15355.000000    44.000000\n",
       "75%    16836.500000   103.000000\n",
       "max    18287.000000  5554.000000"
      ]
     },
     "execution_count": 82,
     "metadata": {},
     "output_type": "execute_result"
    }
   ],
   "source": [
    "customer_data.describe()"
   ]
  },
  {
   "cell_type": "code",
   "execution_count": 179,
   "id": "13f93e2e",
   "metadata": {
    "ExecuteTime": {
     "end_time": "2021-09-04T04:48:49.930295Z",
     "start_time": "2021-09-04T04:48:49.764724Z"
    }
   },
   "outputs": [
    {
     "data": {
      "text/html": [
       "<div>\n",
       "<style scoped>\n",
       "    .dataframe tbody tr th:only-of-type {\n",
       "        vertical-align: middle;\n",
       "    }\n",
       "\n",
       "    .dataframe tbody tr th {\n",
       "        vertical-align: top;\n",
       "    }\n",
       "\n",
       "    .dataframe thead th {\n",
       "        text-align: right;\n",
       "    }\n",
       "</style>\n",
       "<table border=\"1\" class=\"dataframe\">\n",
       "  <thead>\n",
       "    <tr style=\"text-align: right;\">\n",
       "      <th></th>\n",
       "      <th>customer_id</th>\n",
       "      <th>quantity</th>\n",
       "      <th>spent</th>\n",
       "    </tr>\n",
       "  </thead>\n",
       "  <tbody>\n",
       "    <tr>\n",
       "      <th>0</th>\n",
       "      <td>12346</td>\n",
       "      <td>1</td>\n",
       "      <td>170.36</td>\n",
       "    </tr>\n",
       "    <tr>\n",
       "      <th>1</th>\n",
       "      <td>12346</td>\n",
       "      <td>5</td>\n",
       "      <td>157.50</td>\n",
       "    </tr>\n",
       "    <tr>\n",
       "      <th>2</th>\n",
       "      <td>12346</td>\n",
       "      <td>10</td>\n",
       "      <td>45.00</td>\n",
       "    </tr>\n",
       "    <tr>\n",
       "      <th>3</th>\n",
       "      <td>12347</td>\n",
       "      <td>3</td>\n",
       "      <td>53.10</td>\n",
       "    </tr>\n",
       "    <tr>\n",
       "      <th>4</th>\n",
       "      <td>12347</td>\n",
       "      <td>4</td>\n",
       "      <td>109.00</td>\n",
       "    </tr>\n",
       "  </tbody>\n",
       "</table>\n",
       "</div>"
      ],
      "text/plain": [
       "   customer_id  quantity   spent\n",
       "0        12346         1  170.36\n",
       "1        12346         5  157.50\n",
       "2        12346        10   45.00\n",
       "3        12347         3   53.10\n",
       "4        12347         4  109.00"
      ]
     },
     "execution_count": 179,
     "metadata": {},
     "output_type": "execute_result"
    }
   ],
   "source": [
    "spent_data = retail_df.groupby(['customer_id', 'quantity'], as_index=False)['spent'].sum()\n",
    "\n",
    "spent_data.head()"
   ]
  },
  {
   "cell_type": "code",
   "execution_count": 180,
   "id": "e7bc6fc6",
   "metadata": {
    "ExecuteTime": {
     "end_time": "2021-09-04T04:48:52.197226Z",
     "start_time": "2021-09-04T04:48:52.170151Z"
    }
   },
   "outputs": [
    {
     "data": {
      "text/html": [
       "<div>\n",
       "<style scoped>\n",
       "    .dataframe tbody tr th:only-of-type {\n",
       "        vertical-align: middle;\n",
       "    }\n",
       "\n",
       "    .dataframe tbody tr th {\n",
       "        vertical-align: top;\n",
       "    }\n",
       "\n",
       "    .dataframe thead th {\n",
       "        text-align: right;\n",
       "    }\n",
       "</style>\n",
       "<table border=\"1\" class=\"dataframe\">\n",
       "  <thead>\n",
       "    <tr style=\"text-align: right;\">\n",
       "      <th></th>\n",
       "      <th>customer_id</th>\n",
       "      <th>quantity</th>\n",
       "      <th>spent</th>\n",
       "    </tr>\n",
       "  </thead>\n",
       "  <tbody>\n",
       "    <tr>\n",
       "      <th>42617</th>\n",
       "      <td>18102</td>\n",
       "      <td>300</td>\n",
       "      <td>53124.00</td>\n",
       "    </tr>\n",
       "    <tr>\n",
       "      <th>18887</th>\n",
       "      <td>14911</td>\n",
       "      <td>12</td>\n",
       "      <td>32013.96</td>\n",
       "    </tr>\n",
       "    <tr>\n",
       "      <th>42601</th>\n",
       "      <td>18102</td>\n",
       "      <td>200</td>\n",
       "      <td>31108.00</td>\n",
       "    </tr>\n",
       "    <tr>\n",
       "      <th>42635</th>\n",
       "      <td>18102</td>\n",
       "      <td>600</td>\n",
       "      <td>27606.00</td>\n",
       "    </tr>\n",
       "    <tr>\n",
       "      <th>16761</th>\n",
       "      <td>14646</td>\n",
       "      <td>288</td>\n",
       "      <td>26712.00</td>\n",
       "    </tr>\n",
       "    <tr>\n",
       "      <th>16745</th>\n",
       "      <td>14646</td>\n",
       "      <td>96</td>\n",
       "      <td>25090.56</td>\n",
       "    </tr>\n",
       "    <tr>\n",
       "      <th>42584</th>\n",
       "      <td>18102</td>\n",
       "      <td>120</td>\n",
       "      <td>21967.20</td>\n",
       "    </tr>\n",
       "    <tr>\n",
       "      <th>40635</th>\n",
       "      <td>17850</td>\n",
       "      <td>6</td>\n",
       "      <td>20800.20</td>\n",
       "    </tr>\n",
       "    <tr>\n",
       "      <th>16750</th>\n",
       "      <td>14646</td>\n",
       "      <td>144</td>\n",
       "      <td>18914.40</td>\n",
       "    </tr>\n",
       "    <tr>\n",
       "      <th>18883</th>\n",
       "      <td>14911</td>\n",
       "      <td>6</td>\n",
       "      <td>18652.80</td>\n",
       "    </tr>\n",
       "  </tbody>\n",
       "</table>\n",
       "</div>"
      ],
      "text/plain": [
       "       customer_id  quantity     spent\n",
       "42617        18102       300  53124.00\n",
       "18887        14911        12  32013.96\n",
       "42601        18102       200  31108.00\n",
       "42635        18102       600  27606.00\n",
       "16761        14646       288  26712.00\n",
       "16745        14646        96  25090.56\n",
       "42584        18102       120  21967.20\n",
       "40635        17850         6  20800.20\n",
       "16750        14646       144  18914.40\n",
       "18883        14911         6  18652.80"
      ]
     },
     "execution_count": 180,
     "metadata": {},
     "output_type": "execute_result"
    }
   ],
   "source": [
    "spent_data.nlargest(10, 'spent')"
   ]
  },
  {
   "cell_type": "code",
   "execution_count": 181,
   "id": "5101ffdd",
   "metadata": {
    "ExecuteTime": {
     "end_time": "2021-09-04T04:48:56.030082Z",
     "start_time": "2021-09-04T04:48:56.002487Z"
    }
   },
   "outputs": [
    {
     "data": {
      "text/html": [
       "<div>\n",
       "<style scoped>\n",
       "    .dataframe tbody tr th:only-of-type {\n",
       "        vertical-align: middle;\n",
       "    }\n",
       "\n",
       "    .dataframe tbody tr th {\n",
       "        vertical-align: top;\n",
       "    }\n",
       "\n",
       "    .dataframe thead th {\n",
       "        text-align: right;\n",
       "    }\n",
       "</style>\n",
       "<table border=\"1\" class=\"dataframe\">\n",
       "  <thead>\n",
       "    <tr style=\"text-align: right;\">\n",
       "      <th></th>\n",
       "      <th>customer_id</th>\n",
       "      <th>quantity</th>\n",
       "      <th>spent</th>\n",
       "    </tr>\n",
       "  </thead>\n",
       "  <tbody>\n",
       "    <tr>\n",
       "      <th>2118</th>\n",
       "      <td>12671</td>\n",
       "      <td>1</td>\n",
       "      <td>0.001</td>\n",
       "    </tr>\n",
       "    <tr>\n",
       "      <th>8625</th>\n",
       "      <td>13583</td>\n",
       "      <td>1</td>\n",
       "      <td>0.001</td>\n",
       "    </tr>\n",
       "    <tr>\n",
       "      <th>10044</th>\n",
       "      <td>13765</td>\n",
       "      <td>1</td>\n",
       "      <td>0.001</td>\n",
       "    </tr>\n",
       "    <tr>\n",
       "      <th>15218</th>\n",
       "      <td>14459</td>\n",
       "      <td>1</td>\n",
       "      <td>0.001</td>\n",
       "    </tr>\n",
       "    <tr>\n",
       "      <th>7323</th>\n",
       "      <td>13408</td>\n",
       "      <td>1</td>\n",
       "      <td>0.002</td>\n",
       "    </tr>\n",
       "    <tr>\n",
       "      <th>7219</th>\n",
       "      <td>13393</td>\n",
       "      <td>1</td>\n",
       "      <td>0.420</td>\n",
       "    </tr>\n",
       "    <tr>\n",
       "      <th>16641</th>\n",
       "      <td>14634</td>\n",
       "      <td>1</td>\n",
       "      <td>0.550</td>\n",
       "    </tr>\n",
       "    <tr>\n",
       "      <th>16969</th>\n",
       "      <td>14668</td>\n",
       "      <td>1</td>\n",
       "      <td>0.550</td>\n",
       "    </tr>\n",
       "    <tr>\n",
       "      <th>40003</th>\n",
       "      <td>17766</td>\n",
       "      <td>2</td>\n",
       "      <td>0.760</td>\n",
       "    </tr>\n",
       "    <tr>\n",
       "      <th>25944</th>\n",
       "      <td>15915</td>\n",
       "      <td>5</td>\n",
       "      <td>0.800</td>\n",
       "    </tr>\n",
       "  </tbody>\n",
       "</table>\n",
       "</div>"
      ],
      "text/plain": [
       "       customer_id  quantity  spent\n",
       "2118         12671         1  0.001\n",
       "8625         13583         1  0.001\n",
       "10044        13765         1  0.001\n",
       "15218        14459         1  0.001\n",
       "7323         13408         1  0.002\n",
       "7219         13393         1  0.420\n",
       "16641        14634         1  0.550\n",
       "16969        14668         1  0.550\n",
       "40003        17766         2  0.760\n",
       "25944        15915         5  0.800"
      ]
     },
     "execution_count": 181,
     "metadata": {},
     "output_type": "execute_result"
    }
   ],
   "source": [
    "spent_data.nsmallest(10, 'spent')"
   ]
  },
  {
   "cell_type": "code",
   "execution_count": 189,
   "id": "927ce968",
   "metadata": {
    "ExecuteTime": {
     "end_time": "2021-09-04T04:52:44.198938Z",
     "start_time": "2021-09-04T04:52:44.025830Z"
    },
    "scrolled": true
   },
   "outputs": [
    {
     "data": {
      "text/html": [
       "<div>\n",
       "<style scoped>\n",
       "    .dataframe tbody tr th:only-of-type {\n",
       "        vertical-align: middle;\n",
       "    }\n",
       "\n",
       "    .dataframe tbody tr th {\n",
       "        vertical-align: top;\n",
       "    }\n",
       "\n",
       "    .dataframe thead th {\n",
       "        text-align: right;\n",
       "    }\n",
       "</style>\n",
       "<table border=\"1\" class=\"dataframe\">\n",
       "  <thead>\n",
       "    <tr style=\"text-align: right;\">\n",
       "      <th></th>\n",
       "      <th>year</th>\n",
       "      <th>month</th>\n",
       "      <th>invoice</th>\n",
       "    </tr>\n",
       "  </thead>\n",
       "  <tbody>\n",
       "    <tr>\n",
       "      <th>4</th>\n",
       "      <td>2009</td>\n",
       "      <td>5</td>\n",
       "      <td>30</td>\n",
       "    </tr>\n",
       "    <tr>\n",
       "      <th>10</th>\n",
       "      <td>2009</td>\n",
       "      <td>11</td>\n",
       "      <td>65</td>\n",
       "    </tr>\n",
       "    <tr>\n",
       "      <th>5</th>\n",
       "      <td>2009</td>\n",
       "      <td>6</td>\n",
       "      <td>72</td>\n",
       "    </tr>\n",
       "    <tr>\n",
       "      <th>8</th>\n",
       "      <td>2009</td>\n",
       "      <td>9</td>\n",
       "      <td>76</td>\n",
       "    </tr>\n",
       "    <tr>\n",
       "      <th>3</th>\n",
       "      <td>2009</td>\n",
       "      <td>4</td>\n",
       "      <td>80</td>\n",
       "    </tr>\n",
       "    <tr>\n",
       "      <th>9</th>\n",
       "      <td>2009</td>\n",
       "      <td>10</td>\n",
       "      <td>86</td>\n",
       "    </tr>\n",
       "    <tr>\n",
       "      <th>6</th>\n",
       "      <td>2009</td>\n",
       "      <td>7</td>\n",
       "      <td>94</td>\n",
       "    </tr>\n",
       "    <tr>\n",
       "      <th>0</th>\n",
       "      <td>2009</td>\n",
       "      <td>1</td>\n",
       "      <td>96</td>\n",
       "    </tr>\n",
       "    <tr>\n",
       "      <th>7</th>\n",
       "      <td>2009</td>\n",
       "      <td>8</td>\n",
       "      <td>102</td>\n",
       "    </tr>\n",
       "    <tr>\n",
       "      <th>1</th>\n",
       "      <td>2009</td>\n",
       "      <td>2</td>\n",
       "      <td>110</td>\n",
       "    </tr>\n",
       "    <tr>\n",
       "      <th>2</th>\n",
       "      <td>2009</td>\n",
       "      <td>3</td>\n",
       "      <td>121</td>\n",
       "    </tr>\n",
       "    <tr>\n",
       "      <th>23</th>\n",
       "      <td>2010</td>\n",
       "      <td>12</td>\n",
       "      <td>572</td>\n",
       "    </tr>\n",
       "    <tr>\n",
       "      <th>11</th>\n",
       "      <td>2009</td>\n",
       "      <td>12</td>\n",
       "      <td>573</td>\n",
       "    </tr>\n",
       "    <tr>\n",
       "      <th>13</th>\n",
       "      <td>2010</td>\n",
       "      <td>2</td>\n",
       "      <td>1203</td>\n",
       "    </tr>\n",
       "    <tr>\n",
       "      <th>12</th>\n",
       "      <td>2010</td>\n",
       "      <td>1</td>\n",
       "      <td>1329</td>\n",
       "    </tr>\n",
       "    <tr>\n",
       "      <th>17</th>\n",
       "      <td>2010</td>\n",
       "      <td>6</td>\n",
       "      <td>1375</td>\n",
       "    </tr>\n",
       "    <tr>\n",
       "      <th>14</th>\n",
       "      <td>2010</td>\n",
       "      <td>3</td>\n",
       "      <td>1391</td>\n",
       "    </tr>\n",
       "    <tr>\n",
       "      <th>15</th>\n",
       "      <td>2010</td>\n",
       "      <td>4</td>\n",
       "      <td>1449</td>\n",
       "    </tr>\n",
       "    <tr>\n",
       "      <th>16</th>\n",
       "      <td>2010</td>\n",
       "      <td>5</td>\n",
       "      <td>1451</td>\n",
       "    </tr>\n",
       "    <tr>\n",
       "      <th>19</th>\n",
       "      <td>2010</td>\n",
       "      <td>8</td>\n",
       "      <td>1493</td>\n",
       "    </tr>\n",
       "    <tr>\n",
       "      <th>18</th>\n",
       "      <td>2010</td>\n",
       "      <td>7</td>\n",
       "      <td>1589</td>\n",
       "    </tr>\n",
       "    <tr>\n",
       "      <th>20</th>\n",
       "      <td>2010</td>\n",
       "      <td>9</td>\n",
       "      <td>1777</td>\n",
       "    </tr>\n",
       "    <tr>\n",
       "      <th>21</th>\n",
       "      <td>2010</td>\n",
       "      <td>10</td>\n",
       "      <td>1821</td>\n",
       "    </tr>\n",
       "    <tr>\n",
       "      <th>22</th>\n",
       "      <td>2010</td>\n",
       "      <td>11</td>\n",
       "      <td>2138</td>\n",
       "    </tr>\n",
       "  </tbody>\n",
       "</table>\n",
       "</div>"
      ],
      "text/plain": [
       "    year  month  invoice\n",
       "4   2009      5       30\n",
       "10  2009     11       65\n",
       "5   2009      6       72\n",
       "8   2009      9       76\n",
       "3   2009      4       80\n",
       "9   2009     10       86\n",
       "6   2009      7       94\n",
       "0   2009      1       96\n",
       "7   2009      8      102\n",
       "1   2009      2      110\n",
       "2   2009      3      121\n",
       "23  2010     12      572\n",
       "11  2009     12      573\n",
       "13  2010      2     1203\n",
       "12  2010      1     1329\n",
       "17  2010      6     1375\n",
       "14  2010      3     1391\n",
       "15  2010      4     1449\n",
       "16  2010      5     1451\n",
       "19  2010      8     1493\n",
       "18  2010      7     1589\n",
       "20  2010      9     1777\n",
       "21  2010     10     1821\n",
       "22  2010     11     2138"
      ]
     },
     "execution_count": 189,
     "metadata": {},
     "output_type": "execute_result"
    }
   ],
   "source": [
    "# Q.3 Which months were the most and least popular for this online retail store?\n",
    "\n",
    "ord_data = retail_df.groupby(['year','month'])['invoice'].unique().apply(lambda x: x.size)\n",
    "ord_data = ord_data.to_frame().reset_index()\n",
    "ord_data.sort_values('invoice')"
   ]
  },
  {
   "cell_type": "code",
   "execution_count": 132,
   "id": "13938c9c",
   "metadata": {
    "ExecuteTime": {
     "end_time": "2021-09-04T04:05:16.407294Z",
     "start_time": "2021-09-04T04:05:16.216915Z"
    }
   },
   "outputs": [
    {
     "data": {
      "text/plain": [
       "day\n",
       "1      266\n",
       "2      475\n",
       "3      607\n",
       "4      387\n",
       "5      548\n",
       "6      610\n",
       "7      502\n",
       "8      506\n",
       "9      510\n",
       "10     819\n",
       "11    1028\n",
       "12    1707\n",
       "13     509\n",
       "14     633\n",
       "15     727\n",
       "16     615\n",
       "17     596\n",
       "18     683\n",
       "19     600\n",
       "20     502\n",
       "21     647\n",
       "22     633\n",
       "23     571\n",
       "24     601\n",
       "25     664\n",
       "26     654\n",
       "27     511\n",
       "28     668\n",
       "29     607\n",
       "30     457\n",
       "31     250\n",
       "Name: invoice, dtype: int64"
      ]
     },
     "execution_count": 132,
     "metadata": {},
     "output_type": "execute_result"
    }
   ],
   "source": [
    "# Q.4 Which day were the most and least popular for this online retail store?\n",
    "\n",
    "ord_data = retail_df.groupby('day')['invoice'].unique().apply(lambda x: x.size)\n",
    "ord_data"
   ]
  },
  {
   "cell_type": "code",
   "execution_count": 138,
   "id": "f98fc87d",
   "metadata": {
    "ExecuteTime": {
     "end_time": "2021-09-04T04:12:18.099458Z",
     "start_time": "2021-09-04T04:12:17.584550Z"
    }
   },
   "outputs": [
    {
     "data": {
      "image/png": "[encoded data removed]",
      "text/plain": [
       "<Figure size 864x432 with 1 Axes>"
      ]
     },
     "metadata": {
      "needs_background": "light"
     },
     "output_type": "display_data"
    }
   ],
   "source": [
    "plt.bar(ord_data.index, ord_data)\n",
    "plt.show()"
   ]
  },
  {
   "cell_type": "code",
   "execution_count": 142,
   "id": "74c29bfd",
   "metadata": {
    "ExecuteTime": {
     "end_time": "2021-09-04T04:15:59.453962Z",
     "start_time": "2021-09-04T04:15:59.281421Z"
    }
   },
   "outputs": [
    {
     "data": {
      "text/plain": [
       "day_of_week\n",
       "1    2885\n",
       "2    3013\n",
       "3    3106\n",
       "4    3303\n",
       "5    2500\n",
       "6    1329\n",
       "7    2957\n",
       "Name: invoice, dtype: int64"
      ]
     },
     "execution_count": 142,
     "metadata": {},
     "output_type": "execute_result"
    }
   ],
   "source": [
    "plot_data = retail_df.groupby('day_of_week')['invoice'].unique().apply(lambda x: x.size)\n",
    "plot_data"
   ]
  },
  {
   "cell_type": "code",
   "execution_count": 146,
   "id": "84b61472",
   "metadata": {
    "ExecuteTime": {
     "end_time": "2021-09-04T04:17:11.708889Z",
     "start_time": "2021-09-04T04:17:11.287700Z"
    }
   },
   "outputs": [
    {
     "data": {
      "image/png": "[encoded data removed]",
      "text/plain": [
       "<Figure size 864x432 with 1 Axes>"
      ]
     },
     "metadata": {
      "needs_background": "light"
     },
     "output_type": "display_data"
    }
   ],
   "source": [
    "plot_data.to_frame().plot.bar(rot=0)\n",
    "plt.show()"
   ]
  },
  {
   "cell_type": "code",
   "execution_count": 147,
   "id": "ad1eee07",
   "metadata": {
    "ExecuteTime": {
     "end_time": "2021-09-04T04:24:45.386062Z",
     "start_time": "2021-09-04T04:24:45.261794Z"
    }
   },
   "outputs": [
    {
     "data": {
      "text/plain": [
       "hour\n",
       "7       49\n",
       "8      444\n",
       "9     1203\n",
       "10    2214\n",
       "11    2394\n",
       "12    3158\n",
       "13    2885\n",
       "14    2349\n",
       "15    2053\n",
       "16    1239\n",
       "17     629\n",
       "18     257\n",
       "19     185\n",
       "20      34\n",
       "Name: invoice, dtype: int64"
      ]
     },
     "execution_count": 147,
     "metadata": {},
     "output_type": "execute_result"
    }
   ],
   "source": [
    "hour_data = retail_df.groupby('hour')['invoice'].unique().apply(lambda x: x.size)\n",
    "hour_data"
   ]
  },
  {
   "cell_type": "code",
   "execution_count": 148,
   "id": "816473f2",
   "metadata": {
    "ExecuteTime": {
     "end_time": "2021-09-04T04:25:09.810479Z",
     "start_time": "2021-09-04T04:25:09.326738Z"
    }
   },
   "outputs": [
    {
     "data": {
      "image/png": "[encoded data removed]",
      "text/plain": [
       "<Figure size 864x432 with 1 Axes>"
      ]
     },
     "metadata": {
      "needs_background": "light"
     },
     "output_type": "display_data"
    }
   ],
   "source": [
    "hour_data.plot.bar(rot=0)\n",
    "plt.show()"
   ]
  },
  {
   "cell_type": "code",
   "execution_count": 150,
   "id": "5306a033",
   "metadata": {
    "ExecuteTime": {
     "end_time": "2021-09-04T04:28:49.261242Z",
     "start_time": "2021-09-04T04:28:49.073420Z"
    }
   },
   "outputs": [
    {
     "data": {
      "text/html": [
       "<div>\n",
       "<style scoped>\n",
       "    .dataframe tbody tr th:only-of-type {\n",
       "        vertical-align: middle;\n",
       "    }\n",
       "\n",
       "    .dataframe tbody tr th {\n",
       "        vertical-align: top;\n",
       "    }\n",
       "\n",
       "    .dataframe thead th {\n",
       "        text-align: right;\n",
       "    }\n",
       "</style>\n",
       "<table border=\"1\" class=\"dataframe\">\n",
       "  <thead>\n",
       "    <tr style=\"text-align: right;\">\n",
       "      <th></th>\n",
       "      <th>description</th>\n",
       "      <th>quantity</th>\n",
       "    </tr>\n",
       "  </thead>\n",
       "  <tbody>\n",
       "    <tr>\n",
       "      <th>0</th>\n",
       "      <td>doormat union jack guns and roses</td>\n",
       "      <td>169</td>\n",
       "    </tr>\n",
       "    <tr>\n",
       "      <th>1</th>\n",
       "      <td>3 stripey mice feltcraft</td>\n",
       "      <td>663</td>\n",
       "    </tr>\n",
       "    <tr>\n",
       "      <th>2</th>\n",
       "      <td>4 purple flock dinner candles</td>\n",
       "      <td>200</td>\n",
       "    </tr>\n",
       "    <tr>\n",
       "      <th>3</th>\n",
       "      <td>animal stickers</td>\n",
       "      <td>385</td>\n",
       "    </tr>\n",
       "    <tr>\n",
       "      <th>4</th>\n",
       "      <td>bank charges</td>\n",
       "      <td>2</td>\n",
       "    </tr>\n",
       "    <tr>\n",
       "      <th>...</th>\n",
       "      <td>...</td>\n",
       "      <td>...</td>\n",
       "    </tr>\n",
       "    <tr>\n",
       "      <th>4433</th>\n",
       "      <td>zinc heart lattice tray oval</td>\n",
       "      <td>325</td>\n",
       "    </tr>\n",
       "    <tr>\n",
       "      <th>4434</th>\n",
       "      <td>zinc metal heart decoration</td>\n",
       "      <td>13958</td>\n",
       "    </tr>\n",
       "    <tr>\n",
       "      <th>4435</th>\n",
       "      <td>zinc police box lantern</td>\n",
       "      <td>193</td>\n",
       "    </tr>\n",
       "    <tr>\n",
       "      <th>4436</th>\n",
       "      <td>zinc top  2 door wooden shelf</td>\n",
       "      <td>234</td>\n",
       "    </tr>\n",
       "    <tr>\n",
       "      <th>4437</th>\n",
       "      <td>zinc willie winkie  candle stick</td>\n",
       "      <td>3630</td>\n",
       "    </tr>\n",
       "  </tbody>\n",
       "</table>\n",
       "<p>4438 rows × 2 columns</p>\n",
       "</div>"
      ],
      "text/plain": [
       "                              description  quantity\n",
       "0       doormat union jack guns and roses       169\n",
       "1                3 stripey mice feltcraft       663\n",
       "2           4 purple flock dinner candles       200\n",
       "3                         animal stickers       385\n",
       "4                            bank charges         2\n",
       "...                                   ...       ...\n",
       "4433        zinc heart lattice tray oval        325\n",
       "4434          zinc metal heart decoration     13958\n",
       "4435              zinc police box lantern       193\n",
       "4436       zinc top  2 door wooden shelf        234\n",
       "4437     zinc willie winkie  candle stick      3630\n",
       "\n",
       "[4438 rows x 2 columns]"
      ]
     },
     "execution_count": 150,
     "metadata": {},
     "output_type": "execute_result"
    }
   ],
   "source": [
    "# Which items were ordered the most and least?\n",
    "\n",
    "items_data = retail_df.groupby('description', as_index=False)['quantity'].sum()\n",
    "items_data"
   ]
  },
  {
   "cell_type": "code",
   "execution_count": 151,
   "id": "a58c4d81",
   "metadata": {
    "ExecuteTime": {
     "end_time": "2021-09-04T04:29:32.068909Z",
     "start_time": "2021-09-04T04:29:32.039946Z"
    }
   },
   "outputs": [
    {
     "data": {
      "text/html": [
       "<div>\n",
       "<style scoped>\n",
       "    .dataframe tbody tr th:only-of-type {\n",
       "        vertical-align: middle;\n",
       "    }\n",
       "\n",
       "    .dataframe tbody tr th {\n",
       "        vertical-align: top;\n",
       "    }\n",
       "\n",
       "    .dataframe thead th {\n",
       "        text-align: right;\n",
       "    }\n",
       "</style>\n",
       "<table border=\"1\" class=\"dataframe\">\n",
       "  <thead>\n",
       "    <tr style=\"text-align: right;\">\n",
       "      <th></th>\n",
       "      <th>description</th>\n",
       "      <th>quantity</th>\n",
       "    </tr>\n",
       "  </thead>\n",
       "  <tbody>\n",
       "    <tr>\n",
       "      <th>4254</th>\n",
       "      <td>white hanging heart t-light holder</td>\n",
       "      <td>56915</td>\n",
       "    </tr>\n",
       "    <tr>\n",
       "      <th>2630</th>\n",
       "      <td>pack of 72 retro spot cake cases</td>\n",
       "      <td>45156</td>\n",
       "    </tr>\n",
       "    <tr>\n",
       "      <th>4360</th>\n",
       "      <td>world war 2 gliders asstd designs</td>\n",
       "      <td>44674</td>\n",
       "    </tr>\n",
       "    <tr>\n",
       "      <th>262</th>\n",
       "      <td>assorted colour bird ornament</td>\n",
       "      <td>41671</td>\n",
       "    </tr>\n",
       "    <tr>\n",
       "      <th>138</th>\n",
       "      <td>60 teatime fairy cake cases</td>\n",
       "      <td>35806</td>\n",
       "    </tr>\n",
       "    <tr>\n",
       "      <th>...</th>\n",
       "      <td>...</td>\n",
       "      <td>...</td>\n",
       "    </tr>\n",
       "    <tr>\n",
       "      <th>341</th>\n",
       "      <td>baroque butterfly earrings crystal</td>\n",
       "      <td>1</td>\n",
       "    </tr>\n",
       "    <tr>\n",
       "      <th>1465</th>\n",
       "      <td>fire polished glass bracelet red</td>\n",
       "      <td>1</td>\n",
       "    </tr>\n",
       "    <tr>\n",
       "      <th>3897</th>\n",
       "      <td>spotty cockerel doorstop</td>\n",
       "      <td>1</td>\n",
       "    </tr>\n",
       "    <tr>\n",
       "      <th>1787</th>\n",
       "      <td>green chenille shaggy c/cover</td>\n",
       "      <td>1</td>\n",
       "    </tr>\n",
       "    <tr>\n",
       "      <th>2412</th>\n",
       "      <td>mop pendant shell necklace</td>\n",
       "      <td>1</td>\n",
       "    </tr>\n",
       "  </tbody>\n",
       "</table>\n",
       "<p>4438 rows × 2 columns</p>\n",
       "</div>"
      ],
      "text/plain": [
       "                             description  quantity\n",
       "4254  white hanging heart t-light holder     56915\n",
       "2630    pack of 72 retro spot cake cases     45156\n",
       "4360   world war 2 gliders asstd designs     44674\n",
       "262        assorted colour bird ornament     41671\n",
       "138          60 teatime fairy cake cases     35806\n",
       "...                                  ...       ...\n",
       "341   baroque butterfly earrings crystal         1\n",
       "1465    fire polished glass bracelet red         1\n",
       "3897            spotty cockerel doorstop         1\n",
       "1787       green chenille shaggy c/cover         1\n",
       "2412          mop pendant shell necklace         1\n",
       "\n",
       "[4438 rows x 2 columns]"
      ]
     },
     "execution_count": 151,
     "metadata": {},
     "output_type": "execute_result"
    }
   ],
   "source": [
    "items_data.sort_values('quantity', ascending=False)"
   ]
  },
  {
   "cell_type": "code",
   "execution_count": 163,
   "id": "bca67f77",
   "metadata": {
    "ExecuteTime": {
     "end_time": "2021-09-04T04:33:28.289123Z",
     "start_time": "2021-09-04T04:33:28.154620Z"
    },
    "scrolled": true
   },
   "outputs": [
    {
     "data": {
      "text/html": [
       "<div>\n",
       "<style scoped>\n",
       "    .dataframe tbody tr th:only-of-type {\n",
       "        vertical-align: middle;\n",
       "    }\n",
       "\n",
       "    .dataframe tbody tr th {\n",
       "        vertical-align: top;\n",
       "    }\n",
       "\n",
       "    .dataframe thead th {\n",
       "        text-align: right;\n",
       "    }\n",
       "</style>\n",
       "<table border=\"1\" class=\"dataframe\">\n",
       "  <thead>\n",
       "    <tr style=\"text-align: right;\">\n",
       "      <th></th>\n",
       "      <th>country</th>\n",
       "      <th>invoice</th>\n",
       "    </tr>\n",
       "  </thead>\n",
       "  <tbody>\n",
       "    <tr>\n",
       "      <th>34</th>\n",
       "      <td>United Kingdom</td>\n",
       "      <td>370785</td>\n",
       "    </tr>\n",
       "    <tr>\n",
       "      <th>9</th>\n",
       "      <td>EIRE</td>\n",
       "      <td>8481</td>\n",
       "    </tr>\n",
       "    <tr>\n",
       "      <th>12</th>\n",
       "      <td>Germany</td>\n",
       "      <td>7649</td>\n",
       "    </tr>\n",
       "    <tr>\n",
       "      <th>11</th>\n",
       "      <td>France</td>\n",
       "      <td>5450</td>\n",
       "    </tr>\n",
       "    <tr>\n",
       "      <th>21</th>\n",
       "      <td>Netherlands</td>\n",
       "      <td>2726</td>\n",
       "    </tr>\n",
       "    <tr>\n",
       "      <th>28</th>\n",
       "      <td>Spain</td>\n",
       "      <td>1230</td>\n",
       "    </tr>\n",
       "    <tr>\n",
       "      <th>30</th>\n",
       "      <td>Switzerland</td>\n",
       "      <td>1169</td>\n",
       "    </tr>\n",
       "    <tr>\n",
       "      <th>3</th>\n",
       "      <td>Belgium</td>\n",
       "      <td>1033</td>\n",
       "    </tr>\n",
       "    <tr>\n",
       "      <th>25</th>\n",
       "      <td>Portugal</td>\n",
       "      <td>982</td>\n",
       "    </tr>\n",
       "    <tr>\n",
       "      <th>29</th>\n",
       "      <td>Sweden</td>\n",
       "      <td>865</td>\n",
       "    </tr>\n",
       "    <tr>\n",
       "      <th>6</th>\n",
       "      <td>Channel Islands</td>\n",
       "      <td>820</td>\n",
       "    </tr>\n",
       "    <tr>\n",
       "      <th>16</th>\n",
       "      <td>Italy</td>\n",
       "      <td>707</td>\n",
       "    </tr>\n",
       "    <tr>\n",
       "      <th>0</th>\n",
       "      <td>Australia</td>\n",
       "      <td>628</td>\n",
       "    </tr>\n",
       "    <tr>\n",
       "      <th>7</th>\n",
       "      <td>Cyprus</td>\n",
       "      <td>541</td>\n",
       "    </tr>\n",
       "    <tr>\n",
       "      <th>1</th>\n",
       "      <td>Austria</td>\n",
       "      <td>522</td>\n",
       "    </tr>\n",
       "    <tr>\n",
       "      <th>13</th>\n",
       "      <td>Greece</td>\n",
       "      <td>512</td>\n",
       "    </tr>\n",
       "    <tr>\n",
       "      <th>8</th>\n",
       "      <td>Denmark</td>\n",
       "      <td>384</td>\n",
       "    </tr>\n",
       "    <tr>\n",
       "      <th>23</th>\n",
       "      <td>Norway</td>\n",
       "      <td>363</td>\n",
       "    </tr>\n",
       "    <tr>\n",
       "      <th>10</th>\n",
       "      <td>Finland</td>\n",
       "      <td>347</td>\n",
       "    </tr>\n",
       "    <tr>\n",
       "      <th>33</th>\n",
       "      <td>United Arab Emirates</td>\n",
       "      <td>314</td>\n",
       "    </tr>\n",
       "    <tr>\n",
       "      <th>35</th>\n",
       "      <td>Unspecified</td>\n",
       "      <td>277</td>\n",
       "    </tr>\n",
       "    <tr>\n",
       "      <th>32</th>\n",
       "      <td>USA</td>\n",
       "      <td>227</td>\n",
       "    </tr>\n",
       "    <tr>\n",
       "      <th>24</th>\n",
       "      <td>Poland</td>\n",
       "      <td>182</td>\n",
       "    </tr>\n",
       "    <tr>\n",
       "      <th>20</th>\n",
       "      <td>Malta</td>\n",
       "      <td>168</td>\n",
       "    </tr>\n",
       "    <tr>\n",
       "      <th>17</th>\n",
       "      <td>Japan</td>\n",
       "      <td>164</td>\n",
       "    </tr>\n",
       "    <tr>\n",
       "      <th>19</th>\n",
       "      <td>Lithuania</td>\n",
       "      <td>154</td>\n",
       "    </tr>\n",
       "    <tr>\n",
       "      <th>27</th>\n",
       "      <td>Singapore</td>\n",
       "      <td>117</td>\n",
       "    </tr>\n",
       "    <tr>\n",
       "      <th>5</th>\n",
       "      <td>Canada</td>\n",
       "      <td>77</td>\n",
       "    </tr>\n",
       "    <tr>\n",
       "      <th>31</th>\n",
       "      <td>Thailand</td>\n",
       "      <td>76</td>\n",
       "    </tr>\n",
       "    <tr>\n",
       "      <th>15</th>\n",
       "      <td>Israel</td>\n",
       "      <td>74</td>\n",
       "    </tr>\n",
       "    <tr>\n",
       "      <th>14</th>\n",
       "      <td>Iceland</td>\n",
       "      <td>71</td>\n",
       "    </tr>\n",
       "    <tr>\n",
       "      <th>26</th>\n",
       "      <td>RSA</td>\n",
       "      <td>65</td>\n",
       "    </tr>\n",
       "    <tr>\n",
       "      <th>4</th>\n",
       "      <td>Brazil</td>\n",
       "      <td>62</td>\n",
       "    </tr>\n",
       "    <tr>\n",
       "      <th>36</th>\n",
       "      <td>West Indies</td>\n",
       "      <td>54</td>\n",
       "    </tr>\n",
       "    <tr>\n",
       "      <th>18</th>\n",
       "      <td>Korea</td>\n",
       "      <td>53</td>\n",
       "    </tr>\n",
       "    <tr>\n",
       "      <th>2</th>\n",
       "      <td>Bahrain</td>\n",
       "      <td>42</td>\n",
       "    </tr>\n",
       "    <tr>\n",
       "      <th>22</th>\n",
       "      <td>Nigeria</td>\n",
       "      <td>30</td>\n",
       "    </tr>\n",
       "  </tbody>\n",
       "</table>\n",
       "</div>"
      ],
      "text/plain": [
       "                 country  invoice\n",
       "34        United Kingdom   370785\n",
       "9                   EIRE     8481\n",
       "12               Germany     7649\n",
       "11                France     5450\n",
       "21           Netherlands     2726\n",
       "28                 Spain     1230\n",
       "30           Switzerland     1169\n",
       "3                Belgium     1033\n",
       "25              Portugal      982\n",
       "29                Sweden      865\n",
       "6        Channel Islands      820\n",
       "16                 Italy      707\n",
       "0              Australia      628\n",
       "7                 Cyprus      541\n",
       "1                Austria      522\n",
       "13                Greece      512\n",
       "8                Denmark      384\n",
       "23                Norway      363\n",
       "10               Finland      347\n",
       "33  United Arab Emirates      314\n",
       "35           Unspecified      277\n",
       "32                   USA      227\n",
       "24                Poland      182\n",
       "20                 Malta      168\n",
       "17                 Japan      164\n",
       "19             Lithuania      154\n",
       "27             Singapore      117\n",
       "5                 Canada       77\n",
       "31              Thailand       76\n",
       "15                Israel       74\n",
       "14               Iceland       71\n",
       "26                   RSA       65\n",
       "4                 Brazil       62\n",
       "36           West Indies       54\n",
       "18                 Korea       53\n",
       "2                Bahrain       42\n",
       "22               Nigeria       30"
      ]
     },
     "execution_count": 163,
     "metadata": {},
     "output_type": "execute_result"
    }
   ],
   "source": [
    "# Which countries placed the most and fewest orders?\n",
    "\n",
    "countries_data = retail_df.groupby('country', as_index=False)['invoice'].count()\n",
    "countries_data.sort_values('invoice', ascending=False)"
   ]
  },
  {
   "cell_type": "markdown",
   "id": "93d17498",
   "metadata": {},
   "source": [
    "- This store is based in the UK, so it seems obvious that customers in the UK would have placed the most orders. Remove the UK from ord_coun to see how the other countries are ordered."
   ]
  },
  {
   "cell_type": "code",
   "execution_count": 168,
   "id": "7dbf4ddc",
   "metadata": {
    "ExecuteTime": {
     "end_time": "2021-09-04T04:38:05.728101Z",
     "start_time": "2021-09-04T04:38:05.713905Z"
    }
   },
   "outputs": [],
   "source": [
    "countries_data_new = countries_data.loc[~(countries_data.country=='United Kingdom')]\n",
    "countries_data_new = countries_data_new.sort_values('invoice', ascending=False)"
   ]
  },
  {
   "cell_type": "code",
   "execution_count": 172,
   "id": "23bf7539",
   "metadata": {
    "ExecuteTime": {
     "end_time": "2021-09-04T04:40:03.747037Z",
     "start_time": "2021-09-04T04:40:02.800686Z"
    }
   },
   "outputs": [
    {
     "data": {
      "image/png": "[encoded data removed]",
      "text/plain": [
       "<Figure size 864x720 with 1 Axes>"
      ]
     },
     "metadata": {
      "needs_background": "light"
     },
     "output_type": "display_data"
    }
   ],
   "source": [
    "plt.figure(figsize=(12,10))\n",
    "plt.barh(y=countries_data_new.country, width=countries_data_new.invoice)\n",
    "plt.show()"
   ]
  },
  {
   "cell_type": "code",
   "execution_count": 173,
   "id": "9d1d98e3",
   "metadata": {
    "ExecuteTime": {
     "end_time": "2021-09-04T04:43:09.086241Z",
     "start_time": "2021-09-04T04:43:09.000802Z"
    }
   },
   "outputs": [
    {
     "data": {
      "text/plain": [
       "country\n",
       "Australia                 30388.350\n",
       "Austria                   13154.330\n",
       "Bahrain                     805.970\n",
       "Belgium                   22573.430\n",
       "Brazil                      268.270\n",
       "Canada                     1216.660\n",
       "Channel Islands           24256.320\n",
       "Cyprus                    11389.750\n",
       "Denmark                   21964.010\n",
       "EIRE                     338764.500\n",
       "Finland                    7379.460\n",
       "France                   133462.760\n",
       "Germany                  200723.301\n",
       "Greece                    14335.670\n",
       "Iceland                    1323.320\n",
       "Israel                     3199.400\n",
       "Italy                     14397.180\n",
       "Japan                      9722.020\n",
       "Korea                      1118.510\n",
       "Lithuania                  4892.680\n",
       "Malta                      2686.750\n",
       "Netherlands              267779.320\n",
       "Nigeria                     140.390\n",
       "Norway                    10027.840\n",
       "Poland                     3567.800\n",
       "Portugal                  23608.090\n",
       "RSA                         931.430\n",
       "Singapore                  4037.770\n",
       "Spain                     45611.200\n",
       "Sweden                    51141.710\n",
       "Switzerland               43071.390\n",
       "Thailand                   3070.540\n",
       "USA                        4345.470\n",
       "United Arab Emirates       7047.410\n",
       "United Kingdom          7273934.093\n",
       "Unspecified                5946.580\n",
       "West Indies                 536.410\n",
       "Name: spent, dtype: float64"
      ]
     },
     "execution_count": 173,
     "metadata": {},
     "output_type": "execute_result"
    }
   ],
   "source": [
    "total_spent = retail_df.groupby('country')['spent'].sum()\n",
    "total_spent"
   ]
  },
  {
   "cell_type": "code",
   "execution_count": 176,
   "id": "b0be9643",
   "metadata": {
    "ExecuteTime": {
     "end_time": "2021-09-04T04:44:22.247345Z",
     "start_time": "2021-09-04T04:44:22.209900Z"
    },
    "scrolled": true
   },
   "outputs": [
    {
     "data": {
      "text/html": [
       "<div>\n",
       "<style scoped>\n",
       "    .dataframe tbody tr th:only-of-type {\n",
       "        vertical-align: middle;\n",
       "    }\n",
       "\n",
       "    .dataframe tbody tr th {\n",
       "        vertical-align: top;\n",
       "    }\n",
       "\n",
       "    .dataframe thead th {\n",
       "        text-align: right;\n",
       "    }\n",
       "</style>\n",
       "<table border=\"1\" class=\"dataframe\">\n",
       "  <thead>\n",
       "    <tr style=\"text-align: right;\">\n",
       "      <th></th>\n",
       "      <th>spent</th>\n",
       "    </tr>\n",
       "    <tr>\n",
       "      <th>country</th>\n",
       "      <th></th>\n",
       "    </tr>\n",
       "  </thead>\n",
       "  <tbody>\n",
       "    <tr>\n",
       "      <th>Nigeria</th>\n",
       "      <td>140.390</td>\n",
       "    </tr>\n",
       "    <tr>\n",
       "      <th>Brazil</th>\n",
       "      <td>268.270</td>\n",
       "    </tr>\n",
       "    <tr>\n",
       "      <th>West Indies</th>\n",
       "      <td>536.410</td>\n",
       "    </tr>\n",
       "    <tr>\n",
       "      <th>Bahrain</th>\n",
       "      <td>805.970</td>\n",
       "    </tr>\n",
       "    <tr>\n",
       "      <th>RSA</th>\n",
       "      <td>931.430</td>\n",
       "    </tr>\n",
       "    <tr>\n",
       "      <th>Korea</th>\n",
       "      <td>1118.510</td>\n",
       "    </tr>\n",
       "    <tr>\n",
       "      <th>Canada</th>\n",
       "      <td>1216.660</td>\n",
       "    </tr>\n",
       "    <tr>\n",
       "      <th>Iceland</th>\n",
       "      <td>1323.320</td>\n",
       "    </tr>\n",
       "    <tr>\n",
       "      <th>Malta</th>\n",
       "      <td>2686.750</td>\n",
       "    </tr>\n",
       "    <tr>\n",
       "      <th>Thailand</th>\n",
       "      <td>3070.540</td>\n",
       "    </tr>\n",
       "    <tr>\n",
       "      <th>Israel</th>\n",
       "      <td>3199.400</td>\n",
       "    </tr>\n",
       "    <tr>\n",
       "      <th>Poland</th>\n",
       "      <td>3567.800</td>\n",
       "    </tr>\n",
       "    <tr>\n",
       "      <th>Singapore</th>\n",
       "      <td>4037.770</td>\n",
       "    </tr>\n",
       "    <tr>\n",
       "      <th>USA</th>\n",
       "      <td>4345.470</td>\n",
       "    </tr>\n",
       "    <tr>\n",
       "      <th>Lithuania</th>\n",
       "      <td>4892.680</td>\n",
       "    </tr>\n",
       "    <tr>\n",
       "      <th>Unspecified</th>\n",
       "      <td>5946.580</td>\n",
       "    </tr>\n",
       "    <tr>\n",
       "      <th>United Arab Emirates</th>\n",
       "      <td>7047.410</td>\n",
       "    </tr>\n",
       "    <tr>\n",
       "      <th>Finland</th>\n",
       "      <td>7379.460</td>\n",
       "    </tr>\n",
       "    <tr>\n",
       "      <th>Japan</th>\n",
       "      <td>9722.020</td>\n",
       "    </tr>\n",
       "    <tr>\n",
       "      <th>Norway</th>\n",
       "      <td>10027.840</td>\n",
       "    </tr>\n",
       "    <tr>\n",
       "      <th>Cyprus</th>\n",
       "      <td>11389.750</td>\n",
       "    </tr>\n",
       "    <tr>\n",
       "      <th>Austria</th>\n",
       "      <td>13154.330</td>\n",
       "    </tr>\n",
       "    <tr>\n",
       "      <th>Greece</th>\n",
       "      <td>14335.670</td>\n",
       "    </tr>\n",
       "    <tr>\n",
       "      <th>Italy</th>\n",
       "      <td>14397.180</td>\n",
       "    </tr>\n",
       "    <tr>\n",
       "      <th>Denmark</th>\n",
       "      <td>21964.010</td>\n",
       "    </tr>\n",
       "    <tr>\n",
       "      <th>Belgium</th>\n",
       "      <td>22573.430</td>\n",
       "    </tr>\n",
       "    <tr>\n",
       "      <th>Portugal</th>\n",
       "      <td>23608.090</td>\n",
       "    </tr>\n",
       "    <tr>\n",
       "      <th>Channel Islands</th>\n",
       "      <td>24256.320</td>\n",
       "    </tr>\n",
       "    <tr>\n",
       "      <th>Australia</th>\n",
       "      <td>30388.350</td>\n",
       "    </tr>\n",
       "    <tr>\n",
       "      <th>Switzerland</th>\n",
       "      <td>43071.390</td>\n",
       "    </tr>\n",
       "    <tr>\n",
       "      <th>Spain</th>\n",
       "      <td>45611.200</td>\n",
       "    </tr>\n",
       "    <tr>\n",
       "      <th>Sweden</th>\n",
       "      <td>51141.710</td>\n",
       "    </tr>\n",
       "    <tr>\n",
       "      <th>France</th>\n",
       "      <td>133462.760</td>\n",
       "    </tr>\n",
       "    <tr>\n",
       "      <th>Germany</th>\n",
       "      <td>200723.301</td>\n",
       "    </tr>\n",
       "    <tr>\n",
       "      <th>Netherlands</th>\n",
       "      <td>267779.320</td>\n",
       "    </tr>\n",
       "    <tr>\n",
       "      <th>EIRE</th>\n",
       "      <td>338764.500</td>\n",
       "    </tr>\n",
       "    <tr>\n",
       "      <th>United Kingdom</th>\n",
       "      <td>7273934.093</td>\n",
       "    </tr>\n",
       "  </tbody>\n",
       "</table>\n",
       "</div>"
      ],
      "text/plain": [
       "                            spent\n",
       "country                          \n",
       "Nigeria                   140.390\n",
       "Brazil                    268.270\n",
       "West Indies               536.410\n",
       "Bahrain                   805.970\n",
       "RSA                       931.430\n",
       "Korea                    1118.510\n",
       "Canada                   1216.660\n",
       "Iceland                  1323.320\n",
       "Malta                    2686.750\n",
       "Thailand                 3070.540\n",
       "Israel                   3199.400\n",
       "Poland                   3567.800\n",
       "Singapore                4037.770\n",
       "USA                      4345.470\n",
       "Lithuania                4892.680\n",
       "Unspecified              5946.580\n",
       "United Arab Emirates     7047.410\n",
       "Finland                  7379.460\n",
       "Japan                    9722.020\n",
       "Norway                  10027.840\n",
       "Cyprus                  11389.750\n",
       "Austria                 13154.330\n",
       "Greece                  14335.670\n",
       "Italy                   14397.180\n",
       "Denmark                 21964.010\n",
       "Belgium                 22573.430\n",
       "Portugal                23608.090\n",
       "Channel Islands         24256.320\n",
       "Australia               30388.350\n",
       "Switzerland             43071.390\n",
       "Spain                   45611.200\n",
       "Sweden                  51141.710\n",
       "France                 133462.760\n",
       "Germany                200723.301\n",
       "Netherlands            267779.320\n",
       "EIRE                   338764.500\n",
       "United Kingdom        7273934.093"
      ]
     },
     "execution_count": 176,
     "metadata": {},
     "output_type": "execute_result"
    }
   ],
   "source": [
    "total_spent = total_spent.to_frame().sort_values('spent')\n",
    "total_spent"
   ]
  },
  {
   "cell_type": "code",
   "execution_count": 178,
   "id": "94de676a",
   "metadata": {
    "ExecuteTime": {
     "end_time": "2021-09-04T04:45:28.750268Z",
     "start_time": "2021-09-04T04:45:27.754682Z"
    }
   },
   "outputs": [
    {
     "data": {
      "image/png": "[encoded data removed]",
      "text/plain": [
       "<Figure size 864x432 with 1 Axes>"
      ]
     },
     "metadata": {
      "needs_background": "light"
     },
     "output_type": "display_data"
    }
   ],
   "source": [
    "total_spent.drop(index=['United Kingdom']).plot.bar()\n",
    "plt.show()"
   ]
  },
  {
   "cell_type": "code",
   "execution_count": null,
   "id": "5ab020dd",
   "metadata": {},
   "outputs": [],
   "source": []
  }
 ],
 "metadata": {
  "kernelspec": {
   "display_name": "Python 3",
   "language": "python",
   "name": "python3"
  },
  "language_info": {
   "codemirror_mode": {
    "name": "ipython",
    "version": 3
   },
   "file_extension": ".py",
   "mimetype": "text/x-python",
   "name": "python",
   "nbconvert_exporter": "python",
   "pygments_lexer": "ipython3",
   "version": "3.8.8"
  },
  "toc": {
   "base_numbering": 1,
   "nav_menu": {},
   "number_sections": true,
   "sideBar": true,
   "skip_h1_title": false,
   "title_cell": "Table of Contents",
   "title_sidebar": "Contents",
   "toc_cell": false,
   "toc_position": {},
   "toc_section_display": true,
   "toc_window_display": false
  },
  "varInspector": {
   "cols": {
    "lenName": 16,
    "lenType": 16,
    "lenVar": 40
   },
   "kernels_config": {
    "python": {
     "delete_cmd_postfix": "",
     "delete_cmd_prefix": "del ",
     "library": "var_list.py",
     "varRefreshCmd": "print(var_dic_list())"
    },
    "r": {
     "delete_cmd_postfix": ") ",
     "delete_cmd_prefix": "rm(",
     "library": "var_list.r",
     "varRefreshCmd": "cat(var_dic_list()) "
    }
   },
   "types_to_exclude": [
    "module",
    "function",
    "builtin_function_or_method",
    "instance",
    "_Feature"
   ],
   "window_display": false
  }
 },
 "nbformat": 4,
 "nbformat_minor": 5
}
