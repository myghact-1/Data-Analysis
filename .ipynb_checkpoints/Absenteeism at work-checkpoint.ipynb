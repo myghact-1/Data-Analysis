{
 "cells": [
  {
   "cell_type": "code",
   "execution_count": 1,
   "id": "a1857edf",
   "metadata": {
    "ExecuteTime": {
     "end_time": "2021-10-01T09:14:12.401052Z",
     "start_time": "2021-10-01T09:14:04.557015Z"
    }
   },
   "outputs": [],
   "source": [
    "import numpy as np\n",
    "import pandas as pd\n",
    "import matplotlib.pyplot as plt\n",
    "import seaborn as sns\n",
    "\n",
    "from scipy import stats\n",
    "from calendar import month_name, day_name\n",
    "\n",
    "import statsmodels.api as sm\n",
    "from statsmodels.formula.api import ols\n",
    "from statsmodels.graphics.factorplots import interaction_plot\n",
    "\n",
    "import warnings\n",
    "warnings.filterwarnings('ignore')"
   ]
  },
  {
   "cell_type": "markdown",
   "id": "f8e174e6",
   "metadata": {},
   "source": [
    "***Source of used data is [here](https://archive.ics.uci.edu/ml/datasets/Absenteeism+at+work)***"
   ]
  },
  {
   "cell_type": "markdown",
   "id": "93694ab8",
   "metadata": {
    "heading_collapsed": true
   },
   "source": [
    "## Loading and Preprocessing Data"
   ]
  },
  {
   "cell_type": "code",
   "execution_count": 2,
   "id": "5e204948",
   "metadata": {
    "ExecuteTime": {
     "end_time": "2021-10-01T09:14:12.498618Z",
     "start_time": "2021-10-01T09:14:12.427582Z"
    },
    "hidden": true
   },
   "outputs": [
    {
     "data": {
      "text/html": [
       "<div>\n",
       "<style scoped>\n",
       "    .dataframe tbody tr th:only-of-type {\n",
       "        vertical-align: middle;\n",
       "    }\n",
       "\n",
       "    .dataframe tbody tr th {\n",
       "        vertical-align: top;\n",
       "    }\n",
       "\n",
       "    .dataframe thead th {\n",
       "        text-align: right;\n",
       "    }\n",
       "</style>\n",
       "<table border=\"1\" class=\"dataframe\">\n",
       "  <thead>\n",
       "    <tr style=\"text-align: right;\">\n",
       "      <th></th>\n",
       "      <th>ID</th>\n",
       "      <th>Reason for absence</th>\n",
       "      <th>Month of absence</th>\n",
       "      <th>Day of the week</th>\n",
       "      <th>Seasons</th>\n",
       "      <th>Transportation expense</th>\n",
       "      <th>Distance from Residence to Work</th>\n",
       "      <th>Service time</th>\n",
       "      <th>Age</th>\n",
       "      <th>Work load Average/day</th>\n",
       "      <th>...</th>\n",
       "      <th>Disciplinary failure</th>\n",
       "      <th>Education</th>\n",
       "      <th>Son</th>\n",
       "      <th>Social drinker</th>\n",
       "      <th>Social smoker</th>\n",
       "      <th>Pet</th>\n",
       "      <th>Weight</th>\n",
       "      <th>Height</th>\n",
       "      <th>Body mass index</th>\n",
       "      <th>Absenteeism time in hours</th>\n",
       "    </tr>\n",
       "  </thead>\n",
       "  <tbody>\n",
       "    <tr>\n",
       "      <th>0</th>\n",
       "      <td>11</td>\n",
       "      <td>26</td>\n",
       "      <td>7</td>\n",
       "      <td>3</td>\n",
       "      <td>1</td>\n",
       "      <td>289</td>\n",
       "      <td>36</td>\n",
       "      <td>13</td>\n",
       "      <td>33</td>\n",
       "      <td>239.554</td>\n",
       "      <td>...</td>\n",
       "      <td>0</td>\n",
       "      <td>1</td>\n",
       "      <td>2</td>\n",
       "      <td>1</td>\n",
       "      <td>0</td>\n",
       "      <td>1</td>\n",
       "      <td>90</td>\n",
       "      <td>172</td>\n",
       "      <td>30</td>\n",
       "      <td>4</td>\n",
       "    </tr>\n",
       "    <tr>\n",
       "      <th>1</th>\n",
       "      <td>36</td>\n",
       "      <td>0</td>\n",
       "      <td>7</td>\n",
       "      <td>3</td>\n",
       "      <td>1</td>\n",
       "      <td>118</td>\n",
       "      <td>13</td>\n",
       "      <td>18</td>\n",
       "      <td>50</td>\n",
       "      <td>239.554</td>\n",
       "      <td>...</td>\n",
       "      <td>1</td>\n",
       "      <td>1</td>\n",
       "      <td>1</td>\n",
       "      <td>1</td>\n",
       "      <td>0</td>\n",
       "      <td>0</td>\n",
       "      <td>98</td>\n",
       "      <td>178</td>\n",
       "      <td>31</td>\n",
       "      <td>0</td>\n",
       "    </tr>\n",
       "    <tr>\n",
       "      <th>2</th>\n",
       "      <td>3</td>\n",
       "      <td>23</td>\n",
       "      <td>7</td>\n",
       "      <td>4</td>\n",
       "      <td>1</td>\n",
       "      <td>179</td>\n",
       "      <td>51</td>\n",
       "      <td>18</td>\n",
       "      <td>38</td>\n",
       "      <td>239.554</td>\n",
       "      <td>...</td>\n",
       "      <td>0</td>\n",
       "      <td>1</td>\n",
       "      <td>0</td>\n",
       "      <td>1</td>\n",
       "      <td>0</td>\n",
       "      <td>0</td>\n",
       "      <td>89</td>\n",
       "      <td>170</td>\n",
       "      <td>31</td>\n",
       "      <td>2</td>\n",
       "    </tr>\n",
       "    <tr>\n",
       "      <th>3</th>\n",
       "      <td>7</td>\n",
       "      <td>7</td>\n",
       "      <td>7</td>\n",
       "      <td>5</td>\n",
       "      <td>1</td>\n",
       "      <td>279</td>\n",
       "      <td>5</td>\n",
       "      <td>14</td>\n",
       "      <td>39</td>\n",
       "      <td>239.554</td>\n",
       "      <td>...</td>\n",
       "      <td>0</td>\n",
       "      <td>1</td>\n",
       "      <td>2</td>\n",
       "      <td>1</td>\n",
       "      <td>1</td>\n",
       "      <td>0</td>\n",
       "      <td>68</td>\n",
       "      <td>168</td>\n",
       "      <td>24</td>\n",
       "      <td>4</td>\n",
       "    </tr>\n",
       "    <tr>\n",
       "      <th>4</th>\n",
       "      <td>11</td>\n",
       "      <td>23</td>\n",
       "      <td>7</td>\n",
       "      <td>5</td>\n",
       "      <td>1</td>\n",
       "      <td>289</td>\n",
       "      <td>36</td>\n",
       "      <td>13</td>\n",
       "      <td>33</td>\n",
       "      <td>239.554</td>\n",
       "      <td>...</td>\n",
       "      <td>0</td>\n",
       "      <td>1</td>\n",
       "      <td>2</td>\n",
       "      <td>1</td>\n",
       "      <td>0</td>\n",
       "      <td>1</td>\n",
       "      <td>90</td>\n",
       "      <td>172</td>\n",
       "      <td>30</td>\n",
       "      <td>2</td>\n",
       "    </tr>\n",
       "  </tbody>\n",
       "</table>\n",
       "<p>5 rows × 21 columns</p>\n",
       "</div>"
      ],
      "text/plain": [
       "   ID  Reason for absence  Month of absence  Day of the week  Seasons  \\\n",
       "0  11                  26                 7                3        1   \n",
       "1  36                   0                 7                3        1   \n",
       "2   3                  23                 7                4        1   \n",
       "3   7                   7                 7                5        1   \n",
       "4  11                  23                 7                5        1   \n",
       "\n",
       "   Transportation expense  Distance from Residence to Work  Service time  Age  \\\n",
       "0                     289                               36            13   33   \n",
       "1                     118                               13            18   50   \n",
       "2                     179                               51            18   38   \n",
       "3                     279                                5            14   39   \n",
       "4                     289                               36            13   33   \n",
       "\n",
       "   Work load Average/day   ...  Disciplinary failure  Education  Son  \\\n",
       "0                 239.554  ...                     0          1    2   \n",
       "1                 239.554  ...                     1          1    1   \n",
       "2                 239.554  ...                     0          1    0   \n",
       "3                 239.554  ...                     0          1    2   \n",
       "4                 239.554  ...                     0          1    2   \n",
       "\n",
       "   Social drinker  Social smoker  Pet  Weight  Height  Body mass index  \\\n",
       "0               1              0    1      90     172               30   \n",
       "1               1              0    0      98     178               31   \n",
       "2               1              0    0      89     170               31   \n",
       "3               1              1    0      68     168               24   \n",
       "4               1              0    1      90     172               30   \n",
       "\n",
       "   Absenteeism time in hours  \n",
       "0                          4  \n",
       "1                          0  \n",
       "2                          2  \n",
       "3                          4  \n",
       "4                          2  \n",
       "\n",
       "[5 rows x 21 columns]"
      ]
     },
     "execution_count": 2,
     "metadata": {},
     "output_type": "execute_result"
    }
   ],
   "source": [
    "df = pd.read_csv('../datasets/Absenteeism_at_work_AAA/Absenteeism_at_work.csv',\n",
    "                sep=';')\n",
    "df.head()"
   ]
  },
  {
   "cell_type": "code",
   "execution_count": 3,
   "id": "16163aab",
   "metadata": {
    "ExecuteTime": {
     "end_time": "2021-10-01T09:14:12.590868Z",
     "start_time": "2021-10-01T09:14:12.572246Z"
    },
    "hidden": true
   },
   "outputs": [
    {
     "data": {
      "text/plain": [
       "(740, 21)"
      ]
     },
     "execution_count": 3,
     "metadata": {},
     "output_type": "execute_result"
    }
   ],
   "source": [
    "df.shape"
   ]
  },
  {
   "cell_type": "code",
   "execution_count": 4,
   "id": "07c65d3d",
   "metadata": {
    "ExecuteTime": {
     "end_time": "2021-10-01T09:14:12.681578Z",
     "start_time": "2021-10-01T09:14:12.661644Z"
    },
    "hidden": true
   },
   "outputs": [
    {
     "data": {
      "text/plain": [
       "0"
      ]
     },
     "execution_count": 4,
     "metadata": {},
     "output_type": "execute_result"
    }
   ],
   "source": [
    "## checking null values\n",
    "\n",
    "df.isna().sum().sum()"
   ]
  },
  {
   "cell_type": "code",
   "execution_count": 5,
   "id": "fb855ad6",
   "metadata": {
    "ExecuteTime": {
     "end_time": "2021-10-01T09:14:12.772951Z",
     "start_time": "2021-10-01T09:14:12.752199Z"
    },
    "hidden": true
   },
   "outputs": [
    {
     "data": {
      "text/plain": [
       "Index(['id', 'reason_for_absence', 'month_of_absence', 'day_of_the_week',\n",
       "       'seasons', 'transportation_expense', 'distance_from_residence_to_work',\n",
       "       'service_time', 'age', 'work_load_average/day', 'hit_target',\n",
       "       'disciplinary_failure', 'education', 'son', 'social_drinker',\n",
       "       'social_smoker', 'pet', 'weight', 'height', 'body_mass_index',\n",
       "       'absenteeism_time_in_hours'],\n",
       "      dtype='object')"
      ]
     },
     "execution_count": 5,
     "metadata": {},
     "output_type": "execute_result"
    }
   ],
   "source": [
    "## changing column names\n",
    "\n",
    "df.columns = df.columns.str.strip().str.replace(' ', '_').str.lower()\n",
    "\n",
    "df.columns"
   ]
  },
  {
   "cell_type": "code",
   "execution_count": 6,
   "id": "2f10fe15",
   "metadata": {
    "ExecuteTime": {
     "end_time": "2021-10-01T09:14:12.889353Z",
     "start_time": "2021-10-01T09:14:12.862468Z"
    },
    "hidden": true
   },
   "outputs": [
    {
     "name": "stdout",
     "output_type": "stream",
     "text": [
      "<class 'pandas.core.frame.DataFrame'>\n",
      "RangeIndex: 740 entries, 0 to 739\n",
      "Data columns (total 21 columns):\n",
      " #   Column                           Non-Null Count  Dtype  \n",
      "---  ------                           --------------  -----  \n",
      " 0   id                               740 non-null    int64  \n",
      " 1   reason_for_absence               740 non-null    int64  \n",
      " 2   month_of_absence                 740 non-null    int64  \n",
      " 3   day_of_the_week                  740 non-null    int64  \n",
      " 4   seasons                          740 non-null    int64  \n",
      " 5   transportation_expense           740 non-null    int64  \n",
      " 6   distance_from_residence_to_work  740 non-null    int64  \n",
      " 7   service_time                     740 non-null    int64  \n",
      " 8   age                              740 non-null    int64  \n",
      " 9   work_load_average/day            740 non-null    float64\n",
      " 10  hit_target                       740 non-null    int64  \n",
      " 11  disciplinary_failure             740 non-null    int64  \n",
      " 12  education                        740 non-null    int64  \n",
      " 13  son                              740 non-null    int64  \n",
      " 14  social_drinker                   740 non-null    int64  \n",
      " 15  social_smoker                    740 non-null    int64  \n",
      " 16  pet                              740 non-null    int64  \n",
      " 17  weight                           740 non-null    int64  \n",
      " 18  height                           740 non-null    int64  \n",
      " 19  body_mass_index                  740 non-null    int64  \n",
      " 20  absenteeism_time_in_hours        740 non-null    int64  \n",
      "dtypes: float64(1), int64(20)\n",
      "memory usage: 121.5 KB\n"
     ]
    }
   ],
   "source": [
    "df.info()"
   ]
  },
  {
   "cell_type": "code",
   "execution_count": 7,
   "id": "0df09177",
   "metadata": {
    "ExecuteTime": {
     "end_time": "2021-10-01T09:14:13.110692Z",
     "start_time": "2021-10-01T09:14:12.973222Z"
    },
    "hidden": true
   },
   "outputs": [
    {
     "data": {
      "text/html": [
       "<div>\n",
       "<style scoped>\n",
       "    .dataframe tbody tr th:only-of-type {\n",
       "        vertical-align: middle;\n",
       "    }\n",
       "\n",
       "    .dataframe tbody tr th {\n",
       "        vertical-align: top;\n",
       "    }\n",
       "\n",
       "    .dataframe thead th {\n",
       "        text-align: right;\n",
       "    }\n",
       "</style>\n",
       "<table border=\"1\" class=\"dataframe\">\n",
       "  <thead>\n",
       "    <tr style=\"text-align: right;\">\n",
       "      <th></th>\n",
       "      <th>count</th>\n",
       "      <th>mean</th>\n",
       "      <th>std</th>\n",
       "      <th>min</th>\n",
       "      <th>25%</th>\n",
       "      <th>50%</th>\n",
       "      <th>75%</th>\n",
       "      <th>max</th>\n",
       "    </tr>\n",
       "  </thead>\n",
       "  <tbody>\n",
       "    <tr>\n",
       "      <th>id</th>\n",
       "      <td>740.0</td>\n",
       "      <td>18.017568</td>\n",
       "      <td>11.021247</td>\n",
       "      <td>1.000</td>\n",
       "      <td>9.000</td>\n",
       "      <td>18.000</td>\n",
       "      <td>28.000</td>\n",
       "      <td>36.000</td>\n",
       "    </tr>\n",
       "    <tr>\n",
       "      <th>reason_for_absence</th>\n",
       "      <td>740.0</td>\n",
       "      <td>19.216216</td>\n",
       "      <td>8.433406</td>\n",
       "      <td>0.000</td>\n",
       "      <td>13.000</td>\n",
       "      <td>23.000</td>\n",
       "      <td>26.000</td>\n",
       "      <td>28.000</td>\n",
       "    </tr>\n",
       "    <tr>\n",
       "      <th>month_of_absence</th>\n",
       "      <td>740.0</td>\n",
       "      <td>6.324324</td>\n",
       "      <td>3.436287</td>\n",
       "      <td>0.000</td>\n",
       "      <td>3.000</td>\n",
       "      <td>6.000</td>\n",
       "      <td>9.000</td>\n",
       "      <td>12.000</td>\n",
       "    </tr>\n",
       "    <tr>\n",
       "      <th>day_of_the_week</th>\n",
       "      <td>740.0</td>\n",
       "      <td>3.914865</td>\n",
       "      <td>1.421675</td>\n",
       "      <td>2.000</td>\n",
       "      <td>3.000</td>\n",
       "      <td>4.000</td>\n",
       "      <td>5.000</td>\n",
       "      <td>6.000</td>\n",
       "    </tr>\n",
       "    <tr>\n",
       "      <th>seasons</th>\n",
       "      <td>740.0</td>\n",
       "      <td>2.544595</td>\n",
       "      <td>1.111831</td>\n",
       "      <td>1.000</td>\n",
       "      <td>2.000</td>\n",
       "      <td>3.000</td>\n",
       "      <td>4.000</td>\n",
       "      <td>4.000</td>\n",
       "    </tr>\n",
       "    <tr>\n",
       "      <th>transportation_expense</th>\n",
       "      <td>740.0</td>\n",
       "      <td>221.329730</td>\n",
       "      <td>66.952223</td>\n",
       "      <td>118.000</td>\n",
       "      <td>179.000</td>\n",
       "      <td>225.000</td>\n",
       "      <td>260.000</td>\n",
       "      <td>388.000</td>\n",
       "    </tr>\n",
       "    <tr>\n",
       "      <th>distance_from_residence_to_work</th>\n",
       "      <td>740.0</td>\n",
       "      <td>29.631081</td>\n",
       "      <td>14.836788</td>\n",
       "      <td>5.000</td>\n",
       "      <td>16.000</td>\n",
       "      <td>26.000</td>\n",
       "      <td>50.000</td>\n",
       "      <td>52.000</td>\n",
       "    </tr>\n",
       "    <tr>\n",
       "      <th>service_time</th>\n",
       "      <td>740.0</td>\n",
       "      <td>12.554054</td>\n",
       "      <td>4.384873</td>\n",
       "      <td>1.000</td>\n",
       "      <td>9.000</td>\n",
       "      <td>13.000</td>\n",
       "      <td>16.000</td>\n",
       "      <td>29.000</td>\n",
       "    </tr>\n",
       "    <tr>\n",
       "      <th>age</th>\n",
       "      <td>740.0</td>\n",
       "      <td>36.450000</td>\n",
       "      <td>6.478772</td>\n",
       "      <td>27.000</td>\n",
       "      <td>31.000</td>\n",
       "      <td>37.000</td>\n",
       "      <td>40.000</td>\n",
       "      <td>58.000</td>\n",
       "    </tr>\n",
       "    <tr>\n",
       "      <th>work_load_average/day</th>\n",
       "      <td>740.0</td>\n",
       "      <td>271.490235</td>\n",
       "      <td>39.058116</td>\n",
       "      <td>205.917</td>\n",
       "      <td>244.387</td>\n",
       "      <td>264.249</td>\n",
       "      <td>294.217</td>\n",
       "      <td>378.884</td>\n",
       "    </tr>\n",
       "    <tr>\n",
       "      <th>hit_target</th>\n",
       "      <td>740.0</td>\n",
       "      <td>94.587838</td>\n",
       "      <td>3.779313</td>\n",
       "      <td>81.000</td>\n",
       "      <td>93.000</td>\n",
       "      <td>95.000</td>\n",
       "      <td>97.000</td>\n",
       "      <td>100.000</td>\n",
       "    </tr>\n",
       "    <tr>\n",
       "      <th>disciplinary_failure</th>\n",
       "      <td>740.0</td>\n",
       "      <td>0.054054</td>\n",
       "      <td>0.226277</td>\n",
       "      <td>0.000</td>\n",
       "      <td>0.000</td>\n",
       "      <td>0.000</td>\n",
       "      <td>0.000</td>\n",
       "      <td>1.000</td>\n",
       "    </tr>\n",
       "    <tr>\n",
       "      <th>education</th>\n",
       "      <td>740.0</td>\n",
       "      <td>1.291892</td>\n",
       "      <td>0.673238</td>\n",
       "      <td>1.000</td>\n",
       "      <td>1.000</td>\n",
       "      <td>1.000</td>\n",
       "      <td>1.000</td>\n",
       "      <td>4.000</td>\n",
       "    </tr>\n",
       "    <tr>\n",
       "      <th>son</th>\n",
       "      <td>740.0</td>\n",
       "      <td>1.018919</td>\n",
       "      <td>1.098489</td>\n",
       "      <td>0.000</td>\n",
       "      <td>0.000</td>\n",
       "      <td>1.000</td>\n",
       "      <td>2.000</td>\n",
       "      <td>4.000</td>\n",
       "    </tr>\n",
       "    <tr>\n",
       "      <th>social_drinker</th>\n",
       "      <td>740.0</td>\n",
       "      <td>0.567568</td>\n",
       "      <td>0.495749</td>\n",
       "      <td>0.000</td>\n",
       "      <td>0.000</td>\n",
       "      <td>1.000</td>\n",
       "      <td>1.000</td>\n",
       "      <td>1.000</td>\n",
       "    </tr>\n",
       "    <tr>\n",
       "      <th>social_smoker</th>\n",
       "      <td>740.0</td>\n",
       "      <td>0.072973</td>\n",
       "      <td>0.260268</td>\n",
       "      <td>0.000</td>\n",
       "      <td>0.000</td>\n",
       "      <td>0.000</td>\n",
       "      <td>0.000</td>\n",
       "      <td>1.000</td>\n",
       "    </tr>\n",
       "    <tr>\n",
       "      <th>pet</th>\n",
       "      <td>740.0</td>\n",
       "      <td>0.745946</td>\n",
       "      <td>1.318258</td>\n",
       "      <td>0.000</td>\n",
       "      <td>0.000</td>\n",
       "      <td>0.000</td>\n",
       "      <td>1.000</td>\n",
       "      <td>8.000</td>\n",
       "    </tr>\n",
       "    <tr>\n",
       "      <th>weight</th>\n",
       "      <td>740.0</td>\n",
       "      <td>79.035135</td>\n",
       "      <td>12.883211</td>\n",
       "      <td>56.000</td>\n",
       "      <td>69.000</td>\n",
       "      <td>83.000</td>\n",
       "      <td>89.000</td>\n",
       "      <td>108.000</td>\n",
       "    </tr>\n",
       "    <tr>\n",
       "      <th>height</th>\n",
       "      <td>740.0</td>\n",
       "      <td>172.114865</td>\n",
       "      <td>6.034995</td>\n",
       "      <td>163.000</td>\n",
       "      <td>169.000</td>\n",
       "      <td>170.000</td>\n",
       "      <td>172.000</td>\n",
       "      <td>196.000</td>\n",
       "    </tr>\n",
       "    <tr>\n",
       "      <th>body_mass_index</th>\n",
       "      <td>740.0</td>\n",
       "      <td>26.677027</td>\n",
       "      <td>4.285452</td>\n",
       "      <td>19.000</td>\n",
       "      <td>24.000</td>\n",
       "      <td>25.000</td>\n",
       "      <td>31.000</td>\n",
       "      <td>38.000</td>\n",
       "    </tr>\n",
       "    <tr>\n",
       "      <th>absenteeism_time_in_hours</th>\n",
       "      <td>740.0</td>\n",
       "      <td>6.924324</td>\n",
       "      <td>13.330998</td>\n",
       "      <td>0.000</td>\n",
       "      <td>2.000</td>\n",
       "      <td>3.000</td>\n",
       "      <td>8.000</td>\n",
       "      <td>120.000</td>\n",
       "    </tr>\n",
       "  </tbody>\n",
       "</table>\n",
       "</div>"
      ],
      "text/plain": [
       "                                 count        mean        std      min  \\\n",
       "id                               740.0   18.017568  11.021247    1.000   \n",
       "reason_for_absence               740.0   19.216216   8.433406    0.000   \n",
       "month_of_absence                 740.0    6.324324   3.436287    0.000   \n",
       "day_of_the_week                  740.0    3.914865   1.421675    2.000   \n",
       "seasons                          740.0    2.544595   1.111831    1.000   \n",
       "transportation_expense           740.0  221.329730  66.952223  118.000   \n",
       "distance_from_residence_to_work  740.0   29.631081  14.836788    5.000   \n",
       "service_time                     740.0   12.554054   4.384873    1.000   \n",
       "age                              740.0   36.450000   6.478772   27.000   \n",
       "work_load_average/day            740.0  271.490235  39.058116  205.917   \n",
       "hit_target                       740.0   94.587838   3.779313   81.000   \n",
       "disciplinary_failure             740.0    0.054054   0.226277    0.000   \n",
       "education                        740.0    1.291892   0.673238    1.000   \n",
       "son                              740.0    1.018919   1.098489    0.000   \n",
       "social_drinker                   740.0    0.567568   0.495749    0.000   \n",
       "social_smoker                    740.0    0.072973   0.260268    0.000   \n",
       "pet                              740.0    0.745946   1.318258    0.000   \n",
       "weight                           740.0   79.035135  12.883211   56.000   \n",
       "height                           740.0  172.114865   6.034995  163.000   \n",
       "body_mass_index                  740.0   26.677027   4.285452   19.000   \n",
       "absenteeism_time_in_hours        740.0    6.924324  13.330998    0.000   \n",
       "\n",
       "                                     25%      50%      75%      max  \n",
       "id                                 9.000   18.000   28.000   36.000  \n",
       "reason_for_absence                13.000   23.000   26.000   28.000  \n",
       "month_of_absence                   3.000    6.000    9.000   12.000  \n",
       "day_of_the_week                    3.000    4.000    5.000    6.000  \n",
       "seasons                            2.000    3.000    4.000    4.000  \n",
       "transportation_expense           179.000  225.000  260.000  388.000  \n",
       "distance_from_residence_to_work   16.000   26.000   50.000   52.000  \n",
       "service_time                       9.000   13.000   16.000   29.000  \n",
       "age                               31.000   37.000   40.000   58.000  \n",
       "work_load_average/day            244.387  264.249  294.217  378.884  \n",
       "hit_target                        93.000   95.000   97.000  100.000  \n",
       "disciplinary_failure               0.000    0.000    0.000    1.000  \n",
       "education                          1.000    1.000    1.000    4.000  \n",
       "son                                0.000    1.000    2.000    4.000  \n",
       "social_drinker                     0.000    1.000    1.000    1.000  \n",
       "social_smoker                      0.000    0.000    0.000    1.000  \n",
       "pet                                0.000    0.000    1.000    8.000  \n",
       "weight                            69.000   83.000   89.000  108.000  \n",
       "height                           169.000  170.000  172.000  196.000  \n",
       "body_mass_index                   24.000   25.000   31.000   38.000  \n",
       "absenteeism_time_in_hours          2.000    3.000    8.000  120.000  "
      ]
     },
     "execution_count": 7,
     "metadata": {},
     "output_type": "execute_result"
    }
   ],
   "source": [
    "df.describe().T"
   ]
  },
  {
   "cell_type": "code",
   "execution_count": 8,
   "id": "89edcedd",
   "metadata": {
    "ExecuteTime": {
     "end_time": "2021-10-01T09:14:13.209010Z",
     "start_time": "2021-10-01T09:14:13.189553Z"
    },
    "hidden": true
   },
   "outputs": [],
   "source": [
    "# make a copy of data for preprocessing\n",
    "\n",
    "preprocessed_df = df.copy()"
   ]
  },
  {
   "cell_type": "code",
   "execution_count": 9,
   "id": "59dbd49b",
   "metadata": {
    "ExecuteTime": {
     "end_time": "2021-10-01T09:14:13.541195Z",
     "start_time": "2021-10-01T09:14:13.380275Z"
    },
    "hidden": true
   },
   "outputs": [
    {
     "data": {
      "text/html": [
       "<div>\n",
       "<style scoped>\n",
       "    .dataframe tbody tr th:only-of-type {\n",
       "        vertical-align: middle;\n",
       "    }\n",
       "\n",
       "    .dataframe tbody tr th {\n",
       "        vertical-align: top;\n",
       "    }\n",
       "\n",
       "    .dataframe thead th {\n",
       "        text-align: right;\n",
       "    }\n",
       "</style>\n",
       "<table border=\"1\" class=\"dataframe\">\n",
       "  <thead>\n",
       "    <tr style=\"text-align: right;\">\n",
       "      <th></th>\n",
       "      <th>id</th>\n",
       "      <th>reason_for_absence</th>\n",
       "      <th>month_of_absence</th>\n",
       "      <th>day_of_the_week</th>\n",
       "      <th>seasons</th>\n",
       "      <th>transportation_expense</th>\n",
       "      <th>distance_from_residence_to_work</th>\n",
       "      <th>service_time</th>\n",
       "      <th>age</th>\n",
       "      <th>work_load_average/day</th>\n",
       "      <th>...</th>\n",
       "      <th>disciplinary_failure</th>\n",
       "      <th>education</th>\n",
       "      <th>son</th>\n",
       "      <th>social_drinker</th>\n",
       "      <th>social_smoker</th>\n",
       "      <th>pet</th>\n",
       "      <th>weight</th>\n",
       "      <th>height</th>\n",
       "      <th>body_mass_index</th>\n",
       "      <th>absenteeism_time_in_hours</th>\n",
       "    </tr>\n",
       "  </thead>\n",
       "  <tbody>\n",
       "    <tr>\n",
       "      <th>0</th>\n",
       "      <td>11</td>\n",
       "      <td>26</td>\n",
       "      <td>July</td>\n",
       "      <td>Tuesday</td>\n",
       "      <td>Spring</td>\n",
       "      <td>289</td>\n",
       "      <td>36</td>\n",
       "      <td>13</td>\n",
       "      <td>33</td>\n",
       "      <td>239.554</td>\n",
       "      <td>...</td>\n",
       "      <td>No</td>\n",
       "      <td>High_School</td>\n",
       "      <td>2</td>\n",
       "      <td>Yes</td>\n",
       "      <td>No</td>\n",
       "      <td>1</td>\n",
       "      <td>90</td>\n",
       "      <td>172</td>\n",
       "      <td>30</td>\n",
       "      <td>4</td>\n",
       "    </tr>\n",
       "    <tr>\n",
       "      <th>1</th>\n",
       "      <td>36</td>\n",
       "      <td>0</td>\n",
       "      <td>July</td>\n",
       "      <td>Tuesday</td>\n",
       "      <td>Spring</td>\n",
       "      <td>118</td>\n",
       "      <td>13</td>\n",
       "      <td>18</td>\n",
       "      <td>50</td>\n",
       "      <td>239.554</td>\n",
       "      <td>...</td>\n",
       "      <td>Yes</td>\n",
       "      <td>High_School</td>\n",
       "      <td>1</td>\n",
       "      <td>Yes</td>\n",
       "      <td>No</td>\n",
       "      <td>0</td>\n",
       "      <td>98</td>\n",
       "      <td>178</td>\n",
       "      <td>31</td>\n",
       "      <td>0</td>\n",
       "    </tr>\n",
       "    <tr>\n",
       "      <th>2</th>\n",
       "      <td>3</td>\n",
       "      <td>23</td>\n",
       "      <td>July</td>\n",
       "      <td>Wednesday</td>\n",
       "      <td>Spring</td>\n",
       "      <td>179</td>\n",
       "      <td>51</td>\n",
       "      <td>18</td>\n",
       "      <td>38</td>\n",
       "      <td>239.554</td>\n",
       "      <td>...</td>\n",
       "      <td>No</td>\n",
       "      <td>High_School</td>\n",
       "      <td>0</td>\n",
       "      <td>Yes</td>\n",
       "      <td>No</td>\n",
       "      <td>0</td>\n",
       "      <td>89</td>\n",
       "      <td>170</td>\n",
       "      <td>31</td>\n",
       "      <td>2</td>\n",
       "    </tr>\n",
       "    <tr>\n",
       "      <th>3</th>\n",
       "      <td>7</td>\n",
       "      <td>7</td>\n",
       "      <td>July</td>\n",
       "      <td>Thursday</td>\n",
       "      <td>Spring</td>\n",
       "      <td>279</td>\n",
       "      <td>5</td>\n",
       "      <td>14</td>\n",
       "      <td>39</td>\n",
       "      <td>239.554</td>\n",
       "      <td>...</td>\n",
       "      <td>No</td>\n",
       "      <td>High_School</td>\n",
       "      <td>2</td>\n",
       "      <td>Yes</td>\n",
       "      <td>Yes</td>\n",
       "      <td>0</td>\n",
       "      <td>68</td>\n",
       "      <td>168</td>\n",
       "      <td>24</td>\n",
       "      <td>4</td>\n",
       "    </tr>\n",
       "    <tr>\n",
       "      <th>4</th>\n",
       "      <td>11</td>\n",
       "      <td>23</td>\n",
       "      <td>July</td>\n",
       "      <td>Thursday</td>\n",
       "      <td>Spring</td>\n",
       "      <td>289</td>\n",
       "      <td>36</td>\n",
       "      <td>13</td>\n",
       "      <td>33</td>\n",
       "      <td>239.554</td>\n",
       "      <td>...</td>\n",
       "      <td>No</td>\n",
       "      <td>High_School</td>\n",
       "      <td>2</td>\n",
       "      <td>Yes</td>\n",
       "      <td>No</td>\n",
       "      <td>1</td>\n",
       "      <td>90</td>\n",
       "      <td>172</td>\n",
       "      <td>30</td>\n",
       "      <td>2</td>\n",
       "    </tr>\n",
       "  </tbody>\n",
       "</table>\n",
       "<p>5 rows × 21 columns</p>\n",
       "</div>"
      ],
      "text/plain": [
       "   id  reason_for_absence month_of_absence day_of_the_week seasons  \\\n",
       "0  11                  26             July         Tuesday  Spring   \n",
       "1  36                   0             July         Tuesday  Spring   \n",
       "2   3                  23             July       Wednesday  Spring   \n",
       "3   7                   7             July        Thursday  Spring   \n",
       "4  11                  23             July        Thursday  Spring   \n",
       "\n",
       "   transportation_expense  distance_from_residence_to_work  service_time  age  \\\n",
       "0                     289                               36            13   33   \n",
       "1                     118                               13            18   50   \n",
       "2                     179                               51            18   38   \n",
       "3                     279                                5            14   39   \n",
       "4                     289                               36            13   33   \n",
       "\n",
       "   work_load_average/day  ...  disciplinary_failure    education son  \\\n",
       "0                239.554  ...                    No  High_School   2   \n",
       "1                239.554  ...                   Yes  High_School   1   \n",
       "2                239.554  ...                    No  High_School   0   \n",
       "3                239.554  ...                    No  High_School   2   \n",
       "4                239.554  ...                    No  High_School   2   \n",
       "\n",
       "   social_drinker social_smoker pet  weight  height  body_mass_index  \\\n",
       "0             Yes            No   1      90     172               30   \n",
       "1             Yes            No   0      98     178               31   \n",
       "2             Yes            No   0      89     170               31   \n",
       "3             Yes           Yes   0      68     168               24   \n",
       "4             Yes            No   1      90     172               30   \n",
       "\n",
       "   absenteeism_time_in_hours  \n",
       "0                          4  \n",
       "1                          0  \n",
       "2                          2  \n",
       "3                          4  \n",
       "4                          2  \n",
       "\n",
       "[5 rows x 21 columns]"
      ]
     },
     "execution_count": 9,
     "metadata": {},
     "output_type": "execute_result"
    }
   ],
   "source": [
    "## Mapping categorical values in categorical features\n",
    "\n",
    "month_map = dict(zip(range(1,13), month_name[1:13]))\n",
    "day_map = dict(zip(range(2,7), day_name[:5]))\n",
    "season_map = dict(zip([1,2,3,4], ['Spring', 'Summer', 'Fall', 'Winter']))\n",
    "education_map = dict(zip([1,2,3,4], ['High_School', 'Graduate', 'Postgraduate', 'Master_Phd']))\n",
    "yes_no_map = {0:'No', 1:'Yes'}\n",
    "\n",
    "\n",
    "preprocessed_df.month_of_absence = preprocessed_df.month_of_absence.map(month_map)\n",
    "preprocessed_df.day_of_the_week = preprocessed_df.day_of_the_week.map(day_map)\n",
    "preprocessed_df.seasons = preprocessed_df.seasons.map(season_map)\n",
    "preprocessed_df.education = preprocessed_df.education.map(education_map)\n",
    "preprocessed_df.disciplinary_failure = preprocessed_df.disciplinary_failure.map(yes_no_map)\n",
    "preprocessed_df.social_drinker = preprocessed_df.social_drinker.map(yes_no_map)\n",
    "preprocessed_df.social_smoker = preprocessed_df.social_smoker.map(yes_no_map)\n",
    "\n",
    "\n",
    "preprocessed_df.head()"
   ]
  },
  {
   "cell_type": "markdown",
   "id": "1f68c626",
   "metadata": {
    "hidden": true
   },
   "source": [
    "- In the reason_for_absence feature only the 1-21 are listed in International code of disease (ICD). The remaining are not disease."
   ]
  },
  {
   "cell_type": "code",
   "execution_count": 10,
   "id": "2e260bb4",
   "metadata": {
    "ExecuteTime": {
     "end_time": "2021-10-01T09:14:19.622415Z",
     "start_time": "2021-10-01T09:14:19.596735Z"
    },
    "hidden": true
   },
   "outputs": [],
   "source": [
    "disease_arr = preprocessed_df.reason_for_absence.apply(lambda x: 'Yes' if x>=1 and x<=21 else 'No')\n",
    "\n",
    "preprocessed_df.insert(loc=2, column='disease', value=disease_arr)"
   ]
  },
  {
   "cell_type": "code",
   "execution_count": 11,
   "id": "8985f680",
   "metadata": {
    "ExecuteTime": {
     "end_time": "2021-10-01T09:14:20.547656Z",
     "start_time": "2021-10-01T09:14:20.507552Z"
    },
    "hidden": true
   },
   "outputs": [
    {
     "data": {
      "text/html": [
       "<div>\n",
       "<style scoped>\n",
       "    .dataframe tbody tr th:only-of-type {\n",
       "        vertical-align: middle;\n",
       "    }\n",
       "\n",
       "    .dataframe tbody tr th {\n",
       "        vertical-align: top;\n",
       "    }\n",
       "\n",
       "    .dataframe thead th {\n",
       "        text-align: right;\n",
       "    }\n",
       "</style>\n",
       "<table border=\"1\" class=\"dataframe\">\n",
       "  <thead>\n",
       "    <tr style=\"text-align: right;\">\n",
       "      <th></th>\n",
       "      <th>id</th>\n",
       "      <th>reason_for_absence</th>\n",
       "      <th>disease</th>\n",
       "      <th>month_of_absence</th>\n",
       "      <th>day_of_the_week</th>\n",
       "      <th>seasons</th>\n",
       "      <th>transportation_expense</th>\n",
       "      <th>distance_from_residence_to_work</th>\n",
       "      <th>service_time</th>\n",
       "      <th>age</th>\n",
       "      <th>...</th>\n",
       "      <th>disciplinary_failure</th>\n",
       "      <th>education</th>\n",
       "      <th>son</th>\n",
       "      <th>social_drinker</th>\n",
       "      <th>social_smoker</th>\n",
       "      <th>pet</th>\n",
       "      <th>weight</th>\n",
       "      <th>height</th>\n",
       "      <th>body_mass_index</th>\n",
       "      <th>absenteeism_time_in_hours</th>\n",
       "    </tr>\n",
       "  </thead>\n",
       "  <tbody>\n",
       "    <tr>\n",
       "      <th>0</th>\n",
       "      <td>11</td>\n",
       "      <td>26</td>\n",
       "      <td>No</td>\n",
       "      <td>July</td>\n",
       "      <td>Tuesday</td>\n",
       "      <td>Spring</td>\n",
       "      <td>289</td>\n",
       "      <td>36</td>\n",
       "      <td>13</td>\n",
       "      <td>33</td>\n",
       "      <td>...</td>\n",
       "      <td>No</td>\n",
       "      <td>High_School</td>\n",
       "      <td>2</td>\n",
       "      <td>Yes</td>\n",
       "      <td>No</td>\n",
       "      <td>1</td>\n",
       "      <td>90</td>\n",
       "      <td>172</td>\n",
       "      <td>30</td>\n",
       "      <td>4</td>\n",
       "    </tr>\n",
       "    <tr>\n",
       "      <th>1</th>\n",
       "      <td>36</td>\n",
       "      <td>0</td>\n",
       "      <td>No</td>\n",
       "      <td>July</td>\n",
       "      <td>Tuesday</td>\n",
       "      <td>Spring</td>\n",
       "      <td>118</td>\n",
       "      <td>13</td>\n",
       "      <td>18</td>\n",
       "      <td>50</td>\n",
       "      <td>...</td>\n",
       "      <td>Yes</td>\n",
       "      <td>High_School</td>\n",
       "      <td>1</td>\n",
       "      <td>Yes</td>\n",
       "      <td>No</td>\n",
       "      <td>0</td>\n",
       "      <td>98</td>\n",
       "      <td>178</td>\n",
       "      <td>31</td>\n",
       "      <td>0</td>\n",
       "    </tr>\n",
       "    <tr>\n",
       "      <th>2</th>\n",
       "      <td>3</td>\n",
       "      <td>23</td>\n",
       "      <td>No</td>\n",
       "      <td>July</td>\n",
       "      <td>Wednesday</td>\n",
       "      <td>Spring</td>\n",
       "      <td>179</td>\n",
       "      <td>51</td>\n",
       "      <td>18</td>\n",
       "      <td>38</td>\n",
       "      <td>...</td>\n",
       "      <td>No</td>\n",
       "      <td>High_School</td>\n",
       "      <td>0</td>\n",
       "      <td>Yes</td>\n",
       "      <td>No</td>\n",
       "      <td>0</td>\n",
       "      <td>89</td>\n",
       "      <td>170</td>\n",
       "      <td>31</td>\n",
       "      <td>2</td>\n",
       "    </tr>\n",
       "    <tr>\n",
       "      <th>3</th>\n",
       "      <td>7</td>\n",
       "      <td>7</td>\n",
       "      <td>Yes</td>\n",
       "      <td>July</td>\n",
       "      <td>Thursday</td>\n",
       "      <td>Spring</td>\n",
       "      <td>279</td>\n",
       "      <td>5</td>\n",
       "      <td>14</td>\n",
       "      <td>39</td>\n",
       "      <td>...</td>\n",
       "      <td>No</td>\n",
       "      <td>High_School</td>\n",
       "      <td>2</td>\n",
       "      <td>Yes</td>\n",
       "      <td>Yes</td>\n",
       "      <td>0</td>\n",
       "      <td>68</td>\n",
       "      <td>168</td>\n",
       "      <td>24</td>\n",
       "      <td>4</td>\n",
       "    </tr>\n",
       "    <tr>\n",
       "      <th>4</th>\n",
       "      <td>11</td>\n",
       "      <td>23</td>\n",
       "      <td>No</td>\n",
       "      <td>July</td>\n",
       "      <td>Thursday</td>\n",
       "      <td>Spring</td>\n",
       "      <td>289</td>\n",
       "      <td>36</td>\n",
       "      <td>13</td>\n",
       "      <td>33</td>\n",
       "      <td>...</td>\n",
       "      <td>No</td>\n",
       "      <td>High_School</td>\n",
       "      <td>2</td>\n",
       "      <td>Yes</td>\n",
       "      <td>No</td>\n",
       "      <td>1</td>\n",
       "      <td>90</td>\n",
       "      <td>172</td>\n",
       "      <td>30</td>\n",
       "      <td>2</td>\n",
       "    </tr>\n",
       "  </tbody>\n",
       "</table>\n",
       "<p>5 rows × 22 columns</p>\n",
       "</div>"
      ],
      "text/plain": [
       "   id  reason_for_absence disease month_of_absence day_of_the_week seasons  \\\n",
       "0  11                  26      No             July         Tuesday  Spring   \n",
       "1  36                   0      No             July         Tuesday  Spring   \n",
       "2   3                  23      No             July       Wednesday  Spring   \n",
       "3   7                   7     Yes             July        Thursday  Spring   \n",
       "4  11                  23      No             July        Thursday  Spring   \n",
       "\n",
       "   transportation_expense  distance_from_residence_to_work  service_time  age  \\\n",
       "0                     289                               36            13   33   \n",
       "1                     118                               13            18   50   \n",
       "2                     179                               51            18   38   \n",
       "3                     279                                5            14   39   \n",
       "4                     289                               36            13   33   \n",
       "\n",
       "   ...  disciplinary_failure    education son social_drinker  social_smoker  \\\n",
       "0  ...                    No  High_School   2            Yes             No   \n",
       "1  ...                   Yes  High_School   1            Yes             No   \n",
       "2  ...                    No  High_School   0            Yes             No   \n",
       "3  ...                    No  High_School   2            Yes            Yes   \n",
       "4  ...                    No  High_School   2            Yes             No   \n",
       "\n",
       "  pet weight  height  body_mass_index  absenteeism_time_in_hours  \n",
       "0   1     90     172               30                          4  \n",
       "1   0     98     178               31                          0  \n",
       "2   0     89     170               31                          2  \n",
       "3   0     68     168               24                          4  \n",
       "4   1     90     172               30                          2  \n",
       "\n",
       "[5 rows x 22 columns]"
      ]
     },
     "execution_count": 11,
     "metadata": {},
     "output_type": "execute_result"
    }
   ],
   "source": [
    "preprocessed_df.head()"
   ]
  },
  {
   "cell_type": "markdown",
   "id": "5a60688e",
   "metadata": {
    "heading_collapsed": true
   },
   "source": [
    "## Univariate Analysis"
   ]
  },
  {
   "cell_type": "code",
   "execution_count": 12,
   "id": "21d76fd4",
   "metadata": {
    "ExecuteTime": {
     "end_time": "2021-09-30T09:08:08.177960Z",
     "start_time": "2021-09-30T09:08:08.164281Z"
    },
    "hidden": true
   },
   "outputs": [],
   "source": [
    "def plot_countplot(df, column, figsize=(10,6)):\n",
    "    plt.figure(figsize=figsize)\n",
    "    sns.countplot(x=column, data=df)\n",
    "    plt.title(f\"Count plot of feature - {column}\")\n",
    "    plt.show()"
   ]
  },
  {
   "cell_type": "code",
   "execution_count": 13,
   "id": "db1fae9a",
   "metadata": {
    "ExecuteTime": {
     "end_time": "2021-09-30T09:08:09.490587Z",
     "start_time": "2021-09-30T09:08:08.643826Z"
    },
    "hidden": true
   },
   "outputs": [
    {
     "data": {
      "image/png": "[encoded data removed]",
      "text/plain": [
       "<Figure size 720x432 with 1 Axes>"
      ]
     },
     "metadata": {
      "needs_background": "light"
     },
     "output_type": "display_data"
    }
   ],
   "source": [
    "plot_countplot(df=preprocessed_df, column='reason_for_absence')"
   ]
  },
  {
   "cell_type": "code",
   "execution_count": 14,
   "id": "7a8d9b9c",
   "metadata": {
    "ExecuteTime": {
     "end_time": "2021-09-30T09:08:09.635701Z",
     "start_time": "2021-09-30T09:08:09.614164Z"
    },
    "hidden": true,
    "scrolled": false
   },
   "outputs": [
    {
     "data": {
      "text/plain": [
       "23    0.201351\n",
       "28    0.151351\n",
       "27    0.093243\n",
       "13    0.074324\n",
       "0     0.058108\n",
       "19    0.054054\n",
       "22    0.051351\n",
       "26    0.044595\n",
       "25    0.041892\n",
       "11    0.035135\n",
       "10    0.033784\n",
       "18    0.028378\n",
       "14    0.025676\n",
       "1     0.021622\n",
       "7     0.020270\n",
       "6     0.010811\n",
       "12    0.010811\n",
       "21    0.008108\n",
       "8     0.008108\n",
       "9     0.005405\n",
       "5     0.004054\n",
       "16    0.004054\n",
       "24    0.004054\n",
       "15    0.002703\n",
       "4     0.002703\n",
       "3     0.001351\n",
       "2     0.001351\n",
       "17    0.001351\n",
       "Name: reason_for_absence, dtype: float64"
      ]
     },
     "execution_count": 14,
     "metadata": {},
     "output_type": "execute_result"
    }
   ],
   "source": [
    "preprocessed_df.reason_for_absence.value_counts(normalize=True)"
   ]
  },
  {
   "cell_type": "markdown",
   "id": "ea7cc392",
   "metadata": {
    "hidden": true
   },
   "source": [
    "- Most common reason for absence is `medical consultation (23)` followed by `dental consultation (28)` with 20% and 15%.\n",
    "- Top 5 reasons for absence are `medical consultation (23), dental consultation (28), physiotherapy (27), musculoskeletal system (13), Unknown (0)`.\n",
    "- Only one reason out of top-5 is in the ICD disease table. \n",
    "- More than 57% of the data has reason for absence in top-5 reasons."
   ]
  },
  {
   "cell_type": "code",
   "execution_count": 15,
   "id": "00558d0f",
   "metadata": {
    "ExecuteTime": {
     "end_time": "2021-09-30T09:08:10.170228Z",
     "start_time": "2021-09-30T09:08:09.888244Z"
    },
    "hidden": true
   },
   "outputs": [
    {
     "data": {
      "image/png": "[encoded data removed]",
      "text/plain": [
       "<Figure size 720x432 with 1 Axes>"
      ]
     },
     "metadata": {
      "needs_background": "light"
     },
     "output_type": "display_data"
    }
   ],
   "source": [
    "plot_countplot(df=preprocessed_df, column='disease')"
   ]
  },
  {
   "cell_type": "code",
   "execution_count": 16,
   "id": "bd10b147",
   "metadata": {
    "ExecuteTime": {
     "end_time": "2021-09-30T09:08:10.343703Z",
     "start_time": "2021-09-30T09:08:10.331861Z"
    },
    "hidden": true
   },
   "outputs": [
    {
     "data": {
      "text/plain": [
       "No     0.645946\n",
       "Yes    0.354054\n",
       "Name: disease, dtype: float64"
      ]
     },
     "execution_count": 16,
     "metadata": {},
     "output_type": "execute_result"
    }
   ],
   "source": [
    "preprocessed_df.disease.value_counts(normalize=True)"
   ]
  },
  {
   "cell_type": "markdown",
   "id": "55aa71ac",
   "metadata": {
    "hidden": true
   },
   "source": [
    "- The number of reasons for absence that are not listed in the ICD table is almost twice the number of listed ones."
   ]
  },
  {
   "cell_type": "code",
   "execution_count": 17,
   "id": "eb189364",
   "metadata": {
    "ExecuteTime": {
     "end_time": "2021-09-30T09:08:11.740645Z",
     "start_time": "2021-09-30T09:08:11.300455Z"
    },
    "hidden": true
   },
   "outputs": [
    {
     "data": {
      "image/png": "[encoded data removed]",
      "text/plain": [
       "<Figure size 1080x432 with 1 Axes>"
      ]
     },
     "metadata": {
      "needs_background": "light"
     },
     "output_type": "display_data"
    }
   ],
   "source": [
    "plt.figure(figsize=(15,6))\n",
    "sns.countplot(x='month_of_absence', data=preprocessed_df, order=month_name[1:13])\n",
    "\n",
    "plt.show()"
   ]
  },
  {
   "cell_type": "code",
   "execution_count": 18,
   "id": "ded22a2f",
   "metadata": {
    "ExecuteTime": {
     "end_time": "2021-09-30T09:08:11.879831Z",
     "start_time": "2021-09-30T09:08:11.855805Z"
    },
    "hidden": true
   },
   "outputs": [
    {
     "data": {
      "text/plain": [
       "March        87\n",
       "February     72\n",
       "October      71\n",
       "July         67\n",
       "May          64\n",
       "November     63\n",
       "August       54\n",
       "June         54\n",
       "September    53\n",
       "April        53\n",
       "January      50\n",
       "December     49\n",
       "Name: month_of_absence, dtype: int64"
      ]
     },
     "execution_count": 18,
     "metadata": {},
     "output_type": "execute_result"
    }
   ],
   "source": [
    "preprocessed_df.month_of_absence.value_counts()"
   ]
  },
  {
   "cell_type": "markdown",
   "id": "d782cf5e",
   "metadata": {
    "hidden": true
   },
   "source": [
    "- Month March has the highest number of absentees and December has the lowest."
   ]
  },
  {
   "cell_type": "code",
   "execution_count": 19,
   "id": "993b7caa",
   "metadata": {
    "ExecuteTime": {
     "end_time": "2021-09-30T09:08:12.977061Z",
     "start_time": "2021-09-30T09:08:12.617837Z"
    },
    "hidden": true
   },
   "outputs": [
    {
     "data": {
      "image/png": "[encoded data removed]",
      "text/plain": [
       "<Figure size 720x432 with 1 Axes>"
      ]
     },
     "metadata": {
      "needs_background": "light"
     },
     "output_type": "display_data"
    }
   ],
   "source": [
    "plot_countplot(preprocessed_df, 'day_of_the_week')"
   ]
  },
  {
   "cell_type": "markdown",
   "id": "eb13c054",
   "metadata": {
    "hidden": true
   },
   "source": [
    "- Thursday has the lowest number of data-points of absentees."
   ]
  },
  {
   "cell_type": "code",
   "execution_count": 20,
   "id": "a80df54f",
   "metadata": {
    "ExecuteTime": {
     "end_time": "2021-09-30T09:08:13.814119Z",
     "start_time": "2021-09-30T09:08:13.487064Z"
    },
    "hidden": true
   },
   "outputs": [
    {
     "data": {
      "image/png": "[encoded data removed]",
      "text/plain": [
       "<Figure size 720x432 with 1 Axes>"
      ]
     },
     "metadata": {
      "needs_background": "light"
     },
     "output_type": "display_data"
    }
   ],
   "source": [
    "plot_countplot(preprocessed_df, 'seasons')"
   ]
  },
  {
   "cell_type": "code",
   "execution_count": 21,
   "id": "359005da",
   "metadata": {
    "ExecuteTime": {
     "end_time": "2021-09-30T09:08:14.261060Z",
     "start_time": "2021-09-30T09:08:13.958979Z"
    },
    "hidden": true
   },
   "outputs": [
    {
     "data": {
      "image/png": "[encoded data removed]",
      "text/plain": [
       "<Figure size 720x432 with 1 Axes>"
      ]
     },
     "metadata": {
      "needs_background": "light"
     },
     "output_type": "display_data"
    }
   ],
   "source": [
    "plot_countplot(preprocessed_df, 'disciplinary_failure')"
   ]
  },
  {
   "cell_type": "code",
   "execution_count": 22,
   "id": "7fb70c92",
   "metadata": {
    "ExecuteTime": {
     "end_time": "2021-09-30T09:08:15.978203Z",
     "start_time": "2021-09-30T09:08:15.954416Z"
    },
    "hidden": true
   },
   "outputs": [
    {
     "data": {
      "text/plain": [
       "No     0.945946\n",
       "Yes    0.054054\n",
       "Name: disciplinary_failure, dtype: float64"
      ]
     },
     "execution_count": 22,
     "metadata": {},
     "output_type": "execute_result"
    }
   ],
   "source": [
    "preprocessed_df.disciplinary_failure.value_counts(normalize=True)"
   ]
  },
  {
   "cell_type": "markdown",
   "id": "9bd5b6c4",
   "metadata": {
    "hidden": true
   },
   "source": [
    "- Only 5% of absentees have disciplinary failure"
   ]
  },
  {
   "cell_type": "code",
   "execution_count": 23,
   "id": "01fa8bd2",
   "metadata": {
    "ExecuteTime": {
     "end_time": "2021-09-30T09:08:17.737132Z",
     "start_time": "2021-09-30T09:08:17.403403Z"
    },
    "hidden": true
   },
   "outputs": [
    {
     "data": {
      "image/png": "[encoded data removed]",
      "text/plain": [
       "<Figure size 720x432 with 1 Axes>"
      ]
     },
     "metadata": {
      "needs_background": "light"
     },
     "output_type": "display_data"
    }
   ],
   "source": [
    "plot_countplot(preprocessed_df, 'education')"
   ]
  },
  {
   "cell_type": "code",
   "execution_count": 24,
   "id": "8f7b0516",
   "metadata": {
    "ExecuteTime": {
     "end_time": "2021-09-30T09:08:18.311900Z",
     "start_time": "2021-09-30T09:08:18.292895Z"
    },
    "hidden": true
   },
   "outputs": [
    {
     "data": {
      "text/plain": [
       "High_School     611\n",
       "Postgraduate     79\n",
       "Graduate         46\n",
       "Master_Phd        4\n",
       "Name: education, dtype: int64"
      ]
     },
     "execution_count": 24,
     "metadata": {},
     "output_type": "execute_result"
    }
   ],
   "source": [
    "preprocessed_df.education.value_counts()"
   ]
  },
  {
   "cell_type": "markdown",
   "id": "8891076a",
   "metadata": {
    "hidden": true
   },
   "source": [
    "- This result is highly skewed towards High School employees.\n",
    "- One reason for this skewness could be that almost all business have more High-Schooled employees than higher educated employees."
   ]
  },
  {
   "cell_type": "code",
   "execution_count": 25,
   "id": "8197b9c4",
   "metadata": {
    "ExecuteTime": {
     "end_time": "2021-09-30T09:08:21.975841Z",
     "start_time": "2021-09-30T09:08:21.598292Z"
    },
    "hidden": true
   },
   "outputs": [
    {
     "data": {
      "image/png": "[encoded data removed]",
      "text/plain": [
       "<Figure size 720x432 with 1 Axes>"
      ]
     },
     "metadata": {
      "needs_background": "light"
     },
     "output_type": "display_data"
    }
   ],
   "source": [
    "plot_countplot(preprocessed_df, 'son')"
   ]
  },
  {
   "cell_type": "code",
   "execution_count": 26,
   "id": "39b5c3a9",
   "metadata": {
    "ExecuteTime": {
     "end_time": "2021-09-30T09:08:23.084726Z",
     "start_time": "2021-09-30T09:08:22.680093Z"
    },
    "hidden": true
   },
   "outputs": [
    {
     "data": {
      "image/png": "[encoded data removed]",
      "text/plain": [
       "<Figure size 720x432 with 1 Axes>"
      ]
     },
     "metadata": {
      "needs_background": "light"
     },
     "output_type": "display_data"
    }
   ],
   "source": [
    "plot_countplot(preprocessed_df, 'social_smoker')"
   ]
  },
  {
   "cell_type": "code",
   "execution_count": 27,
   "id": "3671eeea",
   "metadata": {
    "ExecuteTime": {
     "end_time": "2021-09-30T09:08:24.001359Z",
     "start_time": "2021-09-30T09:08:23.689745Z"
    },
    "hidden": true
   },
   "outputs": [
    {
     "data": {
      "image/png": "[encoded data removed]",
      "text/plain": [
       "<Figure size 720x432 with 1 Axes>"
      ]
     },
     "metadata": {
      "needs_background": "light"
     },
     "output_type": "display_data"
    }
   ],
   "source": [
    "plot_countplot(preprocessed_df, 'social_drinker')"
   ]
  },
  {
   "cell_type": "code",
   "execution_count": 28,
   "id": "46eae562",
   "metadata": {
    "ExecuteTime": {
     "end_time": "2021-09-30T09:08:27.120795Z",
     "start_time": "2021-09-30T09:08:26.764445Z"
    },
    "hidden": true
   },
   "outputs": [
    {
     "data": {
      "image/png": "[encoded data removed]",
      "text/plain": [
       "<Figure size 720x432 with 1 Axes>"
      ]
     },
     "metadata": {
      "needs_background": "light"
     },
     "output_type": "display_data"
    }
   ],
   "source": [
    "plot_countplot(preprocessed_df, 'pet')"
   ]
  },
  {
   "cell_type": "code",
   "execution_count": 29,
   "id": "b5b13ced",
   "metadata": {
    "ExecuteTime": {
     "end_time": "2021-09-30T09:08:28.820930Z",
     "start_time": "2021-09-30T09:08:27.989073Z"
    },
    "hidden": true
   },
   "outputs": [
    {
     "data": {
      "image/png": "[encoded data removed]",
      "text/plain": [
       "<Figure size 360x360 with 1 Axes>"
      ]
     },
     "metadata": {
      "needs_background": "light"
     },
     "output_type": "display_data"
    }
   ],
   "source": [
    "sns.displot(data=preprocessed_df, x='transportation_expense', kind='kde', fill=True)\n",
    "plt.show()"
   ]
  },
  {
   "cell_type": "code",
   "execution_count": 30,
   "id": "c0197d7d",
   "metadata": {
    "ExecuteTime": {
     "end_time": "2021-09-30T09:08:30.563165Z",
     "start_time": "2021-09-30T09:08:30.025143Z"
    },
    "hidden": true
   },
   "outputs": [
    {
     "data": {
      "image/png": "[encoded data removed]",
      "text/plain": [
       "<Figure size 360x360 with 1 Axes>"
      ]
     },
     "metadata": {
      "needs_background": "light"
     },
     "output_type": "display_data"
    }
   ],
   "source": [
    "sns.displot(data=preprocessed_df, x='distance_from_residence_to_work', kind='kde', fill=True)\n",
    "plt.show()"
   ]
  },
  {
   "cell_type": "code",
   "execution_count": 31,
   "id": "edf50a63",
   "metadata": {
    "ExecuteTime": {
     "end_time": "2021-09-30T09:08:31.387093Z",
     "start_time": "2021-09-30T09:08:30.935414Z"
    },
    "hidden": true
   },
   "outputs": [
    {
     "data": {
      "image/png": "[encoded data removed]",
      "text/plain": [
       "<Figure size 360x360 with 1 Axes>"
      ]
     },
     "metadata": {
      "needs_background": "light"
     },
     "output_type": "display_data"
    }
   ],
   "source": [
    "sns.displot(data=preprocessed_df, x='hit_target', kind='kde', fill=True)\n",
    "plt.show()"
   ]
  },
  {
   "cell_type": "code",
   "execution_count": 32,
   "id": "c0b9b1f2",
   "metadata": {
    "ExecuteTime": {
     "end_time": "2021-09-30T09:08:32.499075Z",
     "start_time": "2021-09-30T09:08:32.000096Z"
    },
    "hidden": true
   },
   "outputs": [
    {
     "data": {
      "image/png": "[encoded data removed]",
      "text/plain": [
       "<Figure size 360x360 with 1 Axes>"
      ]
     },
     "metadata": {
      "needs_background": "light"
     },
     "output_type": "display_data"
    }
   ],
   "source": [
    "sns.displot(data=preprocessed_df, x='body_mass_index', kind='kde', fill=True)\n",
    "plt.show()"
   ]
  },
  {
   "cell_type": "code",
   "execution_count": 33,
   "id": "2389f9f1",
   "metadata": {
    "ExecuteTime": {
     "end_time": "2021-09-30T09:08:35.492307Z",
     "start_time": "2021-09-30T09:08:34.971043Z"
    },
    "hidden": true
   },
   "outputs": [
    {
     "data": {
      "image/png": "[encoded data removed]",
      "text/plain": [
       "<Figure size 360x360 with 1 Axes>"
      ]
     },
     "metadata": {
      "needs_background": "light"
     },
     "output_type": "display_data"
    }
   ],
   "source": [
    "sns.displot(data=preprocessed_df, x='absenteeism_time_in_hours', kind='kde', fill=True)\n",
    "plt.show()"
   ]
  },
  {
   "cell_type": "markdown",
   "id": "b3657f64",
   "metadata": {
    "hidden": true
   },
   "source": [
    "- There are some outliers in the absenteeism hours feature"
   ]
  },
  {
   "cell_type": "markdown",
   "id": "521967e5",
   "metadata": {},
   "source": [
    "## Analyzing Categorical Columns - Bivariate Analysis"
   ]
  },
  {
   "cell_type": "code",
   "execution_count": 34,
   "id": "12b99d70",
   "metadata": {
    "ExecuteTime": {
     "end_time": "2021-09-30T09:09:05.467964Z",
     "start_time": "2021-09-30T09:09:05.428058Z"
    }
   },
   "outputs": [
    {
     "data": {
      "text/html": [
       "<div>\n",
       "<style scoped>\n",
       "    .dataframe tbody tr th:only-of-type {\n",
       "        vertical-align: middle;\n",
       "    }\n",
       "\n",
       "    .dataframe tbody tr th {\n",
       "        vertical-align: top;\n",
       "    }\n",
       "\n",
       "    .dataframe thead th {\n",
       "        text-align: right;\n",
       "    }\n",
       "</style>\n",
       "<table border=\"1\" class=\"dataframe\">\n",
       "  <thead>\n",
       "    <tr style=\"text-align: right;\">\n",
       "      <th></th>\n",
       "      <th>id</th>\n",
       "      <th>reason_for_absence</th>\n",
       "      <th>disease</th>\n",
       "      <th>month_of_absence</th>\n",
       "      <th>day_of_the_week</th>\n",
       "      <th>seasons</th>\n",
       "      <th>transportation_expense</th>\n",
       "      <th>distance_from_residence_to_work</th>\n",
       "      <th>service_time</th>\n",
       "      <th>age</th>\n",
       "      <th>...</th>\n",
       "      <th>disciplinary_failure</th>\n",
       "      <th>education</th>\n",
       "      <th>son</th>\n",
       "      <th>social_drinker</th>\n",
       "      <th>social_smoker</th>\n",
       "      <th>pet</th>\n",
       "      <th>weight</th>\n",
       "      <th>height</th>\n",
       "      <th>body_mass_index</th>\n",
       "      <th>absenteeism_time_in_hours</th>\n",
       "    </tr>\n",
       "  </thead>\n",
       "  <tbody>\n",
       "    <tr>\n",
       "      <th>0</th>\n",
       "      <td>11</td>\n",
       "      <td>26</td>\n",
       "      <td>No</td>\n",
       "      <td>July</td>\n",
       "      <td>Tuesday</td>\n",
       "      <td>Spring</td>\n",
       "      <td>289</td>\n",
       "      <td>36</td>\n",
       "      <td>13</td>\n",
       "      <td>33</td>\n",
       "      <td>...</td>\n",
       "      <td>No</td>\n",
       "      <td>High_School</td>\n",
       "      <td>2</td>\n",
       "      <td>Yes</td>\n",
       "      <td>No</td>\n",
       "      <td>1</td>\n",
       "      <td>90</td>\n",
       "      <td>172</td>\n",
       "      <td>30</td>\n",
       "      <td>4</td>\n",
       "    </tr>\n",
       "    <tr>\n",
       "      <th>1</th>\n",
       "      <td>36</td>\n",
       "      <td>0</td>\n",
       "      <td>No</td>\n",
       "      <td>July</td>\n",
       "      <td>Tuesday</td>\n",
       "      <td>Spring</td>\n",
       "      <td>118</td>\n",
       "      <td>13</td>\n",
       "      <td>18</td>\n",
       "      <td>50</td>\n",
       "      <td>...</td>\n",
       "      <td>Yes</td>\n",
       "      <td>High_School</td>\n",
       "      <td>1</td>\n",
       "      <td>Yes</td>\n",
       "      <td>No</td>\n",
       "      <td>0</td>\n",
       "      <td>98</td>\n",
       "      <td>178</td>\n",
       "      <td>31</td>\n",
       "      <td>0</td>\n",
       "    </tr>\n",
       "    <tr>\n",
       "      <th>2</th>\n",
       "      <td>3</td>\n",
       "      <td>23</td>\n",
       "      <td>No</td>\n",
       "      <td>July</td>\n",
       "      <td>Wednesday</td>\n",
       "      <td>Spring</td>\n",
       "      <td>179</td>\n",
       "      <td>51</td>\n",
       "      <td>18</td>\n",
       "      <td>38</td>\n",
       "      <td>...</td>\n",
       "      <td>No</td>\n",
       "      <td>High_School</td>\n",
       "      <td>0</td>\n",
       "      <td>Yes</td>\n",
       "      <td>No</td>\n",
       "      <td>0</td>\n",
       "      <td>89</td>\n",
       "      <td>170</td>\n",
       "      <td>31</td>\n",
       "      <td>2</td>\n",
       "    </tr>\n",
       "    <tr>\n",
       "      <th>3</th>\n",
       "      <td>7</td>\n",
       "      <td>7</td>\n",
       "      <td>Yes</td>\n",
       "      <td>July</td>\n",
       "      <td>Thursday</td>\n",
       "      <td>Spring</td>\n",
       "      <td>279</td>\n",
       "      <td>5</td>\n",
       "      <td>14</td>\n",
       "      <td>39</td>\n",
       "      <td>...</td>\n",
       "      <td>No</td>\n",
       "      <td>High_School</td>\n",
       "      <td>2</td>\n",
       "      <td>Yes</td>\n",
       "      <td>Yes</td>\n",
       "      <td>0</td>\n",
       "      <td>68</td>\n",
       "      <td>168</td>\n",
       "      <td>24</td>\n",
       "      <td>4</td>\n",
       "    </tr>\n",
       "    <tr>\n",
       "      <th>4</th>\n",
       "      <td>11</td>\n",
       "      <td>23</td>\n",
       "      <td>No</td>\n",
       "      <td>July</td>\n",
       "      <td>Thursday</td>\n",
       "      <td>Spring</td>\n",
       "      <td>289</td>\n",
       "      <td>36</td>\n",
       "      <td>13</td>\n",
       "      <td>33</td>\n",
       "      <td>...</td>\n",
       "      <td>No</td>\n",
       "      <td>High_School</td>\n",
       "      <td>2</td>\n",
       "      <td>Yes</td>\n",
       "      <td>No</td>\n",
       "      <td>1</td>\n",
       "      <td>90</td>\n",
       "      <td>172</td>\n",
       "      <td>30</td>\n",
       "      <td>2</td>\n",
       "    </tr>\n",
       "  </tbody>\n",
       "</table>\n",
       "<p>5 rows × 22 columns</p>\n",
       "</div>"
      ],
      "text/plain": [
       "   id  reason_for_absence disease month_of_absence day_of_the_week seasons  \\\n",
       "0  11                  26      No             July         Tuesday  Spring   \n",
       "1  36                   0      No             July         Tuesday  Spring   \n",
       "2   3                  23      No             July       Wednesday  Spring   \n",
       "3   7                   7     Yes             July        Thursday  Spring   \n",
       "4  11                  23      No             July        Thursday  Spring   \n",
       "\n",
       "   transportation_expense  distance_from_residence_to_work  service_time  age  \\\n",
       "0                     289                               36            13   33   \n",
       "1                     118                               13            18   50   \n",
       "2                     179                               51            18   38   \n",
       "3                     279                                5            14   39   \n",
       "4                     289                               36            13   33   \n",
       "\n",
       "   ...  disciplinary_failure    education son social_drinker  social_smoker  \\\n",
       "0  ...                    No  High_School   2            Yes             No   \n",
       "1  ...                   Yes  High_School   1            Yes             No   \n",
       "2  ...                    No  High_School   0            Yes             No   \n",
       "3  ...                    No  High_School   2            Yes            Yes   \n",
       "4  ...                    No  High_School   2            Yes             No   \n",
       "\n",
       "  pet weight  height  body_mass_index  absenteeism_time_in_hours  \n",
       "0   1     90     172               30                          4  \n",
       "1   0     98     178               31                          0  \n",
       "2   0     89     170               31                          2  \n",
       "3   0     68     168               24                          4  \n",
       "4   1     90     172               30                          2  \n",
       "\n",
       "[5 rows x 22 columns]"
      ]
     },
     "execution_count": 34,
     "metadata": {},
     "output_type": "execute_result"
    }
   ],
   "source": [
    "preprocessed_df.head()"
   ]
  },
  {
   "cell_type": "code",
   "execution_count": 92,
   "id": "28e57a84",
   "metadata": {
    "ExecuteTime": {
     "end_time": "2021-09-30T11:07:46.711944Z",
     "start_time": "2021-09-30T11:07:46.688303Z"
    }
   },
   "outputs": [
    {
     "data": {
      "text/plain": [
       "Index(['id', 'reason_for_absence', 'disease', 'month_of_absence',\n",
       "       'day_of_the_week', 'seasons', 'transportation_expense',\n",
       "       'distance_from_residence_to_work', 'service_time', 'age',\n",
       "       'work_load_average/day', 'hit_target', 'disciplinary_failure',\n",
       "       'education', 'son', 'social_drinker', 'social_smoker', 'pet', 'weight',\n",
       "       'height', 'body_mass_index', 'absenteeism_time_in_hours'],\n",
       "      dtype='object')"
      ]
     },
     "execution_count": 92,
     "metadata": {},
     "output_type": "execute_result"
    }
   ],
   "source": [
    "preprocessed_df.columns"
   ]
  },
  {
   "cell_type": "markdown",
   "id": "1d5822ad",
   "metadata": {
    "heading_collapsed": true
   },
   "source": [
    "### Reason for absence Vs Social Drinkers and Social Smokers"
   ]
  },
  {
   "cell_type": "code",
   "execution_count": 35,
   "id": "510f2048",
   "metadata": {
    "ExecuteTime": {
     "end_time": "2021-09-30T09:09:12.251246Z",
     "start_time": "2021-09-30T09:09:11.100255Z"
    },
    "hidden": true,
    "scrolled": false
   },
   "outputs": [
    {
     "data": {
      "image/png": "[encoded data removed]",
      "text/plain": [
       "<Figure size 1080x576 with 1 Axes>"
      ]
     },
     "metadata": {
      "needs_background": "light"
     },
     "output_type": "display_data"
    }
   ],
   "source": [
    "plt.figure(figsize=(15,8))\n",
    "\n",
    "sns.countplot(x='reason_for_absence', data=preprocessed_df, hue='social_drinker')\n",
    "\n",
    "plt.show()"
   ]
  },
  {
   "cell_type": "code",
   "execution_count": 36,
   "id": "773aa717",
   "metadata": {
    "ExecuteTime": {
     "end_time": "2021-09-30T09:09:13.555624Z",
     "start_time": "2021-09-30T09:09:12.404211Z"
    },
    "hidden": true
   },
   "outputs": [
    {
     "data": {
      "image/png": "[encoded data removed]",
      "text/plain": [
       "<Figure size 1080x576 with 1 Axes>"
      ]
     },
     "metadata": {
      "needs_background": "light"
     },
     "output_type": "display_data"
    }
   ],
   "source": [
    "plt.figure(figsize=(15,8))\n",
    "\n",
    "sns.countplot(x='reason_for_absence', data=preprocessed_df, hue='social_smoker', hue_order=['Yes', 'No'])\n",
    "\n",
    "plt.show()"
   ]
  },
  {
   "cell_type": "code",
   "execution_count": 37,
   "id": "641ef78a",
   "metadata": {
    "ExecuteTime": {
     "end_time": "2021-09-30T09:09:14.247705Z",
     "start_time": "2021-09-30T09:09:14.234443Z"
    },
    "hidden": true
   },
   "outputs": [
    {
     "data": {
      "text/plain": [
       "Yes    0.567568\n",
       "No     0.432432\n",
       "Name: social_drinker, dtype: float64"
      ]
     },
     "execution_count": 37,
     "metadata": {},
     "output_type": "execute_result"
    }
   ],
   "source": [
    "preprocessed_df.social_drinker.value_counts(normalize=True)"
   ]
  },
  {
   "cell_type": "code",
   "execution_count": 38,
   "id": "ea77154b",
   "metadata": {
    "ExecuteTime": {
     "end_time": "2021-09-30T09:09:15.722431Z",
     "start_time": "2021-09-30T09:09:15.701598Z"
    },
    "hidden": true
   },
   "outputs": [
    {
     "data": {
      "text/plain": [
       "No     0.927027\n",
       "Yes    0.072973\n",
       "Name: social_smoker, dtype: float64"
      ]
     },
     "execution_count": 38,
     "metadata": {},
     "output_type": "execute_result"
    }
   ],
   "source": [
    "preprocessed_df.social_smoker.value_counts(normalize=True)"
   ]
  },
  {
   "cell_type": "markdown",
   "id": "d33aaaf0",
   "metadata": {
    "hidden": true
   },
   "source": [
    "- 56% employees are social drinkers and only 7% are social smoker\n",
    ">As the number of social smokers is quite small (only 7% of the entries), it is very hard to say whether there is actually a relationship between the absence reasons and smoking. So we'll use the conditional probabilities for this relationship."
   ]
  },
  {
   "cell_type": "markdown",
   "id": "eaa1e89f",
   "metadata": {
    "heading_collapsed": true
   },
   "source": [
    "### Conditional Probability"
   ]
  },
  {
   "cell_type": "code",
   "execution_count": 39,
   "id": "eb06a9a7",
   "metadata": {
    "ExecuteTime": {
     "end_time": "2021-09-30T09:09:25.836091Z",
     "start_time": "2021-09-30T09:09:25.815105Z"
    },
    "hidden": true
   },
   "outputs": [
    {
     "data": {
      "text/plain": [
       "social_drinker    0.567568\n",
       "social_smoker     0.072973\n",
       "dtype: float64"
      ]
     },
     "execution_count": 39,
     "metadata": {},
     "output_type": "execute_result"
    }
   ],
   "source": [
    "# probability of being a social drinker and social smoker\n",
    "\n",
    "probability = df[['social_drinker', 'social_smoker']].mean()\n",
    "probability"
   ]
  },
  {
   "cell_type": "code",
   "execution_count": 40,
   "id": "9997c50a",
   "metadata": {
    "ExecuteTime": {
     "end_time": "2021-09-30T09:09:26.828714Z",
     "start_time": "2021-09-30T09:09:26.814475Z"
    },
    "hidden": true
   },
   "outputs": [
    {
     "name": "stdout",
     "output_type": "stream",
     "text": [
      "0.5675675675675675 0.07297297297297298\n"
     ]
    }
   ],
   "source": [
    "probability_of_social_drinker = probability[0]\n",
    "probability_of_social_smoker = probability[1]\n",
    "\n",
    "print(probability_of_social_drinker, probability_of_social_smoker)"
   ]
  },
  {
   "cell_type": "code",
   "execution_count": 41,
   "id": "664c94bb",
   "metadata": {
    "ExecuteTime": {
     "end_time": "2021-09-30T09:09:30.153765Z",
     "start_time": "2021-09-30T09:09:27.767764Z"
    },
    "hidden": true
   },
   "outputs": [
    {
     "data": {
      "image/png": "[encoded data removed]",
      "text/plain": [
       "<Figure size 1080x576 with 1 Axes>"
      ]
     },
     "metadata": {
      "needs_background": "light"
     },
     "output_type": "display_data"
    }
   ],
   "source": [
    "## probability--> P(Social Drinker | Absense for reason)\n",
    "\n",
    "df1 = df.groupby('reason_for_absence')[['social_drinker', 'social_smoker']].agg('mean')\n",
    "\n",
    "df1.plot.bar(figsize=(15, 8), rot=0)\n",
    "plt.ylabel('Probability')\n",
    "plt.xlabel(\"Reason for Absense\")\n",
    "plt.title('P(social drinker or social smoker | Reason for absense)')\n",
    "\n",
    "plt.legend(labels=['P(social_drinker | Reason for absense)', 'P(social_smoker | Reason for absense)'])\n",
    "plt.show()"
   ]
  },
  {
   "cell_type": "code",
   "execution_count": 42,
   "id": "5a7dabf3",
   "metadata": {
    "ExecuteTime": {
     "end_time": "2021-09-30T09:09:30.305263Z",
     "start_time": "2021-09-30T09:09:30.283232Z"
    },
    "hidden": true,
    "scrolled": false
   },
   "outputs": [
    {
     "data": {
      "text/plain": [
       "reason_for_absence\n",
       "0     0.058108\n",
       "1     0.021622\n",
       "2     0.001351\n",
       "3     0.001351\n",
       "4     0.002703\n",
       "5     0.004054\n",
       "6     0.010811\n",
       "7     0.020270\n",
       "8     0.008108\n",
       "9     0.005405\n",
       "10    0.033784\n",
       "11    0.035135\n",
       "12    0.010811\n",
       "13    0.074324\n",
       "14    0.025676\n",
       "15    0.002703\n",
       "16    0.004054\n",
       "17    0.001351\n",
       "18    0.028378\n",
       "19    0.054054\n",
       "21    0.008108\n",
       "22    0.051351\n",
       "23    0.201351\n",
       "24    0.004054\n",
       "25    0.041892\n",
       "26    0.044595\n",
       "27    0.093243\n",
       "28    0.151351\n",
       "Name: reason_for_absence, dtype: float64"
      ]
     },
     "execution_count": 42,
     "metadata": {},
     "output_type": "execute_result"
    }
   ],
   "source": [
    "reason_probability = df.groupby('reason_for_absence')['reason_for_absence'].count() / len(df)\n",
    "reason_probability"
   ]
  },
  {
   "cell_type": "code",
   "execution_count": 43,
   "id": "ca6927c4",
   "metadata": {
    "ExecuteTime": {
     "end_time": "2021-09-30T09:09:32.265604Z",
     "start_time": "2021-09-30T09:09:31.323897Z"
    },
    "hidden": true,
    "scrolled": false
   },
   "outputs": [
    {
     "data": {
      "image/png": "[encoded data removed]",
      "text/plain": [
       "<Figure size 1080x576 with 1 Axes>"
      ]
     },
     "metadata": {
      "needs_background": "light"
     },
     "output_type": "display_data"
    }
   ],
   "source": [
    "dataframe1 = df1.social_drinker * reason_probability / probability_of_social_drinker\n",
    "dataframe2 = df1.social_smoker * reason_probability / probability_of_social_smoker\n",
    "\n",
    "\n",
    "pd.DataFrame({'P(Reason | Social Drinker)':dataframe1.tolist(),\n",
    "             'P(Reason | Social Smoker)':dataframe2.tolist()}).plot.bar(figsize=(15, 8), rot=0)\n",
    "\n",
    "plt.show()"
   ]
  },
  {
   "cell_type": "markdown",
   "id": "597edf8f",
   "metadata": {
    "heading_collapsed": true
   },
   "source": [
    "### Reason and Disease vs absent hours"
   ]
  },
  {
   "cell_type": "code",
   "execution_count": 61,
   "id": "795e5c40",
   "metadata": {
    "ExecuteTime": {
     "end_time": "2021-09-29T10:55:39.727639Z",
     "start_time": "2021-09-29T10:55:38.671459Z"
    },
    "hidden": true
   },
   "outputs": [
    {
     "data": {
      "image/png": "[encoded data removed]",
      "text/plain": [
       "<Figure size 1080x576 with 1 Axes>"
      ]
     },
     "metadata": {
      "needs_background": "light"
     },
     "output_type": "display_data"
    }
   ],
   "source": [
    "plt.figure(figsize=(15,8))\n",
    "sns.boxplot(x='reason_for_absence', y='absenteeism_time_in_hours', data=preprocessed_df)\n",
    "plt.show()"
   ]
  },
  {
   "cell_type": "code",
   "execution_count": 44,
   "id": "a66050ed",
   "metadata": {
    "ExecuteTime": {
     "end_time": "2021-09-30T09:09:45.362963Z",
     "start_time": "2021-09-30T09:09:45.005700Z"
    },
    "hidden": true
   },
   "outputs": [
    {
     "data": {
      "image/png": "[encoded data removed]",
      "text/plain": [
       "<Figure size 720x432 with 1 Axes>"
      ]
     },
     "metadata": {
      "needs_background": "light"
     },
     "output_type": "display_data"
    }
   ],
   "source": [
    "plt.figure(figsize=(10,6))\n",
    "sns.violinplot(x='disease', y='absenteeism_time_in_hours', data=preprocessed_df)\n",
    "plt.show()"
   ]
  },
  {
   "cell_type": "markdown",
   "id": "43dbc807",
   "metadata": {
    "hidden": true
   },
   "source": [
    "- Distribution of disease and no_disease with absenteeism time seems pretty different.\n",
    "- Let's check the hypothesis test for average hours"
   ]
  },
  {
   "cell_type": "markdown",
   "id": "1c47d7aa",
   "metadata": {
    "hidden": true
   },
   "source": [
    "$\n",
    "   \\\\ H_0 : \\text{Average time of absenteeism is same for disease and no-disease}\n",
    "   \\\\ H_a : \\text{Average time is different}\n",
    "$"
   ]
  },
  {
   "cell_type": "code",
   "execution_count": 45,
   "id": "59cb32e1",
   "metadata": {
    "ExecuteTime": {
     "end_time": "2021-09-30T09:09:53.136030Z",
     "start_time": "2021-09-30T09:09:53.103270Z"
    },
    "hidden": true,
    "scrolled": true
   },
   "outputs": [
    {
     "name": "stdout",
     "output_type": "stream",
     "text": [
      "Test statistic: 10.708\n",
      "P-value: 0.000\n"
     ]
    }
   ],
   "source": [
    "disease_yes = preprocessed_df.loc[preprocessed_df.disease=='Yes']['absenteeism_time_in_hours']\n",
    "disease_no = preprocessed_df.loc[preprocessed_df.disease=='No']['absenteeism_time_in_hours']\n",
    "\n",
    "test_results = stats.ttest_ind(disease_yes, disease_no)\n",
    "\n",
    "print(f\"Test statistic: {test_results[0]:.3f}\")\n",
    "print(f\"P-value: {test_results[1]:.3f}\")"
   ]
  },
  {
   "cell_type": "markdown",
   "id": "b3122ef7",
   "metadata": {
    "hidden": true
   },
   "source": [
    "- As the p-value is less than 0.05 we can reject the null hypothesis and conclude that there is statistically significant difference between the average absent hours of person with disease and no disease."
   ]
  },
  {
   "cell_type": "markdown",
   "id": "f3e969b5",
   "metadata": {
    "hidden": true
   },
   "source": [
    "- **The distribution also seems different. Let's check is by using Kolmogorov-Smirnov test.**"
   ]
  },
  {
   "cell_type": "markdown",
   "id": "e6e26a64",
   "metadata": {
    "hidden": true
   },
   "source": [
    "$\n",
    "   \\\\ H_0 : \\text{Both disease and no-disease are drawn from same distribution}\n",
    "   \\\\ H_a : \\text{Not drawn from same distribution}\n",
    "$"
   ]
  },
  {
   "cell_type": "code",
   "execution_count": 46,
   "id": "bfc55e2b",
   "metadata": {
    "ExecuteTime": {
     "end_time": "2021-09-30T09:09:58.014907Z",
     "start_time": "2021-09-30T09:09:57.969498Z"
    },
    "hidden": true
   },
   "outputs": [
    {
     "name": "stdout",
     "output_type": "stream",
     "text": [
      "Test statistic: 0.520\n",
      "P-value: 0.000\n"
     ]
    }
   ],
   "source": [
    "test_results = stats.ks_2samp(disease_yes, disease_no)\n",
    "\n",
    "print(f\"Test statistic: {test_results[0]:.3f}\")\n",
    "print(f\"P-value: {test_results[1]:.3f}\")"
   ]
  },
  {
   "cell_type": "markdown",
   "id": "751c8cb8",
   "metadata": {
    "hidden": true
   },
   "source": [
    "- Yes, our test result shows that there is difference in distribution also."
   ]
  },
  {
   "cell_type": "markdown",
   "id": "876fbb5c",
   "metadata": {
    "heading_collapsed": true
   },
   "source": [
    "### Absence month and Absent Hours"
   ]
  },
  {
   "cell_type": "code",
   "execution_count": 49,
   "id": "78438efe",
   "metadata": {
    "ExecuteTime": {
     "end_time": "2021-09-30T09:30:29.016289Z",
     "start_time": "2021-09-30T09:30:28.131715Z"
    },
    "hidden": true
   },
   "outputs": [
    {
     "data": {
      "image/png": "[encoded data removed]",
      "text/plain": [
       "<Figure size 1080x432 with 1 Axes>"
      ]
     },
     "metadata": {
      "needs_background": "light"
     },
     "output_type": "display_data"
    }
   ],
   "source": [
    "plt.figure(figsize=(15,6))\n",
    "sns.violinplot(x='month_of_absence', y='absenteeism_time_in_hours', \n",
    "               data=preprocessed_df, order=month_name[1:13])\n",
    "plt.show()"
   ]
  },
  {
   "cell_type": "markdown",
   "id": "3c0240ed",
   "metadata": {
    "hidden": true
   },
   "source": [
    "- Months March, April, July, and November have long hours of absent with some outliers. It means few employees had the very long hours of absenteeism."
   ]
  },
  {
   "cell_type": "markdown",
   "id": "5578f44f",
   "metadata": {
    "hidden": true
   },
   "source": [
    "- **One-way Anova test** - checking the impact of months on absenteeism hours"
   ]
  },
  {
   "cell_type": "code",
   "execution_count": 67,
   "id": "ac4850a2",
   "metadata": {
    "ExecuteTime": {
     "end_time": "2021-09-30T10:45:08.853953Z",
     "start_time": "2021-09-30T10:45:08.786593Z"
    },
    "hidden": true,
    "scrolled": true
   },
   "outputs": [
    {
     "data": {
      "text/html": [
       "<div>\n",
       "<style scoped>\n",
       "    .dataframe tbody tr th:only-of-type {\n",
       "        vertical-align: middle;\n",
       "    }\n",
       "\n",
       "    .dataframe tbody tr th {\n",
       "        vertical-align: top;\n",
       "    }\n",
       "\n",
       "    .dataframe thead th {\n",
       "        text-align: right;\n",
       "    }\n",
       "</style>\n",
       "<table border=\"1\" class=\"dataframe\">\n",
       "  <thead>\n",
       "    <tr style=\"text-align: right;\">\n",
       "      <th></th>\n",
       "      <th>df</th>\n",
       "      <th>sum_sq</th>\n",
       "      <th>mean_sq</th>\n",
       "      <th>F</th>\n",
       "      <th>PR(&gt;F)</th>\n",
       "    </tr>\n",
       "  </thead>\n",
       "  <tbody>\n",
       "    <tr>\n",
       "      <th>C(month_of_absence)</th>\n",
       "      <td>11.0</td>\n",
       "      <td>3250.407966</td>\n",
       "      <td>295.491633</td>\n",
       "      <td>1.674508</td>\n",
       "      <td>0.074833</td>\n",
       "    </tr>\n",
       "    <tr>\n",
       "      <th>Residual</th>\n",
       "      <td>725.0</td>\n",
       "      <td>127936.929890</td>\n",
       "      <td>176.464731</td>\n",
       "      <td>NaN</td>\n",
       "      <td>NaN</td>\n",
       "    </tr>\n",
       "  </tbody>\n",
       "</table>\n",
       "</div>"
      ],
      "text/plain": [
       "                        df         sum_sq     mean_sq         F    PR(>F)\n",
       "C(month_of_absence)   11.0    3250.407966  295.491633  1.674508  0.074833\n",
       "Residual             725.0  127936.929890  176.464731       NaN       NaN"
      ]
     },
     "execution_count": 67,
     "metadata": {},
     "output_type": "execute_result"
    }
   ],
   "source": [
    "formula = 'absenteeism_time_in_hours ~ C(month_of_absence)'\n",
    "\n",
    "data2 = preprocessed_df[['absenteeism_time_in_hours', 'month_of_absence']]\n",
    "\n",
    "model = ols(formula, data=data2).fit()\n",
    "\n",
    "anova_table = sm.stats.anova_lm(model, typ=1)\n",
    "anova_table"
   ]
  },
  {
   "cell_type": "markdown",
   "id": "bdb080c0",
   "metadata": {
    "hidden": true
   },
   "source": [
    "- The above result yields that month (alone) does not afftects the absenteeism hours "
   ]
  },
  {
   "cell_type": "code",
   "execution_count": 68,
   "id": "d3a58d68",
   "metadata": {
    "ExecuteTime": {
     "end_time": "2021-09-30T10:45:20.527233Z",
     "start_time": "2021-09-30T10:45:20.512837Z"
    },
    "hidden": true
   },
   "outputs": [],
   "source": [
    "## Anova assumptions tests\n",
    "\n",
    "# 1. resiual follows the normal distribution\n",
    "# Shaprio-wilks test\n",
    "\n",
    "def shaprio_test(model=model):\n",
    "    \"\"\"\n",
    "    Null hypothesis: data drawn from normal distribution\n",
    "    \"\"\"\n",
    "    results = stats.shapiro(model.resid)\n",
    "    \n",
    "    if results[1]<0.05:\n",
    "        print(\"Reject null hypothesis - Residual does not follow normal distribution 👎\")\n",
    "    else:\n",
    "        print(\"Falied to reject the null hypothesis\")\n",
    "        print(\"Residuals Follow normal distribution 👌\")\n",
    "\n",
    "\n",
    "# 2. Homogeneity of variance\n",
    "# if data drawn from normal distribution than we can use the Bartlett's test otherwise Levene's test\n"
   ]
  },
  {
   "cell_type": "code",
   "execution_count": 69,
   "id": "92f6f38c",
   "metadata": {
    "ExecuteTime": {
     "end_time": "2021-09-30T10:45:36.083388Z",
     "start_time": "2021-09-30T10:45:36.068832Z"
    },
    "hidden": true
   },
   "outputs": [
    {
     "name": "stdout",
     "output_type": "stream",
     "text": [
      "Reject null hypothesis - Residual does not follow normal distribution 👎\n"
     ]
    }
   ],
   "source": [
    "shaprio_test(model)"
   ]
  },
  {
   "cell_type": "markdown",
   "id": "fb74ad95",
   "metadata": {
    "hidden": true
   },
   "source": [
    "- **Two-way Anova test** for checking the impact of months and reasons on absenteeism hours"
   ]
  },
  {
   "cell_type": "code",
   "execution_count": 77,
   "id": "4b08ad2f",
   "metadata": {
    "ExecuteTime": {
     "end_time": "2021-09-30T10:52:09.831081Z",
     "start_time": "2021-09-30T10:52:08.533985Z"
    },
    "hidden": true
   },
   "outputs": [
    {
     "data": {
      "text/html": [
       "<div>\n",
       "<style scoped>\n",
       "    .dataframe tbody tr th:only-of-type {\n",
       "        vertical-align: middle;\n",
       "    }\n",
       "\n",
       "    .dataframe tbody tr th {\n",
       "        vertical-align: top;\n",
       "    }\n",
       "\n",
       "    .dataframe thead th {\n",
       "        text-align: right;\n",
       "    }\n",
       "</style>\n",
       "<table border=\"1\" class=\"dataframe\">\n",
       "  <thead>\n",
       "    <tr style=\"text-align: right;\">\n",
       "      <th></th>\n",
       "      <th>sum_sq</th>\n",
       "      <th>df</th>\n",
       "      <th>F</th>\n",
       "      <th>PR(&gt;F)</th>\n",
       "    </tr>\n",
       "  </thead>\n",
       "  <tbody>\n",
       "    <tr>\n",
       "      <th>C(reason_for_absence)</th>\n",
       "      <td>-9.027394e-07</td>\n",
       "      <td>27.0</td>\n",
       "      <td>-2.848851e-10</td>\n",
       "      <td>1.000000e+00</td>\n",
       "    </tr>\n",
       "    <tr>\n",
       "      <th>C(month_of_absence)</th>\n",
       "      <td>3.929530e+03</td>\n",
       "      <td>11.0</td>\n",
       "      <td>3.043820e+00</td>\n",
       "      <td>6.153353e-03</td>\n",
       "    </tr>\n",
       "    <tr>\n",
       "      <th>C(reason_for_absence):C(month_of_absence)</th>\n",
       "      <td>8.485775e+04</td>\n",
       "      <td>297.0</td>\n",
       "      <td>2.434479e+00</td>\n",
       "      <td>1.353672e-14</td>\n",
       "    </tr>\n",
       "    <tr>\n",
       "      <th>Residual</th>\n",
       "      <td>6.466668e+04</td>\n",
       "      <td>551.0</td>\n",
       "      <td>NaN</td>\n",
       "      <td>NaN</td>\n",
       "    </tr>\n",
       "  </tbody>\n",
       "</table>\n",
       "</div>"
      ],
      "text/plain": [
       "                                                 sum_sq     df             F  \\\n",
       "C(reason_for_absence)                     -9.027394e-07   27.0 -2.848851e-10   \n",
       "C(month_of_absence)                        3.929530e+03   11.0  3.043820e+00   \n",
       "C(reason_for_absence):C(month_of_absence)  8.485775e+04  297.0  2.434479e+00   \n",
       "Residual                                   6.466668e+04  551.0           NaN   \n",
       "\n",
       "                                                 PR(>F)  \n",
       "C(reason_for_absence)                      1.000000e+00  \n",
       "C(month_of_absence)                        6.153353e-03  \n",
       "C(reason_for_absence):C(month_of_absence)  1.353672e-14  \n",
       "Residual                                            NaN  "
      ]
     },
     "execution_count": 77,
     "metadata": {},
     "output_type": "execute_result"
    }
   ],
   "source": [
    "formula = 'absenteeism_time_in_hours ~ C(reason_for_absence) + C(month_of_absence) + C(reason_for_absence):C(month_of_absence)'\n",
    "\n",
    "data2 = preprocessed_df[['absenteeism_time_in_hours', 'reason_for_absence', 'month_of_absence']]\n",
    "\n",
    "model = ols(formula, data=data2).fit()\n",
    "\n",
    "anova_table = sm.stats.anova_lm(model, typ=2)\n",
    "anova_table"
   ]
  },
  {
   "cell_type": "markdown",
   "id": "b0c98151",
   "metadata": {
    "hidden": true
   },
   "source": [
    "- Reason for absence does not affect the absent hours\n",
    "- Month has significant effect on absent hours\n",
    "- Interaction of both month and reason significantly affects the absent hours."
   ]
  },
  {
   "cell_type": "code",
   "execution_count": 78,
   "id": "ae74490d",
   "metadata": {
    "ExecuteTime": {
     "end_time": "2021-09-30T10:52:23.344404Z",
     "start_time": "2021-09-30T10:52:23.330138Z"
    },
    "hidden": true
   },
   "outputs": [
    {
     "name": "stdout",
     "output_type": "stream",
     "text": [
      "Reject null hypothesis - Residual does not follow normal distribution 👎\n"
     ]
    }
   ],
   "source": [
    "shaprio_test(model)"
   ]
  },
  {
   "cell_type": "markdown",
   "id": "c2454bde",
   "metadata": {
    "hidden": true
   },
   "source": [
    "- **Two-way Anova test** for checking the impact of months and disease on absenteeism hours"
   ]
  },
  {
   "cell_type": "code",
   "execution_count": 79,
   "id": "b2238f9c",
   "metadata": {
    "ExecuteTime": {
     "end_time": "2021-09-30T10:52:29.988276Z",
     "start_time": "2021-09-30T10:52:29.875678Z"
    },
    "hidden": true
   },
   "outputs": [
    {
     "data": {
      "text/html": [
       "<div>\n",
       "<style scoped>\n",
       "    .dataframe tbody tr th:only-of-type {\n",
       "        vertical-align: middle;\n",
       "    }\n",
       "\n",
       "    .dataframe tbody tr th {\n",
       "        vertical-align: top;\n",
       "    }\n",
       "\n",
       "    .dataframe thead th {\n",
       "        text-align: right;\n",
       "    }\n",
       "</style>\n",
       "<table border=\"1\" class=\"dataframe\">\n",
       "  <thead>\n",
       "    <tr style=\"text-align: right;\">\n",
       "      <th></th>\n",
       "      <th>sum_sq</th>\n",
       "      <th>df</th>\n",
       "      <th>F</th>\n",
       "      <th>PR(&gt;F)</th>\n",
       "    </tr>\n",
       "  </thead>\n",
       "  <tbody>\n",
       "    <tr>\n",
       "      <th>C(disease)</th>\n",
       "      <td>16422.379859</td>\n",
       "      <td>1.0</td>\n",
       "      <td>107.665112</td>\n",
       "      <td>1.375953e-23</td>\n",
       "    </tr>\n",
       "    <tr>\n",
       "      <th>C(month_of_absence)</th>\n",
       "      <td>2123.578880</td>\n",
       "      <td>11.0</td>\n",
       "      <td>1.265653</td>\n",
       "      <td>2.400017e-01</td>\n",
       "    </tr>\n",
       "    <tr>\n",
       "      <th>C(disease):C(month_of_absence)</th>\n",
       "      <td>2759.200926</td>\n",
       "      <td>11.0</td>\n",
       "      <td>1.644484</td>\n",
       "      <td>8.213924e-02</td>\n",
       "    </tr>\n",
       "    <tr>\n",
       "      <th>Residual</th>\n",
       "      <td>108755.349105</td>\n",
       "      <td>713.0</td>\n",
       "      <td>NaN</td>\n",
       "      <td>NaN</td>\n",
       "    </tr>\n",
       "  </tbody>\n",
       "</table>\n",
       "</div>"
      ],
      "text/plain": [
       "                                       sum_sq     df           F        PR(>F)\n",
       "C(disease)                       16422.379859    1.0  107.665112  1.375953e-23\n",
       "C(month_of_absence)               2123.578880   11.0    1.265653  2.400017e-01\n",
       "C(disease):C(month_of_absence)    2759.200926   11.0    1.644484  8.213924e-02\n",
       "Residual                        108755.349105  713.0         NaN           NaN"
      ]
     },
     "execution_count": 79,
     "metadata": {},
     "output_type": "execute_result"
    }
   ],
   "source": [
    "formula2 = 'absenteeism_time_in_hours ~ C(disease) + C(month_of_absence) + C(disease):C(month_of_absence)'\n",
    "\n",
    "data3 = preprocessed_df[['absenteeism_time_in_hours', 'disease', 'month_of_absence']]\n",
    "\n",
    "model2 = ols(formula2, data=data3).fit()\n",
    "\n",
    "anova_table2 = sm.stats.anova_lm(model2, typ=2)\n",
    "anova_table2"
   ]
  },
  {
   "cell_type": "markdown",
   "id": "579ba1b5",
   "metadata": {
    "hidden": true
   },
   "source": [
    "- Alone disease affects the absent hours but disease and month together does not affect it."
   ]
  },
  {
   "cell_type": "code",
   "execution_count": 80,
   "id": "d3a71512",
   "metadata": {
    "ExecuteTime": {
     "end_time": "2021-09-30T10:52:42.468205Z",
     "start_time": "2021-09-30T10:52:42.443394Z"
    },
    "hidden": true
   },
   "outputs": [
    {
     "name": "stdout",
     "output_type": "stream",
     "text": [
      "Reject null hypothesis - Residual does not follow normal distribution 👎\n"
     ]
    }
   ],
   "source": [
    "shaprio_test(model2)"
   ]
  },
  {
   "cell_type": "code",
   "execution_count": 111,
   "id": "f3c09489",
   "metadata": {
    "ExecuteTime": {
     "end_time": "2021-09-30T11:24:02.867446Z",
     "start_time": "2021-09-30T11:24:02.830238Z"
    },
    "hidden": true
   },
   "outputs": [
    {
     "data": {
      "text/html": [
       "<div>\n",
       "<style scoped>\n",
       "    .dataframe tbody tr th:only-of-type {\n",
       "        vertical-align: middle;\n",
       "    }\n",
       "\n",
       "    .dataframe tbody tr th {\n",
       "        vertical-align: top;\n",
       "    }\n",
       "\n",
       "    .dataframe thead th {\n",
       "        text-align: right;\n",
       "    }\n",
       "</style>\n",
       "<table border=\"1\" class=\"dataframe\">\n",
       "  <thead>\n",
       "    <tr style=\"text-align: right;\">\n",
       "      <th></th>\n",
       "      <th>mean</th>\n",
       "      <th>std</th>\n",
       "    </tr>\n",
       "    <tr>\n",
       "      <th>month_of_absence</th>\n",
       "      <th></th>\n",
       "      <th></th>\n",
       "    </tr>\n",
       "  </thead>\n",
       "  <tbody>\n",
       "    <tr>\n",
       "      <th>April</th>\n",
       "      <td>9.094340</td>\n",
       "      <td>18.023771</td>\n",
       "    </tr>\n",
       "    <tr>\n",
       "      <th>August</th>\n",
       "      <td>5.333333</td>\n",
       "      <td>5.749487</td>\n",
       "    </tr>\n",
       "    <tr>\n",
       "      <th>December</th>\n",
       "      <td>8.448980</td>\n",
       "      <td>16.049482</td>\n",
       "    </tr>\n",
       "    <tr>\n",
       "      <th>February</th>\n",
       "      <td>4.083333</td>\n",
       "      <td>3.710472</td>\n",
       "    </tr>\n",
       "    <tr>\n",
       "      <th>January</th>\n",
       "      <td>4.440000</td>\n",
       "      <td>5.785838</td>\n",
       "    </tr>\n",
       "    <tr>\n",
       "      <th>July</th>\n",
       "      <td>10.955224</td>\n",
       "      <td>21.546590</td>\n",
       "    </tr>\n",
       "    <tr>\n",
       "      <th>June</th>\n",
       "      <td>7.611111</td>\n",
       "      <td>12.358507</td>\n",
       "    </tr>\n",
       "    <tr>\n",
       "      <th>March</th>\n",
       "      <td>8.793103</td>\n",
       "      <td>16.893055</td>\n",
       "    </tr>\n",
       "    <tr>\n",
       "      <th>May</th>\n",
       "      <td>6.250000</td>\n",
       "      <td>10.314114</td>\n",
       "    </tr>\n",
       "    <tr>\n",
       "      <th>November</th>\n",
       "      <td>7.507937</td>\n",
       "      <td>16.121387</td>\n",
       "    </tr>\n",
       "    <tr>\n",
       "      <th>October</th>\n",
       "      <td>4.915493</td>\n",
       "      <td>8.054717</td>\n",
       "    </tr>\n",
       "    <tr>\n",
       "      <th>September</th>\n",
       "      <td>5.509434</td>\n",
       "      <td>8.407009</td>\n",
       "    </tr>\n",
       "  </tbody>\n",
       "</table>\n",
       "</div>"
      ],
      "text/plain": [
       "                       mean        std\n",
       "month_of_absence                      \n",
       "April              9.094340  18.023771\n",
       "August             5.333333   5.749487\n",
       "December           8.448980  16.049482\n",
       "February           4.083333   3.710472\n",
       "January            4.440000   5.785838\n",
       "July              10.955224  21.546590\n",
       "June               7.611111  12.358507\n",
       "March              8.793103  16.893055\n",
       "May                6.250000  10.314114\n",
       "November           7.507937  16.121387\n",
       "October            4.915493   8.054717\n",
       "September          5.509434   8.407009"
      ]
     },
     "execution_count": 111,
     "metadata": {},
     "output_type": "execute_result"
    }
   ],
   "source": [
    "preprocessed_df.groupby('month_of_absence')['absenteeism_time_in_hours'].agg(['mean', 'std'])"
   ]
  },
  {
   "cell_type": "code",
   "execution_count": 113,
   "id": "73b3e776",
   "metadata": {
    "ExecuteTime": {
     "end_time": "2021-09-30T11:25:15.665155Z",
     "start_time": "2021-09-30T11:25:15.641855Z"
    },
    "hidden": true
   },
   "outputs": [
    {
     "name": "stdout",
     "output_type": "stream",
     "text": [
      "Test statistic: 2.605\n",
      "p-value: 0.009\n"
     ]
    }
   ],
   "source": [
    "# maximum average hours in july and minimum hours in february\n",
    "# Hypothesis test\n",
    "\n",
    "july_data = preprocessed_df.absenteeism_time_in_hours[preprocessed_df.month_of_absence=='July']\n",
    "\n",
    "no_july_data = preprocessed_df.absenteeism_time_in_hours[~(preprocessed_df.month_of_absence=='July')]\n",
    "\n",
    "## t-test for july month and remaining months\n",
    "res = stats.ttest_ind(july_data, no_july_data)\n",
    "\n",
    "print(f\"Test statistic: {res[0]:.3f}\\np-value: {res[1]:.3f}\")"
   ]
  },
  {
   "cell_type": "markdown",
   "id": "1d345f9a",
   "metadata": {
    "heading_collapsed": true
   },
   "source": [
    "### Analyzing Day of week"
   ]
  },
  {
   "cell_type": "code",
   "execution_count": 62,
   "id": "958eecd6",
   "metadata": {
    "ExecuteTime": {
     "end_time": "2021-09-30T10:17:52.414886Z",
     "start_time": "2021-09-30T10:17:51.913154Z"
    },
    "hidden": true
   },
   "outputs": [
    {
     "data": {
      "image/png": "[encoded data removed]",
      "text/plain": [
       "<Figure size 1080x432 with 1 Axes>"
      ]
     },
     "metadata": {
      "needs_background": "light"
     },
     "output_type": "display_data"
    }
   ],
   "source": [
    "plt.figure(figsize=(15,6))\n",
    "sns.violinplot(x='day_of_the_week', y='absenteeism_time_in_hours', \n",
    "               data=preprocessed_df, order=day_name[:5])\n",
    "plt.show()"
   ]
  },
  {
   "cell_type": "code",
   "execution_count": 81,
   "id": "138f652a",
   "metadata": {
    "ExecuteTime": {
     "end_time": "2021-09-30T10:52:58.555332Z",
     "start_time": "2021-09-30T10:52:58.485458Z"
    },
    "hidden": true
   },
   "outputs": [
    {
     "data": {
      "text/html": [
       "<div>\n",
       "<style scoped>\n",
       "    .dataframe tbody tr th:only-of-type {\n",
       "        vertical-align: middle;\n",
       "    }\n",
       "\n",
       "    .dataframe tbody tr th {\n",
       "        vertical-align: top;\n",
       "    }\n",
       "\n",
       "    .dataframe thead th {\n",
       "        text-align: right;\n",
       "    }\n",
       "</style>\n",
       "<table border=\"1\" class=\"dataframe\">\n",
       "  <thead>\n",
       "    <tr style=\"text-align: right;\">\n",
       "      <th></th>\n",
       "      <th>df</th>\n",
       "      <th>sum_sq</th>\n",
       "      <th>mean_sq</th>\n",
       "      <th>F</th>\n",
       "      <th>PR(&gt;F)</th>\n",
       "    </tr>\n",
       "  </thead>\n",
       "  <tbody>\n",
       "    <tr>\n",
       "      <th>C(day_of_the_week)</th>\n",
       "      <td>4.0</td>\n",
       "      <td>2296.871518</td>\n",
       "      <td>574.217879</td>\n",
       "      <td>3.270822</td>\n",
       "      <td>0.011345</td>\n",
       "    </tr>\n",
       "    <tr>\n",
       "      <th>Residual</th>\n",
       "      <td>735.0</td>\n",
       "      <td>129034.890645</td>\n",
       "      <td>175.557674</td>\n",
       "      <td>NaN</td>\n",
       "      <td>NaN</td>\n",
       "    </tr>\n",
       "  </tbody>\n",
       "</table>\n",
       "</div>"
      ],
      "text/plain": [
       "                       df         sum_sq     mean_sq         F    PR(>F)\n",
       "C(day_of_the_week)    4.0    2296.871518  574.217879  3.270822  0.011345\n",
       "Residual            735.0  129034.890645  175.557674       NaN       NaN"
      ]
     },
     "execution_count": 81,
     "metadata": {},
     "output_type": "execute_result"
    }
   ],
   "source": [
    "formula = 'absenteeism_time_in_hours ~ C(day_of_the_week)'\n",
    "\n",
    "data2 = preprocessed_df[['absenteeism_time_in_hours', 'day_of_the_week']]\n",
    "\n",
    "model = ols(formula, data=data2).fit()\n",
    "\n",
    "anova_table = sm.stats.anova_lm(model, typ=1)\n",
    "anova_table"
   ]
  },
  {
   "cell_type": "markdown",
   "id": "fe82bc47",
   "metadata": {
    "hidden": true
   },
   "source": [
    "- There is statistically significant difference between days of week"
   ]
  },
  {
   "cell_type": "code",
   "execution_count": 82,
   "id": "4d1a8d0f",
   "metadata": {
    "ExecuteTime": {
     "end_time": "2021-09-30T10:53:17.673270Z",
     "start_time": "2021-09-30T10:53:17.667599Z"
    },
    "hidden": true
   },
   "outputs": [
    {
     "name": "stdout",
     "output_type": "stream",
     "text": [
      "Reject null hypothesis - Residual does not follow normal distribution 👎\n"
     ]
    }
   ],
   "source": [
    "shaprio_test(model)"
   ]
  },
  {
   "cell_type": "code",
   "execution_count": 114,
   "id": "0fd265a5",
   "metadata": {
    "ExecuteTime": {
     "end_time": "2021-09-30T11:25:56.659732Z",
     "start_time": "2021-09-30T11:25:56.629304Z"
    },
    "hidden": true
   },
   "outputs": [
    {
     "data": {
      "text/html": [
       "<div>\n",
       "<style scoped>\n",
       "    .dataframe tbody tr th:only-of-type {\n",
       "        vertical-align: middle;\n",
       "    }\n",
       "\n",
       "    .dataframe tbody tr th {\n",
       "        vertical-align: top;\n",
       "    }\n",
       "\n",
       "    .dataframe thead th {\n",
       "        text-align: right;\n",
       "    }\n",
       "</style>\n",
       "<table border=\"1\" class=\"dataframe\">\n",
       "  <thead>\n",
       "    <tr style=\"text-align: right;\">\n",
       "      <th></th>\n",
       "      <th>mean</th>\n",
       "      <th>std</th>\n",
       "    </tr>\n",
       "    <tr>\n",
       "      <th>day_of_the_week</th>\n",
       "      <th></th>\n",
       "      <th></th>\n",
       "    </tr>\n",
       "  </thead>\n",
       "  <tbody>\n",
       "    <tr>\n",
       "      <th>Friday</th>\n",
       "      <td>5.125000</td>\n",
       "      <td>7.911110</td>\n",
       "    </tr>\n",
       "    <tr>\n",
       "      <th>Monday</th>\n",
       "      <td>9.248447</td>\n",
       "      <td>15.972645</td>\n",
       "    </tr>\n",
       "    <tr>\n",
       "      <th>Thursday</th>\n",
       "      <td>4.424000</td>\n",
       "      <td>4.265889</td>\n",
       "    </tr>\n",
       "    <tr>\n",
       "      <th>Tuesday</th>\n",
       "      <td>7.980519</td>\n",
       "      <td>18.027383</td>\n",
       "    </tr>\n",
       "    <tr>\n",
       "      <th>Wednesday</th>\n",
       "      <td>7.147436</td>\n",
       "      <td>13.267863</td>\n",
       "    </tr>\n",
       "  </tbody>\n",
       "</table>\n",
       "</div>"
      ],
      "text/plain": [
       "                     mean        std\n",
       "day_of_the_week                     \n",
       "Friday           5.125000   7.911110\n",
       "Monday           9.248447  15.972645\n",
       "Thursday         4.424000   4.265889\n",
       "Tuesday          7.980519  18.027383\n",
       "Wednesday        7.147436  13.267863"
      ]
     },
     "execution_count": 114,
     "metadata": {},
     "output_type": "execute_result"
    }
   ],
   "source": [
    "preprocessed_df.groupby('day_of_the_week')['absenteeism_time_in_hours'].agg(['mean', 'std'])"
   ]
  },
  {
   "cell_type": "code",
   "execution_count": 115,
   "id": "7b15ff07",
   "metadata": {
    "ExecuteTime": {
     "end_time": "2021-09-30T11:26:13.599759Z",
     "start_time": "2021-09-30T11:26:13.586530Z"
    },
    "hidden": true
   },
   "outputs": [
    {
     "name": "stdout",
     "output_type": "stream",
     "text": [
      "Test statistic: -2.307\n",
      "p-value: 0.021\n"
     ]
    }
   ],
   "source": [
    "# maximum average hours on monday and minimum hours on thursday\n",
    "# Hypothesis test\n",
    "\n",
    "thursday_data = preprocessed_df.absenteeism_time_in_hours[preprocessed_df.day_of_the_week=='Thursday']\n",
    "\n",
    "no_thursday_data = preprocessed_df.absenteeism_time_in_hours[~(preprocessed_df.day_of_the_week=='Thursday')]\n",
    "\n",
    "res1 = stats.ttest_ind(thursday_data, no_thursday_data)\n",
    "\n",
    "print(f\"Test statistic: {res1[0]:.3f}\\np-value: {res1[1]:.3f}\")"
   ]
  },
  {
   "cell_type": "markdown",
   "id": "692e0c45",
   "metadata": {
    "heading_collapsed": true
   },
   "source": [
    "### Analyzing Seasons"
   ]
  },
  {
   "cell_type": "code",
   "execution_count": 84,
   "id": "9095bb9f",
   "metadata": {
    "ExecuteTime": {
     "end_time": "2021-09-30T10:58:32.533733Z",
     "start_time": "2021-09-30T10:58:32.053699Z"
    },
    "hidden": true
   },
   "outputs": [
    {
     "data": {
      "image/png": "[encoded data removed]",
      "text/plain": [
       "<Figure size 1080x432 with 1 Axes>"
      ]
     },
     "metadata": {
      "needs_background": "light"
     },
     "output_type": "display_data"
    }
   ],
   "source": [
    "plt.figure(figsize=(15,6))\n",
    "sns.violinplot(x='seasons', y='absenteeism_time_in_hours', \n",
    "               data=preprocessed_df)\n",
    "plt.show()"
   ]
  },
  {
   "cell_type": "markdown",
   "id": "28c84dfe",
   "metadata": {
    "hidden": true
   },
   "source": [
    "- From the above figure it seems there is no difference among seasons for absent hours"
   ]
  },
  {
   "cell_type": "code",
   "execution_count": 88,
   "id": "d46fdff8",
   "metadata": {
    "ExecuteTime": {
     "end_time": "2021-09-30T11:06:13.289436Z",
     "start_time": "2021-09-30T11:06:13.238856Z"
    },
    "hidden": true
   },
   "outputs": [
    {
     "data": {
      "text/html": [
       "<div>\n",
       "<style scoped>\n",
       "    .dataframe tbody tr th:only-of-type {\n",
       "        vertical-align: middle;\n",
       "    }\n",
       "\n",
       "    .dataframe tbody tr th {\n",
       "        vertical-align: top;\n",
       "    }\n",
       "\n",
       "    .dataframe thead th {\n",
       "        text-align: right;\n",
       "    }\n",
       "</style>\n",
       "<table border=\"1\" class=\"dataframe\">\n",
       "  <thead>\n",
       "    <tr style=\"text-align: right;\">\n",
       "      <th></th>\n",
       "      <th>sum_sq</th>\n",
       "      <th>df</th>\n",
       "      <th>F</th>\n",
       "      <th>PR(&gt;F)</th>\n",
       "    </tr>\n",
       "  </thead>\n",
       "  <tbody>\n",
       "    <tr>\n",
       "      <th>C(seasons)</th>\n",
       "      <td>527.761700</td>\n",
       "      <td>3.0</td>\n",
       "      <td>0.989859</td>\n",
       "      <td>0.396957</td>\n",
       "    </tr>\n",
       "    <tr>\n",
       "      <th>Residual</th>\n",
       "      <td>130804.000462</td>\n",
       "      <td>736.0</td>\n",
       "      <td>NaN</td>\n",
       "      <td>NaN</td>\n",
       "    </tr>\n",
       "  </tbody>\n",
       "</table>\n",
       "</div>"
      ],
      "text/plain": [
       "                   sum_sq     df         F    PR(>F)\n",
       "C(seasons)     527.761700    3.0  0.989859  0.396957\n",
       "Residual    130804.000462  736.0       NaN       NaN"
      ]
     },
     "execution_count": 88,
     "metadata": {},
     "output_type": "execute_result"
    }
   ],
   "source": [
    "## One-way anova test for reasons and seasons\n",
    "\n",
    "formula = 'absenteeism_time_in_hours ~ C(seasons)'\n",
    "\n",
    "data2 = preprocessed_df[['absenteeism_time_in_hours', 'seasons']]\n",
    "\n",
    "model = ols(formula, data=data2).fit()\n",
    "\n",
    "anova_table = sm.stats.anova_lm(model, typ=2)\n",
    "anova_table"
   ]
  },
  {
   "cell_type": "code",
   "execution_count": 89,
   "id": "ffbcac82",
   "metadata": {
    "ExecuteTime": {
     "end_time": "2021-09-30T11:06:15.446155Z",
     "start_time": "2021-09-30T11:06:15.421148Z"
    },
    "hidden": true
   },
   "outputs": [
    {
     "name": "stdout",
     "output_type": "stream",
     "text": [
      "Reject null hypothesis - Residual does not follow normal distribution 👎\n"
     ]
    }
   ],
   "source": [
    "shaprio_test(model)"
   ]
  },
  {
   "cell_type": "code",
   "execution_count": 90,
   "id": "fef6abd7",
   "metadata": {
    "ExecuteTime": {
     "end_time": "2021-09-30T11:06:30.067040Z",
     "start_time": "2021-09-30T11:06:29.779708Z"
    },
    "hidden": true
   },
   "outputs": [
    {
     "data": {
      "text/html": [
       "<div>\n",
       "<style scoped>\n",
       "    .dataframe tbody tr th:only-of-type {\n",
       "        vertical-align: middle;\n",
       "    }\n",
       "\n",
       "    .dataframe tbody tr th {\n",
       "        vertical-align: top;\n",
       "    }\n",
       "\n",
       "    .dataframe thead th {\n",
       "        text-align: right;\n",
       "    }\n",
       "</style>\n",
       "<table border=\"1\" class=\"dataframe\">\n",
       "  <thead>\n",
       "    <tr style=\"text-align: right;\">\n",
       "      <th></th>\n",
       "      <th>df</th>\n",
       "      <th>sum_sq</th>\n",
       "      <th>mean_sq</th>\n",
       "      <th>F</th>\n",
       "      <th>PR(&gt;F)</th>\n",
       "    </tr>\n",
       "  </thead>\n",
       "  <tbody>\n",
       "    <tr>\n",
       "      <th>C(seasons)</th>\n",
       "      <td>3.0</td>\n",
       "      <td>527.761700</td>\n",
       "      <td>175.920567</td>\n",
       "      <td>1.304809</td>\n",
       "      <td>2.718241e-01</td>\n",
       "    </tr>\n",
       "    <tr>\n",
       "      <th>C(reason_for_absence)</th>\n",
       "      <td>27.0</td>\n",
       "      <td>27586.562773</td>\n",
       "      <td>1021.724547</td>\n",
       "      <td>7.578167</td>\n",
       "      <td>8.351585e-25</td>\n",
       "    </tr>\n",
       "    <tr>\n",
       "      <th>C(reason_for_absence):C(seasons)</th>\n",
       "      <td>81.0</td>\n",
       "      <td>15924.873693</td>\n",
       "      <td>196.603379</td>\n",
       "      <td>1.458214</td>\n",
       "      <td>7.792980e-03</td>\n",
       "    </tr>\n",
       "    <tr>\n",
       "      <th>Residual</th>\n",
       "      <td>654.0</td>\n",
       "      <td>88175.394426</td>\n",
       "      <td>134.824762</td>\n",
       "      <td>NaN</td>\n",
       "      <td>NaN</td>\n",
       "    </tr>\n",
       "  </tbody>\n",
       "</table>\n",
       "</div>"
      ],
      "text/plain": [
       "                                     df        sum_sq      mean_sq         F  \\\n",
       "C(seasons)                          3.0    527.761700   175.920567  1.304809   \n",
       "C(reason_for_absence)              27.0  27586.562773  1021.724547  7.578167   \n",
       "C(reason_for_absence):C(seasons)   81.0  15924.873693   196.603379  1.458214   \n",
       "Residual                          654.0  88175.394426   134.824762       NaN   \n",
       "\n",
       "                                        PR(>F)  \n",
       "C(seasons)                        2.718241e-01  \n",
       "C(reason_for_absence)             8.351585e-25  \n",
       "C(reason_for_absence):C(seasons)  7.792980e-03  \n",
       "Residual                                   NaN  "
      ]
     },
     "execution_count": 90,
     "metadata": {},
     "output_type": "execute_result"
    }
   ],
   "source": [
    "## Two-way anova test for seasons\n",
    "\n",
    "formula = 'absenteeism_time_in_hours ~ C(seasons) + C(reason_for_absence) + C(reason_for_absence):C(seasons)'\n",
    "\n",
    "data2 = preprocessed_df[['absenteeism_time_in_hours','reason_for_absence', 'seasons']]\n",
    "\n",
    "model = ols(formula, data=data2).fit()\n",
    "\n",
    "anova_table = sm.stats.anova_lm(model, typ=1)\n",
    "anova_table"
   ]
  },
  {
   "cell_type": "code",
   "execution_count": 91,
   "id": "79a7a64f",
   "metadata": {
    "ExecuteTime": {
     "end_time": "2021-09-30T11:06:31.085141Z",
     "start_time": "2021-09-30T11:06:31.078245Z"
    },
    "hidden": true
   },
   "outputs": [
    {
     "name": "stdout",
     "output_type": "stream",
     "text": [
      "Reject null hypothesis - Residual does not follow normal distribution 👎\n"
     ]
    }
   ],
   "source": [
    "shaprio_test(model)"
   ]
  },
  {
   "cell_type": "code",
   "execution_count": 116,
   "id": "906d38df",
   "metadata": {
    "ExecuteTime": {
     "end_time": "2021-09-30T11:27:24.625231Z",
     "start_time": "2021-09-30T11:27:24.602748Z"
    },
    "hidden": true
   },
   "outputs": [
    {
     "data": {
      "text/html": [
       "<div>\n",
       "<style scoped>\n",
       "    .dataframe tbody tr th:only-of-type {\n",
       "        vertical-align: middle;\n",
       "    }\n",
       "\n",
       "    .dataframe tbody tr th {\n",
       "        vertical-align: top;\n",
       "    }\n",
       "\n",
       "    .dataframe thead th {\n",
       "        text-align: right;\n",
       "    }\n",
       "</style>\n",
       "<table border=\"1\" class=\"dataframe\">\n",
       "  <thead>\n",
       "    <tr style=\"text-align: right;\">\n",
       "      <th></th>\n",
       "      <th>mean</th>\n",
       "      <th>std</th>\n",
       "    </tr>\n",
       "    <tr>\n",
       "      <th>seasons</th>\n",
       "      <th></th>\n",
       "      <th></th>\n",
       "    </tr>\n",
       "  </thead>\n",
       "  <tbody>\n",
       "    <tr>\n",
       "      <th>Fall</th>\n",
       "      <td>8.153005</td>\n",
       "      <td>15.148299</td>\n",
       "    </tr>\n",
       "    <tr>\n",
       "      <th>Spring</th>\n",
       "      <td>7.300000</td>\n",
       "      <td>14.496215</td>\n",
       "    </tr>\n",
       "    <tr>\n",
       "      <th>Summer</th>\n",
       "      <td>6.000000</td>\n",
       "      <td>11.059572</td>\n",
       "    </tr>\n",
       "    <tr>\n",
       "      <th>Winter</th>\n",
       "      <td>6.353846</td>\n",
       "      <td>12.469465</td>\n",
       "    </tr>\n",
       "  </tbody>\n",
       "</table>\n",
       "</div>"
      ],
      "text/plain": [
       "             mean        std\n",
       "seasons                     \n",
       "Fall     8.153005  15.148299\n",
       "Spring   7.300000  14.496215\n",
       "Summer   6.000000  11.059572\n",
       "Winter   6.353846  12.469465"
      ]
     },
     "execution_count": 116,
     "metadata": {},
     "output_type": "execute_result"
    }
   ],
   "source": [
    "preprocessed_df.groupby('seasons')['absenteeism_time_in_hours'].agg(['mean', 'std'])"
   ]
  },
  {
   "cell_type": "code",
   "execution_count": 117,
   "id": "f282e7da",
   "metadata": {
    "ExecuteTime": {
     "end_time": "2021-09-30T11:29:15.860400Z",
     "start_time": "2021-09-30T11:29:15.846446Z"
    },
    "hidden": true
   },
   "outputs": [
    {
     "name": "stdout",
     "output_type": "stream",
     "text": [
      "Test statistic: -1.117\n",
      "p-value: 0.265\n"
     ]
    }
   ],
   "source": [
    "# maximum average hours on Fall and minimum hours on summer\n",
    "# Hypothesis test\n",
    "\n",
    "summer_data = preprocessed_df.absenteeism_time_in_hours[preprocessed_df.seasons=='Summer']\n",
    "\n",
    "no_summer_data = preprocessed_df.absenteeism_time_in_hours[~(preprocessed_df.seasons=='Summer')]\n",
    "\n",
    "res1 = stats.ttest_ind(summer_data, no_summer_data)\n",
    "\n",
    "print(f\"Test statistic: {res1[0]:.3f}\\np-value: {res1[1]:.3f}\")"
   ]
  },
  {
   "cell_type": "markdown",
   "id": "c44646f5",
   "metadata": {
    "heading_collapsed": true
   },
   "source": [
    "### Disciplinary Failure"
   ]
  },
  {
   "cell_type": "code",
   "execution_count": 93,
   "id": "9314d6ed",
   "metadata": {
    "ExecuteTime": {
     "end_time": "2021-09-30T11:11:22.406368Z",
     "start_time": "2021-09-30T11:11:22.085951Z"
    },
    "hidden": true
   },
   "outputs": [
    {
     "data": {
      "image/png": "[encoded data removed]",
      "text/plain": [
       "<Figure size 432x288 with 1 Axes>"
      ]
     },
     "metadata": {
      "needs_background": "light"
     },
     "output_type": "display_data"
    }
   ],
   "source": [
    "# plt.figure(figsize=(15,6))\n",
    "sns.violinplot(x='disciplinary_failure', y='absenteeism_time_in_hours', \n",
    "               data=preprocessed_df)\n",
    "plt.show()"
   ]
  },
  {
   "cell_type": "code",
   "execution_count": 17,
   "id": "68a089ca",
   "metadata": {
    "ExecuteTime": {
     "end_time": "2021-10-01T09:30:17.109153Z",
     "start_time": "2021-10-01T09:30:17.085747Z"
    },
    "hidden": true
   },
   "outputs": [
    {
     "data": {
      "text/plain": [
       "No     700\n",
       "Yes     40\n",
       "Name: disciplinary_failure, dtype: int64"
      ]
     },
     "execution_count": 17,
     "metadata": {},
     "output_type": "execute_result"
    }
   ],
   "source": [
    "preprocessed_df.disciplinary_failure.value_counts()"
   ]
  },
  {
   "cell_type": "code",
   "execution_count": 18,
   "id": "dd6256d5",
   "metadata": {
    "ExecuteTime": {
     "end_time": "2021-10-01T09:31:26.829367Z",
     "start_time": "2021-10-01T09:31:26.800579Z"
    },
    "hidden": true
   },
   "outputs": [
    {
     "data": {
      "text/html": [
       "<div>\n",
       "<style scoped>\n",
       "    .dataframe tbody tr th:only-of-type {\n",
       "        vertical-align: middle;\n",
       "    }\n",
       "\n",
       "    .dataframe tbody tr th {\n",
       "        vertical-align: top;\n",
       "    }\n",
       "\n",
       "    .dataframe thead th {\n",
       "        text-align: right;\n",
       "    }\n",
       "</style>\n",
       "<table border=\"1\" class=\"dataframe\">\n",
       "  <thead>\n",
       "    <tr style=\"text-align: right;\">\n",
       "      <th></th>\n",
       "      <th>mean</th>\n",
       "      <th>std</th>\n",
       "    </tr>\n",
       "    <tr>\n",
       "      <th>disciplinary_failure</th>\n",
       "      <th></th>\n",
       "      <th></th>\n",
       "    </tr>\n",
       "  </thead>\n",
       "  <tbody>\n",
       "    <tr>\n",
       "      <th>No</th>\n",
       "      <td>7.32</td>\n",
       "      <td>13.600909</td>\n",
       "    </tr>\n",
       "    <tr>\n",
       "      <th>Yes</th>\n",
       "      <td>0.00</td>\n",
       "      <td>0.000000</td>\n",
       "    </tr>\n",
       "  </tbody>\n",
       "</table>\n",
       "</div>"
      ],
      "text/plain": [
       "                      mean        std\n",
       "disciplinary_failure                 \n",
       "No                    7.32  13.600909\n",
       "Yes                   0.00   0.000000"
      ]
     },
     "execution_count": 18,
     "metadata": {},
     "output_type": "execute_result"
    }
   ],
   "source": [
    "preprocessed_df.groupby('disciplinary_failure')['absenteeism_time_in_hours'].agg(['mean', 'std'])"
   ]
  },
  {
   "cell_type": "markdown",
   "id": "9460149a",
   "metadata": {
    "hidden": true
   },
   "source": [
    "- A significant difference is present in between absent hours for employees with disciplinary failure and not failure."
   ]
  },
  {
   "cell_type": "markdown",
   "id": "1ff832bc",
   "metadata": {
    "heading_collapsed": true
   },
   "source": [
    "### Analyzing social drinkers and social smokers"
   ]
  },
  {
   "cell_type": "code",
   "execution_count": 94,
   "id": "16573a4c",
   "metadata": {
    "ExecuteTime": {
     "end_time": "2021-09-30T11:15:15.843421Z",
     "start_time": "2021-09-30T11:15:15.483870Z"
    },
    "hidden": true
   },
   "outputs": [
    {
     "data": {
      "image/png": "[encoded data removed]",
      "text/plain": [
       "<Figure size 720x432 with 1 Axes>"
      ]
     },
     "metadata": {
      "needs_background": "light"
     },
     "output_type": "display_data"
    }
   ],
   "source": [
    "plt.figure(figsize=(10,6))\n",
    "sns.violinplot(x='social_drinker', y='absenteeism_time_in_hours', data=preprocessed_df)\n",
    "plt.show()"
   ]
  },
  {
   "cell_type": "code",
   "execution_count": 95,
   "id": "394c6702",
   "metadata": {
    "ExecuteTime": {
     "end_time": "2021-09-30T11:15:17.658086Z",
     "start_time": "2021-09-30T11:15:17.329419Z"
    },
    "hidden": true
   },
   "outputs": [
    {
     "data": {
      "image/png": "[encoded data removed]",
      "text/plain": [
       "<Figure size 720x432 with 1 Axes>"
      ]
     },
     "metadata": {
      "needs_background": "light"
     },
     "output_type": "display_data"
    }
   ],
   "source": [
    "plt.figure(figsize=(10,6))\n",
    "sns.violinplot(x='social_smoker', y='absenteeism_time_in_hours', data=preprocessed_df)\n",
    "plt.show()"
   ]
  },
  {
   "cell_type": "markdown",
   "id": "1c7b8813",
   "metadata": {
    "hidden": true
   },
   "source": [
    "- Despite some differences in the outliers between smokers and non-smokers, there is no substantial difference in the distribution of absenteeism hours in drinkers and smokers.\n",
    "- To assess this statement in a rigorous statistical way, perform hypothesis testing on the absenteeism hours (with a null hypothesis stating that the average absenteeism time in hours is the same for drinkers and non-drinkers)"
   ]
  },
  {
   "cell_type": "code",
   "execution_count": 96,
   "id": "6372d731",
   "metadata": {
    "ExecuteTime": {
     "end_time": "2021-09-30T11:15:46.970444Z",
     "start_time": "2021-09-30T11:15:46.952827Z"
    },
    "hidden": true
   },
   "outputs": [],
   "source": [
    "hours_drinkers = preprocessed_df.absenteeism_time_in_hours[preprocessed_df.social_drinker=='Yes']\n",
    "hours_non_drinkers = preprocessed_df.absenteeism_time_in_hours[preprocessed_df.social_drinker=='No']"
   ]
  },
  {
   "cell_type": "code",
   "execution_count": 97,
   "id": "2cd041b6",
   "metadata": {
    "ExecuteTime": {
     "end_time": "2021-09-30T11:15:48.776908Z",
     "start_time": "2021-09-30T11:15:48.764731Z"
    },
    "hidden": true
   },
   "outputs": [
    {
     "name": "stdout",
     "output_type": "stream",
     "text": [
      "Test Statistic: 1.7713833295243993\n",
      "p-value: 0.07690961828294651\n"
     ]
    }
   ],
   "source": [
    "result = stats.ttest_ind(hours_drinkers, hours_non_drinkers)\n",
    "\n",
    "print(\"Test Statistic:\", result[0])\n",
    "print(\"p-value:\", result[1])"
   ]
  },
  {
   "cell_type": "code",
   "execution_count": 98,
   "id": "b5c4a9e1",
   "metadata": {
    "ExecuteTime": {
     "end_time": "2021-09-30T11:15:53.799060Z",
     "start_time": "2021-09-30T11:15:53.772329Z"
    },
    "hidden": true
   },
   "outputs": [],
   "source": [
    "hours_smokers = preprocessed_df.absenteeism_time_in_hours[preprocessed_df.social_smoker=='Yes']\n",
    "hours_non_smokers = preprocessed_df.absenteeism_time_in_hours[preprocessed_df.social_smoker=='No']"
   ]
  },
  {
   "cell_type": "code",
   "execution_count": 99,
   "id": "23590db5",
   "metadata": {
    "ExecuteTime": {
     "end_time": "2021-09-30T11:15:54.887831Z",
     "start_time": "2021-09-30T11:15:54.874006Z"
    },
    "hidden": true
   },
   "outputs": [
    {
     "name": "stdout",
     "output_type": "stream",
     "text": [
      "Test Statistic: -0.24277795417700243\n",
      "p-value: 0.8082448720154971\n"
     ]
    }
   ],
   "source": [
    "result = stats.ttest_ind(hours_smokers, hours_non_smokers)\n",
    "\n",
    "print(\"Test Statistic:\", result[0])\n",
    "print(\"p-value:\", result[1])"
   ]
  },
  {
   "cell_type": "markdown",
   "id": "fef8fe3f",
   "metadata": {
    "hidden": true
   },
   "source": [
    "- As we can see, the p-value of both tests is above the critical value of 0.05, which means that we cannot reject the null hypothesis. In other words, we cannot say that there is a statistically significant difference in the absenteeism hours between drinkers (and smokers) and non-drinkers (and non-smokers).\n",
    "\n",
    ">  **Nevertheless, the average hours may still be equal, but their distributions may be different.**"
   ]
  },
  {
   "cell_type": "markdown",
   "id": "3be86480",
   "metadata": {
    "hidden": true
   },
   "source": [
    "- **To assess the difference in the distributions of two samples**"
   ]
  },
  {
   "cell_type": "code",
   "execution_count": 100,
   "id": "757bb086",
   "metadata": {
    "ExecuteTime": {
     "end_time": "2021-09-30T11:16:32.468884Z",
     "start_time": "2021-09-30T11:16:32.455912Z"
    },
    "hidden": true
   },
   "outputs": [],
   "source": [
    "from scipy.stats import ks_2samp"
   ]
  },
  {
   "cell_type": "code",
   "execution_count": 101,
   "id": "8f188e5b",
   "metadata": {
    "ExecuteTime": {
     "end_time": "2021-09-30T11:16:40.363644Z",
     "start_time": "2021-09-30T11:16:40.303918Z"
    },
    "hidden": true
   },
   "outputs": [
    {
     "name": "stdout",
     "output_type": "stream",
     "text": [
      "Dinkers' statistic is 0.13541666666666666 and p-value 0.0022652445666854204\n",
      "Smokers' statistic is 0.10436237987258395 and p-value 0.6069676330358527\n"
     ]
    }
   ],
   "source": [
    "drinkers_result = ks_2samp(hours_drinkers, hours_non_drinkers)\n",
    "smokers_result = ks_2samp(hours_smokers, hours_non_smokers)\n",
    "\n",
    "print(f\"Dinkers' statistic is {drinkers_result[0]} and p-value {drinkers_result[1]}\")\n",
    "print(f\"Smokers' statistic is {smokers_result[0]} and p-value {smokers_result[1]}\")"
   ]
  },
  {
   "cell_type": "markdown",
   "id": "6d7a821f",
   "metadata": {
    "hidden": true
   },
   "source": [
    "- ***The p-value for the drinkers dataset is lower than the critical 0.05, which is strong evidence against the null hypothesis of the two distributions being equal. On the other hand, as the p-value for the smokers dataset is higher than 0.05, we cannot reject the null hypothesis.***"
   ]
  },
  {
   "cell_type": "markdown",
   "id": "87b6fb37",
   "metadata": {
    "heading_collapsed": true
   },
   "source": [
    "### BMI Category"
   ]
  },
  {
   "cell_type": "code",
   "execution_count": 102,
   "id": "f466e680",
   "metadata": {
    "ExecuteTime": {
     "end_time": "2021-09-30T11:18:11.717877Z",
     "start_time": "2021-09-30T11:18:11.694237Z"
    },
    "code_folding": [],
    "hidden": true
   },
   "outputs": [],
   "source": [
    "def get_bmi_category(bmi):\n",
    "    if bmi < 18.5:\n",
    "        category = \"underweight\"\n",
    "    elif bmi >= 18.5 and bmi < 25:\n",
    "        category = \"healthy weight\"\n",
    "    elif bmi >= 25 and bmi < 30:\n",
    "        category = \"overweight\"\n",
    "    else:\n",
    "        category = \"obese\"\n",
    "    return category\n",
    "\n",
    "\n",
    "preprocessed_df['bmi_category'] = preprocessed_df.body_mass_index.apply(get_bmi_category)"
   ]
  },
  {
   "cell_type": "code",
   "execution_count": 103,
   "id": "f02a51d5",
   "metadata": {
    "ExecuteTime": {
     "end_time": "2021-09-30T11:18:20.360630Z",
     "start_time": "2021-09-30T11:18:20.308199Z"
    },
    "hidden": true
   },
   "outputs": [
    {
     "data": {
      "text/html": [
       "<div>\n",
       "<style scoped>\n",
       "    .dataframe tbody tr th:only-of-type {\n",
       "        vertical-align: middle;\n",
       "    }\n",
       "\n",
       "    .dataframe tbody tr th {\n",
       "        vertical-align: top;\n",
       "    }\n",
       "\n",
       "    .dataframe thead th {\n",
       "        text-align: right;\n",
       "    }\n",
       "</style>\n",
       "<table border=\"1\" class=\"dataframe\">\n",
       "  <thead>\n",
       "    <tr style=\"text-align: right;\">\n",
       "      <th></th>\n",
       "      <th>id</th>\n",
       "      <th>reason_for_absence</th>\n",
       "      <th>disease</th>\n",
       "      <th>month_of_absence</th>\n",
       "      <th>day_of_the_week</th>\n",
       "      <th>seasons</th>\n",
       "      <th>transportation_expense</th>\n",
       "      <th>distance_from_residence_to_work</th>\n",
       "      <th>service_time</th>\n",
       "      <th>age</th>\n",
       "      <th>...</th>\n",
       "      <th>education</th>\n",
       "      <th>son</th>\n",
       "      <th>social_drinker</th>\n",
       "      <th>social_smoker</th>\n",
       "      <th>pet</th>\n",
       "      <th>weight</th>\n",
       "      <th>height</th>\n",
       "      <th>body_mass_index</th>\n",
       "      <th>absenteeism_time_in_hours</th>\n",
       "      <th>bmi_category</th>\n",
       "    </tr>\n",
       "  </thead>\n",
       "  <tbody>\n",
       "    <tr>\n",
       "      <th>0</th>\n",
       "      <td>11</td>\n",
       "      <td>26</td>\n",
       "      <td>No</td>\n",
       "      <td>July</td>\n",
       "      <td>Tuesday</td>\n",
       "      <td>Spring</td>\n",
       "      <td>289</td>\n",
       "      <td>36</td>\n",
       "      <td>13</td>\n",
       "      <td>33</td>\n",
       "      <td>...</td>\n",
       "      <td>High_School</td>\n",
       "      <td>2</td>\n",
       "      <td>Yes</td>\n",
       "      <td>No</td>\n",
       "      <td>1</td>\n",
       "      <td>90</td>\n",
       "      <td>172</td>\n",
       "      <td>30</td>\n",
       "      <td>4</td>\n",
       "      <td>obese</td>\n",
       "    </tr>\n",
       "    <tr>\n",
       "      <th>1</th>\n",
       "      <td>36</td>\n",
       "      <td>0</td>\n",
       "      <td>No</td>\n",
       "      <td>July</td>\n",
       "      <td>Tuesday</td>\n",
       "      <td>Spring</td>\n",
       "      <td>118</td>\n",
       "      <td>13</td>\n",
       "      <td>18</td>\n",
       "      <td>50</td>\n",
       "      <td>...</td>\n",
       "      <td>High_School</td>\n",
       "      <td>1</td>\n",
       "      <td>Yes</td>\n",
       "      <td>No</td>\n",
       "      <td>0</td>\n",
       "      <td>98</td>\n",
       "      <td>178</td>\n",
       "      <td>31</td>\n",
       "      <td>0</td>\n",
       "      <td>obese</td>\n",
       "    </tr>\n",
       "    <tr>\n",
       "      <th>2</th>\n",
       "      <td>3</td>\n",
       "      <td>23</td>\n",
       "      <td>No</td>\n",
       "      <td>July</td>\n",
       "      <td>Wednesday</td>\n",
       "      <td>Spring</td>\n",
       "      <td>179</td>\n",
       "      <td>51</td>\n",
       "      <td>18</td>\n",
       "      <td>38</td>\n",
       "      <td>...</td>\n",
       "      <td>High_School</td>\n",
       "      <td>0</td>\n",
       "      <td>Yes</td>\n",
       "      <td>No</td>\n",
       "      <td>0</td>\n",
       "      <td>89</td>\n",
       "      <td>170</td>\n",
       "      <td>31</td>\n",
       "      <td>2</td>\n",
       "      <td>obese</td>\n",
       "    </tr>\n",
       "    <tr>\n",
       "      <th>3</th>\n",
       "      <td>7</td>\n",
       "      <td>7</td>\n",
       "      <td>Yes</td>\n",
       "      <td>July</td>\n",
       "      <td>Thursday</td>\n",
       "      <td>Spring</td>\n",
       "      <td>279</td>\n",
       "      <td>5</td>\n",
       "      <td>14</td>\n",
       "      <td>39</td>\n",
       "      <td>...</td>\n",
       "      <td>High_School</td>\n",
       "      <td>2</td>\n",
       "      <td>Yes</td>\n",
       "      <td>Yes</td>\n",
       "      <td>0</td>\n",
       "      <td>68</td>\n",
       "      <td>168</td>\n",
       "      <td>24</td>\n",
       "      <td>4</td>\n",
       "      <td>healthy weight</td>\n",
       "    </tr>\n",
       "    <tr>\n",
       "      <th>4</th>\n",
       "      <td>11</td>\n",
       "      <td>23</td>\n",
       "      <td>No</td>\n",
       "      <td>July</td>\n",
       "      <td>Thursday</td>\n",
       "      <td>Spring</td>\n",
       "      <td>289</td>\n",
       "      <td>36</td>\n",
       "      <td>13</td>\n",
       "      <td>33</td>\n",
       "      <td>...</td>\n",
       "      <td>High_School</td>\n",
       "      <td>2</td>\n",
       "      <td>Yes</td>\n",
       "      <td>No</td>\n",
       "      <td>1</td>\n",
       "      <td>90</td>\n",
       "      <td>172</td>\n",
       "      <td>30</td>\n",
       "      <td>2</td>\n",
       "      <td>obese</td>\n",
       "    </tr>\n",
       "  </tbody>\n",
       "</table>\n",
       "<p>5 rows × 23 columns</p>\n",
       "</div>"
      ],
      "text/plain": [
       "   id  reason_for_absence disease month_of_absence day_of_the_week seasons  \\\n",
       "0  11                  26      No             July         Tuesday  Spring   \n",
       "1  36                   0      No             July         Tuesday  Spring   \n",
       "2   3                  23      No             July       Wednesday  Spring   \n",
       "3   7                   7     Yes             July        Thursday  Spring   \n",
       "4  11                  23      No             July        Thursday  Spring   \n",
       "\n",
       "   transportation_expense  distance_from_residence_to_work  service_time  age  \\\n",
       "0                     289                               36            13   33   \n",
       "1                     118                               13            18   50   \n",
       "2                     179                               51            18   38   \n",
       "3                     279                                5            14   39   \n",
       "4                     289                               36            13   33   \n",
       "\n",
       "   ...    education  son social_drinker social_smoker  pet weight height  \\\n",
       "0  ...  High_School    2            Yes            No    1     90    172   \n",
       "1  ...  High_School    1            Yes            No    0     98    178   \n",
       "2  ...  High_School    0            Yes            No    0     89    170   \n",
       "3  ...  High_School    2            Yes           Yes    0     68    168   \n",
       "4  ...  High_School    2            Yes            No    1     90    172   \n",
       "\n",
       "   body_mass_index  absenteeism_time_in_hours    bmi_category  \n",
       "0               30                          4           obese  \n",
       "1               31                          0           obese  \n",
       "2               31                          2           obese  \n",
       "3               24                          4  healthy weight  \n",
       "4               30                          2           obese  \n",
       "\n",
       "[5 rows x 23 columns]"
      ]
     },
     "execution_count": 103,
     "metadata": {},
     "output_type": "execute_result"
    }
   ],
   "source": [
    "preprocessed_df.head()"
   ]
  },
  {
   "cell_type": "code",
   "execution_count": 104,
   "id": "046fb75a",
   "metadata": {
    "ExecuteTime": {
     "end_time": "2021-09-30T11:18:22.101035Z",
     "start_time": "2021-09-30T11:18:21.806696Z"
    },
    "hidden": true
   },
   "outputs": [
    {
     "data": {
      "image/png": "[encoded data removed]",
      "text/plain": [
       "<Figure size 432x288 with 1 Axes>"
      ]
     },
     "metadata": {
      "needs_background": "light"
     },
     "output_type": "display_data"
    }
   ],
   "source": [
    "sns.countplot(x='bmi_category', data=preprocessed_df, \n",
    "              order=['underweight', 'healthy weight', 'overweight', 'obese'])\n",
    "plt.show()"
   ]
  },
  {
   "cell_type": "code",
   "execution_count": 105,
   "id": "f155562d",
   "metadata": {
    "ExecuteTime": {
     "end_time": "2021-09-30T11:18:32.399089Z",
     "start_time": "2021-09-30T11:18:31.054766Z"
    },
    "hidden": true
   },
   "outputs": [
    {
     "data": {
      "image/png": "[encoded data removed]",
      "text/plain": [
       "<Figure size 1080x576 with 1 Axes>"
      ]
     },
     "metadata": {
      "needs_background": "light"
     },
     "output_type": "display_data"
    }
   ],
   "source": [
    "plt.figure(figsize=(15, 8))\n",
    "sns.countplot(x='reason_for_absence', data=preprocessed_df, hue='bmi_category',\n",
    "             hue_order=['underweight', 'healthy weight', 'overweight', 'obese'],\n",
    "             palette='Set2')\n",
    "\n",
    "plt.show()"
   ]
  },
  {
   "cell_type": "code",
   "execution_count": 106,
   "id": "0c581e52",
   "metadata": {
    "ExecuteTime": {
     "end_time": "2021-09-30T11:18:55.840789Z",
     "start_time": "2021-09-30T11:18:55.397541Z"
    },
    "hidden": true
   },
   "outputs": [
    {
     "data": {
      "image/png": "[encoded data removed]",
      "text/plain": [
       "<Figure size 720x432 with 1 Axes>"
      ]
     },
     "metadata": {
      "needs_background": "light"
     },
     "output_type": "display_data"
    }
   ],
   "source": [
    "plt.figure(figsize=(10,6))\n",
    "sns.violinplot(data=preprocessed_df, x='bmi_category', y='absenteeism_time_in_hours')\n",
    "plt.show()"
   ]
  },
  {
   "cell_type": "markdown",
   "id": "c1d789c3",
   "metadata": {
    "hidden": true
   },
   "source": [
    "- bmi category does not affect the absenteeism hours"
   ]
  },
  {
   "cell_type": "markdown",
   "id": "14ace281",
   "metadata": {
    "heading_collapsed": true
   },
   "source": [
    "### Education"
   ]
  },
  {
   "cell_type": "code",
   "execution_count": 48,
   "id": "5c5c4849",
   "metadata": {
    "ExecuteTime": {
     "end_time": "2021-09-03T00:45:07.602855Z",
     "start_time": "2021-09-03T00:45:06.957214Z"
    },
    "hidden": true
   },
   "outputs": [
    {
     "data": {
      "image/png": "[encoded data removed]",
      "text/plain": [
       "<Figure size 720x432 with 1 Axes>"
      ]
     },
     "metadata": {
      "needs_background": "light"
     },
     "output_type": "display_data"
    }
   ],
   "source": [
    "plt.figure(figsize=(10,6))\n",
    "sns.violinplot(data=preprocessed_df, x='education', y='absenteeism_time_in_hours')\n",
    "plt.show()"
   ]
  },
  {
   "cell_type": "code",
   "execution_count": 22,
   "id": "3d1431f8",
   "metadata": {
    "ExecuteTime": {
     "end_time": "2021-10-01T09:43:31.840054Z",
     "start_time": "2021-10-01T09:43:31.784484Z"
    },
    "hidden": true
   },
   "outputs": [
    {
     "data": {
      "text/html": [
       "<div>\n",
       "<style scoped>\n",
       "    .dataframe tbody tr th:only-of-type {\n",
       "        vertical-align: middle;\n",
       "    }\n",
       "\n",
       "    .dataframe tbody tr th {\n",
       "        vertical-align: top;\n",
       "    }\n",
       "\n",
       "    .dataframe thead th {\n",
       "        text-align: right;\n",
       "    }\n",
       "</style>\n",
       "<table border=\"1\" class=\"dataframe\">\n",
       "  <thead>\n",
       "    <tr style=\"text-align: right;\">\n",
       "      <th></th>\n",
       "      <th>count</th>\n",
       "      <th>mean</th>\n",
       "      <th>std</th>\n",
       "    </tr>\n",
       "    <tr>\n",
       "      <th>education</th>\n",
       "      <th></th>\n",
       "      <th></th>\n",
       "      <th></th>\n",
       "    </tr>\n",
       "  </thead>\n",
       "  <tbody>\n",
       "    <tr>\n",
       "      <th>Graduate</th>\n",
       "      <td>46</td>\n",
       "      <td>6.391304</td>\n",
       "      <td>6.754351</td>\n",
       "    </tr>\n",
       "    <tr>\n",
       "      <th>High_School</th>\n",
       "      <td>611</td>\n",
       "      <td>7.189853</td>\n",
       "      <td>14.258617</td>\n",
       "    </tr>\n",
       "    <tr>\n",
       "      <th>Master_Phd</th>\n",
       "      <td>4</td>\n",
       "      <td>5.250000</td>\n",
       "      <td>3.201562</td>\n",
       "    </tr>\n",
       "    <tr>\n",
       "      <th>Postgraduate</th>\n",
       "      <td>79</td>\n",
       "      <td>5.265823</td>\n",
       "      <td>7.962587</td>\n",
       "    </tr>\n",
       "  </tbody>\n",
       "</table>\n",
       "</div>"
      ],
      "text/plain": [
       "              count      mean        std\n",
       "education                               \n",
       "Graduate         46  6.391304   6.754351\n",
       "High_School     611  7.189853  14.258617\n",
       "Master_Phd        4  5.250000   3.201562\n",
       "Postgraduate     79  5.265823   7.962587"
      ]
     },
     "execution_count": 22,
     "metadata": {},
     "output_type": "execute_result"
    }
   ],
   "source": [
    "preprocessed_df.groupby('education')['absenteeism_time_in_hours'].agg(['count','mean', 'std'])"
   ]
  },
  {
   "cell_type": "markdown",
   "id": "cbf72695",
   "metadata": {
    "hidden": true
   },
   "source": [
    "- We can clearly see that both the mean and standard deviation of the hours of absence are decreasing, meaning that highly educated employees tend to have shorter absences. Of course, a higher degree of education is not a cause for such a phenomenon and is more of an indication of it.\n",
    "- Note that only 4 employees have phd degree."
   ]
  },
  {
   "cell_type": "markdown",
   "id": "4d88e0a7",
   "metadata": {},
   "source": [
    "## Analyzing Numerical features"
   ]
  },
  {
   "cell_type": "markdown",
   "id": "e7163141",
   "metadata": {
    "heading_collapsed": true
   },
   "source": [
    "### Age"
   ]
  },
  {
   "cell_type": "code",
   "execution_count": 23,
   "id": "11d88c09",
   "metadata": {
    "ExecuteTime": {
     "end_time": "2021-10-01T09:46:41.949120Z",
     "start_time": "2021-10-01T09:46:40.073022Z"
    },
    "hidden": true
   },
   "outputs": [
    {
     "data": {
      "image/png": "[encoded data removed]",
      "text/plain": [
       "<Figure size 432x432 with 3 Axes>"
      ]
     },
     "metadata": {
      "needs_background": "light"
     },
     "output_type": "display_data"
    }
   ],
   "source": [
    "sns.jointplot(data=preprocessed_df, x='age', y='absenteeism_time_in_hours',\n",
    "             kind='reg')\n",
    "plt.show()"
   ]
  },
  {
   "cell_type": "code",
   "execution_count": 30,
   "id": "10f33907",
   "metadata": {
    "ExecuteTime": {
     "end_time": "2021-10-01T10:00:52.646667Z",
     "start_time": "2021-10-01T10:00:51.454245Z"
    },
    "hidden": true
   },
   "outputs": [
    {
     "data": {
      "image/png": "[encoded data removed]",
      "text/plain": [
       "<Figure size 432x432 with 3 Axes>"
      ]
     },
     "metadata": {
      "needs_background": "light"
     },
     "output_type": "display_data"
    }
   ],
   "source": [
    "## Because the absent hours feature has outliers\n",
    "## let's normalize it's distribution by using Power transformation method---> Box-Cox or Yeo-Johnson\n",
    "\n",
    "# box-cox requires input data only positive\n",
    "# yeo-johnson can take any data\n",
    "\n",
    "hours = stats.yeojohnson(preprocessed_df.absenteeism_time_in_hours)[0]\n",
    "\n",
    "g = sns.jointplot(x=preprocessed_df.age, y=hours, kind='reg')\n",
    "g.set_axis_labels(xlabel=\"Age\", ylabel=\"Absenteeism Hours (Power-transformed)\")\n",
    "plt.show()"
   ]
  },
  {
   "cell_type": "code",
   "execution_count": 35,
   "id": "3332d058",
   "metadata": {
    "ExecuteTime": {
     "end_time": "2021-10-01T10:03:57.920011Z",
     "start_time": "2021-10-01T10:03:57.897707Z"
    },
    "hidden": true
   },
   "outputs": [
    {
     "name": "stdout",
     "output_type": "stream",
     "text": [
      "Correlation Age and Absent Hours =  0.06575970132037087\n",
      "Correlation Age and Hours (Power Transformed) =  -0.0678511300333822\n"
     ]
    }
   ],
   "source": [
    "print(\"Correlation Age and Absent Hours = \", preprocessed_df.age.corr(preprocessed_df.absenteeism_time_in_hours))\n",
    "print(\"Correlation Age and Hours (Power Transformed) = \", preprocessed_df.age.corr(pd.Series(hours)))"
   ]
  },
  {
   "cell_type": "code",
   "execution_count": 25,
   "id": "84badb15",
   "metadata": {
    "ExecuteTime": {
     "end_time": "2021-10-01T09:48:05.258854Z",
     "start_time": "2021-10-01T09:48:04.888948Z"
    },
    "hidden": true
   },
   "outputs": [
    {
     "data": {
      "image/png": "[encoded data removed]",
      "text/plain": [
       "<Figure size 432x288 with 1 Axes>"
      ]
     },
     "metadata": {
      "needs_background": "light"
     },
     "output_type": "display_data"
    }
   ],
   "source": [
    "sns.violinplot(data=preprocessed_df, x='disease', y='age')\n",
    "plt.show()"
   ]
  },
  {
   "cell_type": "code",
   "execution_count": 27,
   "id": "ec39f837",
   "metadata": {
    "ExecuteTime": {
     "end_time": "2021-10-01T09:49:00.348246Z",
     "start_time": "2021-10-01T09:49:00.300178Z"
    },
    "hidden": true
   },
   "outputs": [
    {
     "name": "stdout",
     "output_type": "stream",
     "text": [
      "Test statistic 0.6297608872846625\n",
      "p-value 0.5290459551429652\n",
      "KS - Test statistic 0.056820722475965375\n",
      "KS - p-value 0.6188353608928694\n"
     ]
    }
   ],
   "source": [
    "# hypothesis test for equality of means\n",
    "\n",
    "age_disease = preprocessed_df.age[preprocessed_df.disease=='Yes']\n",
    "age_no_disease = preprocessed_df.age[preprocessed_df.disease=='No']\n",
    "\n",
    "test_result = stats.ttest_ind(age_disease, age_no_disease)\n",
    "\n",
    "print('Test statistic', test_result[0])\n",
    "print(\"p-value\", test_result[1])\n",
    "\n",
    "\n",
    "# distribution test\n",
    "\n",
    "ks_result = stats.ks_2samp(age_disease, age_no_disease)\n",
    "\n",
    "print('KS - Test statistic', ks_result[0])\n",
    "print(\"KS - p-value\", ks_result[1])"
   ]
  },
  {
   "cell_type": "markdown",
   "id": "0a3cd855",
   "metadata": {},
   "source": [
    "### Transportation Costs and Distance to Work Factors"
   ]
  },
  {
   "cell_type": "code",
   "execution_count": 36,
   "id": "af1257c1",
   "metadata": {
    "ExecuteTime": {
     "end_time": "2021-10-01T10:04:39.577106Z",
     "start_time": "2021-10-01T10:04:38.227539Z"
    }
   },
   "outputs": [
    {
     "data": {
      "image/png": "[encoded data removed]",
      "text/plain": [
       "<Figure size 432x432 with 3 Axes>"
      ]
     },
     "metadata": {
      "needs_background": "light"
     },
     "output_type": "display_data"
    }
   ],
   "source": [
    "sns.jointplot(data=preprocessed_df, x='distance_from_residence_to_work', y='absenteeism_time_in_hours',\n",
    "             kind='reg')\n",
    "plt.show()"
   ]
  },
  {
   "cell_type": "code",
   "execution_count": 40,
   "id": "14fd1fe8",
   "metadata": {
    "ExecuteTime": {
     "end_time": "2021-10-01T10:06:12.264057Z",
     "start_time": "2021-10-01T10:06:12.242313Z"
    }
   },
   "outputs": [
    {
     "name": "stdout",
     "output_type": "stream",
     "text": [
      "Correlation\n"
     ]
    },
    {
     "data": {
      "text/plain": [
       "-0.08836282189613705"
      ]
     },
     "execution_count": 40,
     "metadata": {},
     "output_type": "execute_result"
    }
   ],
   "source": [
    "print(\"Correlation\")\n",
    "preprocessed_df.distance_from_residence_to_work.corr(preprocessed_df.absenteeism_time_in_hours)"
   ]
  },
  {
   "cell_type": "code",
   "execution_count": 39,
   "id": "ad56b80d",
   "metadata": {
    "ExecuteTime": {
     "end_time": "2021-10-01T10:05:42.514272Z",
     "start_time": "2021-10-01T10:05:41.336959Z"
    }
   },
   "outputs": [
    {
     "data": {
      "image/png": "[encoded data removed]",
      "text/plain": [
       "<Figure size 432x432 with 3 Axes>"
      ]
     },
     "metadata": {
      "needs_background": "light"
     },
     "output_type": "display_data"
    }
   ],
   "source": [
    "g = sns.jointplot(x=preprocessed_df.distance_from_residence_to_work, y=hours, kind='reg')\n",
    "g.set_axis_labels(xlabel=\"Distance\", ylabel=\"Absenteeism Hours (Power-transformed)\")\n",
    "plt.show()"
   ]
  },
  {
   "cell_type": "code",
   "execution_count": 49,
   "id": "be040c34",
   "metadata": {
    "ExecuteTime": {
     "end_time": "2021-10-01T10:13:13.565502Z",
     "start_time": "2021-10-01T10:13:13.544323Z"
    }
   },
   "outputs": [
    {
     "data": {
      "text/plain": [
       "(-3.9679674787915876e-05, 0.9991402164258475)"
      ]
     },
     "execution_count": 49,
     "metadata": {},
     "output_type": "execute_result"
    }
   ],
   "source": [
    "pval, coef = stats.pearsonr(preprocessed_df.distance_from_residence_to_work, hours)\n",
    "\n",
    "pval, coef"
   ]
  },
  {
   "cell_type": "code",
   "execution_count": 43,
   "id": "4285cc07",
   "metadata": {
    "ExecuteTime": {
     "end_time": "2021-10-01T10:08:05.878850Z",
     "start_time": "2021-10-01T10:08:04.440503Z"
    }
   },
   "outputs": [
    {
     "data": {
      "image/png": "[encoded data removed]",
      "text/plain": [
       "<Figure size 432x432 with 3 Axes>"
      ]
     },
     "metadata": {
      "needs_background": "light"
     },
     "output_type": "display_data"
    }
   ],
   "source": [
    "sns.jointplot(data=preprocessed_df, x='transportation_expense', y='absenteeism_time_in_hours',\n",
    "             kind='reg')\n",
    "plt.show()"
   ]
  },
  {
   "cell_type": "code",
   "execution_count": 46,
   "id": "e6c1933e",
   "metadata": {
    "ExecuteTime": {
     "end_time": "2021-10-01T10:09:15.609718Z",
     "start_time": "2021-10-01T10:09:15.596259Z"
    }
   },
   "outputs": [
    {
     "data": {
      "text/plain": [
       "-0.08836282189613705"
      ]
     },
     "execution_count": 46,
     "metadata": {},
     "output_type": "execute_result"
    }
   ],
   "source": [
    "preprocessed_df.distance_from_residence_to_work.corr(preprocessed_df.absenteeism_time_in_hours)"
   ]
  },
  {
   "cell_type": "code",
   "execution_count": 45,
   "id": "4ba722dd",
   "metadata": {
    "ExecuteTime": {
     "end_time": "2021-10-01T10:08:45.982859Z",
     "start_time": "2021-10-01T10:08:44.791576Z"
    }
   },
   "outputs": [
    {
     "data": {
      "image/png": "[encoded data removed]",
      "text/plain": [
       "<Figure size 432x432 with 3 Axes>"
      ]
     },
     "metadata": {
      "needs_background": "light"
     },
     "output_type": "display_data"
    }
   ],
   "source": [
    "g = sns.jointplot(x=preprocessed_df.transportation_expense, y=hours, kind='reg')\n",
    "g.set_axis_labels(xlabel=\"Transportation Expense\", ylabel=\"Absenteeism Hours (Power-transformed)\")\n",
    "plt.show()"
   ]
  },
  {
   "cell_type": "code",
   "execution_count": 51,
   "id": "e1c9c176",
   "metadata": {
    "ExecuteTime": {
     "end_time": "2021-10-01T10:13:48.460882Z",
     "start_time": "2021-10-01T10:13:48.443681Z"
    }
   },
   "outputs": [
    {
     "data": {
      "text/plain": [
       "(0.11322535403105786, 0.002037022054604922)"
      ]
     },
     "execution_count": 51,
     "metadata": {},
     "output_type": "execute_result"
    }
   ],
   "source": [
    "pval, coef = stats.pearsonr(preprocessed_df.transportation_expense, hours)\n",
    "\n",
    "pval, coef"
   ]
  },
  {
   "cell_type": "markdown",
   "id": "d7f44612",
   "metadata": {},
   "source": [
    "- This result confirms that there is a slight positive correlation between Transportation expense and Absenteeism time in hours."
   ]
  },
  {
   "cell_type": "code",
   "execution_count": null,
   "id": "0e4fd533",
   "metadata": {},
   "outputs": [],
   "source": []
  }
 ],
 "metadata": {
  "kernelspec": {
   "display_name": "Python 3",
   "language": "python",
   "name": "python3"
  },
  "language_info": {
   "codemirror_mode": {
    "name": "ipython",
    "version": 3
   },
   "file_extension": ".py",
   "mimetype": "text/x-python",
   "name": "python",
   "nbconvert_exporter": "python",
   "pygments_lexer": "ipython3",
   "version": "3.8.8"
  },
  "toc": {
   "base_numbering": 1,
   "nav_menu": {},
   "number_sections": true,
   "sideBar": true,
   "skip_h1_title": false,
   "title_cell": "Table of Contents",
   "title_sidebar": "Contents",
   "toc_cell": false,
   "toc_position": {},
   "toc_section_display": true,
   "toc_window_display": false
  },
  "varInspector": {
   "cols": {
    "lenName": 16,
    "lenType": 16,
    "lenVar": 40
   },
   "kernels_config": {
    "python": {
     "delete_cmd_postfix": "",
     "delete_cmd_prefix": "del ",
     "library": "var_list.py",
     "varRefreshCmd": "print(var_dic_list())"
    },
    "r": {
     "delete_cmd_postfix": ") ",
     "delete_cmd_prefix": "rm(",
     "library": "var_list.r",
     "varRefreshCmd": "cat(var_dic_list()) "
    }
   },
   "types_to_exclude": [
    "module",
    "function",
    "builtin_function_or_method",
    "instance",
    "_Feature"
   ],
   "window_display": false
  }
 },
 "nbformat": 4,
 "nbformat_minor": 5
}
